{
 "cells": [
  {
   "cell_type": "markdown",
   "metadata": {},
   "source": [
    "# Some Experiments\n",
    "used for some shit"
   ]
  },
  {
   "cell_type": "markdown",
   "metadata": {},
   "source": [
    "## Imports"
   ]
  },
  {
   "cell_type": "code",
   "execution_count": 59,
   "metadata": {},
   "outputs": [],
   "source": [
    "import sys\n",
    "import os\n",
    "\n",
    "# Füge das übergeordnete Verzeichnis zu sys.path hinzu\n",
    "parent_dir = os.path.abspath(os.path.join(os.getcwd(), '..'))\n",
    "sys.path.insert(0, parent_dir)"
   ]
  },
  {
   "cell_type": "code",
   "execution_count": 60,
   "metadata": {},
   "outputs": [],
   "source": [
    "from datetime import datetime\n",
    "import pandas as pd\n",
    "from pathlib import Path\n",
    "import matplotlib.pyplot as plt\n",
    "import numpy as np\n",
    "import torch\n",
    "import torch.nn as nn\n",
    "from torch.utils.data import DataLoader\n",
    "from copy import deepcopy as dc\n",
    "\n",
    "# own classes\n",
    "from utilities import save_unscaled_sequential_data, load_sequential_time_series, train_test_split, extract_features_and_targets_reg, extract_features_and_targets, split_data_into_sequences, Scaler, ValidationLossAccumulationCallback, accuracy\n",
    "from baseline_model.LSTM import LSTMRegression, train_model, LSTMClassification\n",
    "from baseline_model.TimeSeriesDataset import TimeSeriesDataset\n",
    "from baseline_model.mean_regressor import MeanRegressor\n",
    "from data_generation.algorithmic.brownian_motion import brownian_motion\n",
    "from data_generation.algorithmic.jittering import create_jittered_time_series\n",
    "from data_generation.algorithmic.time_warping import create_time_warped_data"
   ]
  },
  {
   "cell_type": "code",
   "execution_count": 61,
   "metadata": {},
   "outputs": [],
   "source": [
    "DATA_FOLDER = Path(\"./data\")\n",
    "SYNTHETIC_DATA_FOLDER = DATA_FOLDER / \"synthetic\"\n",
    "REAL_DATA_FOLDER = DATA_FOLDER / \"real\"\n",
    "LOAD_ORIGINAL_DATA = False"
   ]
  },
  {
   "cell_type": "markdown",
   "metadata": {},
   "source": [
    "## Utility Stuff"
   ]
  },
  {
   "cell_type": "code",
   "execution_count": null,
   "metadata": {},
   "outputs": [],
   "source": []
  },
  {
   "cell_type": "code",
   "execution_count": 62,
   "metadata": {},
   "outputs": [],
   "source": [
    "# save_unscaled_sequential_data(ori_data_path=REAL_DATA_FOLDER / \"metro_interstate_traffic_volume_label_encoded_no_categorical.csv\",\n",
    "#                                      scaled_data_path=SYNTHETIC_DATA_FOLDER / \"mitv_28478_12_5_autoencoder_raw.csv\",\n",
    "#                                      scaled_data_shape=(28478, 12, 5),\n",
    "#                                      no_features_to_inverse_scale=5)"
   ]
  }
 ],
 "metadata": {
  "kernelspec": {
   "display_name": ".venv",
   "language": "python",
   "name": "python3"
  },
  "language_info": {
   "codemirror_mode": {
    "name": "ipython",
    "version": 3
   },
   "file_extension": ".py",
   "mimetype": "text/x-python",
   "name": "python",
   "nbconvert_exporter": "python",
   "pygments_lexer": "ipython3",
   "version": "3.11.7"
  }
 },
 "nbformat": 4,
 "nbformat_minor": 2
}
