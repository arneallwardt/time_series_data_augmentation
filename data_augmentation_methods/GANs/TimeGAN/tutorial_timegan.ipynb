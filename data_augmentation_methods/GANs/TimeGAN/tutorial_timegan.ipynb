{
 "cells": [
  {
   "cell_type": "markdown",
   "metadata": {},
   "source": [
    "# TimeGAN Tutorial\n",
    "\n",
    "## Time-series Generative Adversarial Networks\n",
    "\n",
    "- Paper: Jinsung Yoon, Daniel Jarrett, Mihaela van der Schaar, \"Time-series Generative Adversarial Networks,\" Neural Information Processing Systems (NeurIPS), 2019.\n",
    "\n",
    "- Paper link: https://papers.nips.cc/paper/8789-time-series-generative-adversarial-networks\n",
    "\n",
    "- Last updated Date: April 24th 2020\n",
    "\n",
    "- Code author: Jinsung Yoon (jsyoon0823@gmail.com)\n",
    "\n",
    "This notebook describes the user-guide of a time-series synthetic data generation application using timeGAN framework. We use Stock, Energy, and Sine dataset as examples.\n",
    "\n",
    "### Prerequisite\n",
    "Clone https://github.com/jsyoon0823/timeGAN.git to the current directory."
   ]
  },
  {
   "cell_type": "markdown",
   "metadata": {},
   "source": [
    "## Necessary packages and functions call\n",
    "\n",
    "- timegan: Synthetic time-series data generation module\n",
    "- data_loading: 2 real datasets and 1 synthetic datasets loading and preprocessing\n",
    "- metrics: \n",
    "    - discriminative_metrics: classify real data from synthetic data\n",
    "    - predictive_metrics: train on synthetic, test on real\n",
    "    - visualization: PCA and tSNE analyses"
   ]
  },
  {
   "cell_type": "code",
   "execution_count": 1,
   "metadata": {},
   "outputs": [],
   "source": [
    "## Necessary packages\n",
    "from __future__ import absolute_import\n",
    "from __future__ import division\n",
    "from __future__ import print_function\n",
    "\n",
    "import numpy as np\n",
    "import warnings\n",
    "warnings.filterwarnings(\"ignore\")\n",
    "\n",
    "# 1. TimeGAN model\n",
    "from timegan import timegan\n",
    "# 2. Data loading\n",
    "from data_loading import real_data_loading, sine_data_generation\n",
    "# 3. Metrics\n",
    "from metrics.discriminative_metrics import discriminative_score_metrics\n",
    "from metrics.predictive_metrics import predictive_score_metrics\n",
    "from metrics.visualization_metrics import visualization"
   ]
  },
  {
   "cell_type": "markdown",
   "metadata": {},
   "source": [
    "## Data Loading\n",
    "\n",
    "Load original dataset and preprocess the loaded data.\n",
    "\n",
    "- data_name: stock, energy, or sine\n",
    "- seq_len: sequence length of the time-series data"
   ]
  },
  {
   "cell_type": "code",
   "execution_count": 2,
   "metadata": {},
   "outputs": [
    {
     "name": "stdout",
     "output_type": "stream",
     "text": [
      "ori data shape: (3685, 6)\n",
      "length of temp data: 3661\n",
      "len(ori_data) // seq_len: 153\n",
      "first element of temp_data:\n",
      "[[0.93861141 0.94147215 0.95343567 0.94167311 0.94167311 0.01036247]\n",
      " [0.94834356 0.94670361 0.95907934 0.94708071 0.94708071 0.01029843]\n",
      " [0.954155   0.95285887 0.96338287 0.94979688 0.94979688 0.01086633]\n",
      " [0.9467474  0.95240934 0.96263369 0.95623843 0.95623843 0.01138349]\n",
      " [0.94800794 0.95292433 0.95961209 0.94878758 0.94878758 0.01220273]\n",
      " [0.93805478 0.94070371 0.94730091 0.94433178 0.94433178 0.00990814]\n",
      " [0.92887107 0.93687002 0.94421275 0.93935911 0.93935911 0.01503863]\n",
      " [0.92134078 0.92242602 0.92829732 0.92202844 0.92202844 0.01524888]\n",
      " [0.91859058 0.91635658 0.92542641 0.91807318 0.91807318 0.01213748]\n",
      " [0.93001701 0.92943054 0.9253756  0.92179044 0.92179044 0.0168233 ]\n",
      " [0.94068228 0.94191349 0.93981767 0.93130916 0.93130916 0.02287694]\n",
      " [0.93937268 0.94483007 0.94840806 0.93818564 0.93818564 0.01799053]\n",
      " [0.96342873 0.96412306 0.96154737 0.9484429  0.9484429  0.0206174 ]\n",
      " [0.9549817  0.96558628 0.97014193 0.96981088 0.96981088 0.0144526 ]\n",
      " [0.93971639 0.96178522 0.95600785 0.96359902 0.96359902 0.02681845]\n",
      " [0.93272634 0.9396002  0.94743412 0.94298602 0.94298602 0.01827932]\n",
      " [0.92821632 0.93142592 0.94040122 0.93101376 0.93101376 0.01552316]\n",
      " [0.93646691 0.93679638 0.9447205  0.93117784 0.93117784 0.02965073]\n",
      " [0.93739184 0.93786726 0.94627707 0.93207234 0.93207234 0.01407561]\n",
      " [0.94241343 0.94036046 0.95248672 0.93844818 0.93844818 0.01725467]\n",
      " [0.92409098 0.9396002  0.94109959 0.93834971 0.93834971 0.02422904]\n",
      " [0.89641695 0.92013718 0.9129562  0.92403882 0.92403882 0.02067781]\n",
      " [0.8819129  0.89634186 0.89535109 0.89659852 0.89659852 0.0145541 ]\n",
      " [0.90564163 0.90425052 0.90501521 0.89740278 0.89740278 0.01399465]]\n",
      "random indices: [ 683  301 2724 2044 2794 1872 2120 3580 1859 2574]\n",
      "stock dataset is ready.\n"
     ]
    }
   ],
   "source": [
    "## Data loading\n",
    "data_name = 'stock'\n",
    "seq_len = 24\n",
    "\n",
    "if data_name in ['stock', 'energy']:\n",
    "  ori_data = real_data_loading(data_name, seq_len)\n",
    "elif data_name == 'sine':\n",
    "  # Set number of samples and its dimensions\n",
    "  no, dim = 10000, 5\n",
    "  ori_data = sine_data_generation(no, seq_len, dim)\n",
    "    \n",
    "print(data_name + ' dataset is ready.')"
   ]
  },
  {
   "cell_type": "code",
   "execution_count": 3,
   "metadata": {},
   "outputs": [
    {
     "data": {
      "text/plain": [
       "3661"
      ]
     },
     "execution_count": 3,
     "metadata": {},
     "output_type": "execute_result"
    }
   ],
   "source": [
    "len(ori_data)"
   ]
  },
  {
   "cell_type": "markdown",
   "metadata": {},
   "source": [
    "## Set network parameters\n",
    "\n",
    "TimeGAN network parameters should be optimized for different datasets.\n",
    "\n",
    "- module: gru, lstm, or lstmLN\n",
    "- hidden_dim: hidden dimensions\n",
    "- num_layer: number of layers\n",
    "- iteration: number of training iterations\n",
    "- batch_size: the number of samples in each batch"
   ]
  },
  {
   "cell_type": "code",
   "execution_count": 4,
   "metadata": {},
   "outputs": [],
   "source": [
    "## Newtork parameters\n",
    "parameters = dict()\n",
    "\n",
    "parameters['module'] = 'gru' \n",
    "parameters['hidden_dim'] = 24\n",
    "parameters['num_layer'] = 3\n",
    "parameters['iterations'] = 10000\n",
    "parameters['batch_size'] = 128"
   ]
  },
  {
   "cell_type": "markdown",
   "metadata": {},
   "source": [
    "## Run TimeGAN for synthetic time-series data generation\n",
    "\n",
    "TimeGAN uses the original data and network parameters to return the generated synthetic data."
   ]
  },
  {
   "cell_type": "code",
   "execution_count": 5,
   "metadata": {},
   "outputs": [
    {
     "name": "stdout",
     "output_type": "stream",
     "text": [
      "WARNING:tensorflow:From /home/allwardt/time_series_data_augmentation/data_augmentation_methods/GANs/TimeGAN/timegan.py:38: The name tf.reset_default_graph is deprecated. Please use tf.compat.v1.reset_default_graph instead.\n",
      "\n",
      "WARNING:tensorflow:From /home/allwardt/time_series_data_augmentation/data_augmentation_methods/GANs/TimeGAN/timegan.py:80: The name tf.placeholder is deprecated. Please use tf.compat.v1.placeholder instead.\n",
      "\n",
      "WARNING:tensorflow:From /home/allwardt/time_series_data_augmentation/data_augmentation_methods/GANs/TimeGAN/timegan.py:94: The name tf.variable_scope is deprecated. Please use tf.compat.v1.variable_scope instead.\n",
      "\n",
      "WARNING:tensorflow:From /home/allwardt/time_series_data_augmentation/data_augmentation_methods/GANs/TimeGAN/timegan.py:94: The name tf.AUTO_REUSE is deprecated. Please use tf.compat.v1.AUTO_REUSE instead.\n",
      "\n",
      "WARNING:tensorflow:From /home/allwardt/time_series_data_augmentation/data_augmentation_methods/GANs/TimeGAN/utils.py:95: GRUCell.__init__ (from tensorflow.python.ops.rnn_cell_impl) is deprecated and will be removed in a future version.\n",
      "Instructions for updating:\n",
      "This class is equivalent as tf.keras.layers.GRUCell, and will be replaced by that in Tensorflow 2.0.\n",
      "WARNING:tensorflow:From /home/allwardt/time_series_data_augmentation/data_augmentation_methods/GANs/TimeGAN/timegan.py:95: MultiRNNCell.__init__ (from tensorflow.python.ops.rnn_cell_impl) is deprecated and will be removed in a future version.\n",
      "Instructions for updating:\n",
      "This class is equivalent as tf.keras.layers.StackedRNNCells, and will be replaced by that in Tensorflow 2.0.\n",
      "WARNING:tensorflow:From /home/allwardt/time_series_data_augmentation/data_augmentation_methods/GANs/TimeGAN/timegan.py:96: dynamic_rnn (from tensorflow.python.ops.rnn) is deprecated and will be removed in a future version.\n",
      "Instructions for updating:\n",
      "Please use `keras.layers.RNN(cell)`, which is equivalent to this API\n",
      "WARNING:tensorflow:From /home/allwardt/time_series_data_augmentation/ba_venv_3_7_0/lib/python3.7/site-packages/tensorflow_core/python/ops/rnn_cell_impl.py:559: Layer.add_variable (from tensorflow.python.keras.engine.base_layer) is deprecated and will be removed in a future version.\n",
      "Instructions for updating:\n",
      "Please use `layer.add_weight` method instead.\n",
      "WARNING:tensorflow:From /home/allwardt/time_series_data_augmentation/ba_venv_3_7_0/lib/python3.7/site-packages/tensorflow_core/python/ops/rnn_cell_impl.py:565: calling Constant.__init__ (from tensorflow.python.ops.init_ops) with dtype is deprecated and will be removed in a future version.\n",
      "Instructions for updating:\n",
      "Call initializer instance with the dtype argument instead of passing it to the constructor\n",
      "WARNING:tensorflow:From /home/allwardt/time_series_data_augmentation/ba_venv_3_7_0/lib/python3.7/site-packages/tensorflow_core/python/ops/rnn_cell_impl.py:575: calling Zeros.__init__ (from tensorflow.python.ops.init_ops) with dtype is deprecated and will be removed in a future version.\n",
      "Instructions for updating:\n",
      "Call initializer instance with the dtype argument instead of passing it to the constructor\n",
      "WARNING:tensorflow:From /home/allwardt/time_series_data_augmentation/ba_venv_3_7_0/lib/python3.7/site-packages/tensorflow_core/python/ops/rnn.py:244: where (from tensorflow.python.ops.array_ops) is deprecated and will be removed in a future version.\n",
      "Instructions for updating:\n",
      "Use tf.where in 2.0, which has the same broadcast rule as np.where\n",
      "WARNING:tensorflow:\n",
      "The TensorFlow contrib module will not be included in TensorFlow 2.0.\n",
      "For more information, please see:\n",
      "  * https://github.com/tensorflow/community/blob/master/rfcs/20180907-contrib-sunset.md\n",
      "  * https://github.com/tensorflow/addons\n",
      "  * https://github.com/tensorflow/io (for I/O related ops)\n",
      "If you depend on functionality not listed there, please file an issue.\n",
      "\n",
      "WARNING:tensorflow:From /home/allwardt/time_series_data_augmentation/ba_venv_3_7_0/lib/python3.7/site-packages/tensorflow_core/contrib/layers/python/layers/layers.py:1866: Layer.apply (from tensorflow.python.keras.engine.base_layer) is deprecated and will be removed in a future version.\n",
      "Instructions for updating:\n",
      "Please use `layer.__call__` method instead.\n",
      "WARNING:tensorflow:From /home/allwardt/time_series_data_augmentation/data_augmentation_methods/GANs/TimeGAN/timegan.py:182: The name tf.trainable_variables is deprecated. Please use tf.compat.v1.trainable_variables instead.\n",
      "\n",
      "WARNING:tensorflow:From /home/allwardt/time_series_data_augmentation/data_augmentation_methods/GANs/TimeGAN/timegan.py:189: The name tf.losses.sigmoid_cross_entropy is deprecated. Please use tf.compat.v1.losses.sigmoid_cross_entropy instead.\n",
      "\n",
      "WARNING:tensorflow:From /home/allwardt/time_series_data_augmentation/data_augmentation_methods/GANs/TimeGAN/timegan.py:200: The name tf.losses.mean_squared_error is deprecated. Please use tf.compat.v1.losses.mean_squared_error instead.\n",
      "\n",
      "WARNING:tensorflow:From /home/allwardt/time_series_data_augmentation/data_augmentation_methods/GANs/TimeGAN/timegan.py:217: The name tf.train.AdamOptimizer is deprecated. Please use tf.compat.v1.train.AdamOptimizer instead.\n",
      "\n",
      "WARNING:tensorflow:From /home/allwardt/time_series_data_augmentation/data_augmentation_methods/GANs/TimeGAN/timegan.py:224: The name tf.Session is deprecated. Please use tf.compat.v1.Session instead.\n",
      "\n"
     ]
    },
    {
     "name": "stderr",
     "output_type": "stream",
     "text": [
      "2024-06-23 13:00:33.134428: I tensorflow/stream_executor/platform/default/dso_loader.cc:44] Successfully opened dynamic library libcuda.so.1\n",
      "2024-06-23 13:00:33.334597: I tensorflow/core/common_runtime/gpu/gpu_device.cc:1618] Found device 0 with properties: \n",
      "name: NVIDIA TITAN RTX major: 7 minor: 5 memoryClockRate(GHz): 1.77\n",
      "pciBusID: 0000:63:00.0\n",
      "2024-06-23 13:00:33.338000: I tensorflow/core/common_runtime/gpu/gpu_device.cc:1618] Found device 1 with properties: \n",
      "name: NVIDIA TITAN RTX major: 7 minor: 5 memoryClockRate(GHz): 1.77\n",
      "pciBusID: 0000:66:00.0\n",
      "2024-06-23 13:00:33.341354: I tensorflow/core/common_runtime/gpu/gpu_device.cc:1618] Found device 2 with properties: \n",
      "name: NVIDIA GeForce RTX 2080 Ti major: 7 minor: 5 memoryClockRate(GHz): 1.545\n",
      "pciBusID: 0000:3e:00.0\n",
      "2024-06-23 13:00:33.349177: I tensorflow/core/common_runtime/gpu/gpu_device.cc:1618] Found device 3 with properties: \n",
      "name: NVIDIA GeForce RTX 2080 Ti major: 7 minor: 5 memoryClockRate(GHz): 1.545\n",
      "pciBusID: 0000:40:00.0\n",
      "2024-06-23 13:00:33.356442: I tensorflow/core/common_runtime/gpu/gpu_device.cc:1618] Found device 4 with properties: \n",
      "name: NVIDIA GeForce RTX 2080 Ti major: 7 minor: 5 memoryClockRate(GHz): 1.545\n",
      "pciBusID: 0000:41:00.0\n",
      "2024-06-23 13:00:33.359283: I tensorflow/stream_executor/platform/default/dso_loader.cc:44] Successfully opened dynamic library libcudart.so.10.0\n",
      "2024-06-23 13:00:33.411853: I tensorflow/stream_executor/platform/default/dso_loader.cc:44] Successfully opened dynamic library libcublas.so.10.0\n",
      "2024-06-23 13:00:33.441685: I tensorflow/stream_executor/platform/default/dso_loader.cc:44] Successfully opened dynamic library libcufft.so.10.0\n",
      "2024-06-23 13:00:33.450322: I tensorflow/stream_executor/platform/default/dso_loader.cc:44] Successfully opened dynamic library libcurand.so.10.0\n",
      "2024-06-23 13:00:33.508869: I tensorflow/stream_executor/platform/default/dso_loader.cc:44] Successfully opened dynamic library libcusolver.so.10.0\n",
      "2024-06-23 13:00:33.550131: I tensorflow/stream_executor/platform/default/dso_loader.cc:44] Successfully opened dynamic library libcusparse.so.10.0\n",
      "2024-06-23 13:00:33.689759: I tensorflow/stream_executor/platform/default/dso_loader.cc:44] Successfully opened dynamic library libcudnn.so.7\n",
      "2024-06-23 13:00:33.722946: I tensorflow/core/common_runtime/gpu/gpu_device.cc:1746] Adding visible gpu devices: 0, 1, 2, 3, 4\n",
      "2024-06-23 13:00:33.724597: I tensorflow/core/platform/cpu_feature_guard.cc:142] Your CPU supports instructions that this TensorFlow binary was not compiled to use: AVX2 AVX512F FMA\n",
      "2024-06-23 13:00:33.751875: I tensorflow/core/platform/profile_utils/cpu_utils.cc:94] CPU Frequency: 2100000000 Hz\n",
      "2024-06-23 13:00:33.754902: I tensorflow/compiler/xla/service/service.cc:168] XLA service 0x55902b76db60 initialized for platform Host (this does not guarantee that XLA will be used). Devices:\n",
      "2024-06-23 13:00:33.754959: I tensorflow/compiler/xla/service/service.cc:176]   StreamExecutor device (0): Host, Default Version\n"
     ]
    },
    {
     "name": "stdout",
     "output_type": "stream",
     "text": [
      "WARNING:tensorflow:From /home/allwardt/time_series_data_augmentation/data_augmentation_methods/GANs/TimeGAN/timegan.py:225: The name tf.global_variables_initializer is deprecated. Please use tf.compat.v1.global_variables_initializer instead.\n",
      "\n"
     ]
    },
    {
     "name": "stderr",
     "output_type": "stream",
     "text": [
      "2024-06-23 13:00:34.763139: I tensorflow/compiler/xla/service/service.cc:168] XLA service 0x55902b51aa70 initialized for platform CUDA (this does not guarantee that XLA will be used). Devices:\n",
      "2024-06-23 13:00:34.763220: I tensorflow/compiler/xla/service/service.cc:176]   StreamExecutor device (0): NVIDIA TITAN RTX, Compute Capability 7.5\n",
      "2024-06-23 13:00:34.763238: I tensorflow/compiler/xla/service/service.cc:176]   StreamExecutor device (1): NVIDIA TITAN RTX, Compute Capability 7.5\n",
      "2024-06-23 13:00:34.763250: I tensorflow/compiler/xla/service/service.cc:176]   StreamExecutor device (2): NVIDIA GeForce RTX 2080 Ti, Compute Capability 7.5\n",
      "2024-06-23 13:00:34.763261: I tensorflow/compiler/xla/service/service.cc:176]   StreamExecutor device (3): NVIDIA GeForce RTX 2080 Ti, Compute Capability 7.5\n",
      "2024-06-23 13:00:34.763273: I tensorflow/compiler/xla/service/service.cc:176]   StreamExecutor device (4): NVIDIA GeForce RTX 2080 Ti, Compute Capability 7.5\n",
      "2024-06-23 13:00:34.772306: I tensorflow/core/common_runtime/gpu/gpu_device.cc:1618] Found device 0 with properties: \n",
      "name: NVIDIA TITAN RTX major: 7 minor: 5 memoryClockRate(GHz): 1.77\n",
      "pciBusID: 0000:63:00.0\n",
      "2024-06-23 13:00:34.773978: I tensorflow/core/common_runtime/gpu/gpu_device.cc:1618] Found device 1 with properties: \n",
      "name: NVIDIA TITAN RTX major: 7 minor: 5 memoryClockRate(GHz): 1.77\n",
      "pciBusID: 0000:66:00.0\n",
      "2024-06-23 13:00:34.775612: I tensorflow/core/common_runtime/gpu/gpu_device.cc:1618] Found device 2 with properties: \n",
      "name: NVIDIA GeForce RTX 2080 Ti major: 7 minor: 5 memoryClockRate(GHz): 1.545\n",
      "pciBusID: 0000:3e:00.0\n",
      "2024-06-23 13:00:34.777273: I tensorflow/core/common_runtime/gpu/gpu_device.cc:1618] Found device 3 with properties: \n",
      "name: NVIDIA GeForce RTX 2080 Ti major: 7 minor: 5 memoryClockRate(GHz): 1.545\n",
      "pciBusID: 0000:40:00.0\n",
      "2024-06-23 13:00:34.778876: I tensorflow/core/common_runtime/gpu/gpu_device.cc:1618] Found device 4 with properties: \n",
      "name: NVIDIA GeForce RTX 2080 Ti major: 7 minor: 5 memoryClockRate(GHz): 1.545\n",
      "pciBusID: 0000:41:00.0\n",
      "2024-06-23 13:00:34.778991: I tensorflow/stream_executor/platform/default/dso_loader.cc:44] Successfully opened dynamic library libcudart.so.10.0\n",
      "2024-06-23 13:00:34.779029: I tensorflow/stream_executor/platform/default/dso_loader.cc:44] Successfully opened dynamic library libcublas.so.10.0\n",
      "2024-06-23 13:00:34.779064: I tensorflow/stream_executor/platform/default/dso_loader.cc:44] Successfully opened dynamic library libcufft.so.10.0\n",
      "2024-06-23 13:00:34.779097: I tensorflow/stream_executor/platform/default/dso_loader.cc:44] Successfully opened dynamic library libcurand.so.10.0\n",
      "2024-06-23 13:00:34.779136: I tensorflow/stream_executor/platform/default/dso_loader.cc:44] Successfully opened dynamic library libcusolver.so.10.0\n",
      "2024-06-23 13:00:34.779173: I tensorflow/stream_executor/platform/default/dso_loader.cc:44] Successfully opened dynamic library libcusparse.so.10.0\n",
      "2024-06-23 13:00:34.779212: I tensorflow/stream_executor/platform/default/dso_loader.cc:44] Successfully opened dynamic library libcudnn.so.7\n",
      "2024-06-23 13:00:34.792743: I tensorflow/core/common_runtime/gpu/gpu_device.cc:1746] Adding visible gpu devices: 0, 1, 2, 3, 4\n",
      "2024-06-23 13:00:34.792818: I tensorflow/stream_executor/platform/default/dso_loader.cc:44] Successfully opened dynamic library libcudart.so.10.0\n",
      "2024-06-23 13:00:34.800027: I tensorflow/core/common_runtime/gpu/gpu_device.cc:1159] Device interconnect StreamExecutor with strength 1 edge matrix:\n",
      "2024-06-23 13:00:34.800052: I tensorflow/core/common_runtime/gpu/gpu_device.cc:1165]      0 1 2 3 4 \n",
      "2024-06-23 13:00:34.800059: I tensorflow/core/common_runtime/gpu/gpu_device.cc:1178] 0:   N Y N N N \n",
      "2024-06-23 13:00:34.800064: I tensorflow/core/common_runtime/gpu/gpu_device.cc:1178] 1:   Y N N N N \n",
      "2024-06-23 13:00:34.800069: I tensorflow/core/common_runtime/gpu/gpu_device.cc:1178] 2:   N N N Y N \n",
      "2024-06-23 13:00:34.800074: I tensorflow/core/common_runtime/gpu/gpu_device.cc:1178] 3:   N N Y N N \n",
      "2024-06-23 13:00:34.800079: I tensorflow/core/common_runtime/gpu/gpu_device.cc:1178] 4:   N N N N N \n",
      "2024-06-23 13:00:34.807998: I tensorflow/core/common_runtime/gpu/gpu_device.cc:1304] Created TensorFlow device (/job:localhost/replica:0/task:0/device:GPU:0 with 17954 MB memory) -> physical GPU (device: 0, name: NVIDIA TITAN RTX, pci bus id: 0000:63:00.0, compute capability: 7.5)\n",
      "2024-06-23 13:00:34.809750: I tensorflow/core/common_runtime/gpu/gpu_device.cc:1304] Created TensorFlow device (/job:localhost/replica:0/task:0/device:GPU:1 with 22666 MB memory) -> physical GPU (device: 1, name: NVIDIA TITAN RTX, pci bus id: 0000:66:00.0, compute capability: 7.5)\n",
      "2024-06-23 13:00:34.811524: I tensorflow/core/common_runtime/gpu/gpu_device.cc:1304] Created TensorFlow device (/job:localhost/replica:0/task:0/device:GPU:2 with 10133 MB memory) -> physical GPU (device: 2, name: NVIDIA GeForce RTX 2080 Ti, pci bus id: 0000:3e:00.0, compute capability: 7.5)\n",
      "2024-06-23 13:00:34.813267: I tensorflow/core/common_runtime/gpu/gpu_device.cc:1304] Created TensorFlow device (/job:localhost/replica:0/task:0/device:GPU:3 with 10133 MB memory) -> physical GPU (device: 3, name: NVIDIA GeForce RTX 2080 Ti, pci bus id: 0000:40:00.0, compute capability: 7.5)\n",
      "2024-06-23 13:00:34.814907: I tensorflow/core/common_runtime/gpu/gpu_device.cc:1304] Created TensorFlow device (/job:localhost/replica:0/task:0/device:GPU:4 with 10133 MB memory) -> physical GPU (device: 4, name: NVIDIA GeForce RTX 2080 Ti, pci bus id: 0000:41:00.0, compute capability: 7.5)\n"
     ]
    },
    {
     "name": "stdout",
     "output_type": "stream",
     "text": [
      "Start Embedding Network Training\n"
     ]
    },
    {
     "name": "stderr",
     "output_type": "stream",
     "text": [
      "2024-06-23 13:00:38.597015: I tensorflow/stream_executor/platform/default/dso_loader.cc:44] Successfully opened dynamic library libcublas.so.10.0\n"
     ]
    },
    {
     "name": "stdout",
     "output_type": "stream",
     "text": [
      "step: 0/10000, e_loss: 0.3189\n",
      "step: 1000/10000, e_loss: 0.0222\n",
      "step: 2000/10000, e_loss: 0.0205\n",
      "step: 3000/10000, e_loss: 0.0097\n",
      "step: 4000/10000, e_loss: 0.0084\n",
      "step: 5000/10000, e_loss: 0.0053\n",
      "step: 6000/10000, e_loss: 0.0062\n",
      "step: 7000/10000, e_loss: 0.0047\n",
      "step: 8000/10000, e_loss: 0.0041\n",
      "step: 9000/10000, e_loss: 0.006\n",
      "Finish Embedding Network Training\n",
      "Start Training with Supervised Loss Only\n",
      "step: 0/10000, s_loss: 0.2502\n",
      "step: 1000/10000, s_loss: 0.0195\n",
      "step: 2000/10000, s_loss: 0.0136\n",
      "step: 3000/10000, s_loss: 0.0139\n",
      "step: 4000/10000, s_loss: 0.0135\n",
      "step: 5000/10000, s_loss: 0.0131\n",
      "step: 6000/10000, s_loss: 0.0143\n",
      "step: 7000/10000, s_loss: 0.0129\n",
      "step: 8000/10000, s_loss: 0.0116\n",
      "step: 9000/10000, s_loss: 0.0124\n",
      "Finish Training with Supervised Loss Only\n",
      "Start Joint Training\n",
      "step: 0/10000, d_loss: 2.0115, g_loss_u: 0.7004, g_loss_s: 0.0188, g_loss_v: 0.2995, e_loss_t0: 0.0663\n",
      "step: 1000/10000, d_loss: 1.4308, g_loss_u: 1.8306, g_loss_s: 0.019, g_loss_v: 0.0292, e_loss_t0: 0.003\n",
      "step: 2000/10000, d_loss: 1.3997, g_loss_u: 1.2414, g_loss_s: 0.0426, g_loss_v: 0.0497, e_loss_t0: 0.0028\n",
      "step: 3000/10000, d_loss: 1.6356, g_loss_u: 1.3141, g_loss_s: 0.0183, g_loss_v: 0.076, e_loss_t0: 0.0023\n",
      "step: 4000/10000, d_loss: 1.5057, g_loss_u: 1.5569, g_loss_s: 0.0184, g_loss_v: 0.0457, e_loss_t0: 0.003\n",
      "step: 5000/10000, d_loss: 1.6021, g_loss_u: 1.0734, g_loss_s: 0.016, g_loss_v: 0.0354, e_loss_t0: 0.0023\n",
      "step: 6000/10000, d_loss: 1.815, g_loss_u: 1.5404, g_loss_s: 0.0202, g_loss_v: 0.0213, e_loss_t0: 0.0026\n",
      "step: 7000/10000, d_loss: 1.7644, g_loss_u: 1.2759, g_loss_s: 0.017, g_loss_v: 0.0454, e_loss_t0: 0.0034\n",
      "step: 8000/10000, d_loss: 1.8194, g_loss_u: 1.1905, g_loss_s: 0.0172, g_loss_v: 0.0927, e_loss_t0: 0.0023\n",
      "step: 9000/10000, d_loss: 1.8522, g_loss_u: 1.1791, g_loss_s: 0.0159, g_loss_v: 0.0148, e_loss_t0: 0.0026\n"
     ]
    }
   ],
   "source": [
    "# Run TimeGAN\n",
    "generated_data = timegan(ori_data, parameters)   \n",
    "print('Finish Synthetic Data Generation')"
   ]
  },
  {
   "cell_type": "markdown",
   "metadata": {},
   "source": [
    "## Evaluate the generated data\n",
    "\n",
    "### 1. Discriminative score\n",
    "\n",
    "To evaluate the classification accuracy between original and synthetic data using post-hoc RNN network. The output is |classification accuracy - 0.5|.\n",
    "\n",
    "- metric_iteration: the number of iterations for metric computation."
   ]
  },
  {
   "cell_type": "code",
   "execution_count": null,
   "metadata": {},
   "outputs": [
    {
     "name": "stdout",
     "output_type": "stream",
     "text": [
      "WARNING:tensorflow:From /home/vdslab/Documents/Jinsung/2019_Research/NIPS/TGAN/My_GitHub/metrics/discriminative_metrics.py:81: all_variables (from tensorflow.python.ops.variables) is deprecated and will be removed after 2017-03-02.\n",
      "Instructions for updating:\n",
      "Please use tf.global_variables instead.\n",
      "Discriminative score: 0.1759\n"
     ]
    }
   ],
   "source": [
    "metric_iteration = 5\n",
    "\n",
    "discriminative_score = list()\n",
    "for _ in range(metric_iteration):\n",
    "  temp_disc = discriminative_score_metrics(ori_data, generated_data)\n",
    "  discriminative_score.append(temp_disc)\n",
    "\n",
    "print('Discriminative score: ' + str(np.round(np.mean(discriminative_score), 4)))"
   ]
  },
  {
   "cell_type": "markdown",
   "metadata": {},
   "source": [
    "## Evaluate the generated data\n",
    "\n",
    "### 2. Predictive score\n",
    "\n",
    "To evaluate the prediction performance on train on synthetic, test on real setting. More specifically, we use Post-hoc RNN architecture to predict one-step ahead and report the performance in terms of MAE."
   ]
  },
  {
   "cell_type": "code",
   "execution_count": null,
   "metadata": {},
   "outputs": [
    {
     "name": "stdout",
     "output_type": "stream",
     "text": [
      "WARNING:tensorflow:From /home/vdslab/Documents/Jinsung/2019_Research/NIPS/TGAN/My_GitHub/metrics/predictive_metrics.py:81: The name tf.losses.absolute_difference is deprecated. Please use tf.compat.v1.losses.absolute_difference instead.\n",
      "\n",
      "Predictive score: 0.0412\n"
     ]
    }
   ],
   "source": [
    "predictive_score = list()\n",
    "for tt in range(metric_iteration):\n",
    "  temp_pred = predictive_score_metrics(ori_data, generated_data)\n",
    "  predictive_score.append(temp_pred)   \n",
    "    \n",
    "print('Predictive score: ' + str(np.round(np.mean(predictive_score), 4)))"
   ]
  },
  {
   "cell_type": "markdown",
   "metadata": {},
   "source": [
    "## Evaluate the generated data\n",
    "\n",
    "### 3. Visualization\n",
    "\n",
    "We visualize the original and synthetic data distributions using PCA and tSNE analysis."
   ]
  },
  {
   "cell_type": "code",
   "execution_count": 1,
   "metadata": {},
   "outputs": [
    {
     "ename": "NameError",
     "evalue": "name 'visualization' is not defined",
     "output_type": "error",
     "traceback": [
      "\u001b[0;31m---------------------------------------------------------------------------\u001b[0m",
      "\u001b[0;31mNameError\u001b[0m                                 Traceback (most recent call last)",
      "\u001b[0;32m/tmp/ipykernel_712212/3864929463.py\u001b[0m in \u001b[0;36m<module>\u001b[0;34m\u001b[0m\n\u001b[0;32m----> 1\u001b[0;31m \u001b[0mvisualization\u001b[0m\u001b[0;34m(\u001b[0m\u001b[0mori_data\u001b[0m\u001b[0;34m,\u001b[0m \u001b[0mgenerated_data\u001b[0m\u001b[0;34m,\u001b[0m \u001b[0;34m'pca'\u001b[0m\u001b[0;34m)\u001b[0m\u001b[0;34m\u001b[0m\u001b[0m\n\u001b[0m\u001b[1;32m      2\u001b[0m \u001b[0mvisualization\u001b[0m\u001b[0;34m(\u001b[0m\u001b[0mori_data\u001b[0m\u001b[0;34m,\u001b[0m \u001b[0mgenerated_data\u001b[0m\u001b[0;34m,\u001b[0m \u001b[0;34m'tsne'\u001b[0m\u001b[0;34m)\u001b[0m\u001b[0;34m\u001b[0m\u001b[0m\n",
      "\u001b[0;31mNameError\u001b[0m: name 'visualization' is not defined"
     ]
    }
   ],
   "source": [
    "visualization(ori_data, generated_data, 'pca')\n",
    "visualization(ori_data, generated_data, 'tsne')"
   ]
  }
 ],
 "metadata": {
  "kernelspec": {
   "display_name": "Python 3",
   "language": "python",
   "name": "python3"
  },
  "language_info": {
   "codemirror_mode": {
    "name": "ipython",
    "version": 3
   },
   "file_extension": ".py",
   "mimetype": "text/x-python",
   "name": "python",
   "nbconvert_exporter": "python",
   "pygments_lexer": "ipython3",
   "version": "3.7.0"
  }
 },
 "nbformat": 4,
 "nbformat_minor": 2
}
