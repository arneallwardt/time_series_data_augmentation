{
 "cells": [
  {
   "cell_type": "code",
   "execution_count": 2,
   "metadata": {},
   "outputs": [],
   "source": [
    "## 0 Imports and Constants\n",
    "import sys\n",
    "import os\n",
    "\n",
    "# Füge das übergeordnete Verzeichnis zu sys.path hinzu\n",
    "parent_dir = os.path.abspath(os.path.join(os.getcwd(), '../../'))\n",
    "sys.path.insert(0, parent_dir)\n",
    "\n",
    "import pandas as pd\n",
    "from pathlib import Path\n",
    "import numpy as np\n",
    "\n",
    "from utilities import split_data_into_sequences, load_sequential_time_series\n",
    "\n",
    "DATA_FOLDER = Path(\"../data\")\n",
    "REAL_DATA_FOLDER = DATA_FOLDER / \"real\"\n",
    "SYNTHETIC_DATA_FOLDER = DATA_FOLDER / \"synthetic\""
   ]
  },
  {
   "cell_type": "code",
   "execution_count": 3,
   "metadata": {},
   "outputs": [],
   "source": [
    "def split_dataset(data):\n",
    "    print(f'Shape of data before splitting: {data.shape}')\n",
    "    split_index = len(data) // 2\n",
    "    data_1 = data[:split_index]\n",
    "    data_2 = data[split_index:]\n",
    "\n",
    "    return data_1, data_2"
   ]
  },
  {
   "cell_type": "code",
   "execution_count": 4,
   "metadata": {},
   "outputs": [],
   "source": [
    "real_data_df = pd.read_csv(REAL_DATA_FOLDER / 'metro_interstate_traffic_volume_label_encoded_no_categorical.csv') # not sequential, not shuffled"
   ]
  },
  {
   "cell_type": "code",
   "execution_count": 5,
   "metadata": {},
   "outputs": [],
   "source": [
    "### Load all kinds of data ###\n",
    "real_data = pd.read_csv(REAL_DATA_FOLDER / 'metro_interstate_traffic_volume_label_encoded_no_categorical.csv').to_numpy() # not sequential, not shuffled\n",
    "jitt_01 = pd.read_csv(SYNTHETIC_DATA_FOLDER / 'mitv_jittered_01.csv').to_numpy() # not sequential, not shuffled\n",
    "jitt_02 = pd.read_csv(SYNTHETIC_DATA_FOLDER / 'mitv_jittered_02.csv').to_numpy() # not sequential, not shuffled\n",
    "jitt_005 = pd.read_csv(SYNTHETIC_DATA_FOLDER / 'mitv_jittered_005.csv').to_numpy() # not sequential, not shuffled\n",
    "timewarp = pd.read_csv(SYNTHETIC_DATA_FOLDER / 'mitv_time_warped.csv').to_numpy() # not sequential, not shuffled\n",
    "\n",
    "timegan_gru_seq_shuffled = load_sequential_time_series(SYNTHETIC_DATA_FOLDER / 'mitv_28499_12_5_gru_unscaled.csv', shape=(28499, 12, 5)) # sequential, shuffled\n",
    "timegan_lstm_seq_shuffled = load_sequential_time_series(SYNTHETIC_DATA_FOLDER / 'mitv_28499_12_5_lstm_unscaled.csv', shape=(28499, 12, 5)) # sequential, shuffled\n",
    "autoencoder_seq = load_sequential_time_series(SYNTHETIC_DATA_FOLDER / 'mitv_28478_12_5_autoencoder_unscaled.csv', shape=(28478, 12, 5)) # sequential, not shuffled, ordered by train, val, test"
   ]
  },
  {
   "cell_type": "code",
   "execution_count": 6,
   "metadata": {},
   "outputs": [
    {
     "name": "stdout",
     "output_type": "stream",
     "text": [
      "Shape of data before splitting: (28511, 5)\n",
      "Shape of data before splitting: (28511, 5)\n",
      "Shape of data before splitting: (28511, 5)\n",
      "Shape of data before splitting: (28511, 5)\n",
      "Shape of data before splitting: (28499, 12, 5)\n",
      "Shape of data before splitting: (28499, 12, 5)\n",
      "Shape of data before splitting: (28478, 12, 5)\n"
     ]
    }
   ],
   "source": [
    "# split data\n",
    "jitt_01_train, jitt_01_test = split_dataset(jitt_01)\n",
    "jitt_02_train, jitt_02_test = split_dataset(jitt_02)\n",
    "jitt_005_train, jitt_005_test = split_dataset(jitt_005)\n",
    "timewarp_train, timewarp_test = split_dataset(timewarp)\n",
    "\n",
    "# split sequential data\n",
    "timegan_gru_train_seq_shuffled, timegan_gru_test_seq_shuffled = split_dataset(timegan_gru_seq_shuffled)\n",
    "timegan_lstm_train_seq_shuffled, timegan_lstm_test_seq_shuffled = split_dataset(timegan_lstm_seq_shuffled)\n",
    "autoencoder_train_seq, autoencoder_test_seq = split_dataset(autoencoder_seq)"
   ]
  },
  {
   "cell_type": "code",
   "execution_count": 7,
   "metadata": {},
   "outputs": [
    {
     "name": "stdout",
     "output_type": "stream",
     "text": [
      "Shape of the data after splitting into sequences: (28500, 12, 5)\n",
      "Shape of the data after splitting into sequences: (14244, 12, 5)\n",
      "Shape of the data after splitting into sequences: (14245, 12, 5)\n",
      "Shape of the data after splitting into sequences: (14244, 12, 5)\n",
      "Shape of the data after splitting into sequences: (14245, 12, 5)\n",
      "Shape of the data after splitting into sequences: (14244, 12, 5)\n",
      "Shape of the data after splitting into sequences: (14245, 12, 5)\n",
      "Shape of the data after splitting into sequences: (14244, 12, 5)\n",
      "Shape of the data after splitting into sequences: (14245, 12, 5)\n"
     ]
    }
   ],
   "source": [
    "# turn into sequences\n",
    "real_data_seq_shuffled = split_data_into_sequences(real_data, seq_len=12, shuffle_data=True)\n",
    "\n",
    "jitt_01_train_seq_shuffled = split_data_into_sequences(jitt_01_train, seq_len=12, shuffle_data=True)\n",
    "jitt_01_test_seq_shuffled = split_data_into_sequences(jitt_01_test, seq_len=12, shuffle_data=True)\n",
    "\n",
    "jitt_02_train_seq_shuffled = split_data_into_sequences(jitt_02_train, seq_len=12, shuffle_data=True)\n",
    "jitt_02_test_seq_shuffled = split_data_into_sequences(jitt_02_test, seq_len=12, shuffle_data=True)\n",
    "\n",
    "jitt_005_train_seq_shuffled = split_data_into_sequences(jitt_005_train, seq_len=12, shuffle_data=True)\n",
    "jitt_005_test_seq_shuffled = split_data_into_sequences(jitt_005_test, seq_len=12, shuffle_data=True)\n",
    "\n",
    "timewarp_train_seq_shuffled = split_data_into_sequences(timewarp_train, seq_len=12, shuffle_data=True)\n",
    "timewarp_test_seq_shuffled = split_data_into_sequences(timewarp_test, seq_len=12, shuffle_data=True)"
   ]
  },
  {
   "cell_type": "code",
   "execution_count": 8,
   "metadata": {},
   "outputs": [],
   "source": [
    "# shuffle autoencoder data\n",
    "autoencoder_train_indices = np.random.permutation(len(autoencoder_train_seq))\n",
    "autoencoder_test_indices = np.random.permutation(len(autoencoder_test_seq))\n",
    "\n",
    "autoencoder_train_seq_shuffled = autoencoder_train_seq[autoencoder_train_indices]\n",
    "autoencoder_test_seq_shuffled = autoencoder_test_seq[autoencoder_test_indices]"
   ]
  },
  {
   "cell_type": "code",
   "execution_count": 9,
   "metadata": {},
   "outputs": [],
   "source": [
    "data_amount = 3000\n",
    "\n",
    "### Pick right amount of random train and test data\n",
    "train_real = real_data_seq_shuffled[:7*data_amount]\n",
    "\n",
    "train_jitt_01 = jitt_01_train_seq_shuffled[:data_amount]\n",
    "test_jitt_01 = jitt_01_test_seq_shuffled[:data_amount]\n",
    "\n",
    "train_jitt_02 = jitt_02_train_seq_shuffled[:data_amount]\n",
    "test_jitt_02 = jitt_02_test_seq_shuffled[:data_amount]\n",
    "\n",
    "train_jitt_005 = jitt_005_train_seq_shuffled[:data_amount]\n",
    "test_jitt_005 = jitt_005_test_seq_shuffled[:data_amount]\n",
    "\n",
    "train_timewarp = timewarp_train_seq_shuffled[:data_amount]\n",
    "test_timewarp = timewarp_test_seq_shuffled[:data_amount]\n",
    "\n",
    "train_timegan_gru = timegan_gru_train_seq_shuffled[:data_amount]\n",
    "test_timegan_gru = timegan_gru_test_seq_shuffled[:data_amount]\n",
    "\n",
    "train_timegan_lstm = timegan_lstm_train_seq_shuffled[:data_amount]\n",
    "test_timegan_lstm = timegan_lstm_test_seq_shuffled[:data_amount]\n",
    "\n",
    "train_autoencoder = autoencoder_train_seq_shuffled[:data_amount]\n",
    "test_autoencoder = autoencoder_test_seq_shuffled[:data_amount]"
   ]
  },
  {
   "cell_type": "code",
   "execution_count": 21,
   "metadata": {},
   "outputs": [],
   "source": [
    "# Add ones and zeros as classifying labels\n",
    "train_real_labeled = np.concatenate((train_real, np.ones((train_real.shape[0], 1, 5))), axis=1)\n",
    "\n",
    "train_jitt_01_labeled = np.concatenate((train_jitt_01, np.zeros((train_jitt_01.shape[0], 1, 5))), axis=1)\n",
    "test_jitt_01_labeled = np.concatenate((test_jitt_01, np.zeros((test_jitt_01.shape[0], 1, 5))), axis=1)\n",
    "\n",
    "train_jitt_02_labeled = np.concatenate((train_jitt_02, np.zeros((train_jitt_02.shape[0], 1, 5))), axis=1)\n",
    "test_jitt_02_labeled = np.concatenate((test_jitt_02, np.zeros((test_jitt_02.shape[0], 1, 5))), axis=1)\n",
    "\n",
    "train_jitt_005_labeled = np.concatenate((train_jitt_005, np.zeros((train_jitt_005.shape[0], 1, 5))), axis=1)\n",
    "test_jitt_005_labeled = np.concatenate((test_jitt_005, np.zeros((test_jitt_005.shape[0], 1, 5))), axis=1)\n",
    "\n",
    "train_timewarp_labeled = np.concatenate((train_timewarp, np.zeros((train_timewarp.shape[0], 1, 5))), axis=1)\n",
    "test_timewarp_labeled = np.concatenate((test_timewarp, np.zeros((test_timewarp.shape[0], 1, 5))), axis=1)\n",
    "\n",
    "train_timegan_gru_labeled = np.concatenate((train_timegan_gru, np.zeros((train_timegan_gru.shape[0], 1, 5))), axis=1)\n",
    "test_timegan_gru_labeled = np.concatenate((test_timegan_gru, np.zeros((test_timegan_gru.shape[0], 1, 5))), axis=1)\n",
    "\n",
    "train_timegan_lstm_labeled = np.concatenate((train_timegan_lstm, np.zeros((train_timegan_lstm.shape[0], 1, 5))), axis=1)\n",
    "test_timegan_lstm_labeled = np.concatenate((test_timegan_lstm, np.zeros((test_timegan_lstm.shape[0], 1, 5))), axis=1)\n",
    "\n",
    "train_autoencoder_labeled = np.concatenate((train_autoencoder, np.zeros((train_autoencoder.shape[0], 1, 5))), axis=1)\n",
    "test_autoencoder_labeled = np.concatenate((test_autoencoder, np.zeros((test_autoencoder.shape[0], 1, 5))), axis=1)"
   ]
  },
  {
   "cell_type": "code",
   "execution_count": 23,
   "metadata": {},
   "outputs": [
    {
     "data": {
      "text/plain": [
       "(42000, 13, 5)"
      ]
     },
     "execution_count": 23,
     "metadata": {},
     "output_type": "execute_result"
    }
   ],
   "source": [
    "# concatenate all train data and shuffle again\n",
    "train = np.concatenate((train_real_labeled, train_jitt_01_labeled, train_jitt_02_labeled, train_jitt_005_labeled, train_timewarp_labeled, train_timegan_gru_labeled, train_timegan_lstm_labeled, train_autoencoder_labeled), axis=0)\n",
    "permutated_train_indices = np.random.permutation(len(train))\n",
    "train = train[permutated_train_indices]"
   ]
  },
  {
   "cell_type": "code",
   "execution_count": 25,
   "metadata": {},
   "outputs": [],
   "source": [
    "# # save combined train data\n",
    "# train_to_save = train.reshape(train.shape[0], train.shape[1] * train.shape[2])\n",
    "# np.savetxt(f'discriminative_train_{train.shape[0]}_{train.shape[1]}_{train.shape[2]}.csv', train_to_save, delimiter=',')\n",
    "\n",
    "# # save single test data\n",
    "# test_jitt_01_to_save = test_jitt_01_labeled.reshape(test_jitt_01_labeled.shape[0], test_jitt_01_labeled.shape[1] * test_jitt_01_labeled.shape[2])\n",
    "# np.savetxt(f'discriminative_test_jitt_01_{test_jitt_01_labeled.shape[0]}_{test_jitt_01_labeled.shape[1]}_{test_jitt_01_labeled.shape[2]}.csv', test_jitt_01_to_save, delimiter=',')\n",
    "\n",
    "# test_jitt_02_to_save = test_jitt_02_labeled.reshape(test_jitt_02_labeled.shape[0], test_jitt_02_labeled.shape[1] * test_jitt_02_labeled.shape[2])\n",
    "# np.savetxt(f'discriminative_test_jitt_02_{test_jitt_02_labeled.shape[0]}_{test_jitt_02_labeled.shape[1]}_{test_jitt_02_labeled.shape[2]}.csv', test_jitt_02_to_save, delimiter=',')\n",
    "\n",
    "# test_jitt_005_to_save = test_jitt_005_labeled.reshape(test_jitt_005_labeled.shape[0], test_jitt_005_labeled.shape[1] * test_jitt_005_labeled.shape[2])\n",
    "# np.savetxt(f'discriminative_test_jitt_005_{test_jitt_005_labeled.shape[0]}_{test_jitt_005_labeled.shape[1]}_{test_jitt_005_labeled.shape[2]}.csv', test_jitt_005_to_save, delimiter=',')\n",
    "\n",
    "# test_timewarp_to_save = test_timewarp_labeled.reshape(test_timewarp_labeled.shape[0], test_timewarp_labeled.shape[1] * test_timewarp_labeled.shape[2])\n",
    "# np.savetxt(f'discriminative_test_timewarp_{test_timewarp_labeled.shape[0]}_{test_timewarp_labeled.shape[1]}_{test_timewarp_labeled.shape[2]}.csv', test_timewarp_to_save, delimiter=',')\n",
    "\n",
    "# test_timegan_gru_to_save = test_timegan_gru_labeled.reshape(test_timegan_gru_labeled.shape[0], test_timegan_gru_labeled.shape[1] * test_timegan_gru_labeled.shape[2])\n",
    "# np.savetxt(f'discriminative_test_timegan_gru_{test_timegan_gru_labeled.shape[0]}_{test_timegan_gru_labeled.shape[1]}_{test_timegan_gru_labeled.shape[2]}.csv', test_timegan_gru_to_save, delimiter=',')\n",
    "\n",
    "# test_timegan_lstm_to_save = test_timegan_lstm_labeled.reshape(test_timegan_lstm_labeled.shape[0], test_timegan_lstm_labeled.shape[1] * test_timegan_lstm_labeled.shape[2])\n",
    "# np.savetxt(f'discriminative_test_timegan_lstm_{test_timegan_lstm_labeled.shape[0]}_{test_timegan_lstm_labeled.shape[1]}_{test_timegan_lstm_labeled.shape[2]}.csv', test_timegan_lstm_to_save, delimiter=',')\n",
    "\n",
    "# test_autoencoder_to_save = test_autoencoder_labeled.reshape(test_autoencoder_labeled.shape[0], test_autoencoder_labeled.shape[1] * test_autoencoder_labeled.shape[2])\n",
    "# np.savetxt(f'discriminative_test_autoencoder_{test_autoencoder_labeled.shape[0]}_{test_autoencoder_labeled.shape[1]}_{test_autoencoder_labeled.shape[2]}.csv', test_autoencoder_to_save, delimiter=',')"
   ]
  },
  {
   "cell_type": "code",
   "execution_count": null,
   "metadata": {},
   "outputs": [],
   "source": []
  }
 ],
 "metadata": {
  "kernelspec": {
   "display_name": "time_series_data_augmentation_venv",
   "language": "python",
   "name": "python3"
  },
  "language_info": {
   "codemirror_mode": {
    "name": "ipython",
    "version": 3
   },
   "file_extension": ".py",
   "mimetype": "text/x-python",
   "name": "python",
   "nbconvert_exporter": "python",
   "pygments_lexer": "ipython3",
   "version": "3.11.7"
  }
 },
 "nbformat": 4,
 "nbformat_minor": 2
}
