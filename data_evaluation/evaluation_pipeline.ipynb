{
 "cells": [
  {
   "cell_type": "markdown",
   "metadata": {},
   "source": [
    "# Evaluation pipeline"
   ]
  },
  {
   "cell_type": "markdown",
   "metadata": {},
   "source": [
    "## 0 Imports and Constants"
   ]
  },
  {
   "cell_type": "code",
   "execution_count": 1,
   "metadata": {},
   "outputs": [],
   "source": [
    "import sys\n",
    "import os\n",
    "\n",
    "# Füge das übergeordnete Verzeichnis zu sys.path hinzu\n",
    "parent_dir = os.path.abspath(os.path.join(os.getcwd(), '..'))\n",
    "sys.path.insert(0, parent_dir)"
   ]
  },
  {
   "cell_type": "code",
   "execution_count": 2,
   "metadata": {},
   "outputs": [],
   "source": [
    "import pandas as pd\n",
    "from pathlib import Path\n",
    "import numpy as np\n",
    "import matplotlib.pyplot as plt\n",
    "\n",
    "import torch\n",
    "import torch.nn as nn\n",
    "import seaborn as sns\n",
    "from copy import deepcopy as dc\n",
    "\n",
    "from utilities import split_data_into_sequences, load_sequential_time_series, reconstruct_sequential_data, Scaler, extract_features_and_targets_reg\n",
    "from visual_evaluation import visualize\n",
    "from predictive_evaluation import predictive_evaluation"
   ]
  },
  {
   "cell_type": "code",
   "execution_count": 3,
   "metadata": {},
   "outputs": [],
   "source": [
    "import torch\n",
    "import torch.nn as nn\n",
    "import numpy as np\n",
    "import pandas as pd\n",
    "from tqdm import tqdm\n",
    "from torch.utils.data import DataLoader\n",
    "from baseline_model.LSTM import LSTMRegression, train_model\n",
    "from utilities import Scaler, train_test_split, extract_features_and_targets_reg, split_data_into_sequences\n",
    "from baseline_model.TimeSeriesDataset import TimeSeriesDataset"
   ]
  },
  {
   "cell_type": "code",
   "execution_count": 4,
   "metadata": {},
   "outputs": [],
   "source": [
    "DATA_FOLDER = Path(\"../data\")\n",
    "REAL_DATA_FOLDER = DATA_FOLDER / \"real\"\n",
    "SYNTHETIC_DATA_FOLDER = DATA_FOLDER / \"synthetic\"\n",
    "BENCHMARK = False"
   ]
  },
  {
   "cell_type": "markdown",
   "metadata": {},
   "source": [
    "## 1 Load and Visualize Data"
   ]
  },
  {
   "cell_type": "markdown",
   "metadata": {},
   "source": [
    "### Ways of loading data\n",
    "- Laden der Originaldaten: als pd dataframe \n",
    "- Laden der synthetischen, sequentiellen Daten: als np array (GAN, (V)AE)\n",
    "- Laden der synthetischen, sequentiellen Daten: als pd dataframe (brownian, algorithmit)"
   ]
  },
  {
   "cell_type": "code",
   "execution_count": 5,
   "metadata": {},
   "outputs": [],
   "source": [
    "# possible types: 'brownian_motion', 'timegan_lstm', 'timegan_gru'\n",
    "syn_data_type = 'timegan_lstm'"
   ]
  },
  {
   "cell_type": "code",
   "execution_count": 6,
   "metadata": {},
   "outputs": [],
   "source": [
    "# Load real time series\n",
    "data_real_df = pd.read_csv(REAL_DATA_FOLDER/'metro_interstate_traffic_volume_label_encoded.csv')\n",
    "data_real_numpy = dc(data_real_df).to_numpy()\n",
    "\n",
    "if syn_data_type == 'timegan_lstm':\n",
    "    # load sequential data (which should already be scaled)\n",
    "    data_syn_numpy = load_sequential_time_series(SYNTHETIC_DATA_FOLDER/'mitv_28499_12_11_lstm_unscaled.csv', shape=(28499, 12, 11))\n",
    "\n",
    "elif syn_data_type == 'timegan_gru':\n",
    "    data_syn_numpy = load_sequential_time_series(SYNTHETIC_DATA_FOLDER/'mitv_28499_12_11_gru_unscaled.csv', shape=(28499, 12, 11))\n",
    "\n",
    "elif syn_data_type == 'brownian_motion':\n",
    "    data_syn_df = pd.read_csv(SYNTHETIC_DATA_FOLDER/'mitv_brownian_motion.csv')\n",
    "    data_syn_numpy = dc(data_syn_df).to_numpy()"
   ]
  },
  {
   "cell_type": "markdown",
   "metadata": {},
   "source": [
    "## 2 Train and Test Baseline Model"
   ]
  },
  {
   "cell_type": "markdown",
   "metadata": {},
   "source": [
    "### Set Hyperparameters and Features"
   ]
  },
  {
   "cell_type": "code",
   "execution_count": 7,
   "metadata": {},
   "outputs": [],
   "source": [
    "hyperparameters = {\n",
    "    \"seq_len\": 12,\n",
    "    \"lr\": 0.0001,\n",
    "    \"batch_size\": 32,\n",
    "    \"hidden_size\": 4,\n",
    "    \"num_layers\": 1,\n",
    "    \"num_evaluation_runs\": 1,\n",
    "    \"num_epochs\": 20,\n",
    "    \"device\": 'cuda' if torch.cuda.is_available() else 'cpu'\n",
    "}"
   ]
  },
  {
   "cell_type": "code",
   "execution_count": 8,
   "metadata": {},
   "outputs": [
    {
     "name": "stdout",
     "output_type": "stream",
     "text": [
      "HYPERPARAMETERS:\n",
      "seq_len :  12\n",
      "lr :  0.0001\n",
      "batch_size :  32\n",
      "hidden_size :  4\n",
      "num_layers :  1\n",
      "num_evaluation_runs :  1\n",
      "num_epochs :  20\n",
      "device :  cpu\n",
      "Synthetic Data is sequential: True\n",
      "Shape of the data after splitting into sequences: (25648, 12, 11)\n",
      "Shape of the data after splitting into sequences: (2841, 12, 11)\n"
     ]
    },
    {
     "name": "stderr",
     "output_type": "stream",
     "text": [
      "  0%|          | 0/1 [00:00<?, ?it/s]"
     ]
    },
    {
     "name": "stdout",
     "output_type": "stream",
     "text": [
      "Epoch: 1\n",
      "Training Loss: 0.17993359182029964\n",
      "Training Loss: 0.13528828278183938\n",
      "Training Loss: 0.09521667890250683\n",
      "Training Loss: 0.07851354293525219\n",
      "Validation Loss: 0.07029184619529863\n",
      "Validation Accuracy: 0.0\n",
      "**************************************************\n",
      "Epoch: 2\n",
      "Training Loss: 0.07168676709756255\n",
      "Training Loss: 0.06989871513098478\n",
      "Training Loss: 0.06585115514695644\n",
      "Training Loss: 0.06323509072884917\n",
      "Validation Loss: 0.057414984518892306\n",
      "Validation Accuracy: 0.0\n",
      "**************************************************\n",
      "Epoch: 3\n",
      "Training Loss: 0.05885014792904258\n",
      "Training Loss: 0.056339084170758724\n",
      "Training Loss: 0.05107827581465244\n",
      "Training Loss: 0.046813293118029835\n",
      "Validation Loss: 0.040709271985158495\n",
      "Validation Accuracy: 0.0\n",
      "**************************************************\n",
      "Epoch: 4\n",
      "Training Loss: 0.040962856160476804\n",
      "Training Loss: 0.037411773856729266\n",
      "Training Loss: 0.03139415493234992\n",
      "Training Loss: 0.028733520954847335\n",
      "Validation Loss: 0.024284949076225918\n",
      "Validation Accuracy: 0.0\n",
      "**************************************************\n",
      "Epoch: 5\n",
      "Training Loss: 0.026101982034742833\n",
      "Training Loss: 0.025873729800805448\n",
      "Training Loss: 0.02286791769322008\n",
      "Training Loss: 0.022806977555155754\n",
      "Validation Loss: 0.020180660676671548\n",
      "Validation Accuracy: 0.0\n",
      "**************************************************\n",
      "Epoch: 6\n",
      "Training Loss: 0.022085818047635257\n",
      "Training Loss: 0.022602888667024673\n",
      "Training Loss: 0.020288932654075324\n",
      "Training Loss: 0.02044733688235283\n",
      "Validation Loss: 0.018219299964983476\n",
      "Validation Accuracy: 0.0\n",
      "**************************************************\n",
      "Epoch: 7\n",
      "Training Loss: 0.020036567291244863\n",
      "Training Loss: 0.020573685681447386\n",
      "Training Loss: 0.018500880519859493\n",
      "Training Loss: 0.018702325662598013\n",
      "Validation Loss: 0.01657154621933116\n",
      "Validation Accuracy: 0.0\n",
      "**************************************************\n",
      "Epoch: 8\n",
      "Training Loss: 0.018416169276461006\n",
      "Training Loss: 0.018900951857212932\n",
      "Training Loss: 0.016994681695941836\n",
      "Training Loss: 0.01722226993413642\n",
      "Validation Loss: 0.015139143861662806\n",
      "Validation Accuracy: 0.0\n",
      "**************************************************\n",
      "Epoch: 9\n",
      "Training Loss: 0.017022624895907938\n",
      "Training Loss: 0.017449499163776635\n",
      "Training Loss: 0.015688409078866244\n",
      "Training Loss: 0.015933986923191697\n",
      "Validation Loss: 0.013890990390955062\n",
      "Validation Accuracy: 0.0\n",
      "**************************************************\n",
      "Epoch: 10\n",
      "Training Loss: 0.015806293641217054\n",
      "Training Loss: 0.016183348984923213\n",
      "Training Loss: 0.014556962975766509\n",
      "Training Loss: 0.014815042656846345\n",
      "Validation Loss: 0.012811126679265768\n",
      "Validation Accuracy: 0.0\n",
      "**************************************************\n",
      "Epoch: 11\n",
      "Training Loss: 0.014750317439902573\n",
      "Training Loss: 0.0150880804262124\n",
      "Training Loss: 0.013587619378231466\n",
      "Training Loss: 0.01385315515100956\n",
      "Validation Loss: 0.011885256443716836\n",
      "Validation Accuracy: 0.0\n",
      "**************************************************\n",
      "Epoch: 12\n",
      "Training Loss: 0.013843037472106516\n",
      "Training Loss: 0.014150236998684704\n",
      "Training Loss: 0.012765803902875633\n",
      "Training Loss: 0.013032809051219374\n",
      "Validation Loss: 0.011094242088454827\n",
      "Validation Accuracy: 0.0\n",
      "**************************************************\n",
      "Epoch: 13\n",
      "Training Loss: 0.013068220736458898\n",
      "Training Loss: 0.013350355641450732\n",
      "Training Loss: 0.012070790305733681\n",
      "Training Loss: 0.012332633591722698\n",
      "Validation Loss: 0.010414322942830203\n",
      "Validation Accuracy: 0.0\n",
      "**************************************************\n",
      "Epoch: 14\n",
      "Training Loss: 0.012404358001658693\n",
      "Training Loss: 0.012664160723797977\n",
      "Training Loss: 0.011478122854605317\n",
      "Training Loss: 0.011728699938394128\n",
      "Validation Loss: 0.009821341561383746\n",
      "Validation Accuracy: 0.0\n",
      "**************************************************\n",
      "Epoch: 15\n",
      "Training Loss: 0.01182832091813907\n",
      "Training Loss: 0.012067082519643009\n",
      "Training Loss: 0.010964073499199003\n",
      "Training Loss: 0.011198742226697504\n",
      "Validation Loss: 0.009294730087930567\n",
      "Validation Accuracy: 0.0\n",
      "**************************************************\n",
      "Epoch: 16\n",
      "Training Loss: 0.011319153340300545\n",
      "Training Loss: 0.011538024907931686\n",
      "Training Loss: 0.01050884983735159\n",
      "Training Loss: 0.010724670176859945\n",
      "Validation Loss: 0.00881904937075765\n",
      "Validation Accuracy: 0.0\n",
      "**************************************************\n",
      "Epoch: 17\n",
      "Training Loss: 0.010860114120878278\n",
      "Training Loss: 0.011060856401454657\n",
      "Training Loss: 0.010097645886708051\n",
      "Training Loss: 0.010293051267508417\n",
      "Validation Loss: 0.008383458699989185\n",
      "Validation Accuracy: 0.0\n",
      "**************************************************\n",
      "Epoch: 18\n",
      "Training Loss: 0.01043901159777306\n",
      "Training Loss: 0.010624134186655284\n",
      "Training Loss: 0.009720202264143154\n",
      "Training Loss: 0.009894507918506861\n",
      "Validation Loss: 0.007980502566343613\n",
      "Validation Accuracy: 0.0\n",
      "**************************************************\n",
      "Epoch: 19\n",
      "Training Loss: 0.010047634609509259\n",
      "Training Loss: 0.010220139033626764\n",
      "Training Loss: 0.00936982680344954\n",
      "Training Loss: 0.009522859174758196\n",
      "Validation Loss: 0.007605099940693446\n",
      "Validation Accuracy: 0.0\n",
      "**************************************************\n",
      "Epoch: 20\n",
      "Training Loss: 0.00968089756788686\n",
      "Training Loss: 0.009843891193158925\n",
      "Training Loss: 0.00904239590629004\n"
     ]
    },
    {
     "name": "stderr",
     "output_type": "stream",
     "text": [
      "/Users/arneallwardt/Documents/-Studium/Bachelorarbeit/time_series_data_augmentation/data_evaluation/predictive_evaluation.py:141: FutureWarning: The behavior of DataFrame concatenation with empty or all-NA entries is deprecated. In a future version, this will no longer exclude empty or all-NA columns when determining the result dtypes. To retain the old behavior, exclude the relevant entries before the concat operation.\n",
      "  results = pd.concat([results, pd.DataFrame([{'Model': evaluation_method, 'Metric': 'MAE', 'Error': mae}])], ignore_index=True)\n",
      "  0%|          | 0/1 [00:24<?, ?it/s]\n"
     ]
    },
    {
     "name": "stdout",
     "output_type": "stream",
     "text": [
      "Training Loss: 0.009174345664214344\n",
      "Validation Loss: 0.007253910025079431\n",
      "Validation Accuracy: 0.0\n",
      "**************************************************\n",
      "Shape of the data after splitting into sequences: (28500, 12, 11)\n"
     ]
    },
    {
     "name": "stderr",
     "output_type": "stream",
     "text": [
      "  0%|          | 0/1 [00:00<?, ?it/s]"
     ]
    },
    {
     "name": "stdout",
     "output_type": "stream",
     "text": [
      "Epoch: 1\n",
      "Training Loss: 0.13726183775812387\n",
      "Training Loss: 0.1059443723782897\n",
      "Training Loss: 0.08123005604371429\n",
      "Training Loss: 0.0666080804169178\n",
      "Validation Loss: 0.06315517510390944\n",
      "Validation Accuracy: 0.0\n",
      "**************************************************\n",
      "Epoch: 2\n",
      "Training Loss: 0.05763170385733247\n",
      "Training Loss: 0.05628174095414579\n",
      "Training Loss: 0.050373494029045104\n",
      "Training Loss: 0.04572590309195221\n",
      "Validation Loss: 0.04580032198379437\n",
      "Validation Accuracy: 0.0\n",
      "**************************************************\n",
      "Epoch: 3\n",
      "Training Loss: 0.04181327865459025\n",
      "Training Loss: 0.04139327158220112\n",
      "Training Loss: 0.037301108045503496\n",
      "Training Loss: 0.03317428196314722\n",
      "Validation Loss: 0.034109686056358945\n",
      "Validation Accuracy: 0.0\n",
      "**************************************************\n",
      "Epoch: 4\n",
      "Training Loss: 0.031153721562586726\n",
      "Training Loss: 0.03146312963217497\n",
      "Training Loss: 0.029765458945184946\n",
      "Training Loss: 0.026641102065332233\n",
      "Validation Loss: 0.028732164452473324\n",
      "Validation Accuracy: 0.0\n",
      "**************************************************\n",
      "Epoch: 5\n",
      "Training Loss: 0.02619295665062964\n",
      "Training Loss: 0.026996815199963747\n",
      "Training Loss: 0.02635868248064071\n",
      "Training Loss: 0.023411386902444063\n",
      "Validation Loss: 0.025871134528683292\n",
      "Validation Accuracy: 0.0\n",
      "**************************************************\n",
      "Epoch: 6\n",
      "Training Loss: 0.02334945895941928\n",
      "Training Loss: 0.024095610273070632\n",
      "Training Loss: 0.023840294368565083\n",
      "Training Loss: 0.021067020376212896\n",
      "Validation Loss: 0.023610956113164622\n",
      "Validation Accuracy: 0.0\n",
      "**************************************************\n",
      "Epoch: 7\n",
      "Training Loss: 0.021217522970400752\n",
      "Training Loss: 0.02192743793129921\n",
      "Training Loss: 0.021908908595796674\n",
      "Training Loss: 0.019361877948977053\n",
      "Validation Loss: 0.021839547431510356\n",
      "Validation Accuracy: 0.0\n",
      "**************************************************\n",
      "Epoch: 8\n",
      "Training Loss: 0.01962642283877358\n",
      "Training Loss: 0.020312511001247913\n",
      "Training Loss: 0.020421361876651646\n",
      "Training Loss: 0.018024040686432274\n",
      "Validation Loss: 0.020344512552643815\n",
      "Validation Accuracy: 0.0\n",
      "**************************************************\n",
      "Epoch: 9\n",
      "Training Loss: 0.018331167105352507\n",
      "Training Loss: 0.019007114833220838\n",
      "Training Loss: 0.019184548365883528\n",
      "Training Loss: 0.016886811577714978\n",
      "Validation Loss: 0.019017578821836245\n",
      "Validation Accuracy: 0.0\n",
      "**************************************************\n",
      "Epoch: 10\n",
      "Training Loss: 0.01720818961272016\n",
      "Training Loss: 0.017895422878209503\n",
      "Training Loss: 0.018113484224304557\n",
      "Training Loss: 0.015899987674783914\n",
      "Validation Loss: 0.01783539584527413\n",
      "Validation Accuracy: 0.0\n",
      "**************************************************\n",
      "Epoch: 11\n",
      "Training Loss: 0.016223497400060297\n",
      "Training Loss: 0.016939384522847833\n",
      "Training Loss: 0.01717994217760861\n",
      "Training Loss: 0.01504987187916413\n",
      "Validation Loss: 0.01679571426163117\n",
      "Validation Accuracy: 0.0\n",
      "**************************************************\n",
      "Epoch: 12\n",
      "Training Loss: 0.015368372509256005\n",
      "Training Loss: 0.016123420866206287\n",
      "Training Loss: 0.016371563522843646\n",
      "Training Loss: 0.014328007624717429\n",
      "Validation Loss: 0.01589670520172351\n",
      "Validation Accuracy: 0.0\n",
      "**************************************************\n",
      "Epoch: 13\n",
      "Training Loss: 0.014636911071138457\n",
      "Training Loss: 0.015435098260641099\n",
      "Training Loss: 0.01567799482960254\n",
      "Training Loss: 0.013723415742861107\n",
      "Validation Loss: 0.015131754412626227\n",
      "Validation Accuracy: 0.0\n",
      "**************************************************\n",
      "Epoch: 14\n",
      "Training Loss: 0.014020163231762126\n",
      "Training Loss: 0.01486023458885029\n",
      "Training Loss: 0.015087398005416617\n",
      "Training Loss: 0.013221973384497687\n",
      "Validation Loss: 0.014489090693597164\n",
      "Validation Accuracy: 0.0\n",
      "**************************************************\n",
      "Epoch: 15\n",
      "Training Loss: 0.013505677218781785\n",
      "Training Loss: 0.014382816142169758\n",
      "Training Loss: 0.014586398066021501\n",
      "Training Loss: 0.012807713720249012\n",
      "Validation Loss: 0.013953175105982357\n",
      "Validation Accuracy: 0.0\n",
      "**************************************************\n",
      "Epoch: 16\n",
      "Training Loss: 0.013078636730788275\n",
      "Training Loss: 0.013986053644912318\n",
      "Training Loss: 0.014160790948662906\n",
      "Training Loss: 0.0124642425973434\n",
      "Validation Loss: 0.013506466931559973\n",
      "Validation Accuracy: 0.0\n",
      "**************************************************\n",
      "Epoch: 17\n",
      "Training Loss: 0.012723273113369942\n",
      "Training Loss: 0.013653473006561398\n",
      "Training Loss: 0.013796327493619174\n",
      "Training Loss: 0.012175861280411482\n",
      "Validation Loss: 0.013131108600646257\n",
      "Validation Accuracy: 0.0\n",
      "**************************************************\n",
      "Epoch: 18\n",
      "Training Loss: 0.012424129038117826\n",
      "Training Loss: 0.01336983909830451\n",
      "Training Loss: 0.0134795358980773\n",
      "Training Loss: 0.011928487170953303\n",
      "Validation Loss: 0.012810435710060927\n",
      "Validation Accuracy: 0.0\n",
      "**************************************************\n",
      "Epoch: 19\n",
      "Training Loss: 0.012167197506641969\n",
      "Training Loss: 0.01312194483820349\n",
      "Training Loss: 0.013198506922344677\n",
      "Training Loss: 0.011710327513865195\n",
      "Validation Loss: 0.012530107245159646\n",
      "Validation Accuracy: 0.0\n",
      "**************************************************\n",
      "Epoch: 20\n",
      "Training Loss: 0.011940709858899936\n",
      "Training Loss: 0.012899118366185576\n",
      "Training Loss: 0.01294344762864057\n"
     ]
    },
    {
     "name": "stderr",
     "output_type": "stream",
     "text": [
      "  0%|          | 0/1 [00:24<?, ?it/s]"
     ]
    },
    {
     "name": "stdout",
     "output_type": "stream",
     "text": [
      "Training Loss: 0.011512200274737552\n",
      "Validation Loss: 0.012278696395353311\n",
      "Validation Accuracy: 0.0\n",
      "**************************************************\n"
     ]
    },
    {
     "name": "stderr",
     "output_type": "stream",
     "text": [
      "\n"
     ]
    }
   ],
   "source": [
    "results = predictive_evaluation(data_real_numpy, data_syn_numpy, hyperparameters, verbose=True)"
   ]
  },
  {
   "cell_type": "code",
   "execution_count": 9,
   "metadata": {},
   "outputs": [
    {
     "data": {
      "text/html": [
       "<div>\n",
       "<style scoped>\n",
       "    .dataframe tbody tr th:only-of-type {\n",
       "        vertical-align: middle;\n",
       "    }\n",
       "\n",
       "    .dataframe tbody tr th {\n",
       "        vertical-align: top;\n",
       "    }\n",
       "\n",
       "    .dataframe thead th {\n",
       "        text-align: right;\n",
       "    }\n",
       "</style>\n",
       "<table border=\"1\" class=\"dataframe\">\n",
       "  <thead>\n",
       "    <tr style=\"text-align: right;\">\n",
       "      <th></th>\n",
       "      <th>Model</th>\n",
       "      <th>Metric</th>\n",
       "      <th>Error</th>\n",
       "    </tr>\n",
       "  </thead>\n",
       "  <tbody>\n",
       "    <tr>\n",
       "      <th>0</th>\n",
       "      <td>TRTS</td>\n",
       "      <td>MAE</td>\n",
       "      <td>1.456566e+03</td>\n",
       "    </tr>\n",
       "    <tr>\n",
       "      <th>1</th>\n",
       "      <td>TRTS</td>\n",
       "      <td>MSE</td>\n",
       "      <td>3.158120e+06</td>\n",
       "    </tr>\n",
       "    <tr>\n",
       "      <th>2</th>\n",
       "      <td>TSTR</td>\n",
       "      <td>MAE</td>\n",
       "      <td>8.141467e+02</td>\n",
       "    </tr>\n",
       "    <tr>\n",
       "      <th>3</th>\n",
       "      <td>TSTR</td>\n",
       "      <td>MSE</td>\n",
       "      <td>1.148869e+06</td>\n",
       "    </tr>\n",
       "  </tbody>\n",
       "</table>\n",
       "</div>"
      ],
      "text/plain": [
       "  Model Metric         Error\n",
       "0  TRTS    MAE  1.456566e+03\n",
       "1  TRTS    MSE  3.158120e+06\n",
       "2  TSTR    MAE  8.141467e+02\n",
       "3  TSTR    MSE  1.148869e+06"
      ]
     },
     "execution_count": 9,
     "metadata": {},
     "output_type": "execute_result"
    }
   ],
   "source": [
    "results.head()"
   ]
  },
  {
   "cell_type": "code",
   "execution_count": 10,
   "metadata": {},
   "outputs": [],
   "source": [
    "mse_results = results.loc[results['Metric'] == 'MSE']\n",
    "mae_results = results.loc[results['Metric'] == 'MAE']"
   ]
  },
  {
   "cell_type": "code",
   "execution_count": 11,
   "metadata": {},
   "outputs": [
    {
     "data": {
      "text/plain": [
       "<matplotlib.legend.Legend at 0x326fd0a50>"
      ]
     },
     "execution_count": 11,
     "metadata": {},
     "output_type": "execute_result"
    },
    {
     "data": {
      "image/png": "[encoded data removed]",
      "text/plain": [
       "<Figure size 1400x800 with 1 Axes>"
      ]
     },
     "metadata": {},
     "output_type": "display_data"
    },
    {
     "data": {
      "image/png": "[encoded data removed]",
      "text/plain": [
       "<Figure size 1400x800 with 1 Axes>"
      ]
     },
     "metadata": {},
     "output_type": "display_data"
    }
   ],
   "source": [
    "plt.figure(figsize=(14, 8))\n",
    "sns.boxplot(x='Model', y='Error', hue='Model', data=mse_results)\n",
    "sns.stripplot(x='Model', y='Error', hue='Metric', data=mse_results, dodge=True, jitter=True, palette='dark:black', alpha=0.7)\n",
    "plt.ylabel('Mean Squared Error')\n",
    "plt.xlabel('Metric')\n",
    "plt.title('Comparison of MSE for 10 Training iterations')\n",
    "plt.legend()\n",
    "\n",
    "plt.figure(figsize=(14, 8))\n",
    "sns.boxplot(x='Model', y='Error', hue='Model', data=mae_results)\n",
    "sns.stripplot(x='Model', y='Error', hue='Metric', data=mae_results, dodge=True, jitter=True, palette='dark:black', alpha=0.7)\n",
    "plt.ylabel('Mean Absolute Error')\n",
    "plt.xlabel('Metric')\n",
    "plt.title('Comparison of MAE for 10 Training iterations')\n",
    "plt.legend()"
   ]
  },
  {
   "cell_type": "markdown",
   "metadata": {},
   "source": [
    "## 3 Visualize Synthetic vs Real Data"
   ]
  },
  {
   "cell_type": "code",
   "execution_count": 12,
   "metadata": {},
   "outputs": [
    {
     "ename": "NameError",
     "evalue": "name 'data_real_split' is not defined",
     "output_type": "error",
     "traceback": [
      "\u001b[0;31m---------------------------------------------------------------------------\u001b[0m",
      "\u001b[0;31mNameError\u001b[0m                                 Traceback (most recent call last)",
      "Cell \u001b[0;32mIn[12], line 1\u001b[0m\n\u001b[0;32m----> 1\u001b[0m visualize(\u001b[43mdata_real_split\u001b[49m, data_syn_split, metric\u001b[38;5;241m=\u001b[39m\u001b[38;5;124m'\u001b[39m\u001b[38;5;124mpca\u001b[39m\u001b[38;5;124m'\u001b[39m)\n\u001b[1;32m      2\u001b[0m visualize(data_real_split, data_syn_split, metric\u001b[38;5;241m=\u001b[39m\u001b[38;5;124m'\u001b[39m\u001b[38;5;124mtsne\u001b[39m\u001b[38;5;124m'\u001b[39m)\n",
      "\u001b[0;31mNameError\u001b[0m: name 'data_real_split' is not defined"
     ]
    }
   ],
   "source": [
    "visualize(data_real_split, data_syn_split, metric='pca')\n",
    "visualize(data_real_split, data_syn_split, metric='tsne')"
   ]
  },
  {
   "cell_type": "markdown",
   "metadata": {},
   "source": [
    "### Beispielaussage:\n",
    "PCA-Analyse von Realen und Synthetischen Daten\n",
    "Um die Ähnlichkeit zwischen den realen und synthetischen Daten zu bewerten, wurde eine Principal Component Analysis (PCA) durchgeführt. Die PCA reduziert die Dimensionalität der Daten und projiziert sie auf eine zweidimensionale Ebene, wobei die Hauptkomponenten beibehalten werden, die den größten Teil der Varianz erklären.\n",
    "\n",
    "Abbildung X zeigt den PCA-Plot der realen (rote Punkte) und synthetischen Daten (blaue Punkte). Die folgenden Beobachtungen können gemacht werden:\n",
    "\n",
    "Verteilung und Clusterbildung:\n",
    "\n",
    "Die roten Punkte, die die realen Daten repräsentieren, sind in einem spezifischen Bereich konzentriert.\n",
    "Die blauen Punkte, die die synthetischen Daten darstellen, zeigen eine größere Verteilung und decken einen breiteren Bereich ab.\n",
    "Ähnlichkeit und Unterschiede:\n",
    "\n",
    "Die Tatsache, dass die synthetischen Daten eine größere Variabilität aufweisen, könnte darauf hinweisen, dass sie eine breitere Vielfalt an Mustern generieren.\n",
    "Die Cluster der realen und synthetischen Daten überlappen sich teilweise, was darauf hindeutet, dass die synthetischen Daten einige der Eigenschaften der realen Daten gut nachahmen. Allerdings gibt es auch Bereiche, in denen die synthetischen Daten stark von den realen Daten abweichen, was auf Unterschiede in den zugrunde liegenden Verteilungen hinweist.\n",
    "Schlussfolgerung:\n",
    "\n",
    "Die PCA-Analyse zeigt, dass die synthetischen Daten in gewissem Maße die Struktur der realen Daten einfangen, jedoch eine größere Variabilität aufweisen.\n",
    "Weitere Untersuchungen und Anpassungen am Generierungsprozess der synthetischen Daten könnten notwendig sein, um deren Genauigkeit und Übereinstimmung mit den realen Daten zu verbessern."
   ]
  }
 ],
 "metadata": {
  "kernelspec": {
   "display_name": "time_series_data_augmentation_venv",
   "language": "python",
   "name": "python3"
  },
  "language_info": {
   "codemirror_mode": {
    "name": "ipython",
    "version": 3
   },
   "file_extension": ".py",
   "mimetype": "text/x-python",
   "name": "python",
   "nbconvert_exporter": "python",
   "pygments_lexer": "ipython3",
   "version": "3.11.7"
  }
 },
 "nbformat": 4,
 "nbformat_minor": 2
}
