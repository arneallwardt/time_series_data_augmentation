{
 "cells": [
  {
   "cell_type": "markdown",
   "metadata": {},
   "source": [
    "## 0 Imports and Constants"
   ]
  },
  {
   "cell_type": "code",
   "execution_count": 1,
   "metadata": {},
   "outputs": [],
   "source": [
    "## 0 Imports and Constants\n",
    "import sys\n",
    "import os\n",
    "\n",
    "# Füge das übergeordnete Verzeichnis zu sys.path hinzu\n",
    "parent_dir = os.path.abspath(os.path.join(os.getcwd(), '..'))\n",
    "sys.path.insert(0, parent_dir)\n",
    "import pandas as pd\n",
    "from pathlib import Path\n",
    "import numpy as np\n",
    "import matplotlib.pyplot as plt\n",
    "from tqdm import tqdm\n",
    "\n",
    "import torch\n",
    "import torch.nn as nn\n",
    "import seaborn as sns\n",
    "from torch.utils.data import DataLoader\n",
    "from copy import deepcopy as dc\n",
    "\n",
    "from utilities import split_data_into_sequences, load_sequential_time_series, reconstruct_sequential_data, Scaler, extract_features_and_targets_clas, train_test_split, accuracy\n",
    "from visual_evaluation import visualize\n",
    "from predictive_evaluation import predictive_evaluation\n",
    "from discriminative_model import LSTMClassification, CNNClassification, train_cnn\n",
    "from baseline_model.LSTM import train_model\n",
    "from baseline_model.TimeSeriesDataset import TimeSeriesDataset\n",
    "\n",
    "DATA_FOLDER = Path(\"../data\")\n",
    "REAL_DATA_FOLDER = DATA_FOLDER / \"real\"\n",
    "SYNTHETIC_DATA_FOLDER = DATA_FOLDER / \"synthetic\""
   ]
  },
  {
   "cell_type": "code",
   "execution_count": 2,
   "metadata": {},
   "outputs": [],
   "source": [
    "MODEL = \"cnn\"\n",
    "\n",
    "if MODEL == \"lstm\":\n",
    "    hyperparameters = {\n",
    "        \"lr\": 0.0001,\n",
    "        \"batch_size\": 32,\n",
    "        \"hidden_size\": 4,\n",
    "        \"num_layers\": 1,\n",
    "        \"bidirectional\": True,\n",
    "        \"output_logits\": True,\n",
    "        \"num_epochs\": 1000,\n",
    "        \"device\": 'cuda' if torch.cuda.is_available() else 'cpu'\n",
    "    }\n",
    "\n",
    "elif MODEL == \"cnn\":\n",
    "    hyperparameters = {\n",
    "        \"lr\": 0.00001,\n",
    "        \"batch_size\": 32,\n",
    "        \"num_epochs\": 1000,\n",
    "        \"device\": 'cuda' if torch.cuda.is_available() else 'cpu'\n",
    "    }"
   ]
  },
  {
   "cell_type": "markdown",
   "metadata": {},
   "source": [
    "## 1 Loading Data"
   ]
  },
  {
   "cell_type": "code",
   "execution_count": 3,
   "metadata": {},
   "outputs": [],
   "source": [
    "data = load_sequential_time_series(SYNTHETIC_DATA_FOLDER / 'discriminative_train' / 'discriminative_train_42000_13_5.csv', shape=(42000, 13, 5))"
   ]
  },
  {
   "cell_type": "code",
   "execution_count": 4,
   "metadata": {},
   "outputs": [],
   "source": [
    "train, test = train_test_split(data, split_ratio=0.8)\n",
    "test, val = train_test_split(test, split_ratio=0.5)"
   ]
  },
  {
   "cell_type": "code",
   "execution_count": 5,
   "metadata": {},
   "outputs": [],
   "source": [
    "X_batch_train, y_batch_train, X_test, y_test, X_batch_val, y_batch_val = extract_features_and_targets_clas(train, test, val)"
   ]
  },
  {
   "cell_type": "code",
   "execution_count": 6,
   "metadata": {},
   "outputs": [],
   "source": [
    "scaler = Scaler(X_batch_train)"
   ]
  },
  {
   "cell_type": "code",
   "execution_count": 7,
   "metadata": {},
   "outputs": [],
   "source": [
    "X_batch_train = scaler.scale_data(X_batch_train)\n",
    "X_test = scaler.scale_data(X_test)\n",
    "X_batch_val = scaler.scale_data(X_batch_val)"
   ]
  },
  {
   "cell_type": "code",
   "execution_count": 8,
   "metadata": {},
   "outputs": [],
   "source": [
    "# put data on tensors (since they had to be numpy arrays for the scaler)\n",
    "X_batch_train = torch.tensor(X_batch_train, dtype=torch.float32)\n",
    "y_batch_train = torch.tensor(y_batch_train, dtype=torch.float32)\n",
    "X_test = torch.tensor(X_test, dtype=torch.float32)\n",
    "y_test = torch.tensor(y_test, dtype=torch.float32)\n",
    "X_batch_val = torch.tensor(X_batch_val, dtype=torch.float32)\n",
    "y_batch_val = torch.tensor(y_batch_val, dtype=torch.float32)"
   ]
  },
  {
   "cell_type": "code",
   "execution_count": 9,
   "metadata": {},
   "outputs": [],
   "source": [
    "train_dataset = TimeSeriesDataset(X_batch_train, y_batch_train)\n",
    "test_dataset = TimeSeriesDataset(X_test, y_test)\n",
    "val_dataset = TimeSeriesDataset(X_batch_val, y_batch_val)\n",
    "\n",
    "train_loader = DataLoader(train_dataset, batch_size=hyperparameters[\"batch_size\"], shuffle=False)\n",
    "test_loader = DataLoader(test_dataset, batch_size=hyperparameters[\"batch_size\"], shuffle=False)\n",
    "val_loader = DataLoader(val_dataset, batch_size=hyperparameters[\"batch_size\"], shuffle=False)"
   ]
  },
  {
   "cell_type": "markdown",
   "metadata": {},
   "source": [
    "## 2 Training the model"
   ]
  },
  {
   "cell_type": "code",
   "execution_count": 10,
   "metadata": {},
   "outputs": [],
   "source": [
    "criterion = nn.BCEWithLogitsLoss()"
   ]
  },
  {
   "cell_type": "code",
   "execution_count": 11,
   "metadata": {},
   "outputs": [],
   "source": [
    "val_losses = []\n",
    "val_accs = []\n",
    "train_losses = []\n",
    "train_accs = []"
   ]
  },
  {
   "cell_type": "code",
   "execution_count": 12,
   "metadata": {},
   "outputs": [
    {
     "name": "stderr",
     "output_type": "stream",
     "text": [
      "  0%|          | 1/1000 [00:03<51:43,  3.11s/it]"
     ]
    },
    {
     "name": "stdout",
     "output_type": "stream",
     "text": [
      "Epoch: 0 \n",
      "\b Train Loss: 0.7137880825996399 \n",
      "\b Train Acc: 50.044642857142854 \n",
      "\b Val Loss: 0.7161843180656433 \n",
      "\b Val Acc: 49.21875\n",
      "**************************************************\n"
     ]
    },
    {
     "name": "stderr",
     "output_type": "stream",
     "text": [
      "  0%|          | 2/1000 [00:06<49:53,  3.00s/it]"
     ]
    },
    {
     "name": "stdout",
     "output_type": "stream",
     "text": [
      "Epoch: 1 \n",
      "\b Train Loss: 0.7121036364351 \n",
      "\b Train Acc: 50.044642857142854 \n",
      "\b Val Loss: 0.714703414476279 \n",
      "\b Val Acc: 49.21875\n",
      "**************************************************\n"
     ]
    },
    {
     "name": "stderr",
     "output_type": "stream",
     "text": [
      "  0%|          | 3/1000 [00:08<47:44,  2.87s/it]"
     ]
    },
    {
     "name": "stdout",
     "output_type": "stream",
     "text": [
      "Epoch: 2 \n",
      "\b Train Loss: 0.7110009062857855 \n",
      "\b Train Acc: 50.044642857142854 \n",
      "\b Val Loss: 0.7136031989798401 \n",
      "\b Val Acc: 49.21875\n",
      "**************************************************\n"
     ]
    },
    {
     "name": "stderr",
     "output_type": "stream",
     "text": [
      "  0%|          | 4/1000 [00:11<47:58,  2.89s/it]"
     ]
    },
    {
     "name": "stdout",
     "output_type": "stream",
     "text": [
      "Epoch: 3 \n",
      "\b Train Loss: 0.709962408542633 \n",
      "\b Train Acc: 50.044642857142854 \n",
      "\b Val Loss: 0.7124305484872876 \n",
      "\b Val Acc: 49.21875\n",
      "**************************************************\n"
     ]
    },
    {
     "name": "stderr",
     "output_type": "stream",
     "text": [
      "  0%|          | 5/1000 [00:14<47:54,  2.89s/it]"
     ]
    },
    {
     "name": "stdout",
     "output_type": "stream",
     "text": [
      "Epoch: 4 \n",
      "\b Train Loss: 0.7088219868569147 \n",
      "\b Train Acc: 50.044642857142854 \n",
      "\b Val Loss: 0.7110974332599929 \n",
      "\b Val Acc: 49.21875\n",
      "**************************************************\n"
     ]
    },
    {
     "name": "stderr",
     "output_type": "stream",
     "text": [
      "  1%|          | 6/1000 [00:17<48:50,  2.95s/it]"
     ]
    },
    {
     "name": "stdout",
     "output_type": "stream",
     "text": [
      "Epoch: 5 \n",
      "\b Train Loss: 0.7075050506705329 \n",
      "\b Train Acc: 50.044642857142854 \n",
      "\b Val Loss: 0.7095508891524691 \n",
      "\b Val Acc: 49.21875\n",
      "**************************************************\n"
     ]
    },
    {
     "name": "stderr",
     "output_type": "stream",
     "text": [
      "  1%|          | 7/1000 [00:20<47:38,  2.88s/it]"
     ]
    },
    {
     "name": "stdout",
     "output_type": "stream",
     "text": [
      "Epoch: 6 \n",
      "\b Train Loss: 0.7060225072361174 \n",
      "\b Train Acc: 50.044642857142854 \n",
      "\b Val Loss: 0.707840516260176 \n",
      "\b Val Acc: 49.21875\n",
      "**************************************************\n"
     ]
    },
    {
     "name": "stderr",
     "output_type": "stream",
     "text": [
      "  1%|          | 8/1000 [00:23<47:53,  2.90s/it]"
     ]
    },
    {
     "name": "stdout",
     "output_type": "stream",
     "text": [
      "Epoch: 7 \n",
      "\b Train Loss: 0.7044206394468036 \n",
      "\b Train Acc: 50.044642857142854 \n",
      "\b Val Loss: 0.7060091563246467 \n",
      "\b Val Acc: 49.21875\n",
      "**************************************************\n"
     ]
    },
    {
     "name": "stderr",
     "output_type": "stream",
     "text": [
      "  1%|          | 9/1000 [00:26<50:22,  3.05s/it]"
     ]
    },
    {
     "name": "stdout",
     "output_type": "stream",
     "text": [
      "Epoch: 8 \n",
      "\b Train Loss: 0.7027451715015229 \n",
      "\b Train Acc: 50.044642857142854 \n",
      "\b Val Loss: 0.7041100403576186 \n",
      "\b Val Acc: 49.21875\n",
      "**************************************************\n"
     ]
    },
    {
     "name": "stderr",
     "output_type": "stream",
     "text": [
      "  1%|          | 10/1000 [00:29<50:36,  3.07s/it]"
     ]
    },
    {
     "name": "stdout",
     "output_type": "stream",
     "text": [
      "Epoch: 9 \n",
      "\b Train Loss: 0.7010627640428997 \n",
      "\b Train Acc: 50.044642857142854 \n",
      "\b Val Loss: 0.7022253003987399 \n",
      "\b Val Acc: 49.21875\n",
      "**************************************************\n"
     ]
    },
    {
     "name": "stderr",
     "output_type": "stream",
     "text": [
      "  1%|          | 11/1000 [00:32<49:34,  3.01s/it]"
     ]
    },
    {
     "name": "stdout",
     "output_type": "stream",
     "text": [
      "Epoch: 10 \n",
      "\b Train Loss: 0.6994514454546429 \n",
      "\b Train Acc: 50.044642857142854 \n",
      "\b Val Loss: 0.7004388715281631 \n",
      "\b Val Acc: 49.21875\n",
      "**************************************************\n"
     ]
    },
    {
     "name": "stderr",
     "output_type": "stream",
     "text": [
      "  1%|          | 12/1000 [00:35<48:24,  2.94s/it]"
     ]
    },
    {
     "name": "stdout",
     "output_type": "stream",
     "text": [
      "Epoch: 11 \n",
      "\b Train Loss: 0.697985325881413 \n",
      "\b Train Acc: 50.044642857142854 \n",
      "\b Val Loss: 0.6988303133032538 \n",
      "\b Val Acc: 49.21875\n",
      "**************************************************\n"
     ]
    },
    {
     "name": "stderr",
     "output_type": "stream",
     "text": [
      "  1%|▏         | 13/1000 [00:38<47:42,  2.90s/it]"
     ]
    },
    {
     "name": "stdout",
     "output_type": "stream",
     "text": [
      "Epoch: 12 \n",
      "\b Train Loss: 0.6967225664570218 \n",
      "\b Train Acc: 50.044642857142854 \n",
      "\b Val Loss: 0.6974552978168834 \n",
      "\b Val Acc: 49.21875\n",
      "**************************************************\n"
     ]
    },
    {
     "name": "stderr",
     "output_type": "stream",
     "text": [
      "  1%|▏         | 14/1000 [00:41<49:59,  3.04s/it]"
     ]
    },
    {
     "name": "stdout",
     "output_type": "stream",
     "text": [
      "Epoch: 13 \n",
      "\b Train Loss: 0.6956937417529878 \n",
      "\b Train Acc: 50.044642857142854 \n",
      "\b Val Loss: 0.6963355902469519 \n",
      "\b Val Acc: 49.21875\n",
      "**************************************************\n"
     ]
    },
    {
     "name": "stderr",
     "output_type": "stream",
     "text": [
      "  2%|▏         | 15/1000 [00:44<51:11,  3.12s/it]"
     ]
    },
    {
     "name": "stdout",
     "output_type": "stream",
     "text": [
      "Epoch: 14 \n",
      "\b Train Loss: 0.6948989778473263 \n",
      "\b Train Acc: 50.044642857142854 \n",
      "\b Val Loss: 0.6954618484684916 \n",
      "\b Val Acc: 49.21875\n",
      "**************************************************\n"
     ]
    },
    {
     "name": "stderr",
     "output_type": "stream",
     "text": [
      "  2%|▏         | 16/1000 [00:47<49:49,  3.04s/it]"
     ]
    },
    {
     "name": "stdout",
     "output_type": "stream",
     "text": [
      "Epoch: 15 \n",
      "\b Train Loss: 0.694314348640896 \n",
      "\b Train Acc: 50.044642857142854 \n",
      "\b Val Loss: 0.6948045894052043 \n",
      "\b Val Acc: 49.21875\n",
      "**************************************************\n"
     ]
    },
    {
     "name": "stderr",
     "output_type": "stream",
     "text": [
      "  2%|▏         | 17/1000 [00:50<49:06,  3.00s/it]"
     ]
    },
    {
     "name": "stdout",
     "output_type": "stream",
     "text": [
      "Epoch: 16 \n",
      "\b Train Loss: 0.6939027168637231 \n",
      "\b Train Acc: 50.044642857142854 \n",
      "\b Val Loss: 0.6943243313016314 \n",
      "\b Val Acc: 49.21875\n",
      "**************************************************\n"
     ]
    },
    {
     "name": "stderr",
     "output_type": "stream",
     "text": [
      "  2%|▏         | 18/1000 [00:53<47:51,  2.92s/it]"
     ]
    },
    {
     "name": "stdout",
     "output_type": "stream",
     "text": [
      "Epoch: 17 \n",
      "\b Train Loss: 0.6936247261365255 \n",
      "\b Train Acc: 50.098214285714285 \n",
      "\b Val Loss: 0.6939924138061928 \n",
      "\b Val Acc: 49.384469696969695\n",
      "**************************************************\n"
     ]
    },
    {
     "name": "stderr",
     "output_type": "stream",
     "text": [
      "  2%|▏         | 19/1000 [00:56<48:54,  2.99s/it]"
     ]
    },
    {
     "name": "stdout",
     "output_type": "stream",
     "text": [
      "Epoch: 18 \n",
      "\b Train Loss: 0.6934498213586353 \n",
      "\b Train Acc: 50.13988095238095 \n",
      "\b Val Loss: 0.6937852005163828 \n",
      "\b Val Acc: 49.952651515151516\n",
      "**************************************************\n"
     ]
    },
    {
     "name": "stderr",
     "output_type": "stream",
     "text": [
      "  2%|▏         | 20/1000 [00:59<47:43,  2.92s/it]"
     ]
    },
    {
     "name": "stdout",
     "output_type": "stream",
     "text": [
      "Epoch: 19 \n",
      "\b Train Loss: 0.6933210317293803 \n",
      "\b Train Acc: 49.970238095238095 \n",
      "\b Val Loss: 0.6936205914526274 \n",
      "\b Val Acc: 49.36079545454545\n",
      "**************************************************\n"
     ]
    },
    {
     "name": "stderr",
     "output_type": "stream",
     "text": [
      "  2%|▏         | 21/1000 [01:02<49:13,  3.02s/it]"
     ]
    },
    {
     "name": "stdout",
     "output_type": "stream",
     "text": [
      "Epoch: 20 \n",
      "\b Train Loss: 0.6932220605441503 \n",
      "\b Train Acc: 50.101190476190474 \n",
      "\b Val Loss: 0.6935252705306718 \n",
      "\b Val Acc: 50.378787878787875\n",
      "**************************************************\n"
     ]
    },
    {
     "name": "stderr",
     "output_type": "stream",
     "text": [
      "  2%|▏         | 22/1000 [01:05<50:25,  3.09s/it]"
     ]
    },
    {
     "name": "stdout",
     "output_type": "stream",
     "text": [
      "Epoch: 21 \n",
      "\b Train Loss: 0.6931816768646241 \n",
      "\b Train Acc: 50.648809523809526 \n",
      "\b Val Loss: 0.693482522260059 \n",
      "\b Val Acc: 50.615530303030305\n",
      "**************************************************\n"
     ]
    },
    {
     "name": "stderr",
     "output_type": "stream",
     "text": [
      "  2%|▏         | 23/1000 [01:08<49:44,  3.05s/it]"
     ]
    },
    {
     "name": "stdout",
     "output_type": "stream",
     "text": [
      "Epoch: 22 \n",
      "\b Train Loss: 0.693161088795889 \n",
      "\b Train Acc: 50.75595238095238 \n",
      "\b Val Loss: 0.6934567098364686 \n",
      "\b Val Acc: 50.97064393939394\n",
      "**************************************************\n"
     ]
    },
    {
     "name": "stderr",
     "output_type": "stream",
     "text": [
      "  2%|▏         | 24/1000 [01:12<51:58,  3.19s/it]"
     ]
    },
    {
     "name": "stdout",
     "output_type": "stream",
     "text": [
      "Epoch: 23 \n",
      "\b Train Loss: 0.6931502271266211 \n",
      "\b Train Acc: 50.916666666666664 \n",
      "\b Val Loss: 0.6934382847764275 \n",
      "\b Val Acc: 50.78125\n",
      "**************************************************\n"
     ]
    },
    {
     "name": "stderr",
     "output_type": "stream",
     "text": [
      "  2%|▎         | 25/1000 [01:15<52:38,  3.24s/it]"
     ]
    },
    {
     "name": "stdout",
     "output_type": "stream",
     "text": [
      "Epoch: 24 \n",
      "\b Train Loss: 0.6931421690895444 \n",
      "\b Train Acc: 50.86309523809524 \n",
      "\b Val Loss: 0.693422307119225 \n",
      "\b Val Acc: 51.01799242424242\n",
      "**************************************************\n"
     ]
    },
    {
     "name": "stderr",
     "output_type": "stream",
     "text": [
      "  3%|▎         | 26/1000 [01:18<51:55,  3.20s/it]"
     ]
    },
    {
     "name": "stdout",
     "output_type": "stream",
     "text": [
      "Epoch: 25 \n",
      "\b Train Loss: 0.6931338786511194 \n",
      "\b Train Acc: 50.794642857142854 \n",
      "\b Val Loss: 0.6934077861634168 \n",
      "\b Val Acc: 51.23106060606061\n",
      "**************************************************\n"
     ]
    },
    {
     "name": "stderr",
     "output_type": "stream",
     "text": [
      "  3%|▎         | 27/1000 [01:22<52:11,  3.22s/it]"
     ]
    },
    {
     "name": "stdout",
     "output_type": "stream",
     "text": [
      "Epoch: 26 \n",
      "\b Train Loss: 0.6931254318214598 \n",
      "\b Train Acc: 50.773809523809526 \n",
      "\b Val Loss: 0.6933946437907942 \n",
      "\b Val Acc: 51.06534090909091\n",
      "**************************************************\n"
     ]
    },
    {
     "name": "stderr",
     "output_type": "stream",
     "text": [
      "  3%|▎         | 28/1000 [01:24<50:23,  3.11s/it]"
     ]
    },
    {
     "name": "stdout",
     "output_type": "stream",
     "text": [
      "Epoch: 27 \n",
      "\b Train Loss: 0.6931182364055088 \n",
      "\b Train Acc: 50.785714285714285 \n",
      "\b Val Loss: 0.6933819331002958 \n",
      "\b Val Acc: 51.041666666666664\n",
      "**************************************************\n"
     ]
    },
    {
     "name": "stderr",
     "output_type": "stream",
     "text": [
      "  3%|▎         | 29/1000 [01:27<48:41,  3.01s/it]"
     ]
    },
    {
     "name": "stdout",
     "output_type": "stream",
     "text": [
      "Epoch: 28 \n",
      "\b Train Loss: 0.6931127352941604 \n",
      "\b Train Acc: 50.857142857142854 \n",
      "\b Val Loss: 0.6933732335314606 \n",
      "\b Val Acc: 50.99431818181818\n",
      "**************************************************\n"
     ]
    },
    {
     "name": "stderr",
     "output_type": "stream",
     "text": [
      "  3%|▎         | 30/1000 [01:30<47:04,  2.91s/it]"
     ]
    },
    {
     "name": "stdout",
     "output_type": "stream",
     "text": [
      "Epoch: 29 \n",
      "\b Train Loss: 0.6931073221138545 \n",
      "\b Train Acc: 50.88988095238095 \n",
      "\b Val Loss: 0.6933657675981522 \n",
      "\b Val Acc: 50.89962121212121\n",
      "**************************************************\n"
     ]
    },
    {
     "name": "stderr",
     "output_type": "stream",
     "text": [
      "  3%|▎         | 31/1000 [01:33<46:44,  2.89s/it]"
     ]
    },
    {
     "name": "stdout",
     "output_type": "stream",
     "text": [
      "Epoch: 30 \n",
      "\b Train Loss: 0.6931020135538919 \n",
      "\b Train Acc: 50.919642857142854 \n",
      "\b Val Loss: 0.6933584091338244 \n",
      "\b Val Acc: 50.97064393939394\n",
      "**************************************************\n"
     ]
    },
    {
     "name": "stderr",
     "output_type": "stream",
     "text": [
      "  3%|▎         | 32/1000 [01:35<46:11,  2.86s/it]"
     ]
    },
    {
     "name": "stdout",
     "output_type": "stream",
     "text": [
      "Epoch: 31 \n",
      "\b Train Loss: 0.693097061600004 \n",
      "\b Train Acc: 50.92857142857143 \n",
      "\b Val Loss: 0.693351532925259 \n",
      "\b Val Acc: 50.99431818181818\n",
      "**************************************************\n"
     ]
    },
    {
     "name": "stderr",
     "output_type": "stream",
     "text": [
      "  3%|▎         | 33/1000 [01:38<45:27,  2.82s/it]"
     ]
    },
    {
     "name": "stdout",
     "output_type": "stream",
     "text": [
      "Epoch: 32 \n",
      "\b Train Loss: 0.6930921992233822 \n",
      "\b Train Acc: 50.92857142857143 \n",
      "\b Val Loss: 0.6933448070829565 \n",
      "\b Val Acc: 50.99431818181818\n",
      "**************************************************\n"
     ]
    },
    {
     "name": "stderr",
     "output_type": "stream",
     "text": [
      "  3%|▎         | 34/1000 [01:41<45:41,  2.84s/it]"
     ]
    },
    {
     "name": "stdout",
     "output_type": "stream",
     "text": [
      "Epoch: 33 \n",
      "\b Train Loss: 0.6930872978482927 \n",
      "\b Train Acc: 50.916666666666664 \n",
      "\b Val Loss: 0.6933381846456816 \n",
      "\b Val Acc: 51.11268939393939\n",
      "**************************************************\n"
     ]
    },
    {
     "name": "stderr",
     "output_type": "stream",
     "text": [
      "  4%|▎         | 35/1000 [01:44<44:51,  2.79s/it]"
     ]
    },
    {
     "name": "stdout",
     "output_type": "stream",
     "text": [
      "Epoch: 34 \n",
      "\b Train Loss: 0.6930825856753758 \n",
      "\b Train Acc: 50.907738095238095 \n",
      "\b Val Loss: 0.6933313982956337 \n",
      "\b Val Acc: 51.08901515151515\n",
      "**************************************************\n"
     ]
    },
    {
     "name": "stderr",
     "output_type": "stream",
     "text": [
      "  4%|▎         | 36/1000 [01:47<45:00,  2.80s/it]"
     ]
    },
    {
     "name": "stdout",
     "output_type": "stream",
     "text": [
      "Epoch: 35 \n",
      "\b Train Loss: 0.6930779320853097 \n",
      "\b Train Acc: 50.92559523809524 \n",
      "\b Val Loss: 0.6933248968738498 \n",
      "\b Val Acc: 51.08901515151515\n",
      "**************************************************\n"
     ]
    },
    {
     "name": "stderr",
     "output_type": "stream",
     "text": [
      "  4%|▎         | 37/1000 [01:50<46:27,  2.89s/it]"
     ]
    },
    {
     "name": "stdout",
     "output_type": "stream",
     "text": [
      "Epoch: 36 \n",
      "\b Train Loss: 0.6930734773476919 \n",
      "\b Train Acc: 50.94940476190476 \n",
      "\b Val Loss: 0.6933186478687056 \n",
      "\b Val Acc: 51.160037878787875\n",
      "**************************************************\n"
     ]
    },
    {
     "name": "stderr",
     "output_type": "stream",
     "text": [
      "  4%|▍         | 38/1000 [01:52<45:41,  2.85s/it]"
     ]
    },
    {
     "name": "stdout",
     "output_type": "stream",
     "text": [
      "Epoch: 37 \n",
      "\b Train Loss: 0.6930690421944573 \n",
      "\b Train Acc: 50.976190476190474 \n",
      "\b Val Loss: 0.6933125415534684 \n",
      "\b Val Acc: 51.44412878787879\n",
      "**************************************************\n"
     ]
    },
    {
     "name": "stderr",
     "output_type": "stream",
     "text": [
      "  4%|▍         | 39/1000 [01:55<44:48,  2.80s/it]"
     ]
    },
    {
     "name": "stdout",
     "output_type": "stream",
     "text": [
      "Epoch: 38 \n",
      "\b Train Loss: 0.6930643640245711 \n",
      "\b Train Acc: 50.976190476190474 \n",
      "\b Val Loss: 0.6933062333952297 \n",
      "\b Val Acc: 51.396780303030305\n",
      "**************************************************\n"
     ]
    },
    {
     "name": "stderr",
     "output_type": "stream",
     "text": [
      "  4%|▍         | 40/1000 [01:58<44:54,  2.81s/it]"
     ]
    },
    {
     "name": "stdout",
     "output_type": "stream",
     "text": [
      "Epoch: 39 \n",
      "\b Train Loss: 0.6930599772362482 \n",
      "\b Train Acc: 51.00892857142857 \n",
      "\b Val Loss: 0.6933005777272311 \n",
      "\b Val Acc: 51.23106060606061\n",
      "**************************************************\n"
     ]
    },
    {
     "name": "stderr",
     "output_type": "stream",
     "text": [
      "  4%|▍         | 41/1000 [02:01<46:39,  2.92s/it]"
     ]
    },
    {
     "name": "stdout",
     "output_type": "stream",
     "text": [
      "Epoch: 40 \n",
      "\b Train Loss: 0.6930555532659803 \n",
      "\b Train Acc: 51.00892857142857 \n",
      "\b Val Loss: 0.6932945377898939 \n",
      "\b Val Acc: 51.46780303030303\n",
      "**************************************************\n"
     ]
    },
    {
     "name": "stderr",
     "output_type": "stream",
     "text": [
      "  4%|▍         | 42/1000 [02:04<45:24,  2.84s/it]"
     ]
    },
    {
     "name": "stdout",
     "output_type": "stream",
     "text": [
      "Epoch: 41 \n",
      "\b Train Loss: 0.693050981589726 \n",
      "\b Train Acc: 51.032738095238095 \n",
      "\b Val Loss: 0.6932883903835759 \n",
      "\b Val Acc: 51.37310606060606\n",
      "**************************************************\n"
     ]
    },
    {
     "name": "stderr",
     "output_type": "stream",
     "text": [
      "  4%|▍         | 43/1000 [02:07<45:22,  2.84s/it]"
     ]
    },
    {
     "name": "stdout",
     "output_type": "stream",
     "text": [
      "Epoch: 42 \n",
      "\b Train Loss: 0.6930464897836958 \n",
      "\b Train Acc: 50.98809523809524 \n",
      "\b Val Loss: 0.6932822583299695 \n",
      "\b Val Acc: 51.49147727272727\n",
      "**************************************************\n"
     ]
    },
    {
     "name": "stderr",
     "output_type": "stream",
     "text": [
      "  4%|▍         | 44/1000 [02:09<45:07,  2.83s/it]"
     ]
    },
    {
     "name": "stdout",
     "output_type": "stream",
     "text": [
      "Epoch: 43 \n",
      "\b Train Loss: 0.6930423365320478 \n",
      "\b Train Acc: 51.0 \n",
      "\b Val Loss: 0.6932762391639479 \n",
      "\b Val Acc: 51.53882575757576\n",
      "**************************************************\n"
     ]
    },
    {
     "name": "stderr",
     "output_type": "stream",
     "text": [
      "  4%|▍         | 45/1000 [02:12<44:57,  2.82s/it]"
     ]
    },
    {
     "name": "stdout",
     "output_type": "stream",
     "text": [
      "Epoch: 44 \n",
      "\b Train Loss: 0.6930379140377044 \n",
      "\b Train Acc: 51.00595238095238 \n",
      "\b Val Loss: 0.6932701694242882 \n",
      "\b Val Acc: 51.49147727272727\n",
      "**************************************************\n"
     ]
    },
    {
     "name": "stderr",
     "output_type": "stream",
     "text": [
      "  5%|▍         | 46/1000 [02:15<45:20,  2.85s/it]"
     ]
    },
    {
     "name": "stdout",
     "output_type": "stream",
     "text": [
      "Epoch: 45 \n",
      "\b Train Loss: 0.6930329843929836 \n",
      "\b Train Acc: 51.00297619047619 \n",
      "\b Val Loss: 0.6932638034676061 \n",
      "\b Val Acc: 51.609848484848484\n",
      "**************************************************\n"
     ]
    },
    {
     "name": "stderr",
     "output_type": "stream",
     "text": [
      "  5%|▍         | 47/1000 [02:18<44:53,  2.83s/it]"
     ]
    },
    {
     "name": "stdout",
     "output_type": "stream",
     "text": [
      "Epoch: 46 \n",
      "\b Train Loss: 0.6930282358896165 \n",
      "\b Train Acc: 51.01488095238095 \n",
      "\b Val Loss: 0.6932573761000778 \n",
      "\b Val Acc: 51.65719696969697\n",
      "**************************************************\n"
     ]
    },
    {
     "name": "stderr",
     "output_type": "stream",
     "text": [
      "  5%|▍         | 48/1000 [02:21<45:11,  2.85s/it]"
     ]
    },
    {
     "name": "stdout",
     "output_type": "stream",
     "text": [
      "Epoch: 47 \n",
      "\b Train Loss: 0.6930234242053259 \n",
      "\b Train Acc: 51.032738095238095 \n",
      "\b Val Loss: 0.6932509315736366 \n",
      "\b Val Acc: 51.609848484848484\n",
      "**************************************************\n"
     ]
    },
    {
     "name": "stderr",
     "output_type": "stream",
     "text": [
      "  5%|▍         | 49/1000 [02:24<44:44,  2.82s/it]"
     ]
    },
    {
     "name": "stdout",
     "output_type": "stream",
     "text": [
      "Epoch: 48 \n",
      "\b Train Loss: 0.6930183000223977 \n",
      "\b Train Acc: 51.017857142857146 \n",
      "\b Val Loss: 0.6932438833243919 \n",
      "\b Val Acc: 51.63352272727273\n",
      "**************************************************\n"
     ]
    },
    {
     "name": "stderr",
     "output_type": "stream",
     "text": [
      "  5%|▌         | 50/1000 [02:26<44:23,  2.80s/it]"
     ]
    },
    {
     "name": "stdout",
     "output_type": "stream",
     "text": [
      "Epoch: 49 \n",
      "\b Train Loss: 0.6930126028401511 \n",
      "\b Train Acc: 51.020833333333336 \n",
      "\b Val Loss: 0.6932364711255738 \n",
      "\b Val Acc: 51.58617424242424\n",
      "**************************************************\n"
     ]
    },
    {
     "name": "stderr",
     "output_type": "stream",
     "text": [
      "  5%|▌         | 51/1000 [02:29<44:01,  2.78s/it]"
     ]
    },
    {
     "name": "stdout",
     "output_type": "stream",
     "text": [
      "Epoch: 50 \n",
      "\b Train Loss: 0.6930057611351922 \n",
      "\b Train Acc: 51.07142857142857 \n",
      "\b Val Loss: 0.6932275701652874 \n",
      "\b Val Acc: 51.65719696969697\n",
      "**************************************************\n"
     ]
    },
    {
     "name": "stderr",
     "output_type": "stream",
     "text": [
      "  5%|▌         | 52/1000 [02:32<44:12,  2.80s/it]"
     ]
    },
    {
     "name": "stdout",
     "output_type": "stream",
     "text": [
      "Epoch: 51 \n",
      "\b Train Loss: 0.6929969792706626 \n",
      "\b Train Acc: 51.12797619047619 \n",
      "\b Val Loss: 0.6932178916353168 \n",
      "\b Val Acc: 51.396780303030305\n",
      "**************************************************\n"
     ]
    },
    {
     "name": "stderr",
     "output_type": "stream",
     "text": [
      "  5%|▌         | 53/1000 [02:35<43:40,  2.77s/it]"
     ]
    },
    {
     "name": "stdout",
     "output_type": "stream",
     "text": [
      "Epoch: 52 \n",
      "\b Train Loss: 0.6929838035220192 \n",
      "\b Train Acc: 51.092261904761905 \n",
      "\b Val Loss: 0.6932083417971929 \n",
      "\b Val Acc: 51.37310606060606\n",
      "**************************************************\n"
     ]
    },
    {
     "name": "stderr",
     "output_type": "stream",
     "text": [
      "  5%|▌         | 54/1000 [02:37<43:40,  2.77s/it]"
     ]
    },
    {
     "name": "stdout",
     "output_type": "stream",
     "text": [
      "Epoch: 53 \n",
      "\b Train Loss: 0.6929719751789456 \n",
      "\b Train Acc: 51.07440476190476 \n",
      "\b Val Loss: 0.6931997776934595 \n",
      "\b Val Acc: 51.302083333333336\n",
      "**************************************************\n"
     ]
    },
    {
     "name": "stderr",
     "output_type": "stream",
     "text": [
      "  6%|▌         | 55/1000 [02:41<45:58,  2.92s/it]"
     ]
    },
    {
     "name": "stdout",
     "output_type": "stream",
     "text": [
      "Epoch: 54 \n",
      "\b Train Loss: 0.6929634703908648 \n",
      "\b Train Acc: 51.05059523809524 \n",
      "\b Val Loss: 0.6931923939423128 \n",
      "\b Val Acc: 51.27840909090909\n",
      "**************************************************\n"
     ]
    },
    {
     "name": "stderr",
     "output_type": "stream",
     "text": [
      "  6%|▌         | 56/1000 [02:43<44:59,  2.86s/it]"
     ]
    },
    {
     "name": "stdout",
     "output_type": "stream",
     "text": [
      "Epoch: 55 \n",
      "\b Train Loss: 0.6929567488034566 \n",
      "\b Train Acc: 51.035714285714285 \n",
      "\b Val Loss: 0.6931839165362444 \n",
      "\b Val Acc: 51.34943181818182\n",
      "**************************************************\n"
     ]
    },
    {
     "name": "stderr",
     "output_type": "stream",
     "text": [
      "  6%|▌         | 57/1000 [02:46<44:52,  2.86s/it]"
     ]
    },
    {
     "name": "stdout",
     "output_type": "stream",
     "text": [
      "Epoch: 56 \n",
      "\b Train Loss: 0.6929504805519467 \n",
      "\b Train Acc: 51.041666666666664 \n",
      "\b Val Loss: 0.6931761611591686 \n",
      "\b Val Acc: 51.46780303030303\n",
      "**************************************************\n"
     ]
    },
    {
     "name": "stderr",
     "output_type": "stream",
     "text": [
      "  6%|▌         | 58/1000 [02:49<44:26,  2.83s/it]"
     ]
    },
    {
     "name": "stdout",
     "output_type": "stream",
     "text": [
      "Epoch: 57 \n",
      "\b Train Loss: 0.6929444242091406 \n",
      "\b Train Acc: 51.07738095238095 \n",
      "\b Val Loss: 0.6931689733808691 \n",
      "\b Val Acc: 51.34943181818182\n",
      "**************************************************\n"
     ]
    },
    {
     "name": "stderr",
     "output_type": "stream",
     "text": [
      "  6%|▌         | 59/1000 [02:52<43:57,  2.80s/it]"
     ]
    },
    {
     "name": "stdout",
     "output_type": "stream",
     "text": [
      "Epoch: 58 \n",
      "\b Train Loss: 0.6929385998135521 \n",
      "\b Train Acc: 51.095238095238095 \n",
      "\b Val Loss: 0.693162150906794 \n",
      "\b Val Acc: 51.302083333333336\n",
      "**************************************************\n"
     ]
    },
    {
     "name": "stderr",
     "output_type": "stream",
     "text": [
      "  6%|▌         | 60/1000 [02:54<43:36,  2.78s/it]"
     ]
    },
    {
     "name": "stdout",
     "output_type": "stream",
     "text": [
      "Epoch: 59 \n",
      "\b Train Loss: 0.6929327456156412 \n",
      "\b Train Acc: 51.092261904761905 \n",
      "\b Val Loss: 0.6931549414540782 \n",
      "\b Val Acc: 51.32575757575758\n",
      "**************************************************\n"
     ]
    },
    {
     "name": "stderr",
     "output_type": "stream",
     "text": [
      "  6%|▌         | 61/1000 [02:57<43:51,  2.80s/it]"
     ]
    },
    {
     "name": "stdout",
     "output_type": "stream",
     "text": [
      "Epoch: 60 \n",
      "\b Train Loss: 0.6929273230121249 \n",
      "\b Train Acc: 51.104166666666664 \n",
      "\b Val Loss: 0.6931478507591017 \n",
      "\b Val Acc: 51.396780303030305\n",
      "**************************************************\n"
     ]
    },
    {
     "name": "stderr",
     "output_type": "stream",
     "text": [
      "  6%|▌         | 62/1000 [03:00<43:23,  2.78s/it]"
     ]
    },
    {
     "name": "stdout",
     "output_type": "stream",
     "text": [
      "Epoch: 61 \n",
      "\b Train Loss: 0.6929217773392087 \n",
      "\b Train Acc: 51.083333333333336 \n",
      "\b Val Loss: 0.6931406286629763 \n",
      "\b Val Acc: 51.515151515151516\n",
      "**************************************************\n"
     ]
    },
    {
     "name": "stderr",
     "output_type": "stream",
     "text": [
      "  6%|▋         | 63/1000 [03:04<47:44,  3.06s/it]"
     ]
    },
    {
     "name": "stdout",
     "output_type": "stream",
     "text": [
      "Epoch: 62 \n",
      "\b Train Loss: 0.6929163881710597 \n",
      "\b Train Acc: 51.092261904761905 \n",
      "\b Val Loss: 0.6931339199795867 \n",
      "\b Val Acc: 51.53882575757576\n",
      "**************************************************\n"
     ]
    },
    {
     "name": "stderr",
     "output_type": "stream",
     "text": [
      "  6%|▋         | 64/1000 [03:07<46:29,  2.98s/it]"
     ]
    },
    {
     "name": "stdout",
     "output_type": "stream",
     "text": [
      "Epoch: 63 \n",
      "\b Train Loss: 0.6929110953921364 \n",
      "\b Train Acc: 51.11309523809524 \n",
      "\b Val Loss: 0.693127199104338 \n",
      "\b Val Acc: 51.75189393939394\n",
      "**************************************************\n"
     ]
    },
    {
     "name": "stderr",
     "output_type": "stream",
     "text": [
      "  6%|▋         | 65/1000 [03:09<45:20,  2.91s/it]"
     ]
    },
    {
     "name": "stdout",
     "output_type": "stream",
     "text": [
      "Epoch: 64 \n",
      "\b Train Loss: 0.6929056610947564 \n",
      "\b Train Acc: 51.086309523809526 \n",
      "\b Val Loss: 0.6931201910430734 \n",
      "\b Val Acc: 51.77556818181818\n",
      "**************************************************\n"
     ]
    },
    {
     "name": "stderr",
     "output_type": "stream",
     "text": [
      "  7%|▋         | 66/1000 [03:12<44:32,  2.86s/it]"
     ]
    },
    {
     "name": "stdout",
     "output_type": "stream",
     "text": [
      "Epoch: 65 \n",
      "\b Train Loss: 0.6929001327355703 \n",
      "\b Train Acc: 51.11011904761905 \n",
      "\b Val Loss: 0.6931135311271205 \n",
      "\b Val Acc: 51.79924242424242\n",
      "**************************************************\n"
     ]
    },
    {
     "name": "stderr",
     "output_type": "stream",
     "text": [
      "  7%|▋         | 67/1000 [03:15<44:07,  2.84s/it]"
     ]
    },
    {
     "name": "stdout",
     "output_type": "stream",
     "text": [
      "Epoch: 66 \n",
      "\b Train Loss: 0.6928945931934175 \n",
      "\b Train Acc: 51.107142857142854 \n",
      "\b Val Loss: 0.6931069118506981 \n",
      "\b Val Acc: 51.728219696969695\n",
      "**************************************************\n"
     ]
    },
    {
     "name": "stderr",
     "output_type": "stream",
     "text": [
      "  7%|▋         | 68/1000 [03:18<43:59,  2.83s/it]"
     ]
    },
    {
     "name": "stdout",
     "output_type": "stream",
     "text": [
      "Epoch: 67 \n",
      "\b Train Loss: 0.6928887782778059 \n",
      "\b Train Acc: 51.13095238095238 \n",
      "\b Val Loss: 0.6931000469308911 \n",
      "\b Val Acc: 51.728219696969695\n",
      "**************************************************\n"
     ]
    },
    {
     "name": "stderr",
     "output_type": "stream",
     "text": [
      "  7%|▋         | 69/1000 [03:21<44:04,  2.84s/it]"
     ]
    },
    {
     "name": "stdout",
     "output_type": "stream",
     "text": [
      "Epoch: 68 \n",
      "\b Train Loss: 0.692883193265824 \n",
      "\b Train Acc: 51.12202380952381 \n",
      "\b Val Loss: 0.6930932240052656 \n",
      "\b Val Acc: 51.58617424242424\n",
      "**************************************************\n"
     ]
    },
    {
     "name": "stderr",
     "output_type": "stream",
     "text": [
      "  7%|▋         | 70/1000 [03:23<44:05,  2.85s/it]"
     ]
    },
    {
     "name": "stdout",
     "output_type": "stream",
     "text": [
      "Epoch: 69 \n",
      "\b Train Loss: 0.6928776032584054 \n",
      "\b Train Acc: 51.095238095238095 \n",
      "\b Val Loss: 0.6930862764517466 \n",
      "\b Val Acc: 51.53882575757576\n",
      "**************************************************\n"
     ]
    },
    {
     "name": "stderr",
     "output_type": "stream",
     "text": [
      "  7%|▋         | 71/1000 [03:26<43:37,  2.82s/it]"
     ]
    },
    {
     "name": "stdout",
     "output_type": "stream",
     "text": [
      "Epoch: 70 \n",
      "\b Train Loss: 0.6928720179058256 \n",
      "\b Train Acc: 51.107142857142854 \n",
      "\b Val Loss: 0.6930793564427983 \n",
      "\b Val Acc: 51.515151515151516\n",
      "**************************************************\n"
     ]
    },
    {
     "name": "stderr",
     "output_type": "stream",
     "text": [
      "  7%|▋         | 72/1000 [03:29<42:57,  2.78s/it]"
     ]
    },
    {
     "name": "stdout",
     "output_type": "stream",
     "text": [
      "Epoch: 71 \n",
      "\b Train Loss: 0.6928659645148686 \n",
      "\b Train Acc: 51.092261904761905 \n",
      "\b Val Loss: 0.6930720024939739 \n",
      "\b Val Acc: 51.65719696969697\n",
      "**************************************************\n"
     ]
    },
    {
     "name": "stderr",
     "output_type": "stream",
     "text": [
      "  7%|▋         | 73/1000 [03:32<43:02,  2.79s/it]"
     ]
    },
    {
     "name": "stdout",
     "output_type": "stream",
     "text": [
      "Epoch: 72 \n",
      "\b Train Loss: 0.6928600955009461 \n",
      "\b Train Acc: 51.101190476190474 \n",
      "\b Val Loss: 0.6930648449695471 \n",
      "\b Val Acc: 51.609848484848484\n",
      "**************************************************\n"
     ]
    },
    {
     "name": "stderr",
     "output_type": "stream",
     "text": [
      "  7%|▋         | 74/1000 [03:34<42:59,  2.79s/it]"
     ]
    },
    {
     "name": "stdout",
     "output_type": "stream",
     "text": [
      "Epoch: 73 \n",
      "\b Train Loss: 0.6928537094025384 \n",
      "\b Train Acc: 51.083333333333336 \n",
      "\b Val Loss: 0.6930574408986352 \n",
      "\b Val Acc: 51.68087121212121\n",
      "**************************************************\n"
     ]
    },
    {
     "name": "stderr",
     "output_type": "stream",
     "text": [
      "  8%|▊         | 75/1000 [03:37<42:37,  2.77s/it]"
     ]
    },
    {
     "name": "stdout",
     "output_type": "stream",
     "text": [
      "Epoch: 74 \n",
      "\b Train Loss: 0.6928476450556801 \n",
      "\b Train Acc: 51.11904761904762 \n",
      "\b Val Loss: 0.6930506983489702 \n",
      "\b Val Acc: 51.5625\n",
      "**************************************************\n"
     ]
    },
    {
     "name": "stderr",
     "output_type": "stream",
     "text": [
      "  8%|▊         | 76/1000 [03:40<42:38,  2.77s/it]"
     ]
    },
    {
     "name": "stdout",
     "output_type": "stream",
     "text": [
      "Epoch: 75 \n",
      "\b Train Loss: 0.6928411005792163 \n",
      "\b Train Acc: 51.095238095238095 \n",
      "\b Val Loss: 0.6930433033090649 \n",
      "\b Val Acc: 51.515151515151516\n",
      "**************************************************\n"
     ]
    },
    {
     "name": "stderr",
     "output_type": "stream",
     "text": [
      "  8%|▊         | 77/1000 [03:43<43:04,  2.80s/it]"
     ]
    },
    {
     "name": "stdout",
     "output_type": "stream",
     "text": [
      "Epoch: 76 \n",
      "\b Train Loss: 0.6928340950466337 \n",
      "\b Train Acc: 51.104166666666664 \n",
      "\b Val Loss: 0.6930354576219212 \n",
      "\b Val Acc: 51.44412878787879\n",
      "**************************************************\n"
     ]
    },
    {
     "name": "stderr",
     "output_type": "stream",
     "text": [
      "  8%|▊         | 78/1000 [03:46<42:51,  2.79s/it]"
     ]
    },
    {
     "name": "stdout",
     "output_type": "stream",
     "text": [
      "Epoch: 77 \n",
      "\b Train Loss: 0.6928270737330119 \n",
      "\b Train Acc: 51.104166666666664 \n",
      "\b Val Loss: 0.6930273261034128 \n",
      "\b Val Acc: 51.37310606060606\n",
      "**************************************************\n"
     ]
    },
    {
     "name": "stderr",
     "output_type": "stream",
     "text": [
      "  8%|▊         | 79/1000 [03:48<42:45,  2.79s/it]"
     ]
    },
    {
     "name": "stdout",
     "output_type": "stream",
     "text": [
      "Epoch: 78 \n",
      "\b Train Loss: 0.6928203420979636 \n",
      "\b Train Acc: 51.11904761904762 \n",
      "\b Val Loss: 0.6930191747166894 \n",
      "\b Val Acc: 51.27840909090909\n",
      "**************************************************\n"
     ]
    },
    {
     "name": "stderr",
     "output_type": "stream",
     "text": [
      "  8%|▊         | 80/1000 [03:51<43:02,  2.81s/it]"
     ]
    },
    {
     "name": "stdout",
     "output_type": "stream",
     "text": [
      "Epoch: 79 \n",
      "\b Train Loss: 0.692813702197302 \n",
      "\b Train Acc: 51.11904761904762 \n",
      "\b Val Loss: 0.69301078897534 \n",
      "\b Val Acc: 51.42045454545455\n",
      "**************************************************\n"
     ]
    },
    {
     "name": "stderr",
     "output_type": "stream",
     "text": [
      "  8%|▊         | 81/1000 [03:54<43:31,  2.84s/it]"
     ]
    },
    {
     "name": "stdout",
     "output_type": "stream",
     "text": [
      "Epoch: 80 \n",
      "\b Train Loss: 0.6928069259439196 \n",
      "\b Train Acc: 51.12797619047619 \n",
      "\b Val Loss: 0.6930021155964244 \n",
      "\b Val Acc: 51.396780303030305\n",
      "**************************************************\n"
     ]
    },
    {
     "name": "stderr",
     "output_type": "stream",
     "text": [
      "  8%|▊         | 82/1000 [03:57<43:13,  2.83s/it]"
     ]
    },
    {
     "name": "stdout",
     "output_type": "stream",
     "text": [
      "Epoch: 81 \n",
      "\b Train Loss: 0.6928000854878199 \n",
      "\b Train Acc: 51.13988095238095 \n",
      "\b Val Loss: 0.692993366357052 \n",
      "\b Val Acc: 51.46780303030303\n",
      "**************************************************\n"
     ]
    },
    {
     "name": "stderr",
     "output_type": "stream",
     "text": [
      "  8%|▊         | 83/1000 [04:00<42:40,  2.79s/it]"
     ]
    },
    {
     "name": "stdout",
     "output_type": "stream",
     "text": [
      "Epoch: 82 \n",
      "\b Train Loss: 0.692793182077862 \n",
      "\b Train Acc: 51.145833333333336 \n",
      "\b Val Loss: 0.6929847178134051 \n",
      "\b Val Acc: 51.42045454545455\n",
      "**************************************************\n"
     ]
    },
    {
     "name": "stderr",
     "output_type": "stream",
     "text": [
      "  8%|▊         | 84/1000 [04:02<42:43,  2.80s/it]"
     ]
    },
    {
     "name": "stdout",
     "output_type": "stream",
     "text": [
      "Epoch: 83 \n",
      "\b Train Loss: 0.6927864407925378 \n",
      "\b Train Acc: 51.13095238095238 \n",
      "\b Val Loss: 0.6929759730895361 \n",
      "\b Val Acc: 51.396780303030305\n",
      "**************************************************\n"
     ]
    },
    {
     "name": "stderr",
     "output_type": "stream",
     "text": [
      "  8%|▊         | 85/1000 [04:05<43:16,  2.84s/it]"
     ]
    },
    {
     "name": "stdout",
     "output_type": "stream",
     "text": [
      "Epoch: 84 \n",
      "\b Train Loss: 0.6927794853846232 \n",
      "\b Train Acc: 51.11309523809524 \n",
      "\b Val Loss: 0.6929671646970691 \n",
      "\b Val Acc: 51.46780303030303\n",
      "**************************************************\n"
     ]
    },
    {
     "name": "stderr",
     "output_type": "stream",
     "text": [
      "  9%|▊         | 86/1000 [04:08<43:04,  2.83s/it]"
     ]
    },
    {
     "name": "stdout",
     "output_type": "stream",
     "text": [
      "Epoch: 85 \n",
      "\b Train Loss: 0.6927720711344765 \n",
      "\b Train Acc: 51.13392857142857 \n",
      "\b Val Loss: 0.6929587116747191 \n",
      "\b Val Acc: 51.63352272727273\n",
      "**************************************************\n"
     ]
    },
    {
     "name": "stderr",
     "output_type": "stream",
     "text": [
      "  9%|▊         | 87/1000 [04:11<43:01,  2.83s/it]"
     ]
    },
    {
     "name": "stdout",
     "output_type": "stream",
     "text": [
      "Epoch: 86 \n",
      "\b Train Loss: 0.6927645531722477 \n",
      "\b Train Acc: 51.13690476190476 \n",
      "\b Val Loss: 0.6929502189159393 \n",
      "\b Val Acc: 51.70454545454545\n",
      "**************************************************\n"
     ]
    },
    {
     "name": "stderr",
     "output_type": "stream",
     "text": [
      "  9%|▉         | 88/1000 [04:14<42:36,  2.80s/it]"
     ]
    },
    {
     "name": "stdout",
     "output_type": "stream",
     "text": [
      "Epoch: 87 \n",
      "\b Train Loss: 0.6927570881730034 \n",
      "\b Train Acc: 51.145833333333336 \n",
      "\b Val Loss: 0.6929414701281171 \n",
      "\b Val Acc: 51.70454545454545\n",
      "**************************************************\n"
     ]
    },
    {
     "name": "stderr",
     "output_type": "stream",
     "text": [
      "  9%|▉         | 89/1000 [04:17<42:41,  2.81s/it]"
     ]
    },
    {
     "name": "stdout",
     "output_type": "stream",
     "text": [
      "Epoch: 88 \n",
      "\b Train Loss: 0.6927495765118372 \n",
      "\b Train Acc: 51.142857142857146 \n",
      "\b Val Loss: 0.6929328933809743 \n",
      "\b Val Acc: 51.63352272727273\n",
      "**************************************************\n"
     ]
    },
    {
     "name": "stderr",
     "output_type": "stream",
     "text": [
      "  9%|▉         | 90/1000 [04:19<42:59,  2.83s/it]"
     ]
    },
    {
     "name": "stdout",
     "output_type": "stream",
     "text": [
      "Epoch: 89 \n",
      "\b Train Loss: 0.6927421222981952 \n",
      "\b Train Acc: 51.151785714285715 \n",
      "\b Val Loss: 0.6929245613741152 \n",
      "\b Val Acc: 51.49147727272727\n",
      "**************************************************\n"
     ]
    },
    {
     "name": "stderr",
     "output_type": "stream",
     "text": [
      "  9%|▉         | 91/1000 [04:22<43:20,  2.86s/it]"
     ]
    },
    {
     "name": "stdout",
     "output_type": "stream",
     "text": [
      "Epoch: 90 \n",
      "\b Train Loss: 0.692734455210822 \n",
      "\b Train Acc: 51.160714285714285 \n",
      "\b Val Loss: 0.6929160857742483 \n",
      "\b Val Acc: 51.515151515151516\n",
      "**************************************************\n"
     ]
    },
    {
     "name": "stderr",
     "output_type": "stream",
     "text": [
      "  9%|▉         | 92/1000 [04:25<42:50,  2.83s/it]"
     ]
    },
    {
     "name": "stdout",
     "output_type": "stream",
     "text": [
      "Epoch: 91 \n",
      "\b Train Loss: 0.6927268729323433 \n",
      "\b Train Acc: 51.160714285714285 \n",
      "\b Val Loss: 0.692907681519335 \n",
      "\b Val Acc: 51.44412878787879\n",
      "**************************************************\n"
     ]
    },
    {
     "name": "stderr",
     "output_type": "stream",
     "text": [
      "  9%|▉         | 93/1000 [04:28<43:04,  2.85s/it]"
     ]
    },
    {
     "name": "stdout",
     "output_type": "stream",
     "text": [
      "Epoch: 92 \n",
      "\b Train Loss: 0.6927190618855613 \n",
      "\b Train Acc: 51.163690476190474 \n",
      "\b Val Loss: 0.6928984798265226 \n",
      "\b Val Acc: 51.515151515151516\n",
      "**************************************************\n"
     ]
    },
    {
     "name": "stderr",
     "output_type": "stream",
     "text": [
      "  9%|▉         | 94/1000 [04:31<42:23,  2.81s/it]"
     ]
    },
    {
     "name": "stdout",
     "output_type": "stream",
     "text": [
      "Epoch: 93 \n",
      "\b Train Loss: 0.6927111757369269 \n",
      "\b Train Acc: 51.157738095238095 \n",
      "\b Val Loss: 0.6928891408624072 \n",
      "\b Val Acc: 51.53882575757576\n",
      "**************************************************\n"
     ]
    },
    {
     "name": "stderr",
     "output_type": "stream",
     "text": [
      " 10%|▉         | 95/1000 [04:34<42:14,  2.80s/it]"
     ]
    },
    {
     "name": "stdout",
     "output_type": "stream",
     "text": [
      "Epoch: 94 \n",
      "\b Train Loss: 0.6927028292701358 \n",
      "\b Train Acc: 51.160714285714285 \n",
      "\b Val Loss: 0.6928798195087549 \n",
      "\b Val Acc: 51.515151515151516\n",
      "**************************************************\n"
     ]
    },
    {
     "name": "stderr",
     "output_type": "stream",
     "text": [
      " 10%|▉         | 96/1000 [04:37<43:31,  2.89s/it]"
     ]
    },
    {
     "name": "stdout",
     "output_type": "stream",
     "text": [
      "Epoch: 95 \n",
      "\b Train Loss: 0.6926948601291293 \n",
      "\b Train Acc: 51.169642857142854 \n",
      "\b Val Loss: 0.6928703383062825 \n",
      "\b Val Acc: 51.63352272727273\n",
      "**************************************************\n"
     ]
    },
    {
     "name": "stderr",
     "output_type": "stream",
     "text": [
      " 10%|▉         | 97/1000 [04:39<42:58,  2.86s/it]"
     ]
    },
    {
     "name": "stdout",
     "output_type": "stream",
     "text": [
      "Epoch: 96 \n",
      "\b Train Loss: 0.6926864761965615 \n",
      "\b Train Acc: 51.163690476190474 \n",
      "\b Val Loss: 0.6928602028073687 \n",
      "\b Val Acc: 51.609848484848484\n",
      "**************************************************\n"
     ]
    },
    {
     "name": "stderr",
     "output_type": "stream",
     "text": [
      " 10%|▉         | 98/1000 [04:42<43:40,  2.91s/it]"
     ]
    },
    {
     "name": "stdout",
     "output_type": "stream",
     "text": [
      "Epoch: 97 \n",
      "\b Train Loss: 0.6926776337055933 \n",
      "\b Train Acc: 51.19345238095238 \n",
      "\b Val Loss: 0.6928498821728157 \n",
      "\b Val Acc: 51.75189393939394\n",
      "**************************************************\n"
     ]
    },
    {
     "name": "stderr",
     "output_type": "stream",
     "text": [
      " 10%|▉         | 99/1000 [04:45<43:05,  2.87s/it]"
     ]
    },
    {
     "name": "stdout",
     "output_type": "stream",
     "text": [
      "Epoch: 98 \n",
      "\b Train Loss: 0.6926684415340424 \n",
      "\b Train Acc: 51.19642857142857 \n",
      "\b Val Loss: 0.6928390955383127 \n",
      "\b Val Acc: 51.63352272727273\n",
      "**************************************************\n"
     ]
    },
    {
     "name": "stderr",
     "output_type": "stream",
     "text": [
      " 10%|█         | 100/1000 [04:48<43:28,  2.90s/it]"
     ]
    },
    {
     "name": "stdout",
     "output_type": "stream",
     "text": [
      "Epoch: 99 \n",
      "\b Train Loss: 0.6926589584350586 \n",
      "\b Train Acc: 51.220238095238095 \n",
      "\b Val Loss: 0.6928280519716667 \n",
      "\b Val Acc: 51.68087121212121\n",
      "**************************************************\n"
     ]
    },
    {
     "name": "stderr",
     "output_type": "stream",
     "text": [
      " 10%|█         | 101/1000 [04:51<45:24,  3.03s/it]"
     ]
    },
    {
     "name": "stdout",
     "output_type": "stream",
     "text": [
      "Epoch: 100 \n",
      "\b Train Loss: 0.6926489196504866 \n",
      "\b Train Acc: 51.25 \n",
      "\b Val Loss: 0.6928172319224386 \n",
      "\b Val Acc: 51.75189393939394\n",
      "**************************************************\n"
     ]
    },
    {
     "name": "stderr",
     "output_type": "stream",
     "text": [
      " 10%|█         | 102/1000 [04:55<45:23,  3.03s/it]"
     ]
    },
    {
     "name": "stdout",
     "output_type": "stream",
     "text": [
      "Epoch: 101 \n",
      "\b Train Loss: 0.692638628028688 \n",
      "\b Train Acc: 51.223214285714285 \n",
      "\b Val Loss: 0.6928045329722491 \n",
      "\b Val Acc: 51.728219696969695\n",
      "**************************************************\n"
     ]
    },
    {
     "name": "stderr",
     "output_type": "stream",
     "text": [
      " 10%|█         | 103/1000 [04:58<45:19,  3.03s/it]"
     ]
    },
    {
     "name": "stdout",
     "output_type": "stream",
     "text": [
      "Epoch: 102 \n",
      "\b Train Loss: 0.692628242799214 \n",
      "\b Train Acc: 51.217261904761905 \n",
      "\b Val Loss: 0.6927927217700265 \n",
      "\b Val Acc: 51.65719696969697\n",
      "**************************************************\n"
     ]
    },
    {
     "name": "stderr",
     "output_type": "stream",
     "text": [
      " 10%|█         | 104/1000 [05:00<44:35,  2.99s/it]"
     ]
    },
    {
     "name": "stdout",
     "output_type": "stream",
     "text": [
      "Epoch: 103 \n",
      "\b Train Loss: 0.6926171014422462 \n",
      "\b Train Acc: 51.229166666666664 \n",
      "\b Val Loss: 0.6927814835851843 \n",
      "\b Val Acc: 51.65719696969697\n",
      "**************************************************\n"
     ]
    },
    {
     "name": "stderr",
     "output_type": "stream",
     "text": [
      " 10%|█         | 105/1000 [05:04<45:46,  3.07s/it]"
     ]
    },
    {
     "name": "stdout",
     "output_type": "stream",
     "text": [
      "Epoch: 104 \n",
      "\b Train Loss: 0.6926057713372367 \n",
      "\b Train Acc: 51.217261904761905 \n",
      "\b Val Loss: 0.6927699202840979 \n",
      "\b Val Acc: 51.728219696969695\n",
      "**************************************************\n"
     ]
    },
    {
     "name": "stderr",
     "output_type": "stream",
     "text": [
      " 11%|█         | 106/1000 [05:07<45:38,  3.06s/it]"
     ]
    },
    {
     "name": "stdout",
     "output_type": "stream",
     "text": [
      "Epoch: 105 \n",
      "\b Train Loss: 0.6925938376926241 \n",
      "\b Train Acc: 51.23511904761905 \n",
      "\b Val Loss: 0.6927573911168359 \n",
      "\b Val Acc: 51.79924242424242\n",
      "**************************************************\n"
     ]
    },
    {
     "name": "stderr",
     "output_type": "stream",
     "text": [
      " 11%|█         | 107/1000 [05:10<45:29,  3.06s/it]"
     ]
    },
    {
     "name": "stdout",
     "output_type": "stream",
     "text": [
      "Epoch: 106 \n",
      "\b Train Loss: 0.6925814387344179 \n",
      "\b Train Acc: 51.24107142857143 \n",
      "\b Val Loss: 0.6927447066162572 \n",
      "\b Val Acc: 51.941287878787875\n",
      "**************************************************\n"
     ]
    },
    {
     "name": "stderr",
     "output_type": "stream",
     "text": [
      " 11%|█         | 108/1000 [05:13<43:56,  2.96s/it]"
     ]
    },
    {
     "name": "stdout",
     "output_type": "stream",
     "text": [
      "Epoch: 107 \n",
      "\b Train Loss: 0.6925691889581226 \n",
      "\b Train Acc: 51.270833333333336 \n",
      "\b Val Loss: 0.6927312088735176 \n",
      "\b Val Acc: 51.84659090909091\n",
      "**************************************************\n"
     ]
    },
    {
     "name": "stderr",
     "output_type": "stream",
     "text": [
      " 11%|█         | 109/1000 [05:16<44:03,  2.97s/it]"
     ]
    },
    {
     "name": "stdout",
     "output_type": "stream",
     "text": [
      "Epoch: 108 \n",
      "\b Train Loss: 0.6925560872895377 \n",
      "\b Train Acc: 51.26190476190476 \n",
      "\b Val Loss: 0.6927170712839473 \n",
      "\b Val Acc: 51.91761363636363\n",
      "**************************************************\n"
     ]
    },
    {
     "name": "stderr",
     "output_type": "stream",
     "text": [
      " 11%|█         | 110/1000 [05:19<44:08,  2.98s/it]"
     ]
    },
    {
     "name": "stdout",
     "output_type": "stream",
     "text": [
      "Epoch: 109 \n",
      "\b Train Loss: 0.6925428240639823 \n",
      "\b Train Acc: 51.29761904761905 \n",
      "\b Val Loss: 0.6927021647041495 \n",
      "\b Val Acc: 52.05965909090909\n",
      "**************************************************\n"
     ]
    },
    {
     "name": "stderr",
     "output_type": "stream",
     "text": [
      " 11%|█         | 111/1000 [05:21<43:49,  2.96s/it]"
     ]
    },
    {
     "name": "stdout",
     "output_type": "stream",
     "text": [
      "Epoch: 110 \n",
      "\b Train Loss: 0.6925289249420166 \n",
      "\b Train Acc: 51.32440476190476 \n",
      "\b Val Loss: 0.6926876852909724 \n",
      "\b Val Acc: 51.79924242424242\n",
      "**************************************************\n"
     ]
    },
    {
     "name": "stderr",
     "output_type": "stream",
     "text": [
      " 11%|█         | 112/1000 [05:24<44:07,  2.98s/it]"
     ]
    },
    {
     "name": "stdout",
     "output_type": "stream",
     "text": [
      "Epoch: 111 \n",
      "\b Train Loss: 0.6925147518089839 \n",
      "\b Train Acc: 51.30059523809524 \n",
      "\b Val Loss: 0.6926729624921625 \n",
      "\b Val Acc: 51.77556818181818\n",
      "**************************************************\n"
     ]
    },
    {
     "name": "stderr",
     "output_type": "stream",
     "text": [
      " 11%|█▏        | 113/1000 [05:27<44:15,  2.99s/it]"
     ]
    },
    {
     "name": "stdout",
     "output_type": "stream",
     "text": [
      "Epoch: 112 \n",
      "\b Train Loss: 0.692500555799121 \n",
      "\b Train Acc: 51.30357142857143 \n",
      "\b Val Loss: 0.6926585164937106 \n",
      "\b Val Acc: 51.63352272727273\n",
      "**************************************************\n"
     ]
    },
    {
     "name": "stderr",
     "output_type": "stream",
     "text": [
      " 11%|█▏        | 114/1000 [05:30<44:01,  2.98s/it]"
     ]
    },
    {
     "name": "stdout",
     "output_type": "stream",
     "text": [
      "Epoch: 113 \n",
      "\b Train Loss: 0.692485918431055 \n",
      "\b Train Acc: 51.30654761904762 \n",
      "\b Val Loss: 0.6926440077297615 \n",
      "\b Val Acc: 51.515151515151516\n",
      "**************************************************\n"
     ]
    },
    {
     "name": "stderr",
     "output_type": "stream",
     "text": [
      " 12%|█▏        | 115/1000 [05:33<43:52,  2.97s/it]"
     ]
    },
    {
     "name": "stdout",
     "output_type": "stream",
     "text": [
      "Epoch: 114 \n",
      "\b Train Loss: 0.6924710241385869 \n",
      "\b Train Acc: 51.294642857142854 \n",
      "\b Val Loss: 0.6926283086791183 \n",
      "\b Val Acc: 51.63352272727273\n",
      "**************************************************\n"
     ]
    },
    {
     "name": "stderr",
     "output_type": "stream",
     "text": [
      " 12%|█▏        | 116/1000 [05:36<44:13,  3.00s/it]"
     ]
    },
    {
     "name": "stdout",
     "output_type": "stream",
     "text": [
      "Epoch: 115 \n",
      "\b Train Loss: 0.6924558513505118 \n",
      "\b Train Acc: 51.333333333333336 \n",
      "\b Val Loss: 0.6926138401031494 \n",
      "\b Val Acc: 51.58617424242424\n",
      "**************************************************\n"
     ]
    },
    {
     "name": "stderr",
     "output_type": "stream",
     "text": [
      " 12%|█▏        | 117/1000 [05:40<45:12,  3.07s/it]"
     ]
    },
    {
     "name": "stdout",
     "output_type": "stream",
     "text": [
      "Epoch: 116 \n",
      "\b Train Loss: 0.6924401001703171 \n",
      "\b Train Acc: 51.342261904761905 \n",
      "\b Val Loss: 0.6925995548566183 \n",
      "\b Val Acc: 51.37310606060606\n",
      "**************************************************\n"
     ]
    },
    {
     "name": "stderr",
     "output_type": "stream",
     "text": [
      " 12%|█▏        | 118/1000 [05:43<45:34,  3.10s/it]"
     ]
    },
    {
     "name": "stdout",
     "output_type": "stream",
     "text": [
      "Epoch: 117 \n",
      "\b Train Loss: 0.6924232083275205 \n",
      "\b Train Acc: 51.351190476190474 \n",
      "\b Val Loss: 0.6925847092361161 \n",
      "\b Val Acc: 51.37310606060606\n",
      "**************************************************\n"
     ]
    },
    {
     "name": "stderr",
     "output_type": "stream",
     "text": [
      " 12%|█▏        | 119/1000 [05:46<46:24,  3.16s/it]"
     ]
    },
    {
     "name": "stdout",
     "output_type": "stream",
     "text": [
      "Epoch: 118 \n",
      "\b Train Loss: 0.6924064393270584 \n",
      "\b Train Acc: 51.36309523809524 \n",
      "\b Val Loss: 0.6925677341042142 \n",
      "\b Val Acc: 51.42045454545455\n",
      "**************************************************\n"
     ]
    },
    {
     "name": "stderr",
     "output_type": "stream",
     "text": [
      " 12%|█▏        | 120/1000 [05:49<47:04,  3.21s/it]"
     ]
    },
    {
     "name": "stdout",
     "output_type": "stream",
     "text": [
      "Epoch: 119 \n",
      "\b Train Loss: 0.6923888694104694 \n",
      "\b Train Acc: 51.38392857142857 \n",
      "\b Val Loss: 0.6925521863229347 \n",
      "\b Val Acc: 51.396780303030305\n",
      "**************************************************\n"
     ]
    },
    {
     "name": "stderr",
     "output_type": "stream",
     "text": [
      " 12%|█▏        | 121/1000 [05:53<47:50,  3.27s/it]"
     ]
    },
    {
     "name": "stdout",
     "output_type": "stream",
     "text": [
      "Epoch: 120 \n",
      "\b Train Loss: 0.6923706045604887 \n",
      "\b Train Acc: 51.404761904761905 \n",
      "\b Val Loss: 0.6925359020630518 \n",
      "\b Val Acc: 51.302083333333336\n",
      "**************************************************\n"
     ]
    },
    {
     "name": "stderr",
     "output_type": "stream",
     "text": [
      " 12%|█▏        | 122/1000 [05:56<47:50,  3.27s/it]"
     ]
    },
    {
     "name": "stdout",
     "output_type": "stream",
     "text": [
      "Epoch: 121 \n",
      "\b Train Loss: 0.6923522739750998 \n",
      "\b Train Acc: 51.38690476190476 \n",
      "\b Val Loss: 0.6925195189136447 \n",
      "\b Val Acc: 51.302083333333336\n",
      "**************************************************\n"
     ]
    },
    {
     "name": "stderr",
     "output_type": "stream",
     "text": [
      " 12%|█▏        | 123/1000 [05:59<48:02,  3.29s/it]"
     ]
    },
    {
     "name": "stdout",
     "output_type": "stream",
     "text": [
      "Epoch: 122 \n",
      "\b Train Loss: 0.6923328651133038 \n",
      "\b Train Acc: 51.419642857142854 \n",
      "\b Val Loss: 0.6925046904520555 \n",
      "\b Val Acc: 51.20738636363637\n",
      "**************************************************\n"
     ]
    },
    {
     "name": "stderr",
     "output_type": "stream",
     "text": [
      " 12%|█▏        | 124/1000 [06:03<48:14,  3.30s/it]"
     ]
    },
    {
     "name": "stdout",
     "output_type": "stream",
     "text": [
      "Epoch: 123 \n",
      "\b Train Loss: 0.692311935140973 \n",
      "\b Train Acc: 51.42559523809524 \n",
      "\b Val Loss: 0.6924848439115466 \n",
      "\b Val Acc: 51.302083333333336\n",
      "**************************************************\n"
     ]
    },
    {
     "name": "stderr",
     "output_type": "stream",
     "text": [
      " 12%|█▎        | 125/1000 [06:06<48:57,  3.36s/it]"
     ]
    },
    {
     "name": "stdout",
     "output_type": "stream",
     "text": [
      "Epoch: 124 \n",
      "\b Train Loss: 0.6922913218679883 \n",
      "\b Train Acc: 51.401785714285715 \n",
      "\b Val Loss: 0.6924647133458744 \n",
      "\b Val Acc: 51.44412878787879\n",
      "**************************************************\n"
     ]
    },
    {
     "name": "stderr",
     "output_type": "stream",
     "text": [
      " 13%|█▎        | 126/1000 [06:10<48:33,  3.33s/it]"
     ]
    },
    {
     "name": "stdout",
     "output_type": "stream",
     "text": [
      "Epoch: 125 \n",
      "\b Train Loss: 0.6922713988735563 \n",
      "\b Train Acc: 51.4375 \n",
      "\b Val Loss: 0.6924476826732809 \n",
      "\b Val Acc: 51.27840909090909\n",
      "**************************************************\n"
     ]
    },
    {
     "name": "stderr",
     "output_type": "stream",
     "text": [
      " 13%|█▎        | 127/1000 [06:13<47:34,  3.27s/it]"
     ]
    },
    {
     "name": "stdout",
     "output_type": "stream",
     "text": [
      "Epoch: 126 \n",
      "\b Train Loss: 0.6922509346689497 \n",
      "\b Train Acc: 51.455357142857146 \n",
      "\b Val Loss: 0.692428980812882 \n",
      "\b Val Acc: 51.42045454545455\n",
      "**************************************************\n"
     ]
    },
    {
     "name": "stderr",
     "output_type": "stream",
     "text": [
      " 13%|█▎        | 128/1000 [06:16<47:58,  3.30s/it]"
     ]
    },
    {
     "name": "stdout",
     "output_type": "stream",
     "text": [
      "Epoch: 127 \n",
      "\b Train Loss: 0.6922305417060852 \n",
      "\b Train Acc: 51.455357142857146 \n",
      "\b Val Loss: 0.6924101516152873 \n",
      "\b Val Acc: 51.515151515151516\n",
      "**************************************************\n"
     ]
    },
    {
     "name": "stderr",
     "output_type": "stream",
     "text": [
      " 13%|█▎        | 129/1000 [06:20<48:33,  3.35s/it]"
     ]
    },
    {
     "name": "stdout",
     "output_type": "stream",
     "text": [
      "Epoch: 128 \n",
      "\b Train Loss: 0.692210110596248 \n",
      "\b Train Acc: 51.44047619047619 \n",
      "\b Val Loss: 0.6923908324855746 \n",
      "\b Val Acc: 51.53882575757576\n",
      "**************************************************\n"
     ]
    },
    {
     "name": "stderr",
     "output_type": "stream",
     "text": [
      " 13%|█▎        | 130/1000 [06:23<48:28,  3.34s/it]"
     ]
    },
    {
     "name": "stdout",
     "output_type": "stream",
     "text": [
      "Epoch: 129 \n",
      "\b Train Loss: 0.6921892901261647 \n",
      "\b Train Acc: 51.43452380952381 \n",
      "\b Val Loss: 0.6923708698966287 \n",
      "\b Val Acc: 51.68087121212121\n",
      "**************************************************\n"
     ]
    },
    {
     "name": "stderr",
     "output_type": "stream",
     "text": [
      " 13%|█▎        | 131/1000 [06:26<48:08,  3.32s/it]"
     ]
    },
    {
     "name": "stdout",
     "output_type": "stream",
     "text": [
      "Epoch: 130 \n",
      "\b Train Loss: 0.6921676353613535 \n",
      "\b Train Acc: 51.4375 \n",
      "\b Val Loss: 0.6923495535597657 \n",
      "\b Val Acc: 51.70454545454545\n",
      "**************************************************\n"
     ]
    },
    {
     "name": "stderr",
     "output_type": "stream",
     "text": [
      " 13%|█▎        | 132/1000 [06:29<45:30,  3.15s/it]"
     ]
    },
    {
     "name": "stdout",
     "output_type": "stream",
     "text": [
      "Epoch: 131 \n",
      "\b Train Loss: 0.6921458913031079 \n",
      "\b Train Acc: 51.455357142857146 \n",
      "\b Val Loss: 0.6923287732131553 \n",
      "\b Val Acc: 51.70454545454545\n",
      "**************************************************\n"
     ]
    },
    {
     "name": "stderr",
     "output_type": "stream",
     "text": [
      " 13%|█▎        | 133/1000 [06:32<44:05,  3.05s/it]"
     ]
    },
    {
     "name": "stdout",
     "output_type": "stream",
     "text": [
      "Epoch: 132 \n",
      "\b Train Loss: 0.6921241239139012 \n",
      "\b Train Acc: 51.458333333333336 \n",
      "\b Val Loss: 0.6923083315292994 \n",
      "\b Val Acc: 51.822916666666664\n",
      "**************************************************\n"
     ]
    },
    {
     "name": "stderr",
     "output_type": "stream",
     "text": [
      " 13%|█▎        | 134/1000 [06:35<43:41,  3.03s/it]"
     ]
    },
    {
     "name": "stdout",
     "output_type": "stream",
     "text": [
      "Epoch: 133 \n",
      "\b Train Loss: 0.6921011938367572 \n",
      "\b Train Acc: 51.45238095238095 \n",
      "\b Val Loss: 0.6922879575779943 \n",
      "\b Val Acc: 51.68087121212121\n",
      "**************************************************\n"
     ]
    },
    {
     "name": "stderr",
     "output_type": "stream",
     "text": [
      " 14%|█▎        | 135/1000 [06:38<43:20,  3.01s/it]"
     ]
    },
    {
     "name": "stdout",
     "output_type": "stream",
     "text": [
      "Epoch: 134 \n",
      "\b Train Loss: 0.6920786120210375 \n",
      "\b Train Acc: 51.49404761904762 \n",
      "\b Val Loss: 0.6922665224833922 \n",
      "\b Val Acc: 51.68087121212121\n",
      "**************************************************\n"
     ]
    },
    {
     "name": "stderr",
     "output_type": "stream",
     "text": [
      " 14%|█▎        | 136/1000 [06:41<44:27,  3.09s/it]"
     ]
    },
    {
     "name": "stdout",
     "output_type": "stream",
     "text": [
      "Epoch: 135 \n",
      "\b Train Loss: 0.6920562633446284 \n",
      "\b Train Acc: 51.49107142857143 \n",
      "\b Val Loss: 0.6922453113577582 \n",
      "\b Val Acc: 51.609848484848484\n",
      "**************************************************\n"
     ]
    },
    {
     "name": "stderr",
     "output_type": "stream",
     "text": [
      " 14%|█▎        | 137/1000 [06:44<43:41,  3.04s/it]"
     ]
    },
    {
     "name": "stdout",
     "output_type": "stream",
     "text": [
      "Epoch: 136 \n",
      "\b Train Loss: 0.6920327833152953 \n",
      "\b Train Acc: 51.49702380952381 \n",
      "\b Val Loss: 0.6922233231139906 \n",
      "\b Val Acc: 51.77556818181818\n",
      "**************************************************\n"
     ]
    },
    {
     "name": "stderr",
     "output_type": "stream",
     "text": [
      " 14%|█▍        | 138/1000 [06:47<43:10,  3.01s/it]"
     ]
    },
    {
     "name": "stdout",
     "output_type": "stream",
     "text": [
      "Epoch: 137 \n",
      "\b Train Loss: 0.6920088072050186 \n",
      "\b Train Acc: 51.50892857142857 \n",
      "\b Val Loss: 0.6922020266453425 \n",
      "\b Val Acc: 51.75189393939394\n",
      "**************************************************\n"
     ]
    },
    {
     "name": "stderr",
     "output_type": "stream",
     "text": [
      " 14%|█▍        | 139/1000 [06:50<43:05,  3.00s/it]"
     ]
    },
    {
     "name": "stdout",
     "output_type": "stream",
     "text": [
      "Epoch: 138 \n",
      "\b Train Loss: 0.691984422263645 \n",
      "\b Train Acc: 51.51488095238095 \n",
      "\b Val Loss: 0.6921802560488383 \n",
      "\b Val Acc: 51.65719696969697\n",
      "**************************************************\n"
     ]
    },
    {
     "name": "stderr",
     "output_type": "stream",
     "text": [
      " 14%|█▍        | 140/1000 [06:53<43:40,  3.05s/it]"
     ]
    },
    {
     "name": "stdout",
     "output_type": "stream",
     "text": [
      "Epoch: 139 \n",
      "\b Train Loss: 0.6919588829789843 \n",
      "\b Train Acc: 51.532738095238095 \n",
      "\b Val Loss: 0.6921556926134861 \n",
      "\b Val Acc: 51.79924242424242\n",
      "**************************************************\n"
     ]
    },
    {
     "name": "stderr",
     "output_type": "stream",
     "text": [
      " 14%|█▍        | 141/1000 [06:56<43:12,  3.02s/it]"
     ]
    },
    {
     "name": "stdout",
     "output_type": "stream",
     "text": [
      "Epoch: 140 \n",
      "\b Train Loss: 0.6919335264819009 \n",
      "\b Train Acc: 51.55654761904762 \n",
      "\b Val Loss: 0.6921325502070513 \n",
      "\b Val Acc: 51.822916666666664\n",
      "**************************************************\n"
     ]
    },
    {
     "name": "stderr",
     "output_type": "stream",
     "text": [
      " 14%|█▍        | 142/1000 [06:59<42:05,  2.94s/it]"
     ]
    },
    {
     "name": "stdout",
     "output_type": "stream",
     "text": [
      "Epoch: 141 \n",
      "\b Train Loss: 0.691907183613096 \n",
      "\b Train Acc: 51.54761904761905 \n",
      "\b Val Loss: 0.692107383500446 \n",
      "\b Val Acc: 51.87026515151515\n",
      "**************************************************\n"
     ]
    },
    {
     "name": "stderr",
     "output_type": "stream",
     "text": [
      " 14%|█▍        | 143/1000 [07:02<44:07,  3.09s/it]"
     ]
    },
    {
     "name": "stdout",
     "output_type": "stream",
     "text": [
      "Epoch: 142 \n",
      "\b Train Loss: 0.6918806362719763 \n",
      "\b Train Acc: 51.55654761904762 \n",
      "\b Val Loss: 0.6920820388830069 \n",
      "\b Val Acc: 51.91761363636363\n",
      "**************************************************\n"
     ]
    },
    {
     "name": "stderr",
     "output_type": "stream",
     "text": [
      " 14%|█▍        | 144/1000 [07:05<44:14,  3.10s/it]"
     ]
    },
    {
     "name": "stdout",
     "output_type": "stream",
     "text": [
      "Epoch: 143 \n",
      "\b Train Loss: 0.6918534936791375 \n",
      "\b Train Acc: 51.580357142857146 \n",
      "\b Val Loss: 0.6920560751900529 \n",
      "\b Val Acc: 51.98863636363637\n",
      "**************************************************\n"
     ]
    },
    {
     "name": "stderr",
     "output_type": "stream",
     "text": [
      " 14%|█▍        | 145/1000 [07:08<44:14,  3.10s/it]"
     ]
    },
    {
     "name": "stdout",
     "output_type": "stream",
     "text": [
      "Epoch: 144 \n",
      "\b Train Loss: 0.6918255855355944 \n",
      "\b Train Acc: 51.607142857142854 \n",
      "\b Val Loss: 0.692029772382794 \n",
      "\b Val Acc: 52.10700757575758\n",
      "**************************************************\n"
     ]
    },
    {
     "name": "stderr",
     "output_type": "stream",
     "text": [
      " 15%|█▍        | 146/1000 [07:11<43:12,  3.04s/it]"
     ]
    },
    {
     "name": "stdout",
     "output_type": "stream",
     "text": [
      "Epoch: 145 \n",
      "\b Train Loss: 0.6917976981685275 \n",
      "\b Train Acc: 51.61011904761905 \n",
      "\b Val Loss: 0.692002616145394 \n",
      "\b Val Acc: 52.15435606060606\n",
      "**************************************************\n"
     ]
    },
    {
     "name": "stderr",
     "output_type": "stream",
     "text": [
      " 15%|█▍        | 147/1000 [07:14<41:53,  2.95s/it]"
     ]
    },
    {
     "name": "stdout",
     "output_type": "stream",
     "text": [
      "Epoch: 146 \n",
      "\b Train Loss: 0.6917691988036746 \n",
      "\b Train Acc: 51.63690476190476 \n",
      "\b Val Loss: 0.6919743599313678 \n",
      "\b Val Acc: 52.15435606060606\n",
      "**************************************************\n"
     ]
    },
    {
     "name": "stderr",
     "output_type": "stream",
     "text": [
      " 15%|█▍        | 148/1000 [07:17<41:21,  2.91s/it]"
     ]
    },
    {
     "name": "stdout",
     "output_type": "stream",
     "text": [
      "Epoch: 147 \n",
      "\b Train Loss: 0.6917401457400549 \n",
      "\b Train Acc: 51.63392857142857 \n",
      "\b Val Loss: 0.6919453234383555 \n",
      "\b Val Acc: 52.20170454545455\n",
      "**************************************************\n"
     ]
    },
    {
     "name": "stderr",
     "output_type": "stream",
     "text": [
      " 15%|█▍        | 149/1000 [07:20<40:46,  2.87s/it]"
     ]
    },
    {
     "name": "stdout",
     "output_type": "stream",
     "text": [
      "Epoch: 148 \n",
      "\b Train Loss: 0.6917101686909085 \n",
      "\b Train Acc: 51.62797619047619 \n",
      "\b Val Loss: 0.6919158764860847 \n",
      "\b Val Acc: 52.391098484848484\n",
      "**************************************************\n"
     ]
    },
    {
     "name": "stderr",
     "output_type": "stream",
     "text": [
      " 15%|█▌        | 150/1000 [07:23<41:08,  2.90s/it]"
     ]
    },
    {
     "name": "stdout",
     "output_type": "stream",
     "text": [
      "Epoch: 149 \n",
      "\b Train Loss: 0.6916801566737039 \n",
      "\b Train Acc: 51.663690476190474 \n",
      "\b Val Loss: 0.6918854844389539 \n",
      "\b Val Acc: 52.27272727272727\n",
      "**************************************************\n"
     ]
    },
    {
     "name": "stderr",
     "output_type": "stream",
     "text": [
      " 15%|█▌        | 151/1000 [07:25<41:06,  2.90s/it]"
     ]
    },
    {
     "name": "stdout",
     "output_type": "stream",
     "text": [
      "Epoch: 150 \n",
      "\b Train Loss: 0.6916490500313895 \n",
      "\b Train Acc: 51.669642857142854 \n",
      "\b Val Loss: 0.6918550711689573 \n",
      "\b Val Acc: 52.36742424242424\n",
      "**************************************************\n"
     ]
    },
    {
     "name": "stderr",
     "output_type": "stream",
     "text": [
      " 15%|█▌        | 152/1000 [07:28<40:31,  2.87s/it]"
     ]
    },
    {
     "name": "stdout",
     "output_type": "stream",
     "text": [
      "Epoch: 151 \n",
      "\b Train Loss: 0.6916172681535994 \n",
      "\b Train Acc: 51.666666666666664 \n",
      "\b Val Loss: 0.6918229718099941 \n",
      "\b Val Acc: 52.178030303030305\n",
      "**************************************************\n"
     ]
    },
    {
     "name": "stderr",
     "output_type": "stream",
     "text": [
      " 15%|█▌        | 153/1000 [07:31<40:48,  2.89s/it]"
     ]
    },
    {
     "name": "stdout",
     "output_type": "stream",
     "text": [
      "Epoch: 152 \n",
      "\b Train Loss: 0.691584483385086 \n",
      "\b Train Acc: 51.69642857142857 \n",
      "\b Val Loss: 0.69179019241622 \n",
      "\b Val Acc: 52.22537878787879\n",
      "**************************************************\n"
     ]
    },
    {
     "name": "stderr",
     "output_type": "stream",
     "text": [
      " 15%|█▌        | 154/1000 [07:34<40:11,  2.85s/it]"
     ]
    },
    {
     "name": "stdout",
     "output_type": "stream",
     "text": [
      "Epoch: 153 \n",
      "\b Train Loss: 0.6915509930111113 \n",
      "\b Train Acc: 51.74404761904762 \n",
      "\b Val Loss: 0.6917570517821745 \n",
      "\b Val Acc: 52.24905303030303\n",
      "**************************************************\n"
     ]
    },
    {
     "name": "stderr",
     "output_type": "stream",
     "text": [
      " 16%|█▌        | 155/1000 [07:37<40:00,  2.84s/it]"
     ]
    },
    {
     "name": "stdout",
     "output_type": "stream",
     "text": [
      "Epoch: 154 \n",
      "\b Train Loss: 0.6915179712431772 \n",
      "\b Train Acc: 51.785714285714285 \n",
      "\b Val Loss: 0.6917232807838556 \n",
      "\b Val Acc: 52.20170454545455\n",
      "**************************************************\n"
     ]
    },
    {
     "name": "stderr",
     "output_type": "stream",
     "text": [
      " 16%|█▌        | 156/1000 [07:40<39:46,  2.83s/it]"
     ]
    },
    {
     "name": "stdout",
     "output_type": "stream",
     "text": [
      "Epoch: 155 \n",
      "\b Train Loss: 0.6914833370276859 \n",
      "\b Train Acc: 51.80357142857143 \n",
      "\b Val Loss: 0.6916889923088478 \n",
      "\b Val Acc: 52.178030303030305\n",
      "**************************************************\n"
     ]
    },
    {
     "name": "stderr",
     "output_type": "stream",
     "text": [
      " 16%|█▌        | 157/1000 [07:42<39:57,  2.84s/it]"
     ]
    },
    {
     "name": "stdout",
     "output_type": "stream",
     "text": [
      "Epoch: 156 \n",
      "\b Train Loss: 0.6914488094193595 \n",
      "\b Train Acc: 51.79761904761905 \n",
      "\b Val Loss: 0.6916533415064667 \n",
      "\b Val Acc: 52.20170454545455\n",
      "**************************************************\n"
     ]
    },
    {
     "name": "stderr",
     "output_type": "stream",
     "text": [
      " 16%|█▌        | 158/1000 [07:45<39:52,  2.84s/it]"
     ]
    },
    {
     "name": "stdout",
     "output_type": "stream",
     "text": [
      "Epoch: 157 \n",
      "\b Train Loss: 0.6914132114251454 \n",
      "\b Train Acc: 51.791666666666664 \n",
      "\b Val Loss: 0.6916167478669774 \n",
      "\b Val Acc: 52.15435606060606\n",
      "**************************************************\n"
     ]
    },
    {
     "name": "stderr",
     "output_type": "stream",
     "text": [
      " 16%|█▌        | 159/1000 [07:48<39:38,  2.83s/it]"
     ]
    },
    {
     "name": "stdout",
     "output_type": "stream",
     "text": [
      "Epoch: 158 \n",
      "\b Train Loss: 0.6913766943840753 \n",
      "\b Train Acc: 51.80059523809524 \n",
      "\b Val Loss: 0.6915789065939008 \n",
      "\b Val Acc: 52.083333333333336\n",
      "**************************************************\n"
     ]
    },
    {
     "name": "stderr",
     "output_type": "stream",
     "text": [
      " 16%|█▌        | 160/1000 [07:51<40:26,  2.89s/it]"
     ]
    },
    {
     "name": "stdout",
     "output_type": "stream",
     "text": [
      "Epoch: 159 \n",
      "\b Train Loss: 0.6913394583406902 \n",
      "\b Train Acc: 51.82738095238095 \n",
      "\b Val Loss: 0.6915405920960687 \n",
      "\b Val Acc: 52.10700757575758\n",
      "**************************************************\n"
     ]
    },
    {
     "name": "stderr",
     "output_type": "stream",
     "text": [
      " 16%|█▌        | 161/1000 [07:54<40:16,  2.88s/it]"
     ]
    },
    {
     "name": "stdout",
     "output_type": "stream",
     "text": [
      "Epoch: 160 \n",
      "\b Train Loss: 0.6913020214580354 \n",
      "\b Train Acc: 51.845238095238095 \n",
      "\b Val Loss: 0.6915021859335176 \n",
      "\b Val Acc: 52.22537878787879\n",
      "**************************************************\n"
     ]
    },
    {
     "name": "stderr",
     "output_type": "stream",
     "text": [
      " 16%|█▌        | 162/1000 [07:57<39:57,  2.86s/it]"
     ]
    },
    {
     "name": "stdout",
     "output_type": "stream",
     "text": [
      "Epoch: 161 \n",
      "\b Train Loss: 0.6912639843282246 \n",
      "\b Train Acc: 51.86607142857143 \n",
      "\b Val Loss: 0.6914629818815173 \n",
      "\b Val Acc: 52.20170454545455\n",
      "**************************************************\n"
     ]
    },
    {
     "name": "stderr",
     "output_type": "stream",
     "text": [
      " 16%|█▋        | 163/1000 [08:00<39:35,  2.84s/it]"
     ]
    },
    {
     "name": "stdout",
     "output_type": "stream",
     "text": [
      "Epoch: 162 \n",
      "\b Train Loss: 0.6912255682264056 \n",
      "\b Train Acc: 51.901785714285715 \n",
      "\b Val Loss: 0.6914234739361387 \n",
      "\b Val Acc: 52.20170454545455\n",
      "**************************************************\n"
     ]
    },
    {
     "name": "stderr",
     "output_type": "stream",
     "text": [
      " 16%|█▋        | 164/1000 [08:02<39:46,  2.85s/it]"
     ]
    },
    {
     "name": "stdout",
     "output_type": "stream",
     "text": [
      "Epoch: 163 \n",
      "\b Train Loss: 0.6911863580204192 \n",
      "\b Train Acc: 51.92559523809524 \n",
      "\b Val Loss: 0.6913839384461894 \n",
      "\b Val Acc: 52.13068181818182\n",
      "**************************************************\n"
     ]
    },
    {
     "name": "stderr",
     "output_type": "stream",
     "text": [
      " 16%|█▋        | 165/1000 [08:05<39:47,  2.86s/it]"
     ]
    },
    {
     "name": "stdout",
     "output_type": "stream",
     "text": [
      "Epoch: 164 \n",
      "\b Train Loss: 0.6911473342350551 \n",
      "\b Train Acc: 51.93452380952381 \n",
      "\b Val Loss: 0.6913437929117319 \n",
      "\b Val Acc: 52.10700757575758\n",
      "**************************************************\n"
     ]
    },
    {
     "name": "stderr",
     "output_type": "stream",
     "text": [
      " 17%|█▋        | 166/1000 [08:08<39:23,  2.83s/it]"
     ]
    },
    {
     "name": "stdout",
     "output_type": "stream",
     "text": [
      "Epoch: 165 \n",
      "\b Train Loss: 0.6911077773003351 \n",
      "\b Train Acc: 51.958333333333336 \n",
      "\b Val Loss: 0.6913036848559524 \n",
      "\b Val Acc: 51.941287878787875\n",
      "**************************************************\n"
     ]
    },
    {
     "name": "stderr",
     "output_type": "stream",
     "text": [
      " 17%|█▋        | 167/1000 [08:12<42:19,  3.05s/it]"
     ]
    },
    {
     "name": "stdout",
     "output_type": "stream",
     "text": [
      "Epoch: 166 \n",
      "\b Train Loss: 0.6910671404997508 \n",
      "\b Train Acc: 51.967261904761905 \n",
      "\b Val Loss: 0.6912627314979379 \n",
      "\b Val Acc: 51.98863636363637\n",
      "**************************************************\n"
     ]
    },
    {
     "name": "stderr",
     "output_type": "stream",
     "text": [
      " 17%|█▋        | 168/1000 [08:15<41:50,  3.02s/it]"
     ]
    },
    {
     "name": "stdout",
     "output_type": "stream",
     "text": [
      "Epoch: 167 \n",
      "\b Train Loss: 0.6910263815947941 \n",
      "\b Train Acc: 52.00297619047619 \n",
      "\b Val Loss: 0.6912205408919941 \n",
      "\b Val Acc: 51.941287878787875\n",
      "**************************************************\n"
     ]
    },
    {
     "name": "stderr",
     "output_type": "stream",
     "text": [
      " 17%|█▋        | 169/1000 [08:17<41:09,  2.97s/it]"
     ]
    },
    {
     "name": "stdout",
     "output_type": "stream",
     "text": [
      "Epoch: 168 \n",
      "\b Train Loss: 0.6909846481822786 \n",
      "\b Train Acc: 52.01488095238095 \n",
      "\b Val Loss: 0.6911771739974166 \n",
      "\b Val Acc: 52.01231060606061\n",
      "**************************************************\n"
     ]
    },
    {
     "name": "stderr",
     "output_type": "stream",
     "text": [
      " 17%|█▋        | 170/1000 [08:20<40:34,  2.93s/it]"
     ]
    },
    {
     "name": "stdout",
     "output_type": "stream",
     "text": [
      "Epoch: 169 \n",
      "\b Train Loss: 0.6909425829705738 \n",
      "\b Train Acc: 52.05654761904762 \n",
      "\b Val Loss: 0.6911343218702258 \n",
      "\b Val Acc: 52.03598484848485\n",
      "**************************************************\n"
     ]
    },
    {
     "name": "stderr",
     "output_type": "stream",
     "text": [
      " 17%|█▋        | 171/1000 [08:23<40:07,  2.90s/it]"
     ]
    },
    {
     "name": "stdout",
     "output_type": "stream",
     "text": [
      "Epoch: 170 \n",
      "\b Train Loss: 0.6909012435731434 \n",
      "\b Train Acc: 52.101190476190474 \n",
      "\b Val Loss: 0.6910920246984019 \n",
      "\b Val Acc: 52.083333333333336\n",
      "**************************************************\n"
     ]
    },
    {
     "name": "stderr",
     "output_type": "stream",
     "text": [
      " 17%|█▋        | 172/1000 [08:26<39:52,  2.89s/it]"
     ]
    },
    {
     "name": "stdout",
     "output_type": "stream",
     "text": [
      "Epoch: 171 \n",
      "\b Train Loss: 0.690859580380576 \n",
      "\b Train Acc: 52.13095238095238 \n",
      "\b Val Loss: 0.6910495712901606 \n",
      "\b Val Acc: 51.98863636363637\n",
      "**************************************************\n"
     ]
    },
    {
     "name": "stderr",
     "output_type": "stream",
     "text": [
      " 17%|█▋        | 173/1000 [08:29<39:22,  2.86s/it]"
     ]
    },
    {
     "name": "stdout",
     "output_type": "stream",
     "text": [
      "Epoch: 172 \n",
      "\b Train Loss: 0.6908170924867902 \n",
      "\b Train Acc: 52.17857142857143 \n",
      "\b Val Loss: 0.6910074759613384 \n",
      "\b Val Acc: 51.941287878787875\n",
      "**************************************************\n"
     ]
    },
    {
     "name": "stderr",
     "output_type": "stream",
     "text": [
      " 17%|█▋        | 174/1000 [08:32<39:05,  2.84s/it]"
     ]
    },
    {
     "name": "stdout",
     "output_type": "stream",
     "text": [
      "Epoch: 173 \n",
      "\b Train Loss: 0.6907745590664092 \n",
      "\b Train Acc: 52.19047619047619 \n",
      "\b Val Loss: 0.6909639726985585 \n",
      "\b Val Acc: 51.91761363636363\n",
      "**************************************************\n"
     ]
    },
    {
     "name": "stderr",
     "output_type": "stream",
     "text": [
      " 18%|█▊        | 175/1000 [08:34<38:57,  2.83s/it]"
     ]
    },
    {
     "name": "stdout",
     "output_type": "stream",
     "text": [
      "Epoch: 174 \n",
      "\b Train Loss: 0.6907317446527027 \n",
      "\b Train Acc: 52.20238095238095 \n",
      "\b Val Loss: 0.6909194859591398 \n",
      "\b Val Acc: 51.941287878787875\n",
      "**************************************************\n"
     ]
    },
    {
     "name": "stderr",
     "output_type": "stream",
     "text": [
      " 18%|█▊        | 176/1000 [08:37<39:15,  2.86s/it]"
     ]
    },
    {
     "name": "stdout",
     "output_type": "stream",
     "text": [
      "Epoch: 175 \n",
      "\b Train Loss: 0.690687789349329 \n",
      "\b Train Acc: 52.226190476190474 \n",
      "\b Val Loss: 0.6908738315105438 \n",
      "\b Val Acc: 52.03598484848485\n",
      "**************************************************\n"
     ]
    },
    {
     "name": "stderr",
     "output_type": "stream",
     "text": [
      " 18%|█▊        | 177/1000 [08:40<39:41,  2.89s/it]"
     ]
    },
    {
     "name": "stdout",
     "output_type": "stream",
     "text": [
      "Epoch: 176 \n",
      "\b Train Loss: 0.6906429487750644 \n",
      "\b Train Acc: 52.24107142857143 \n",
      "\b Val Loss: 0.6908271389477181 \n",
      "\b Val Acc: 51.98863636363637\n",
      "**************************************************\n"
     ]
    },
    {
     "name": "stderr",
     "output_type": "stream",
     "text": [
      " 18%|█▊        | 178/1000 [08:43<39:24,  2.88s/it]"
     ]
    },
    {
     "name": "stdout",
     "output_type": "stream",
     "text": [
      "Epoch: 177 \n",
      "\b Train Loss: 0.69059842529751 \n",
      "\b Train Acc: 52.270833333333336 \n",
      "\b Val Loss: 0.6907804305806304 \n",
      "\b Val Acc: 52.15435606060606\n",
      "**************************************************\n"
     ]
    },
    {
     "name": "stderr",
     "output_type": "stream",
     "text": [
      " 18%|█▊        | 179/1000 [08:46<39:17,  2.87s/it]"
     ]
    },
    {
     "name": "stdout",
     "output_type": "stream",
     "text": [
      "Epoch: 178 \n",
      "\b Train Loss: 0.6905532380512782 \n",
      "\b Train Acc: 52.32738095238095 \n",
      "\b Val Loss: 0.6907347309770007 \n",
      "\b Val Acc: 52.13068181818182\n",
      "**************************************************\n"
     ]
    },
    {
     "name": "stderr",
     "output_type": "stream",
     "text": [
      " 18%|█▊        | 180/1000 [08:49<39:13,  2.87s/it]"
     ]
    },
    {
     "name": "stdout",
     "output_type": "stream",
     "text": [
      "Epoch: 179 \n",
      "\b Train Loss: 0.6905062813418252 \n",
      "\b Train Acc: 52.339285714285715 \n",
      "\b Val Loss: 0.6906874310789686 \n",
      "\b Val Acc: 52.083333333333336\n",
      "**************************************************\n"
     ]
    },
    {
     "name": "stderr",
     "output_type": "stream",
     "text": [
      " 18%|█▊        | 181/1000 [08:52<39:14,  2.88s/it]"
     ]
    },
    {
     "name": "stdout",
     "output_type": "stream",
     "text": [
      "Epoch: 180 \n",
      "\b Train Loss: 0.6904600123564403 \n",
      "\b Train Acc: 52.36309523809524 \n",
      "\b Val Loss: 0.6906393585783063 \n",
      "\b Val Acc: 52.05965909090909\n",
      "**************************************************\n"
     ]
    },
    {
     "name": "stderr",
     "output_type": "stream",
     "text": [
      " 18%|█▊        | 182/1000 [08:54<38:49,  2.85s/it]"
     ]
    },
    {
     "name": "stdout",
     "output_type": "stream",
     "text": [
      "Epoch: 181 \n",
      "\b Train Loss: 0.6904140318575359 \n",
      "\b Train Acc: 52.392857142857146 \n",
      "\b Val Loss: 0.6905916197733446 \n",
      "\b Val Acc: 51.98863636363637\n",
      "**************************************************\n"
     ]
    },
    {
     "name": "stderr",
     "output_type": "stream",
     "text": [
      " 18%|█▊        | 183/1000 [08:57<38:57,  2.86s/it]"
     ]
    },
    {
     "name": "stdout",
     "output_type": "stream",
     "text": [
      "Epoch: 182 \n",
      "\b Train Loss: 0.6903665548279172 \n",
      "\b Train Acc: 52.44345238095238 \n",
      "\b Val Loss: 0.6905453250263677 \n",
      "\b Val Acc: 51.91761363636363\n",
      "**************************************************\n"
     ]
    },
    {
     "name": "stderr",
     "output_type": "stream",
     "text": [
      " 18%|█▊        | 184/1000 [09:00<38:53,  2.86s/it]"
     ]
    },
    {
     "name": "stdout",
     "output_type": "stream",
     "text": [
      "Epoch: 183 \n",
      "\b Train Loss: 0.6903192609264737 \n",
      "\b Train Acc: 52.473214285714285 \n",
      "\b Val Loss: 0.6904986469131528 \n",
      "\b Val Acc: 51.91761363636363\n",
      "**************************************************\n"
     ]
    },
    {
     "name": "stderr",
     "output_type": "stream",
     "text": [
      " 18%|█▊        | 185/1000 [09:03<39:44,  2.93s/it]"
     ]
    },
    {
     "name": "stdout",
     "output_type": "stream",
     "text": [
      "Epoch: 184 \n",
      "\b Train Loss: 0.6902709313801356 \n",
      "\b Train Acc: 52.48809523809524 \n",
      "\b Val Loss: 0.6904501933040041 \n",
      "\b Val Acc: 51.98863636363637\n",
      "**************************************************\n"
     ]
    },
    {
     "name": "stderr",
     "output_type": "stream",
     "text": [
      " 19%|█▊        | 186/1000 [09:06<40:25,  2.98s/it]"
     ]
    },
    {
     "name": "stdout",
     "output_type": "stream",
     "text": [
      "Epoch: 185 \n",
      "\b Train Loss: 0.6902225771404448 \n",
      "\b Train Acc: 52.526785714285715 \n",
      "\b Val Loss: 0.6904030514485908 \n",
      "\b Val Acc: 52.01231060606061\n",
      "**************************************************\n"
     ]
    },
    {
     "name": "stderr",
     "output_type": "stream",
     "text": [
      " 19%|█▊        | 187/1000 [09:10<42:10,  3.11s/it]"
     ]
    },
    {
     "name": "stdout",
     "output_type": "stream",
     "text": [
      "Epoch: 186 \n",
      "\b Train Loss: 0.6901736632415226 \n",
      "\b Train Acc: 52.55654761904762 \n",
      "\b Val Loss: 0.6903552887114611 \n",
      "\b Val Acc: 52.20170454545455\n",
      "**************************************************\n"
     ]
    },
    {
     "name": "stderr",
     "output_type": "stream",
     "text": [
      " 19%|█▉        | 188/1000 [09:13<43:40,  3.23s/it]"
     ]
    },
    {
     "name": "stdout",
     "output_type": "stream",
     "text": [
      "Epoch: 187 \n",
      "\b Train Loss: 0.6901241403534298 \n",
      "\b Train Acc: 52.5625 \n",
      "\b Val Loss: 0.6903059315500837 \n",
      "\b Val Acc: 52.15435606060606\n",
      "**************************************************\n"
     ]
    },
    {
     "name": "stderr",
     "output_type": "stream",
     "text": [
      " 19%|█▉        | 189/1000 [09:16<42:45,  3.16s/it]"
     ]
    },
    {
     "name": "stdout",
     "output_type": "stream",
     "text": [
      "Epoch: 188 \n",
      "\b Train Loss: 0.6900745319184802 \n",
      "\b Train Acc: 52.61011904761905 \n",
      "\b Val Loss: 0.6902563151988116 \n",
      "\b Val Acc: 52.36742424242424\n",
      "**************************************************\n"
     ]
    },
    {
     "name": "stderr",
     "output_type": "stream",
     "text": [
      " 19%|█▉        | 190/1000 [09:19<41:47,  3.10s/it]"
     ]
    },
    {
     "name": "stdout",
     "output_type": "stream",
     "text": [
      "Epoch: 189 \n",
      "\b Train Loss: 0.6900245134035746 \n",
      "\b Train Acc: 52.63690476190476 \n",
      "\b Val Loss: 0.6902066713029688 \n",
      "\b Val Acc: 52.296401515151516\n",
      "**************************************************\n"
     ]
    },
    {
     "name": "stderr",
     "output_type": "stream",
     "text": [
      " 19%|█▉        | 191/1000 [09:22<40:40,  3.02s/it]"
     ]
    },
    {
     "name": "stdout",
     "output_type": "stream",
     "text": [
      "Epoch: 190 \n",
      "\b Train Loss: 0.6899738572892689 \n",
      "\b Train Acc: 52.68452380952381 \n",
      "\b Val Loss: 0.6901573764555382 \n",
      "\b Val Acc: 52.296401515151516\n",
      "**************************************************\n"
     ]
    },
    {
     "name": "stderr",
     "output_type": "stream",
     "text": [
      " 19%|█▉        | 192/1000 [09:25<40:14,  2.99s/it]"
     ]
    },
    {
     "name": "stdout",
     "output_type": "stream",
     "text": [
      "Epoch: 191 \n",
      "\b Train Loss: 0.6899230532419114 \n",
      "\b Train Acc: 52.705357142857146 \n",
      "\b Val Loss: 0.6901061656800184 \n",
      "\b Val Acc: 52.296401515151516\n",
      "**************************************************\n"
     ]
    },
    {
     "name": "stderr",
     "output_type": "stream",
     "text": [
      " 19%|█▉        | 193/1000 [09:28<39:34,  2.94s/it]"
     ]
    },
    {
     "name": "stdout",
     "output_type": "stream",
     "text": [
      "Epoch: 192 \n",
      "\b Train Loss: 0.6898719844363984 \n",
      "\b Train Acc: 52.732142857142854 \n",
      "\b Val Loss: 0.6900559573462515 \n",
      "\b Val Acc: 52.43844696969697\n",
      "**************************************************\n"
     ]
    },
    {
     "name": "stderr",
     "output_type": "stream",
     "text": [
      " 19%|█▉        | 194/1000 [09:31<39:11,  2.92s/it]"
     ]
    },
    {
     "name": "stdout",
     "output_type": "stream",
     "text": [
      "Epoch: 193 \n",
      "\b Train Loss: 0.6898202969346727 \n",
      "\b Train Acc: 52.785714285714285 \n",
      "\b Val Loss: 0.6900059933012183 \n",
      "\b Val Acc: 52.46212121212121\n",
      "**************************************************\n"
     ]
    },
    {
     "name": "stderr",
     "output_type": "stream",
     "text": [
      " 20%|█▉        | 195/1000 [09:34<38:35,  2.88s/it]"
     ]
    },
    {
     "name": "stdout",
     "output_type": "stream",
     "text": [
      "Epoch: 194 \n",
      "\b Train Loss: 0.6897691808428084 \n",
      "\b Train Acc: 52.851190476190474 \n",
      "\b Val Loss: 0.6899570393742938 \n",
      "\b Val Acc: 52.43844696969697\n",
      "**************************************************\n"
     ]
    },
    {
     "name": "stderr",
     "output_type": "stream",
     "text": [
      " 20%|█▉        | 196/1000 [09:36<38:35,  2.88s/it]"
     ]
    },
    {
     "name": "stdout",
     "output_type": "stream",
     "text": [
      "Epoch: 195 \n",
      "\b Train Loss: 0.6897168609074183 \n",
      "\b Train Acc: 52.848214285714285 \n",
      "\b Val Loss: 0.6899047376531543 \n",
      "\b Val Acc: 52.65151515151515\n",
      "**************************************************\n"
     ]
    },
    {
     "name": "stderr",
     "output_type": "stream",
     "text": [
      " 20%|█▉        | 197/1000 [09:39<38:37,  2.89s/it]"
     ]
    },
    {
     "name": "stdout",
     "output_type": "stream",
     "text": [
      "Epoch: 196 \n",
      "\b Train Loss: 0.6896655943847838 \n",
      "\b Train Acc: 52.92261904761905 \n",
      "\b Val Loss: 0.6898548715945446 \n",
      "\b Val Acc: 52.65151515151515\n",
      "**************************************************\n"
     ]
    },
    {
     "name": "stderr",
     "output_type": "stream",
     "text": [
      " 20%|█▉        | 198/1000 [09:42<38:56,  2.91s/it]"
     ]
    },
    {
     "name": "stdout",
     "output_type": "stream",
     "text": [
      "Epoch: 197 \n",
      "\b Train Loss: 0.6896137794426509 \n",
      "\b Train Acc: 52.955357142857146 \n",
      "\b Val Loss: 0.6898046646154288 \n",
      "\b Val Acc: 52.81723484848485\n",
      "**************************************************\n"
     ]
    },
    {
     "name": "stderr",
     "output_type": "stream",
     "text": [
      " 20%|█▉        | 199/1000 [09:45<38:35,  2.89s/it]"
     ]
    },
    {
     "name": "stdout",
     "output_type": "stream",
     "text": [
      "Epoch: 198 \n",
      "\b Train Loss: 0.6895617630935851 \n",
      "\b Train Acc: 52.99702380952381 \n",
      "\b Val Loss: 0.6897544291886416 \n",
      "\b Val Acc: 52.81723484848485\n",
      "**************************************************\n"
     ]
    },
    {
     "name": "stderr",
     "output_type": "stream",
     "text": [
      " 20%|██        | 200/1000 [09:48<38:21,  2.88s/it]"
     ]
    },
    {
     "name": "stdout",
     "output_type": "stream",
     "text": [
      "Epoch: 199 \n",
      "\b Train Loss: 0.6895093975748334 \n",
      "\b Train Acc: 53.029761904761905 \n",
      "\b Val Loss: 0.6897045112017429 \n",
      "\b Val Acc: 52.88825757575758\n",
      "**************************************************\n"
     ]
    },
    {
     "name": "stderr",
     "output_type": "stream",
     "text": [
      " 20%|██        | 201/1000 [09:51<38:31,  2.89s/it]"
     ]
    },
    {
     "name": "stdout",
     "output_type": "stream",
     "text": [
      "Epoch: 200 \n",
      "\b Train Loss: 0.6894565448306855 \n",
      "\b Train Acc: 53.0625 \n",
      "\b Val Loss: 0.6896534160231099 \n",
      "\b Val Acc: 52.88825757575758\n",
      "**************************************************\n"
     ]
    },
    {
     "name": "stderr",
     "output_type": "stream",
     "text": [
      " 20%|██        | 202/1000 [09:54<38:26,  2.89s/it]"
     ]
    },
    {
     "name": "stdout",
     "output_type": "stream",
     "text": [
      "Epoch: 201 \n",
      "\b Train Loss: 0.6894043828192211 \n",
      "\b Train Acc: 53.11309523809524 \n",
      "\b Val Loss: 0.6896025642301097 \n",
      "\b Val Acc: 52.91193181818182\n",
      "**************************************************\n"
     ]
    },
    {
     "name": "stderr",
     "output_type": "stream",
     "text": [
      " 20%|██        | 203/1000 [09:57<40:32,  3.05s/it]"
     ]
    },
    {
     "name": "stdout",
     "output_type": "stream",
     "text": [
      "Epoch: 202 \n",
      "\b Train Loss: 0.6893514744440714 \n",
      "\b Train Acc: 53.154761904761905 \n",
      "\b Val Loss: 0.6895516419952566 \n",
      "\b Val Acc: 52.93560606060606\n",
      "**************************************************\n"
     ]
    },
    {
     "name": "stderr",
     "output_type": "stream",
     "text": [
      " 20%|██        | 204/1000 [10:00<40:40,  3.07s/it]"
     ]
    },
    {
     "name": "stdout",
     "output_type": "stream",
     "text": [
      "Epoch: 203 \n",
      "\b Train Loss: 0.6892994449819837 \n",
      "\b Train Acc: 53.17261904761905 \n",
      "\b Val Loss: 0.6894994432275946 \n",
      "\b Val Acc: 52.98295454545455\n",
      "**************************************************\n"
     ]
    },
    {
     "name": "stderr",
     "output_type": "stream",
     "text": [
      " 20%|██        | 205/1000 [10:03<39:51,  3.01s/it]"
     ]
    },
    {
     "name": "stdout",
     "output_type": "stream",
     "text": [
      "Epoch: 204 \n",
      "\b Train Loss: 0.6892464990275247 \n",
      "\b Train Acc: 53.217261904761905 \n",
      "\b Val Loss: 0.6894480680877512 \n",
      "\b Val Acc: 53.125\n",
      "**************************************************\n"
     ]
    },
    {
     "name": "stderr",
     "output_type": "stream",
     "text": [
      " 21%|██        | 206/1000 [10:06<39:29,  2.98s/it]"
     ]
    },
    {
     "name": "stdout",
     "output_type": "stream",
     "text": [
      "Epoch: 205 \n",
      "\b Train Loss: 0.6891932466484252 \n",
      "\b Train Acc: 53.25892857142857 \n",
      "\b Val Loss: 0.6893973368586916 \n",
      "\b Val Acc: 53.00662878787879\n",
      "**************************************************\n"
     ]
    },
    {
     "name": "stderr",
     "output_type": "stream",
     "text": [
      " 21%|██        | 207/1000 [10:09<39:28,  2.99s/it]"
     ]
    },
    {
     "name": "stdout",
     "output_type": "stream",
     "text": [
      "Epoch: 206 \n",
      "\b Train Loss: 0.6891393763110751 \n",
      "\b Train Acc: 53.294642857142854 \n",
      "\b Val Loss: 0.6893467961838751 \n",
      "\b Val Acc: 53.05397727272727\n",
      "**************************************************\n"
     ]
    },
    {
     "name": "stderr",
     "output_type": "stream",
     "text": [
      " 21%|██        | 208/1000 [10:12<39:46,  3.01s/it]"
     ]
    },
    {
     "name": "stdout",
     "output_type": "stream",
     "text": [
      "Epoch: 207 \n",
      "\b Train Loss: 0.6890863429932367 \n",
      "\b Train Acc: 53.333333333333336 \n",
      "\b Val Loss: 0.6892957908637596 \n",
      "\b Val Acc: 53.125\n",
      "**************************************************\n"
     ]
    },
    {
     "name": "stderr",
     "output_type": "stream",
     "text": [
      " 21%|██        | 209/1000 [10:15<40:49,  3.10s/it]"
     ]
    },
    {
     "name": "stdout",
     "output_type": "stream",
     "text": [
      "Epoch: 208 \n",
      "\b Train Loss: 0.6890321223508744 \n",
      "\b Train Acc: 53.36011904761905 \n",
      "\b Val Loss: 0.68924442069097 \n",
      "\b Val Acc: 53.125\n",
      "**************************************************\n"
     ]
    },
    {
     "name": "stderr",
     "output_type": "stream",
     "text": [
      " 21%|██        | 210/1000 [10:19<41:15,  3.13s/it]"
     ]
    },
    {
     "name": "stdout",
     "output_type": "stream",
     "text": [
      "Epoch: 209 \n",
      "\b Train Loss: 0.6889783578259604 \n",
      "\b Train Acc: 53.38392857142857 \n",
      "\b Val Loss: 0.6891917058012702 \n",
      "\b Val Acc: 53.10132575757576\n",
      "**************************************************\n"
     ]
    },
    {
     "name": "stderr",
     "output_type": "stream",
     "text": [
      " 21%|██        | 211/1000 [10:22<40:46,  3.10s/it]"
     ]
    },
    {
     "name": "stdout",
     "output_type": "stream",
     "text": [
      "Epoch: 210 \n",
      "\b Train Loss: 0.6889245404515948 \n",
      "\b Train Acc: 53.413690476190474 \n",
      "\b Val Loss: 0.6891383366151289 \n",
      "\b Val Acc: 53.03030303030303\n",
      "**************************************************\n"
     ]
    },
    {
     "name": "stderr",
     "output_type": "stream",
     "text": [
      " 21%|██        | 212/1000 [10:25<42:52,  3.27s/it]"
     ]
    },
    {
     "name": "stdout",
     "output_type": "stream",
     "text": [
      "Epoch: 211 \n",
      "\b Train Loss: 0.6888700372832162 \n",
      "\b Train Acc: 53.458333333333336 \n",
      "\b Val Loss: 0.6890844156344732 \n",
      "\b Val Acc: 53.10132575757576\n",
      "**************************************************\n"
     ]
    },
    {
     "name": "stderr",
     "output_type": "stream",
     "text": [
      " 21%|██▏       | 213/1000 [10:29<42:46,  3.26s/it]"
     ]
    },
    {
     "name": "stdout",
     "output_type": "stream",
     "text": [
      "Epoch: 212 \n",
      "\b Train Loss: 0.6888160064674559 \n",
      "\b Train Acc: 53.50892857142857 \n",
      "\b Val Loss: 0.6890316149502089 \n",
      "\b Val Acc: 53.19602272727273\n",
      "**************************************************\n"
     ]
    },
    {
     "name": "stderr",
     "output_type": "stream",
     "text": [
      " 21%|██▏       | 214/1000 [10:32<42:28,  3.24s/it]"
     ]
    },
    {
     "name": "stdout",
     "output_type": "stream",
     "text": [
      "Epoch: 213 \n",
      "\b Train Loss: 0.6887614077045804 \n",
      "\b Train Acc: 53.532738095238095 \n",
      "\b Val Loss: 0.6889778222098495 \n",
      "\b Val Acc: 53.290719696969695\n",
      "**************************************************\n"
     ]
    },
    {
     "name": "stderr",
     "output_type": "stream",
     "text": [
      " 22%|██▏       | 215/1000 [10:35<41:42,  3.19s/it]"
     ]
    },
    {
     "name": "stdout",
     "output_type": "stream",
     "text": [
      "Epoch: 214 \n",
      "\b Train Loss: 0.6887064809458596 \n",
      "\b Train Acc: 53.54761904761905 \n",
      "\b Val Loss: 0.6889233015703432 \n",
      "\b Val Acc: 53.45643939393939\n",
      "**************************************************\n"
     ]
    },
    {
     "name": "stderr",
     "output_type": "stream",
     "text": [
      " 22%|██▏       | 216/1000 [10:38<42:23,  3.24s/it]"
     ]
    },
    {
     "name": "stdout",
     "output_type": "stream",
     "text": [
      "Epoch: 215 \n",
      "\b Train Loss: 0.6886520336355482 \n",
      "\b Train Acc: 53.592261904761905 \n",
      "\b Val Loss: 0.6888699116128864 \n",
      "\b Val Acc: 53.43276515151515\n",
      "**************************************************\n"
     ]
    },
    {
     "name": "stderr",
     "output_type": "stream",
     "text": [
      " 22%|██▏       | 217/1000 [10:42<42:56,  3.29s/it]"
     ]
    },
    {
     "name": "stdout",
     "output_type": "stream",
     "text": [
      "Epoch: 216 \n",
      "\b Train Loss: 0.6885968169711885 \n",
      "\b Train Acc: 53.63392857142857 \n",
      "\b Val Loss: 0.688817205302643 \n",
      "\b Val Acc: 53.503787878787875\n",
      "**************************************************\n"
     ]
    },
    {
     "name": "stderr",
     "output_type": "stream",
     "text": [
      " 22%|██▏       | 218/1000 [10:45<44:10,  3.39s/it]"
     ]
    },
    {
     "name": "stdout",
     "output_type": "stream",
     "text": [
      "Epoch: 217 \n",
      "\b Train Loss: 0.6885420302549998 \n",
      "\b Train Acc: 53.654761904761905 \n",
      "\b Val Loss: 0.6887643906203184 \n",
      "\b Val Acc: 53.59848484848485\n",
      "**************************************************\n"
     ]
    },
    {
     "name": "stderr",
     "output_type": "stream",
     "text": [
      " 22%|██▏       | 219/1000 [10:49<44:30,  3.42s/it]"
     ]
    },
    {
     "name": "stdout",
     "output_type": "stream",
     "text": [
      "Epoch: 218 \n",
      "\b Train Loss: 0.688486745981943 \n",
      "\b Train Acc: 53.70238095238095 \n",
      "\b Val Loss: 0.6887110385930899 \n",
      "\b Val Acc: 53.62215909090909\n",
      "**************************************************\n"
     ]
    },
    {
     "name": "stderr",
     "output_type": "stream",
     "text": [
      " 22%|██▏       | 220/1000 [10:52<44:34,  3.43s/it]"
     ]
    },
    {
     "name": "stdout",
     "output_type": "stream",
     "text": [
      "Epoch: 219 \n",
      "\b Train Loss: 0.6884316303616478 \n",
      "\b Train Acc: 53.75595238095238 \n",
      "\b Val Loss: 0.6886576034805991 \n",
      "\b Val Acc: 53.55113636363637\n",
      "**************************************************\n"
     ]
    },
    {
     "name": "stderr",
     "output_type": "stream",
     "text": [
      " 22%|██▏       | 221/1000 [10:55<43:53,  3.38s/it]"
     ]
    },
    {
     "name": "stdout",
     "output_type": "stream",
     "text": [
      "Epoch: 220 \n",
      "\b Train Loss: 0.6883761303765433 \n",
      "\b Train Acc: 53.794642857142854 \n",
      "\b Val Loss: 0.6886041430812894 \n",
      "\b Val Acc: 53.645833333333336\n",
      "**************************************************\n"
     ]
    },
    {
     "name": "stderr",
     "output_type": "stream",
     "text": [
      " 22%|██▏       | 222/1000 [10:59<43:27,  3.35s/it]"
     ]
    },
    {
     "name": "stdout",
     "output_type": "stream",
     "text": [
      "Epoch: 221 \n",
      "\b Train Loss: 0.6883214334079197 \n",
      "\b Train Acc: 53.82738095238095 \n",
      "\b Val Loss: 0.6885497971917643 \n",
      "\b Val Acc: 53.78787878787879\n",
      "**************************************************\n"
     ]
    },
    {
     "name": "stderr",
     "output_type": "stream",
     "text": [
      " 22%|██▏       | 223/1000 [11:03<45:28,  3.51s/it]"
     ]
    },
    {
     "name": "stdout",
     "output_type": "stream",
     "text": [
      "Epoch: 222 \n",
      "\b Train Loss: 0.6882669167859213 \n",
      "\b Train Acc: 53.88988095238095 \n",
      "\b Val Loss: 0.6884967373176054 \n",
      "\b Val Acc: 53.81155303030303\n",
      "**************************************************\n"
     ]
    },
    {
     "name": "stderr",
     "output_type": "stream",
     "text": [
      " 22%|██▏       | 224/1000 [11:06<44:20,  3.43s/it]"
     ]
    },
    {
     "name": "stdout",
     "output_type": "stream",
     "text": [
      "Epoch: 223 \n",
      "\b Train Loss: 0.6882115521885099 \n",
      "\b Train Acc: 53.92261904761905 \n",
      "\b Val Loss: 0.6884436765403459 \n",
      "\b Val Acc: 53.90625\n",
      "**************************************************\n"
     ]
    },
    {
     "name": "stderr",
     "output_type": "stream",
     "text": [
      " 22%|██▎       | 225/1000 [11:09<43:57,  3.40s/it]"
     ]
    },
    {
     "name": "stdout",
     "output_type": "stream",
     "text": [
      "Epoch: 224 \n",
      "\b Train Loss: 0.6881557375476474 \n",
      "\b Train Acc: 53.955357142857146 \n",
      "\b Val Loss: 0.6883892407923033 \n",
      "\b Val Acc: 53.90625\n",
      "**************************************************\n"
     ]
    },
    {
     "name": "stderr",
     "output_type": "stream",
     "text": [
      " 23%|██▎       | 226/1000 [11:13<44:36,  3.46s/it]"
     ]
    },
    {
     "name": "stdout",
     "output_type": "stream",
     "text": [
      "Epoch: 225 \n",
      "\b Train Loss: 0.6881004468599955 \n",
      "\b Train Acc: 54.0 \n",
      "\b Val Loss: 0.6883351130015922 \n",
      "\b Val Acc: 53.953598484848484\n",
      "**************************************************\n"
     ]
    },
    {
     "name": "stderr",
     "output_type": "stream",
     "text": [
      " 23%|██▎       | 227/1000 [11:16<44:16,  3.44s/it]"
     ]
    },
    {
     "name": "stdout",
     "output_type": "stream",
     "text": [
      "Epoch: 226 \n",
      "\b Train Loss: 0.6880449182078952 \n",
      "\b Train Acc: 54.041666666666664 \n",
      "\b Val Loss: 0.6882808881275582 \n",
      "\b Val Acc: 53.953598484848484\n",
      "**************************************************\n"
     ]
    },
    {
     "name": "stderr",
     "output_type": "stream",
     "text": [
      " 23%|██▎       | 228/1000 [11:20<43:47,  3.40s/it]"
     ]
    },
    {
     "name": "stdout",
     "output_type": "stream",
     "text": [
      "Epoch: 227 \n",
      "\b Train Loss: 0.6879896573225657 \n",
      "\b Train Acc: 54.080357142857146 \n",
      "\b Val Loss: 0.6882274810111884 \n",
      "\b Val Acc: 54.04829545454545\n",
      "**************************************************\n"
     ]
    },
    {
     "name": "stderr",
     "output_type": "stream",
     "text": [
      " 23%|██▎       | 229/1000 [11:22<41:37,  3.24s/it]"
     ]
    },
    {
     "name": "stdout",
     "output_type": "stream",
     "text": [
      "Epoch: 228 \n",
      "\b Train Loss: 0.6879344568366096 \n",
      "\b Train Acc: 54.12202380952381 \n",
      "\b Val Loss: 0.6881740662184629 \n",
      "\b Val Acc: 54.19034090909091\n",
      "**************************************************\n"
     ]
    },
    {
     "name": "stderr",
     "output_type": "stream",
     "text": [
      " 23%|██▎       | 230/1000 [11:25<40:39,  3.17s/it]"
     ]
    },
    {
     "name": "stdout",
     "output_type": "stream",
     "text": [
      "Epoch: 229 \n",
      "\b Train Loss: 0.6878793176582881 \n",
      "\b Train Acc: 54.13690476190476 \n",
      "\b Val Loss: 0.6881195568677151 \n",
      "\b Val Acc: 54.21401515151515\n",
      "**************************************************\n"
     ]
    },
    {
     "name": "stderr",
     "output_type": "stream",
     "text": [
      " 23%|██▎       | 231/1000 [11:28<39:21,  3.07s/it]"
     ]
    },
    {
     "name": "stdout",
     "output_type": "stream",
     "text": [
      "Epoch: 230 \n",
      "\b Train Loss: 0.6878245352563404 \n",
      "\b Train Acc: 54.19345238095238 \n",
      "\b Val Loss: 0.6880655144200181 \n",
      "\b Val Acc: 54.19034090909091\n",
      "**************************************************\n"
     ]
    },
    {
     "name": "stderr",
     "output_type": "stream",
     "text": [
      " 23%|██▎       | 232/1000 [11:31<38:31,  3.01s/it]"
     ]
    },
    {
     "name": "stdout",
     "output_type": "stream",
     "text": [
      "Epoch: 231 \n",
      "\b Train Loss: 0.6877695126760573 \n",
      "\b Train Acc: 54.229166666666664 \n",
      "\b Val Loss: 0.6880118837862303 \n",
      "\b Val Acc: 54.23768939393939\n",
      "**************************************************\n"
     ]
    },
    {
     "name": "stderr",
     "output_type": "stream",
     "text": [
      " 23%|██▎       | 233/1000 [11:34<38:32,  3.01s/it]"
     ]
    },
    {
     "name": "stdout",
     "output_type": "stream",
     "text": [
      "Epoch: 232 \n",
      "\b Train Loss: 0.6877137251127334 \n",
      "\b Train Acc: 54.24702380952381 \n",
      "\b Val Loss: 0.6879572172959646 \n",
      "\b Val Acc: 54.33238636363637\n",
      "**************************************************\n"
     ]
    },
    {
     "name": "stderr",
     "output_type": "stream",
     "text": [
      " 23%|██▎       | 234/1000 [11:37<38:07,  2.99s/it]"
     ]
    },
    {
     "name": "stdout",
     "output_type": "stream",
     "text": [
      "Epoch: 233 \n",
      "\b Train Loss: 0.6876562981378465 \n",
      "\b Train Acc: 54.285714285714285 \n",
      "\b Val Loss: 0.6879025873812762 \n",
      "\b Val Acc: 54.40340909090909\n",
      "**************************************************\n"
     ]
    },
    {
     "name": "stderr",
     "output_type": "stream",
     "text": [
      " 24%|██▎       | 235/1000 [11:40<39:23,  3.09s/it]"
     ]
    },
    {
     "name": "stdout",
     "output_type": "stream",
     "text": [
      "Epoch: 234 \n",
      "\b Train Loss: 0.6875929910228366 \n",
      "\b Train Acc: 54.276785714285715 \n",
      "\b Val Loss: 0.6878359493884173 \n",
      "\b Val Acc: 54.521780303030305\n",
      "**************************************************\n"
     ]
    },
    {
     "name": "stderr",
     "output_type": "stream",
     "text": [
      " 24%|██▎       | 236/1000 [11:44<40:20,  3.17s/it]"
     ]
    },
    {
     "name": "stdout",
     "output_type": "stream",
     "text": [
      "Epoch: 235 \n",
      "\b Train Loss: 0.6875177078020005 \n",
      "\b Train Acc: 54.330357142857146 \n",
      "\b Val Loss: 0.6877537866433462 \n",
      "\b Val Acc: 54.61647727272727\n",
      "**************************************************\n"
     ]
    },
    {
     "name": "stderr",
     "output_type": "stream",
     "text": [
      " 24%|██▎       | 237/1000 [11:48<43:05,  3.39s/it]"
     ]
    },
    {
     "name": "stdout",
     "output_type": "stream",
     "text": [
      "Epoch: 236 \n",
      "\b Train Loss: 0.6873922631854102 \n",
      "\b Train Acc: 54.357142857142854 \n",
      "\b Val Loss: 0.6876208682854971 \n",
      "\b Val Acc: 55.066287878787875\n",
      "**************************************************\n"
     ]
    },
    {
     "name": "stderr",
     "output_type": "stream",
     "text": [
      " 24%|██▍       | 238/1000 [11:51<42:33,  3.35s/it]"
     ]
    },
    {
     "name": "stdout",
     "output_type": "stream",
     "text": [
      "Epoch: 237 \n",
      "\b Train Loss: 0.687285224369594 \n",
      "\b Train Acc: 54.50892857142857 \n",
      "\b Val Loss: 0.6875583217902617 \n",
      "\b Val Acc: 55.11363636363637\n",
      "**************************************************\n"
     ]
    },
    {
     "name": "stderr",
     "output_type": "stream",
     "text": [
      " 24%|██▍       | 239/1000 [11:54<42:36,  3.36s/it]"
     ]
    },
    {
     "name": "stdout",
     "output_type": "stream",
     "text": [
      "Epoch: 238 \n",
      "\b Train Loss: 0.6872245147682372 \n",
      "\b Train Acc: 54.589285714285715 \n",
      "\b Val Loss: 0.6875033956585508 \n",
      "\b Val Acc: 55.25568181818182\n",
      "**************************************************\n"
     ]
    },
    {
     "name": "stderr",
     "output_type": "stream",
     "text": [
      " 24%|██▍       | 240/1000 [11:57<41:22,  3.27s/it]"
     ]
    },
    {
     "name": "stdout",
     "output_type": "stream",
     "text": [
      "Epoch: 239 \n",
      "\b Train Loss: 0.6871684575648535 \n",
      "\b Train Acc: 54.63690476190476 \n",
      "\b Val Loss: 0.6874502197359548 \n",
      "\b Val Acc: 55.27935606060606\n",
      "**************************************************\n"
     ]
    },
    {
     "name": "stderr",
     "output_type": "stream",
     "text": [
      " 24%|██▍       | 241/1000 [12:00<40:07,  3.17s/it]"
     ]
    },
    {
     "name": "stdout",
     "output_type": "stream",
     "text": [
      "Epoch: 240 \n",
      "\b Train Loss: 0.6871122774623689 \n",
      "\b Train Acc: 54.666666666666664 \n",
      "\b Val Loss: 0.6873972510749643 \n",
      "\b Val Acc: 55.25568181818182\n",
      "**************************************************\n"
     ]
    },
    {
     "name": "stderr",
     "output_type": "stream",
     "text": [
      " 24%|██▍       | 242/1000 [12:03<39:56,  3.16s/it]"
     ]
    },
    {
     "name": "stdout",
     "output_type": "stream",
     "text": [
      "Epoch: 241 \n",
      "\b Train Loss: 0.6870574757598695 \n",
      "\b Train Acc: 54.711309523809526 \n",
      "\b Val Loss: 0.6873448843305762 \n",
      "\b Val Acc: 55.25568181818182\n",
      "**************************************************\n"
     ]
    },
    {
     "name": "stderr",
     "output_type": "stream",
     "text": [
      " 24%|██▍       | 243/1000 [12:08<45:24,  3.60s/it]"
     ]
    },
    {
     "name": "stdout",
     "output_type": "stream",
     "text": [
      "Epoch: 242 \n",
      "\b Train Loss: 0.6870019700413659 \n",
      "\b Train Acc: 54.720238095238095 \n",
      "\b Val Loss: 0.6872915982296972 \n",
      "\b Val Acc: 55.27935606060606\n",
      "**************************************************\n"
     ]
    },
    {
     "name": "stderr",
     "output_type": "stream",
     "text": [
      " 24%|██▍       | 244/1000 [12:12<46:48,  3.71s/it]"
     ]
    },
    {
     "name": "stdout",
     "output_type": "stream",
     "text": [
      "Epoch: 243 \n",
      "\b Train Loss: 0.6869482693785712 \n",
      "\b Train Acc: 54.770833333333336 \n",
      "\b Val Loss: 0.687238865277984 \n",
      "\b Val Acc: 55.39772727272727\n",
      "**************************************************\n"
     ]
    },
    {
     "name": "stderr",
     "output_type": "stream",
     "text": [
      " 24%|██▍       | 245/1000 [12:15<44:33,  3.54s/it]"
     ]
    },
    {
     "name": "stdout",
     "output_type": "stream",
     "text": [
      "Epoch: 244 \n",
      "\b Train Loss: 0.68689382036527 \n",
      "\b Train Acc: 54.80059523809524 \n",
      "\b Val Loss: 0.6871862881111376 \n",
      "\b Val Acc: 55.46875\n",
      "**************************************************\n"
     ]
    },
    {
     "name": "stderr",
     "output_type": "stream",
     "text": [
      " 25%|██▍       | 246/1000 [12:18<41:45,  3.32s/it]"
     ]
    },
    {
     "name": "stdout",
     "output_type": "stream",
     "text": [
      "Epoch: 245 \n",
      "\b Train Loss: 0.6868388656775156 \n",
      "\b Train Acc: 54.830357142857146 \n",
      "\b Val Loss: 0.6871337849985469 \n",
      "\b Val Acc: 55.58712121212121\n",
      "**************************************************\n"
     ]
    },
    {
     "name": "stderr",
     "output_type": "stream",
     "text": [
      " 25%|██▍       | 247/1000 [12:21<41:05,  3.27s/it]"
     ]
    },
    {
     "name": "stdout",
     "output_type": "stream",
     "text": [
      "Epoch: 246 \n",
      "\b Train Loss: 0.6867843579678309 \n",
      "\b Train Acc: 54.857142857142854 \n",
      "\b Val Loss: 0.6870815054033742 \n",
      "\b Val Acc: 55.65814393939394\n",
      "**************************************************\n"
     ]
    },
    {
     "name": "stderr",
     "output_type": "stream",
     "text": [
      " 25%|██▍       | 248/1000 [12:25<42:02,  3.35s/it]"
     ]
    },
    {
     "name": "stdout",
     "output_type": "stream",
     "text": [
      "Epoch: 247 \n",
      "\b Train Loss: 0.686730199995495 \n",
      "\b Train Acc: 54.916666666666664 \n",
      "\b Val Loss: 0.6870293486298937 \n",
      "\b Val Acc: 55.65814393939394\n",
      "**************************************************\n"
     ]
    },
    {
     "name": "stderr",
     "output_type": "stream",
     "text": [
      " 25%|██▍       | 249/1000 [12:28<43:39,  3.49s/it]"
     ]
    },
    {
     "name": "stdout",
     "output_type": "stream",
     "text": [
      "Epoch: 248 \n",
      "\b Train Loss: 0.6866761267752874 \n",
      "\b Train Acc: 54.95238095238095 \n",
      "\b Val Loss: 0.6869773282246157 \n",
      "\b Val Acc: 55.68181818181818\n",
      "**************************************************\n"
     ]
    },
    {
     "name": "stderr",
     "output_type": "stream",
     "text": [
      " 25%|██▌       | 250/1000 [12:33<46:16,  3.70s/it]"
     ]
    },
    {
     "name": "stdout",
     "output_type": "stream",
     "text": [
      "Epoch: 249 \n",
      "\b Train Loss: 0.6866219359352476 \n",
      "\b Train Acc: 54.973214285714285 \n",
      "\b Val Loss: 0.6869253674239824 \n",
      "\b Val Acc: 55.65814393939394\n",
      "**************************************************\n"
     ]
    },
    {
     "name": "stderr",
     "output_type": "stream",
     "text": [
      " 25%|██▌       | 251/1000 [12:36<45:35,  3.65s/it]"
     ]
    },
    {
     "name": "stdout",
     "output_type": "stream",
     "text": [
      "Epoch: 250 \n",
      "\b Train Loss: 0.6865682515643892 \n",
      "\b Train Acc: 55.017857142857146 \n",
      "\b Val Loss: 0.6868737416737007 \n",
      "\b Val Acc: 55.729166666666664\n",
      "**************************************************\n"
     ]
    },
    {
     "name": "stderr",
     "output_type": "stream",
     "text": [
      " 25%|██▌       | 252/1000 [12:40<44:35,  3.58s/it]"
     ]
    },
    {
     "name": "stdout",
     "output_type": "stream",
     "text": [
      "Epoch: 251 \n",
      "\b Train Loss: 0.6865144789218902 \n",
      "\b Train Acc: 55.05357142857143 \n",
      "\b Val Loss: 0.6868224712935361 \n",
      "\b Val Acc: 55.847537878787875\n",
      "**************************************************\n"
     ]
    },
    {
     "name": "stderr",
     "output_type": "stream",
     "text": [
      " 25%|██▌       | 253/1000 [12:44<46:05,  3.70s/it]"
     ]
    },
    {
     "name": "stdout",
     "output_type": "stream",
     "text": [
      "Epoch: 252 \n",
      "\b Train Loss: 0.6864601880595798 \n",
      "\b Train Acc: 55.07142857142857 \n",
      "\b Val Loss: 0.6867714880993872 \n",
      "\b Val Acc: 55.871212121212125\n",
      "**************************************************\n"
     ]
    },
    {
     "name": "stderr",
     "output_type": "stream",
     "text": [
      " 25%|██▌       | 254/1000 [12:47<45:34,  3.67s/it]"
     ]
    },
    {
     "name": "stdout",
     "output_type": "stream",
     "text": [
      "Epoch: 253 \n",
      "\b Train Loss: 0.6864065065270378 \n",
      "\b Train Acc: 55.125 \n",
      "\b Val Loss: 0.686720460653305 \n",
      "\b Val Acc: 55.89488636363637\n",
      "**************************************************\n"
     ]
    },
    {
     "name": "stderr",
     "output_type": "stream",
     "text": [
      " 26%|██▌       | 255/1000 [12:51<45:21,  3.65s/it]"
     ]
    },
    {
     "name": "stdout",
     "output_type": "stream",
     "text": [
      "Epoch: 254 \n",
      "\b Train Loss: 0.6863534635589237 \n",
      "\b Train Acc: 55.166666666666664 \n",
      "\b Val Loss: 0.6866697836102862 \n",
      "\b Val Acc: 55.89488636363637\n",
      "**************************************************\n"
     ]
    },
    {
     "name": "stderr",
     "output_type": "stream",
     "text": [
      " 26%|██▌       | 256/1000 [12:54<43:40,  3.52s/it]"
     ]
    },
    {
     "name": "stdout",
     "output_type": "stream",
     "text": [
      "Epoch: 255 \n",
      "\b Train Loss: 0.6863012916133517 \n",
      "\b Train Acc: 55.19940476190476 \n",
      "\b Val Loss: 0.6866195852106268 \n",
      "\b Val Acc: 55.94223484848485\n",
      "**************************************************\n"
     ]
    },
    {
     "name": "stderr",
     "output_type": "stream",
     "text": [
      " 26%|██▌       | 257/1000 [12:57<43:05,  3.48s/it]"
     ]
    },
    {
     "name": "stdout",
     "output_type": "stream",
     "text": [
      "Epoch: 256 \n",
      "\b Train Loss: 0.6862488840875172 \n",
      "\b Train Acc: 55.229166666666664 \n",
      "\b Val Loss: 0.6865696586442717 \n",
      "\b Val Acc: 55.91856060606061\n",
      "**************************************************\n"
     ]
    },
    {
     "name": "stderr",
     "output_type": "stream",
     "text": [
      " 26%|██▌       | 258/1000 [13:01<42:04,  3.40s/it]"
     ]
    },
    {
     "name": "stdout",
     "output_type": "stream",
     "text": [
      "Epoch: 257 \n",
      "\b Train Loss: 0.6861969659441993 \n",
      "\b Train Acc: 55.26488095238095 \n",
      "\b Val Loss: 0.6865200567426104 \n",
      "\b Val Acc: 55.989583333333336\n",
      "**************************************************\n"
     ]
    },
    {
     "name": "stderr",
     "output_type": "stream",
     "text": [
      " 26%|██▌       | 259/1000 [13:04<42:17,  3.42s/it]"
     ]
    },
    {
     "name": "stdout",
     "output_type": "stream",
     "text": [
      "Epoch: 258 \n",
      "\b Train Loss: 0.6861448020594461 \n",
      "\b Train Acc: 55.285714285714285 \n",
      "\b Val Loss: 0.6864705763079904 \n",
      "\b Val Acc: 55.989583333333336\n",
      "**************************************************\n"
     ]
    },
    {
     "name": "stderr",
     "output_type": "stream",
     "text": [
      " 26%|██▌       | 260/1000 [13:07<40:56,  3.32s/it]"
     ]
    },
    {
     "name": "stdout",
     "output_type": "stream",
     "text": [
      "Epoch: 259 \n",
      "\b Train Loss: 0.6860931930087861 \n",
      "\b Train Acc: 55.32440476190476 \n",
      "\b Val Loss: 0.686421301780325 \n",
      "\b Val Acc: 55.989583333333336\n",
      "**************************************************\n"
     ]
    },
    {
     "name": "stderr",
     "output_type": "stream",
     "text": [
      " 26%|██▌       | 261/1000 [13:10<39:53,  3.24s/it]"
     ]
    },
    {
     "name": "stdout",
     "output_type": "stream",
     "text": [
      "Epoch: 260 \n",
      "\b Train Loss: 0.6860421813101996 \n",
      "\b Train Acc: 55.36309523809524 \n",
      "\b Val Loss: 0.686372257994883 \n",
      "\b Val Acc: 55.96590909090909\n",
      "**************************************************\n"
     ]
    },
    {
     "name": "stderr",
     "output_type": "stream",
     "text": [
      " 26%|██▌       | 262/1000 [13:13<39:58,  3.25s/it]"
     ]
    },
    {
     "name": "stdout",
     "output_type": "stream",
     "text": [
      "Epoch: 261 \n",
      "\b Train Loss: 0.6859911032517751 \n",
      "\b Train Acc: 55.404761904761905 \n",
      "\b Val Loss: 0.6863234783663894 \n",
      "\b Val Acc: 56.01325757575758\n",
      "**************************************************\n"
     ]
    },
    {
     "name": "stderr",
     "output_type": "stream",
     "text": [
      " 26%|██▋       | 263/1000 [13:17<41:51,  3.41s/it]"
     ]
    },
    {
     "name": "stdout",
     "output_type": "stream",
     "text": [
      "Epoch: 262 \n",
      "\b Train Loss: 0.6859399735359919 \n",
      "\b Train Acc: 55.44345238095238 \n",
      "\b Val Loss: 0.6862752270517927 \n",
      "\b Val Acc: 56.03693181818182\n",
      "**************************************************\n"
     ]
    },
    {
     "name": "stderr",
     "output_type": "stream",
     "text": [
      " 26%|██▋       | 264/1000 [13:21<43:06,  3.51s/it]"
     ]
    },
    {
     "name": "stdout",
     "output_type": "stream",
     "text": [
      "Epoch: 263 \n",
      "\b Train Loss: 0.6858902505465916 \n",
      "\b Train Acc: 55.479166666666664 \n",
      "\b Val Loss: 0.6862269978631627 \n",
      "\b Val Acc: 56.084280303030305\n",
      "**************************************************\n"
     ]
    },
    {
     "name": "stderr",
     "output_type": "stream",
     "text": [
      " 26%|██▋       | 265/1000 [13:24<41:57,  3.42s/it]"
     ]
    },
    {
     "name": "stdout",
     "output_type": "stream",
     "text": [
      "Epoch: 264 \n",
      "\b Train Loss: 0.685840018703824 \n",
      "\b Train Acc: 55.51190476190476 \n",
      "\b Val Loss: 0.6861788160873182 \n",
      "\b Val Acc: 56.15530303030303\n",
      "**************************************************\n"
     ]
    },
    {
     "name": "stderr",
     "output_type": "stream",
     "text": [
      " 27%|██▋       | 266/1000 [13:28<42:59,  3.51s/it]"
     ]
    },
    {
     "name": "stdout",
     "output_type": "stream",
     "text": [
      "Epoch: 265 \n",
      "\b Train Loss: 0.6857905843712034 \n",
      "\b Train Acc: 55.541666666666664 \n",
      "\b Val Loss: 0.6861311337261489 \n",
      "\b Val Acc: 56.25\n",
      "**************************************************\n"
     ]
    },
    {
     "name": "stderr",
     "output_type": "stream",
     "text": [
      " 27%|██▋       | 267/1000 [13:31<41:30,  3.40s/it]"
     ]
    },
    {
     "name": "stdout",
     "output_type": "stream",
     "text": [
      "Epoch: 266 \n",
      "\b Train Loss: 0.6857409258683522 \n",
      "\b Train Acc: 55.592261904761905 \n",
      "\b Val Loss: 0.6860837733203714 \n",
      "\b Val Acc: 56.25\n",
      "**************************************************\n"
     ]
    },
    {
     "name": "stderr",
     "output_type": "stream",
     "text": [
      " 27%|██▋       | 268/1000 [13:34<40:38,  3.33s/it]"
     ]
    },
    {
     "name": "stdout",
     "output_type": "stream",
     "text": [
      "Epoch: 267 \n",
      "\b Train Loss: 0.6856918213480995 \n",
      "\b Train Acc: 55.63988095238095 \n",
      "\b Val Loss: 0.6860367059707642 \n",
      "\b Val Acc: 56.297348484848484\n",
      "**************************************************\n"
     ]
    },
    {
     "name": "stderr",
     "output_type": "stream",
     "text": [
      " 27%|██▋       | 269/1000 [13:38<41:22,  3.40s/it]"
     ]
    },
    {
     "name": "stdout",
     "output_type": "stream",
     "text": [
      "Epoch: 268 \n",
      "\b Train Loss: 0.6856425134908586 \n",
      "\b Train Acc: 55.651785714285715 \n",
      "\b Val Loss: 0.6859892552549188 \n",
      "\b Val Acc: 56.32102272727273\n",
      "**************************************************\n"
     ]
    },
    {
     "name": "stderr",
     "output_type": "stream",
     "text": [
      " 27%|██▋       | 270/1000 [13:41<40:08,  3.30s/it]"
     ]
    },
    {
     "name": "stdout",
     "output_type": "stream",
     "text": [
      "Epoch: 269 \n",
      "\b Train Loss: 0.6855942496799288 \n",
      "\b Train Acc: 55.67559523809524 \n",
      "\b Val Loss: 0.6859419567115379 \n",
      "\b Val Acc: 56.43939393939394\n",
      "**************************************************\n"
     ]
    },
    {
     "name": "stderr",
     "output_type": "stream",
     "text": [
      " 27%|██▋       | 271/1000 [13:44<39:58,  3.29s/it]"
     ]
    },
    {
     "name": "stdout",
     "output_type": "stream",
     "text": [
      "Epoch: 270 \n",
      "\b Train Loss: 0.6855454720769609 \n",
      "\b Train Acc: 55.714285714285715 \n",
      "\b Val Loss: 0.6858950022495154 \n",
      "\b Val Acc: 56.39204545454545\n",
      "**************************************************\n"
     ]
    },
    {
     "name": "stderr",
     "output_type": "stream",
     "text": [
      " 27%|██▋       | 272/1000 [13:47<39:37,  3.27s/it]"
     ]
    },
    {
     "name": "stdout",
     "output_type": "stream",
     "text": [
      "Epoch: 271 \n",
      "\b Train Loss: 0.6854973446755183 \n",
      "\b Train Acc: 55.75297619047619 \n",
      "\b Val Loss: 0.6858483855471467 \n",
      "\b Val Acc: 56.43939393939394\n",
      "**************************************************\n"
     ]
    },
    {
     "name": "stderr",
     "output_type": "stream",
     "text": [
      " 27%|██▋       | 273/1000 [13:50<38:57,  3.22s/it]"
     ]
    },
    {
     "name": "stdout",
     "output_type": "stream",
     "text": [
      "Epoch: 272 \n",
      "\b Train Loss: 0.6854484835125151 \n",
      "\b Train Acc: 55.791666666666664 \n",
      "\b Val Loss: 0.6858021738854322 \n",
      "\b Val Acc: 56.53409090909091\n",
      "**************************************************\n"
     ]
    },
    {
     "name": "stderr",
     "output_type": "stream",
     "text": [
      " 27%|██▋       | 274/1000 [13:54<39:15,  3.24s/it]"
     ]
    },
    {
     "name": "stdout",
     "output_type": "stream",
     "text": [
      "Epoch: 273 \n",
      "\b Train Loss: 0.6854000547386351 \n",
      "\b Train Acc: 55.830357142857146 \n",
      "\b Val Loss: 0.6857561049136248 \n",
      "\b Val Acc: 56.55776515151515\n",
      "**************************************************\n"
     ]
    },
    {
     "name": "stderr",
     "output_type": "stream",
     "text": [
      " 28%|██▊       | 275/1000 [13:57<40:05,  3.32s/it]"
     ]
    },
    {
     "name": "stdout",
     "output_type": "stream",
     "text": [
      "Epoch: 274 \n",
      "\b Train Loss: 0.6853523920831226 \n",
      "\b Train Acc: 55.851190476190474 \n",
      "\b Val Loss: 0.6857103791200754 \n",
      "\b Val Acc: 56.55776515151515\n",
      "**************************************************\n"
     ]
    },
    {
     "name": "stderr",
     "output_type": "stream",
     "text": [
      " 28%|██▊       | 276/1000 [14:01<39:59,  3.31s/it]"
     ]
    },
    {
     "name": "stdout",
     "output_type": "stream",
     "text": [
      "Epoch: 275 \n",
      "\b Train Loss: 0.6853036360513596 \n",
      "\b Train Acc: 55.86309523809524 \n",
      "\b Val Loss: 0.6856645147005717 \n",
      "\b Val Acc: 56.628787878787875\n",
      "**************************************************\n"
     ]
    },
    {
     "name": "stderr",
     "output_type": "stream",
     "text": [
      " 28%|██▊       | 277/1000 [14:04<39:22,  3.27s/it]"
     ]
    },
    {
     "name": "stdout",
     "output_type": "stream",
     "text": [
      "Epoch: 276 \n",
      "\b Train Loss: 0.6852559404146104 \n",
      "\b Train Acc: 55.898809523809526 \n",
      "\b Val Loss: 0.6856187771667134 \n",
      "\b Val Acc: 56.652462121212125\n",
      "**************************************************\n"
     ]
    },
    {
     "name": "stderr",
     "output_type": "stream",
     "text": [
      " 28%|██▊       | 278/1000 [14:07<40:18,  3.35s/it]"
     ]
    },
    {
     "name": "stdout",
     "output_type": "stream",
     "text": [
      "Epoch: 277 \n",
      "\b Train Loss: 0.685208241485414 \n",
      "\b Train Acc: 55.94642857142857 \n",
      "\b Val Loss: 0.6855731778072588 \n",
      "\b Val Acc: 56.628787878787875\n",
      "**************************************************\n"
     ]
    },
    {
     "name": "stderr",
     "output_type": "stream",
     "text": [
      " 28%|██▊       | 279/1000 [14:10<39:41,  3.30s/it]"
     ]
    },
    {
     "name": "stdout",
     "output_type": "stream",
     "text": [
      "Epoch: 278 \n",
      "\b Train Loss: 0.6851599004722777 \n",
      "\b Train Acc: 55.967261904761905 \n",
      "\b Val Loss: 0.6855275865757104 \n",
      "\b Val Acc: 56.67613636363637\n",
      "**************************************************\n"
     ]
    },
    {
     "name": "stderr",
     "output_type": "stream",
     "text": [
      " 28%|██▊       | 280/1000 [14:14<39:50,  3.32s/it]"
     ]
    },
    {
     "name": "stdout",
     "output_type": "stream",
     "text": [
      "Epoch: 279 \n",
      "\b Train Loss: 0.6851126798561641 \n",
      "\b Train Acc: 56.017857142857146 \n",
      "\b Val Loss: 0.6854822694352178 \n",
      "\b Val Acc: 56.67613636363637\n",
      "**************************************************\n"
     ]
    },
    {
     "name": "stderr",
     "output_type": "stream",
     "text": [
      " 28%|██▊       | 281/1000 [14:17<39:46,  3.32s/it]"
     ]
    },
    {
     "name": "stdout",
     "output_type": "stream",
     "text": [
      "Epoch: 280 \n",
      "\b Train Loss: 0.6850663480304536 \n",
      "\b Train Acc: 56.041666666666664 \n",
      "\b Val Loss: 0.6854369450699199 \n",
      "\b Val Acc: 56.67613636363637\n",
      "**************************************************\n"
     ]
    },
    {
     "name": "stderr",
     "output_type": "stream",
     "text": [
      " 28%|██▊       | 282/1000 [14:20<38:35,  3.22s/it]"
     ]
    },
    {
     "name": "stdout",
     "output_type": "stream",
     "text": [
      "Epoch: 281 \n",
      "\b Train Loss: 0.6850189250423795 \n",
      "\b Train Acc: 56.05952380952381 \n",
      "\b Val Loss: 0.6853915773557894 \n",
      "\b Val Acc: 56.88920454545455\n",
      "**************************************************\n"
     ]
    },
    {
     "name": "stderr",
     "output_type": "stream",
     "text": [
      " 28%|██▊       | 283/1000 [14:23<37:37,  3.15s/it]"
     ]
    },
    {
     "name": "stdout",
     "output_type": "stream",
     "text": [
      "Epoch: 282 \n",
      "\b Train Loss: 0.6849719314915793 \n",
      "\b Train Acc: 56.07738095238095 \n",
      "\b Val Loss: 0.6853461861610413 \n",
      "\b Val Acc: 56.91287878787879\n",
      "**************************************************\n"
     ]
    },
    {
     "name": "stderr",
     "output_type": "stream",
     "text": [
      " 28%|██▊       | 284/1000 [14:26<38:05,  3.19s/it]"
     ]
    },
    {
     "name": "stdout",
     "output_type": "stream",
     "text": [
      "Epoch: 283 \n",
      "\b Train Loss: 0.684925072931108 \n",
      "\b Train Acc: 56.12202380952381 \n",
      "\b Val Loss: 0.6853004373384245 \n",
      "\b Val Acc: 56.93655303030303\n",
      "**************************************************\n"
     ]
    },
    {
     "name": "stderr",
     "output_type": "stream",
     "text": [
      " 28%|██▊       | 285/1000 [14:30<37:52,  3.18s/it]"
     ]
    },
    {
     "name": "stdout",
     "output_type": "stream",
     "text": [
      "Epoch: 284 \n",
      "\b Train Loss: 0.6848779681183043 \n",
      "\b Train Acc: 56.13392857142857 \n",
      "\b Val Loss: 0.6852549707347696 \n",
      "\b Val Acc: 57.00757575757576\n",
      "**************************************************\n"
     ]
    },
    {
     "name": "stderr",
     "output_type": "stream",
     "text": [
      " 29%|██▊       | 286/1000 [14:32<36:34,  3.07s/it]"
     ]
    },
    {
     "name": "stdout",
     "output_type": "stream",
     "text": [
      "Epoch: 285 \n",
      "\b Train Loss: 0.6848312276885623 \n",
      "\b Train Acc: 56.169642857142854 \n",
      "\b Val Loss: 0.6852098802725474 \n",
      "\b Val Acc: 57.17329545454545\n",
      "**************************************************\n"
     ]
    },
    {
     "name": "stderr",
     "output_type": "stream",
     "text": [
      " 29%|██▊       | 287/1000 [14:35<35:39,  3.00s/it]"
     ]
    },
    {
     "name": "stdout",
     "output_type": "stream",
     "text": [
      "Epoch: 286 \n",
      "\b Train Loss: 0.6847854059650784 \n",
      "\b Train Acc: 56.19940476190476 \n",
      "\b Val Loss: 0.6851646128025922 \n",
      "\b Val Acc: 57.10227272727273\n",
      "**************************************************\n"
     ]
    },
    {
     "name": "stderr",
     "output_type": "stream",
     "text": [
      " 29%|██▉       | 288/1000 [14:38<34:23,  2.90s/it]"
     ]
    },
    {
     "name": "stdout",
     "output_type": "stream",
     "text": [
      "Epoch: 287 \n",
      "\b Train Loss: 0.6847393349238804 \n",
      "\b Train Acc: 56.23511904761905 \n",
      "\b Val Loss: 0.6851197133461634 \n",
      "\b Val Acc: 57.17329545454545\n",
      "**************************************************\n"
     ]
    },
    {
     "name": "stderr",
     "output_type": "stream",
     "text": [
      " 29%|██▉       | 289/1000 [14:41<34:52,  2.94s/it]"
     ]
    },
    {
     "name": "stdout",
     "output_type": "stream",
     "text": [
      "Epoch: 288 \n",
      "\b Train Loss: 0.6846931719779968 \n",
      "\b Train Acc: 56.26488095238095 \n",
      "\b Val Loss: 0.6850754076784308 \n",
      "\b Val Acc: 57.17329545454545\n",
      "**************************************************\n"
     ]
    },
    {
     "name": "stderr",
     "output_type": "stream",
     "text": [
      " 29%|██▉       | 290/1000 [14:44<34:50,  2.94s/it]"
     ]
    },
    {
     "name": "stdout",
     "output_type": "stream",
     "text": [
      "Epoch: 289 \n",
      "\b Train Loss: 0.6846469718501681 \n",
      "\b Train Acc: 56.267857142857146 \n",
      "\b Val Loss: 0.6850315084060034 \n",
      "\b Val Acc: 57.24431818181818\n",
      "**************************************************\n"
     ]
    },
    {
     "name": "stderr",
     "output_type": "stream",
     "text": [
      " 29%|██▉       | 291/1000 [14:47<35:40,  3.02s/it]"
     ]
    },
    {
     "name": "stdout",
     "output_type": "stream",
     "text": [
      "Epoch: 290 \n",
      "\b Train Loss: 0.68460163241341 \n",
      "\b Train Acc: 56.3125 \n",
      "\b Val Loss: 0.6849868514321067 \n",
      "\b Val Acc: 57.33901515151515\n",
      "**************************************************\n"
     ]
    },
    {
     "name": "stderr",
     "output_type": "stream",
     "text": [
      " 29%|██▉       | 292/1000 [14:50<36:19,  3.08s/it]"
     ]
    },
    {
     "name": "stdout",
     "output_type": "stream",
     "text": [
      "Epoch: 291 \n",
      "\b Train Loss: 0.6845563315209888 \n",
      "\b Train Acc: 56.330357142857146 \n",
      "\b Val Loss: 0.6849425010608904 \n",
      "\b Val Acc: 57.36268939393939\n",
      "**************************************************\n"
     ]
    },
    {
     "name": "stderr",
     "output_type": "stream",
     "text": [
      " 29%|██▉       | 293/1000 [14:54<36:53,  3.13s/it]"
     ]
    },
    {
     "name": "stdout",
     "output_type": "stream",
     "text": [
      "Epoch: 292 \n",
      "\b Train Loss: 0.684510696501959 \n",
      "\b Train Acc: 56.351190476190474 \n",
      "\b Val Loss: 0.6848990993969368 \n",
      "\b Val Acc: 57.45738636363637\n",
      "**************************************************\n"
     ]
    },
    {
     "name": "stderr",
     "output_type": "stream",
     "text": [
      " 29%|██▉       | 294/1000 [14:57<38:08,  3.24s/it]"
     ]
    },
    {
     "name": "stdout",
     "output_type": "stream",
     "text": [
      "Epoch: 293 \n",
      "\b Train Loss: 0.6844666123957861 \n",
      "\b Train Acc: 56.398809523809526 \n",
      "\b Val Loss: 0.6848552470857446 \n",
      "\b Val Acc: 57.48106060606061\n",
      "**************************************************\n"
     ]
    },
    {
     "name": "stderr",
     "output_type": "stream",
     "text": [
      " 30%|██▉       | 295/1000 [15:01<41:07,  3.50s/it]"
     ]
    },
    {
     "name": "stdout",
     "output_type": "stream",
     "text": [
      "Epoch: 294 \n",
      "\b Train Loss: 0.6844217482634953 \n",
      "\b Train Acc: 56.42559523809524 \n",
      "\b Val Loss: 0.6848121800205924 \n",
      "\b Val Acc: 57.45738636363637\n",
      "**************************************************\n"
     ]
    },
    {
     "name": "stderr",
     "output_type": "stream",
     "text": [
      " 30%|██▉       | 296/1000 [15:05<42:54,  3.66s/it]"
     ]
    },
    {
     "name": "stdout",
     "output_type": "stream",
     "text": [
      "Epoch: 295 \n",
      "\b Train Loss: 0.6843752003283727 \n",
      "\b Train Acc: 56.43154761904762 \n",
      "\b Val Loss: 0.6847702147382678 \n",
      "\b Val Acc: 57.50473484848485\n",
      "**************************************************\n"
     ]
    },
    {
     "name": "stderr",
     "output_type": "stream",
     "text": [
      " 30%|██▉       | 297/1000 [15:09<42:24,  3.62s/it]"
     ]
    },
    {
     "name": "stdout",
     "output_type": "stream",
     "text": [
      "Epoch: 296 \n",
      "\b Train Loss: 0.6843306246257964 \n",
      "\b Train Acc: 56.467261904761905 \n",
      "\b Val Loss: 0.6847268442312876 \n",
      "\b Val Acc: 57.50473484848485\n",
      "**************************************************\n"
     ]
    },
    {
     "name": "stderr",
     "output_type": "stream",
     "text": [
      " 30%|██▉       | 298/1000 [15:12<41:41,  3.56s/it]"
     ]
    },
    {
     "name": "stdout",
     "output_type": "stream",
     "text": [
      "Epoch: 297 \n",
      "\b Train Loss: 0.6842850472813561 \n",
      "\b Train Acc: 56.48511904761905 \n",
      "\b Val Loss: 0.6846839835246404 \n",
      "\b Val Acc: 57.552083333333336\n",
      "**************************************************\n"
     ]
    },
    {
     "name": "stderr",
     "output_type": "stream",
     "text": [
      " 30%|██▉       | 299/1000 [15:15<39:59,  3.42s/it]"
     ]
    },
    {
     "name": "stdout",
     "output_type": "stream",
     "text": [
      "Epoch: 298 \n",
      "\b Train Loss: 0.6842412675562359 \n",
      "\b Train Acc: 56.520833333333336 \n",
      "\b Val Loss: 0.6846414894768686 \n",
      "\b Val Acc: 57.69412878787879\n",
      "**************************************************\n"
     ]
    },
    {
     "name": "stderr",
     "output_type": "stream",
     "text": [
      " 30%|███       | 300/1000 [15:18<38:08,  3.27s/it]"
     ]
    },
    {
     "name": "stdout",
     "output_type": "stream",
     "text": [
      "Epoch: 299 \n",
      "\b Train Loss: 0.6841971143654415 \n",
      "\b Train Acc: 56.55357142857143 \n",
      "\b Val Loss: 0.684599008975607 \n",
      "\b Val Acc: 57.71780303030303\n",
      "**************************************************\n"
     ]
    },
    {
     "name": "stderr",
     "output_type": "stream",
     "text": [
      " 30%|███       | 301/1000 [15:22<38:51,  3.34s/it]"
     ]
    },
    {
     "name": "stdout",
     "output_type": "stream",
     "text": [
      "Epoch: 300 \n",
      "\b Train Loss: 0.6841546109744481 \n",
      "\b Train Acc: 56.595238095238095 \n",
      "\b Val Loss: 0.6845554461081823 \n",
      "\b Val Acc: 57.74147727272727\n",
      "**************************************************\n"
     ]
    },
    {
     "name": "stderr",
     "output_type": "stream",
     "text": [
      " 30%|███       | 302/1000 [15:25<37:45,  3.25s/it]"
     ]
    },
    {
     "name": "stdout",
     "output_type": "stream",
     "text": [
      "Epoch: 301 \n",
      "\b Train Loss: 0.6841108522528694 \n",
      "\b Train Acc: 56.62202380952381 \n",
      "\b Val Loss: 0.6845133607134675 \n",
      "\b Val Acc: 57.8125\n",
      "**************************************************\n"
     ]
    },
    {
     "name": "stderr",
     "output_type": "stream",
     "text": [
      " 30%|███       | 303/1000 [15:28<37:07,  3.20s/it]"
     ]
    },
    {
     "name": "stdout",
     "output_type": "stream",
     "text": [
      "Epoch: 302 \n",
      "\b Train Loss: 0.6840673139549437 \n",
      "\b Train Acc: 56.63690476190476 \n",
      "\b Val Loss: 0.6844708011908964 \n",
      "\b Val Acc: 57.93087121212121\n",
      "**************************************************\n"
     ]
    },
    {
     "name": "stderr",
     "output_type": "stream",
     "text": [
      " 30%|███       | 304/1000 [15:31<35:47,  3.09s/it]"
     ]
    },
    {
     "name": "stdout",
     "output_type": "stream",
     "text": [
      "Epoch: 303 \n",
      "\b Train Loss: 0.6840236171654293 \n",
      "\b Train Acc: 56.657738095238095 \n",
      "\b Val Loss: 0.6844284963427167 \n",
      "\b Val Acc: 58.00189393939394\n",
      "**************************************************\n"
     ]
    },
    {
     "name": "stderr",
     "output_type": "stream",
     "text": [
      " 30%|███       | 305/1000 [15:33<34:38,  2.99s/it]"
     ]
    },
    {
     "name": "stdout",
     "output_type": "stream",
     "text": [
      "Epoch: 304 \n",
      "\b Train Loss: 0.6839797520637512 \n",
      "\b Train Acc: 56.69047619047619 \n",
      "\b Val Loss: 0.6843865780216275 \n",
      "\b Val Acc: 58.00189393939394\n",
      "**************************************************\n"
     ]
    },
    {
     "name": "stderr",
     "output_type": "stream",
     "text": [
      " 31%|███       | 306/1000 [15:37<35:42,  3.09s/it]"
     ]
    },
    {
     "name": "stdout",
     "output_type": "stream",
     "text": [
      "Epoch: 305 \n",
      "\b Train Loss: 0.6839355344999404 \n",
      "\b Train Acc: 56.732142857142854 \n",
      "\b Val Loss: 0.6843449152780302 \n",
      "\b Val Acc: 57.978219696969695\n",
      "**************************************************\n"
     ]
    },
    {
     "name": "stderr",
     "output_type": "stream",
     "text": [
      " 31%|███       | 307/1000 [15:40<36:38,  3.17s/it]"
     ]
    },
    {
     "name": "stdout",
     "output_type": "stream",
     "text": [
      "Epoch: 306 \n",
      "\b Train Loss: 0.6838926002525147 \n",
      "\b Train Acc: 56.776785714285715 \n",
      "\b Val Loss: 0.6843026104298505 \n",
      "\b Val Acc: 58.04924242424242\n",
      "**************************************************\n"
     ]
    },
    {
     "name": "stderr",
     "output_type": "stream",
     "text": [
      " 31%|███       | 308/1000 [15:43<36:32,  3.17s/it]"
     ]
    },
    {
     "name": "stdout",
     "output_type": "stream",
     "text": [
      "Epoch: 307 \n",
      "\b Train Loss: 0.6838482853344509 \n",
      "\b Train Acc: 56.782738095238095 \n",
      "\b Val Loss: 0.6842614638082909 \n",
      "\b Val Acc: 58.14393939393939\n",
      "**************************************************\n"
     ]
    },
    {
     "name": "stderr",
     "output_type": "stream",
     "text": [
      " 31%|███       | 309/1000 [15:47<38:52,  3.38s/it]"
     ]
    },
    {
     "name": "stdout",
     "output_type": "stream",
     "text": [
      "Epoch: 308 \n",
      "\b Train Loss: 0.6838047195616223 \n",
      "\b Train Acc: 56.794642857142854 \n",
      "\b Val Loss: 0.6842198796344526 \n",
      "\b Val Acc: 58.14393939393939\n",
      "**************************************************\n"
     ]
    },
    {
     "name": "stderr",
     "output_type": "stream",
     "text": [
      " 31%|███       | 310/1000 [15:51<39:35,  3.44s/it]"
     ]
    },
    {
     "name": "stdout",
     "output_type": "stream",
     "text": [
      "Epoch: 309 \n",
      "\b Train Loss: 0.6837616154693422 \n",
      "\b Train Acc: 56.842261904761905 \n",
      "\b Val Loss: 0.6841771354277929 \n",
      "\b Val Acc: 58.12026515151515\n",
      "**************************************************\n"
     ]
    },
    {
     "name": "stderr",
     "output_type": "stream",
     "text": [
      " 31%|███       | 311/1000 [15:56<45:58,  4.00s/it]"
     ]
    },
    {
     "name": "stdout",
     "output_type": "stream",
     "text": [
      "Epoch: 310 \n",
      "\b Train Loss: 0.6837186355817886 \n",
      "\b Train Acc: 56.88095238095238 \n",
      "\b Val Loss: 0.6841344137986501 \n",
      "\b Val Acc: 58.12026515151515\n",
      "**************************************************\n"
     ]
    },
    {
     "name": "stderr",
     "output_type": "stream",
     "text": [
      " 31%|███       | 312/1000 [16:03<55:49,  4.87s/it]"
     ]
    },
    {
     "name": "stdout",
     "output_type": "stream",
     "text": [
      "Epoch: 311 \n",
      "\b Train Loss: 0.6836761631852104 \n",
      "\b Train Acc: 56.910714285714285 \n",
      "\b Val Loss: 0.6840908080339432 \n",
      "\b Val Acc: 58.09659090909091\n",
      "**************************************************\n"
     ]
    },
    {
     "name": "stderr",
     "output_type": "stream",
     "text": [
      " 31%|███▏      | 313/1000 [16:09<1:01:37,  5.38s/it]"
     ]
    },
    {
     "name": "stdout",
     "output_type": "stream",
     "text": [
      "Epoch: 312 \n",
      "\b Train Loss: 0.6836339276745206 \n",
      "\b Train Acc: 56.94642857142857 \n",
      "\b Val Loss: 0.6840480159629475 \n",
      "\b Val Acc: 58.072916666666664\n",
      "**************************************************\n"
     ]
    },
    {
     "name": "stderr",
     "output_type": "stream",
     "text": [
      " 31%|███▏      | 314/1000 [16:16<1:05:28,  5.73s/it]"
     ]
    },
    {
     "name": "stdout",
     "output_type": "stream",
     "text": [
      "Epoch: 313 \n",
      "\b Train Loss: 0.6835920591581436 \n",
      "\b Train Acc: 56.982142857142854 \n",
      "\b Val Loss: 0.6840055354616859 \n",
      "\b Val Acc: 58.072916666666664\n",
      "**************************************************\n"
     ]
    },
    {
     "name": "stderr",
     "output_type": "stream",
     "text": [
      " 32%|███▏      | 315/1000 [16:23<1:08:21,  5.99s/it]"
     ]
    },
    {
     "name": "stdout",
     "output_type": "stream",
     "text": [
      "Epoch: 314 \n",
      "\b Train Loss: 0.6835492508752006 \n",
      "\b Train Acc: 57.0 \n",
      "\b Val Loss: 0.6839635688247103 \n",
      "\b Val Acc: 58.09659090909091\n",
      "**************************************************\n"
     ]
    },
    {
     "name": "stderr",
     "output_type": "stream",
     "text": [
      " 32%|███▏      | 316/1000 [16:29<1:10:33,  6.19s/it]"
     ]
    },
    {
     "name": "stdout",
     "output_type": "stream",
     "text": [
      "Epoch: 315 \n",
      "\b Train Loss: 0.6835068379697345 \n",
      "\b Train Acc: 57.01488095238095 \n",
      "\b Val Loss: 0.6839217606819037 \n",
      "\b Val Acc: 58.12026515151515\n",
      "**************************************************\n"
     ]
    },
    {
     "name": "stderr",
     "output_type": "stream",
     "text": [
      " 32%|███▏      | 317/1000 [16:36<1:13:23,  6.45s/it]"
     ]
    },
    {
     "name": "stdout",
     "output_type": "stream",
     "text": [
      "Epoch: 316 \n",
      "\b Train Loss: 0.6834634136018299 \n",
      "\b Train Acc: 57.0625 \n",
      "\b Val Loss: 0.6838795903957251 \n",
      "\b Val Acc: 58.12026515151515\n",
      "**************************************************\n"
     ]
    },
    {
     "name": "stderr",
     "output_type": "stream",
     "text": [
      " 32%|███▏      | 318/1000 [16:43<1:14:40,  6.57s/it]"
     ]
    },
    {
     "name": "stdout",
     "output_type": "stream",
     "text": [
      "Epoch: 317 \n",
      "\b Train Loss: 0.683420455796378 \n",
      "\b Train Acc: 57.080357142857146 \n",
      "\b Val Loss: 0.6838379579060005 \n",
      "\b Val Acc: 58.214962121212125\n",
      "**************************************************\n"
     ]
    },
    {
     "name": "stderr",
     "output_type": "stream",
     "text": [
      " 32%|███▏      | 319/1000 [16:50<1:14:27,  6.56s/it]"
     ]
    },
    {
     "name": "stdout",
     "output_type": "stream",
     "text": [
      "Epoch: 318 \n",
      "\b Train Loss: 0.6833777077992758 \n",
      "\b Train Acc: 57.11607142857143 \n",
      "\b Val Loss: 0.6837957365946337 \n",
      "\b Val Acc: 58.214962121212125\n",
      "**************************************************\n"
     ]
    },
    {
     "name": "stderr",
     "output_type": "stream",
     "text": [
      " 32%|███▏      | 320/1000 [16:56<1:13:48,  6.51s/it]"
     ]
    },
    {
     "name": "stdout",
     "output_type": "stream",
     "text": [
      "Epoch: 319 \n",
      "\b Train Loss: 0.6833355300767081 \n",
      "\b Train Acc: 57.13392857142857 \n",
      "\b Val Loss: 0.6837535753394618 \n",
      "\b Val Acc: 58.23863636363637\n",
      "**************************************************\n"
     ]
    },
    {
     "name": "stderr",
     "output_type": "stream",
     "text": [
      " 32%|███▏      | 321/1000 [17:02<1:13:25,  6.49s/it]"
     ]
    },
    {
     "name": "stdout",
     "output_type": "stream",
     "text": [
      "Epoch: 320 \n",
      "\b Train Loss: 0.6832929969401587 \n",
      "\b Train Acc: 57.157738095238095 \n",
      "\b Val Loss: 0.6837118168671926 \n",
      "\b Val Acc: 58.23863636363637\n",
      "**************************************************\n"
     ]
    },
    {
     "name": "stderr",
     "output_type": "stream",
     "text": [
      " 32%|███▏      | 322/1000 [17:09<1:13:00,  6.46s/it]"
     ]
    },
    {
     "name": "stdout",
     "output_type": "stream",
     "text": [
      "Epoch: 321 \n",
      "\b Train Loss: 0.6832498881362733 \n",
      "\b Train Acc: 57.163690476190474 \n",
      "\b Val Loss: 0.6836704110557382 \n",
      "\b Val Acc: 58.26231060606061\n",
      "**************************************************\n"
     ]
    },
    {
     "name": "stderr",
     "output_type": "stream",
     "text": [
      " 32%|███▏      | 323/1000 [17:15<1:12:45,  6.45s/it]"
     ]
    },
    {
     "name": "stdout",
     "output_type": "stream",
     "text": [
      "Epoch: 322 \n",
      "\b Train Loss: 0.683207387867428 \n",
      "\b Train Acc: 57.19345238095238 \n",
      "\b Val Loss: 0.6836288444923632 \n",
      "\b Val Acc: 58.35700757575758\n",
      "**************************************************\n"
     ]
    },
    {
     "name": "stderr",
     "output_type": "stream",
     "text": [
      " 32%|███▏      | 324/1000 [17:22<1:12:32,  6.44s/it]"
     ]
    },
    {
     "name": "stdout",
     "output_type": "stream",
     "text": [
      "Epoch: 323 \n",
      "\b Train Loss: 0.6831650597140903 \n",
      "\b Train Acc: 57.226190476190474 \n",
      "\b Val Loss: 0.6835876802603403 \n",
      "\b Val Acc: 58.38068181818182\n",
      "**************************************************\n"
     ]
    },
    {
     "name": "stderr",
     "output_type": "stream",
     "text": [
      " 32%|███▎      | 325/1000 [17:28<1:12:04,  6.41s/it]"
     ]
    },
    {
     "name": "stdout",
     "output_type": "stream",
     "text": [
      "Epoch: 324 \n",
      "\b Train Loss: 0.6831227170285724 \n",
      "\b Train Acc: 57.23511904761905 \n",
      "\b Val Loss: 0.6835466271097009 \n",
      "\b Val Acc: 58.333333333333336\n",
      "**************************************************\n"
     ]
    },
    {
     "name": "stderr",
     "output_type": "stream",
     "text": [
      " 33%|███▎      | 326/1000 [17:35<1:13:32,  6.55s/it]"
     ]
    },
    {
     "name": "stdout",
     "output_type": "stream",
     "text": [
      "Epoch: 325 \n",
      "\b Train Loss: 0.6830803092888423 \n",
      "\b Train Acc: 57.273809523809526 \n",
      "\b Val Loss: 0.683504838383559 \n",
      "\b Val Acc: 58.35700757575758\n",
      "**************************************************\n"
     ]
    },
    {
     "name": "stderr",
     "output_type": "stream",
     "text": [
      " 33%|███▎      | 327/1000 [17:38<1:02:56,  5.61s/it]"
     ]
    },
    {
     "name": "stdout",
     "output_type": "stream",
     "text": [
      "Epoch: 326 \n",
      "\b Train Loss: 0.6830381197588784 \n",
      "\b Train Acc: 57.30654761904762 \n",
      "\b Val Loss: 0.6834633196845199 \n",
      "\b Val Acc: 58.35700757575758\n",
      "**************************************************\n"
     ]
    },
    {
     "name": "stderr",
     "output_type": "stream",
     "text": [
      " 33%|███▎      | 328/1000 [17:42<54:45,  4.89s/it]  "
     ]
    },
    {
     "name": "stdout",
     "output_type": "stream",
     "text": [
      "Epoch: 327 \n",
      "\b Train Loss: 0.682995551881336 \n",
      "\b Train Acc: 57.3125 \n",
      "\b Val Loss: 0.6834222588575247 \n",
      "\b Val Acc: 58.38068181818182\n",
      "**************************************************\n"
     ]
    },
    {
     "name": "stderr",
     "output_type": "stream",
     "text": [
      " 33%|███▎      | 329/1000 [17:45<51:09,  4.57s/it]"
     ]
    },
    {
     "name": "stdout",
     "output_type": "stream",
     "text": [
      "Epoch: 328 \n",
      "\b Train Loss: 0.6829535752818698 \n",
      "\b Train Acc: 57.339285714285715 \n",
      "\b Val Loss: 0.6833807333852305 \n",
      "\b Val Acc: 58.30965909090909\n",
      "**************************************************\n"
     ]
    },
    {
     "name": "stderr",
     "output_type": "stream",
     "text": [
      " 33%|███▎      | 330/1000 [17:49<46:19,  4.15s/it]"
     ]
    },
    {
     "name": "stdout",
     "output_type": "stream",
     "text": [
      "Epoch: 329 \n",
      "\b Train Loss: 0.6829126090095157 \n",
      "\b Train Acc: 57.36607142857143 \n",
      "\b Val Loss: 0.6833388742172357 \n",
      "\b Val Acc: 58.40435606060606\n",
      "**************************************************\n"
     ]
    },
    {
     "name": "stderr",
     "output_type": "stream",
     "text": [
      " 33%|███▎      | 331/1000 [17:52<43:51,  3.93s/it]"
     ]
    },
    {
     "name": "stdout",
     "output_type": "stream",
     "text": [
      "Epoch: 330 \n",
      "\b Train Loss: 0.6828704730101994 \n",
      "\b Train Acc: 57.398809523809526 \n",
      "\b Val Loss: 0.6832966348438552 \n",
      "\b Val Acc: 58.38068181818182\n",
      "**************************************************\n"
     ]
    },
    {
     "name": "stderr",
     "output_type": "stream",
     "text": [
      " 33%|███▎      | 332/1000 [17:56<42:29,  3.82s/it]"
     ]
    },
    {
     "name": "stdout",
     "output_type": "stream",
     "text": [
      "Epoch: 331 \n",
      "\b Train Loss: 0.6828279637722742 \n",
      "\b Train Acc: 57.419642857142854 \n",
      "\b Val Loss: 0.6832544681700793 \n",
      "\b Val Acc: 58.35700757575758\n",
      "**************************************************\n"
     ]
    },
    {
     "name": "stderr",
     "output_type": "stream",
     "text": [
      " 33%|███▎      | 333/1000 [17:59<41:09,  3.70s/it]"
     ]
    },
    {
     "name": "stdout",
     "output_type": "stream",
     "text": [
      "Epoch: 332 \n",
      "\b Train Loss: 0.6827862937109811 \n",
      "\b Train Acc: 57.44940476190476 \n",
      "\b Val Loss: 0.683212597713326 \n",
      "\b Val Acc: 58.428030303030305\n",
      "**************************************************\n"
     ]
    },
    {
     "name": "stderr",
     "output_type": "stream",
     "text": [
      " 33%|███▎      | 334/1000 [18:03<41:49,  3.77s/it]"
     ]
    },
    {
     "name": "stdout",
     "output_type": "stream",
     "text": [
      "Epoch: 333 \n",
      "\b Train Loss: 0.6827449879759834 \n",
      "\b Train Acc: 57.479166666666664 \n",
      "\b Val Loss: 0.6831704757430337 \n",
      "\b Val Acc: 58.38068181818182\n",
      "**************************************************\n"
     ]
    },
    {
     "name": "stderr",
     "output_type": "stream",
     "text": [
      " 34%|███▎      | 335/1000 [18:06<40:37,  3.67s/it]"
     ]
    },
    {
     "name": "stdout",
     "output_type": "stream",
     "text": [
      "Epoch: 334 \n",
      "\b Train Loss: 0.6827043284688677 \n",
      "\b Train Acc: 57.49702380952381 \n",
      "\b Val Loss: 0.6831284820130377 \n",
      "\b Val Acc: 58.45170454545455\n",
      "**************************************************\n"
     ]
    },
    {
     "name": "stderr",
     "output_type": "stream",
     "text": [
      " 34%|███▎      | 336/1000 [18:10<41:54,  3.79s/it]"
     ]
    },
    {
     "name": "stdout",
     "output_type": "stream",
     "text": [
      "Epoch: 335 \n",
      "\b Train Loss: 0.6826626031739371 \n",
      "\b Train Acc: 57.48809523809524 \n",
      "\b Val Loss: 0.6830871904438193 \n",
      "\b Val Acc: 58.57007575757576\n",
      "**************************************************\n"
     ]
    },
    {
     "name": "stderr",
     "output_type": "stream",
     "text": [
      " 34%|███▎      | 337/1000 [18:14<41:05,  3.72s/it]"
     ]
    },
    {
     "name": "stdout",
     "output_type": "stream",
     "text": [
      "Epoch: 336 \n",
      "\b Train Loss: 0.6826211086908976 \n",
      "\b Train Acc: 57.51190476190476 \n",
      "\b Val Loss: 0.6830458022428282 \n",
      "\b Val Acc: 58.61742424242424\n",
      "**************************************************\n"
     ]
    },
    {
     "name": "stderr",
     "output_type": "stream",
     "text": [
      " 34%|███▍      | 338/1000 [18:17<39:42,  3.60s/it]"
     ]
    },
    {
     "name": "stdout",
     "output_type": "stream",
     "text": [
      "Epoch: 337 \n",
      "\b Train Loss: 0.6825801182360877 \n",
      "\b Train Acc: 57.532738095238095 \n",
      "\b Val Loss: 0.6830038419275573 \n",
      "\b Val Acc: 58.61742424242424\n",
      "**************************************************\n"
     ]
    },
    {
     "name": "stderr",
     "output_type": "stream",
     "text": [
      " 34%|███▍      | 339/1000 [18:20<37:25,  3.40s/it]"
     ]
    },
    {
     "name": "stdout",
     "output_type": "stream",
     "text": [
      "Epoch: 338 \n",
      "\b Train Loss: 0.6825382958139692 \n",
      "\b Train Acc: 57.55952380952381 \n",
      "\b Val Loss: 0.6829608258875933 \n",
      "\b Val Acc: 58.59375\n",
      "**************************************************\n"
     ]
    },
    {
     "name": "stderr",
     "output_type": "stream",
     "text": [
      " 34%|███▍      | 340/1000 [18:23<36:56,  3.36s/it]"
     ]
    },
    {
     "name": "stdout",
     "output_type": "stream",
     "text": [
      "Epoch: 339 \n",
      "\b Train Loss: 0.6824952583653586 \n",
      "\b Train Acc: 57.55952380952381 \n",
      "\b Val Loss: 0.682919723517967 \n",
      "\b Val Acc: 58.61742424242424\n",
      "**************************************************\n"
     ]
    },
    {
     "name": "stderr",
     "output_type": "stream",
     "text": [
      " 34%|███▍      | 341/1000 [18:27<36:07,  3.29s/it]"
     ]
    },
    {
     "name": "stdout",
     "output_type": "stream",
     "text": [
      "Epoch: 340 \n",
      "\b Train Loss: 0.6824542288553147 \n",
      "\b Train Acc: 57.589285714285715 \n",
      "\b Val Loss: 0.6828767761136546 \n",
      "\b Val Acc: 58.59375\n",
      "**************************************************\n"
     ]
    },
    {
     "name": "stderr",
     "output_type": "stream",
     "text": [
      " 34%|███▍      | 342/1000 [18:29<34:46,  3.17s/it]"
     ]
    },
    {
     "name": "stdout",
     "output_type": "stream",
     "text": [
      "Epoch: 341 \n",
      "\b Train Loss: 0.6824117444810414 \n",
      "\b Train Acc: 57.595238095238095 \n",
      "\b Val Loss: 0.6828348410852028 \n",
      "\b Val Acc: 58.641098484848484\n",
      "**************************************************\n"
     ]
    },
    {
     "name": "stderr",
     "output_type": "stream",
     "text": [
      " 34%|███▍      | 343/1000 [18:33<36:01,  3.29s/it]"
     ]
    },
    {
     "name": "stdout",
     "output_type": "stream",
     "text": [
      "Epoch: 342 \n",
      "\b Train Loss: 0.6823709279582614 \n",
      "\b Train Acc: 57.595238095238095 \n",
      "\b Val Loss: 0.6827940697019751 \n",
      "\b Val Acc: 58.759469696969695\n",
      "**************************************************\n"
     ]
    },
    {
     "name": "stderr",
     "output_type": "stream",
     "text": [
      " 34%|███▍      | 344/1000 [18:36<36:03,  3.30s/it]"
     ]
    },
    {
     "name": "stdout",
     "output_type": "stream",
     "text": [
      "Epoch: 343 \n",
      "\b Train Loss: 0.6823295705659049 \n",
      "\b Train Acc: 57.62797619047619 \n",
      "\b Val Loss: 0.6827512780825297 \n",
      "\b Val Acc: 58.78314393939394\n",
      "**************************************************\n"
     ]
    },
    {
     "name": "stderr",
     "output_type": "stream",
     "text": [
      " 34%|███▍      | 345/1000 [18:39<34:10,  3.13s/it]"
     ]
    },
    {
     "name": "stdout",
     "output_type": "stream",
     "text": [
      "Epoch: 344 \n",
      "\b Train Loss: 0.6822876358032226 \n",
      "\b Train Acc: 57.651785714285715 \n",
      "\b Val Loss: 0.6827087591994893 \n",
      "\b Val Acc: 58.90151515151515\n",
      "**************************************************\n"
     ]
    },
    {
     "name": "stderr",
     "output_type": "stream",
     "text": [
      " 35%|███▍      | 346/1000 [18:42<33:47,  3.10s/it]"
     ]
    },
    {
     "name": "stdout",
     "output_type": "stream",
     "text": [
      "Epoch: 345 \n",
      "\b Train Loss: 0.6822469172591255 \n",
      "\b Train Acc: 57.69642857142857 \n",
      "\b Val Loss: 0.6826657074870486 \n",
      "\b Val Acc: 58.90151515151515\n",
      "**************************************************\n"
     ]
    },
    {
     "name": "stderr",
     "output_type": "stream",
     "text": [
      " 35%|███▍      | 347/1000 [18:45<32:53,  3.02s/it]"
     ]
    },
    {
     "name": "stdout",
     "output_type": "stream",
     "text": [
      "Epoch: 346 \n",
      "\b Train Loss: 0.6822053647041321 \n",
      "\b Train Acc: 57.705357142857146 \n",
      "\b Val Loss: 0.6826247356154702 \n",
      "\b Val Acc: 58.90151515151515\n",
      "**************************************************\n"
     ]
    },
    {
     "name": "stderr",
     "output_type": "stream",
     "text": [
      " 35%|███▍      | 348/1000 [18:48<32:47,  3.02s/it]"
     ]
    },
    {
     "name": "stdout",
     "output_type": "stream",
     "text": [
      "Epoch: 347 \n",
      "\b Train Loss: 0.6821650138355437 \n",
      "\b Train Acc: 57.723214285714285 \n",
      "\b Val Loss: 0.6825828701257706 \n",
      "\b Val Acc: 58.92518939393939\n",
      "**************************************************\n"
     ]
    },
    {
     "name": "stderr",
     "output_type": "stream",
     "text": [
      " 35%|███▍      | 349/1000 [18:51<33:07,  3.05s/it]"
     ]
    },
    {
     "name": "stdout",
     "output_type": "stream",
     "text": [
      "Epoch: 348 \n",
      "\b Train Loss: 0.6821232274600437 \n",
      "\b Train Acc: 57.723214285714285 \n",
      "\b Val Loss: 0.6825418643879168 \n",
      "\b Val Acc: 58.94886363636363\n",
      "**************************************************\n"
     ]
    },
    {
     "name": "stderr",
     "output_type": "stream",
     "text": [
      " 35%|███▌      | 350/1000 [18:54<33:17,  3.07s/it]"
     ]
    },
    {
     "name": "stdout",
     "output_type": "stream",
     "text": [
      "Epoch: 349 \n",
      "\b Train Loss: 0.6820814580576761 \n",
      "\b Train Acc: 57.729166666666664 \n",
      "\b Val Loss: 0.6825006730628737 \n",
      "\b Val Acc: 58.996212121212125\n",
      "**************************************************\n"
     ]
    },
    {
     "name": "stderr",
     "output_type": "stream",
     "text": [
      " 35%|███▌      | 351/1000 [18:57<32:07,  2.97s/it]"
     ]
    },
    {
     "name": "stdout",
     "output_type": "stream",
     "text": [
      "Epoch: 350 \n",
      "\b Train Loss: 0.682040620588121 \n",
      "\b Train Acc: 57.75595238095238 \n",
      "\b Val Loss: 0.6824585741216486 \n",
      "\b Val Acc: 58.972537878787875\n",
      "**************************************************\n"
     ]
    },
    {
     "name": "stderr",
     "output_type": "stream",
     "text": [
      " 35%|███▌      | 352/1000 [19:00<32:44,  3.03s/it]"
     ]
    },
    {
     "name": "stdout",
     "output_type": "stream",
     "text": [
      "Epoch: 351 \n",
      "\b Train Loss: 0.6819999335493361 \n",
      "\b Train Acc: 57.779761904761905 \n",
      "\b Val Loss: 0.6824160886533333 \n",
      "\b Val Acc: 58.94886363636363\n",
      "**************************************************\n"
     ]
    },
    {
     "name": "stderr",
     "output_type": "stream",
     "text": [
      " 35%|███▌      | 353/1000 [19:03<31:43,  2.94s/it]"
     ]
    },
    {
     "name": "stdout",
     "output_type": "stream",
     "text": [
      "Epoch: 352 \n",
      "\b Train Loss: 0.6819588063444411 \n",
      "\b Train Acc: 57.785714285714285 \n",
      "\b Val Loss: 0.6823735629970377 \n",
      "\b Val Acc: 58.94886363636363\n",
      "**************************************************\n"
     ]
    },
    {
     "name": "stderr",
     "output_type": "stream",
     "text": [
      " 35%|███▌      | 354/1000 [19:06<31:45,  2.95s/it]"
     ]
    },
    {
     "name": "stdout",
     "output_type": "stream",
     "text": [
      "Epoch: 353 \n",
      "\b Train Loss: 0.6819178315571376 \n",
      "\b Train Acc: 57.80059523809524 \n",
      "\b Val Loss: 0.6823304381334421 \n",
      "\b Val Acc: 58.92518939393939\n",
      "**************************************************\n"
     ]
    },
    {
     "name": "stderr",
     "output_type": "stream",
     "text": [
      " 36%|███▌      | 355/1000 [19:09<33:20,  3.10s/it]"
     ]
    },
    {
     "name": "stdout",
     "output_type": "stream",
     "text": [
      "Epoch: 354 \n",
      "\b Train Loss: 0.6818749034404754 \n",
      "\b Train Acc: 57.82440476190476 \n",
      "\b Val Loss: 0.6822867239966537 \n",
      "\b Val Acc: 58.90151515151515\n",
      "**************************************************\n"
     ]
    },
    {
     "name": "stderr",
     "output_type": "stream",
     "text": [
      " 36%|███▌      | 356/1000 [19:12<32:47,  3.06s/it]"
     ]
    },
    {
     "name": "stdout",
     "output_type": "stream",
     "text": [
      "Epoch: 355 \n",
      "\b Train Loss: 0.6818324386505854 \n",
      "\b Train Acc: 57.836309523809526 \n",
      "\b Val Loss: 0.6822425691467343 \n",
      "\b Val Acc: 58.854166666666664\n",
      "**************************************************\n"
     ]
    },
    {
     "name": "stderr",
     "output_type": "stream",
     "text": [
      " 36%|███▌      | 357/1000 [19:15<32:15,  3.01s/it]"
     ]
    },
    {
     "name": "stdout",
     "output_type": "stream",
     "text": [
      "Epoch: 356 \n",
      "\b Train Loss: 0.6817888061205546 \n",
      "\b Train Acc: 57.854166666666664 \n",
      "\b Val Loss: 0.682200601606658 \n",
      "\b Val Acc: 58.92518939393939\n",
      "**************************************************\n"
     ]
    },
    {
     "name": "stderr",
     "output_type": "stream",
     "text": [
      " 36%|███▌      | 358/1000 [19:18<31:37,  2.95s/it]"
     ]
    },
    {
     "name": "stdout",
     "output_type": "stream",
     "text": [
      "Epoch: 357 \n",
      "\b Train Loss: 0.6817468371277764 \n",
      "\b Train Acc: 57.86607142857143 \n",
      "\b Val Loss: 0.6821575950492512 \n",
      "\b Val Acc: 58.996212121212125\n",
      "**************************************************\n"
     ]
    },
    {
     "name": "stderr",
     "output_type": "stream",
     "text": [
      " 36%|███▌      | 359/1000 [19:21<31:24,  2.94s/it]"
     ]
    },
    {
     "name": "stdout",
     "output_type": "stream",
     "text": [
      "Epoch: 358 \n",
      "\b Train Loss: 0.6817043457712446 \n",
      "\b Train Acc: 57.892857142857146 \n",
      "\b Val Loss: 0.6821150143038143 \n",
      "\b Val Acc: 59.01988636363637\n",
      "**************************************************\n"
     ]
    },
    {
     "name": "stderr",
     "output_type": "stream",
     "text": [
      " 36%|███▌      | 360/1000 [19:24<31:19,  2.94s/it]"
     ]
    },
    {
     "name": "stdout",
     "output_type": "stream",
     "text": [
      "Epoch: 359 \n",
      "\b Train Loss: 0.6816624035721733 \n",
      "\b Train Acc: 57.904761904761905 \n",
      "\b Val Loss: 0.6820718533161915 \n",
      "\b Val Acc: 59.04356060606061\n",
      "**************************************************\n"
     ]
    },
    {
     "name": "stderr",
     "output_type": "stream",
     "text": [
      " 36%|███▌      | 361/1000 [19:28<35:16,  3.31s/it]"
     ]
    },
    {
     "name": "stdout",
     "output_type": "stream",
     "text": [
      "Epoch: 360 \n",
      "\b Train Loss: 0.6816191610268184 \n",
      "\b Train Acc: 57.910714285714285 \n",
      "\b Val Loss: 0.6820282972220219 \n",
      "\b Val Acc: 58.996212121212125\n",
      "**************************************************\n"
     ]
    },
    {
     "name": "stderr",
     "output_type": "stream",
     "text": [
      " 36%|███▌      | 362/1000 [19:31<33:28,  3.15s/it]"
     ]
    },
    {
     "name": "stdout",
     "output_type": "stream",
     "text": [
      "Epoch: 361 \n",
      "\b Train Loss: 0.681576768273399 \n",
      "\b Train Acc: 57.94047619047619 \n",
      "\b Val Loss: 0.6819845821821329 \n",
      "\b Val Acc: 58.94886363636363\n",
      "**************************************************\n"
     ]
    },
    {
     "name": "stderr",
     "output_type": "stream",
     "text": [
      " 36%|███▋      | 363/1000 [19:33<31:36,  2.98s/it]"
     ]
    },
    {
     "name": "stdout",
     "output_type": "stream",
     "text": [
      "Epoch: 362 \n",
      "\b Train Loss: 0.6815341960816156 \n",
      "\b Train Acc: 57.964285714285715 \n",
      "\b Val Loss: 0.6819406467856783 \n",
      "\b Val Acc: 58.90151515151515\n",
      "**************************************************\n"
     ]
    },
    {
     "name": "stderr",
     "output_type": "stream",
     "text": [
      " 36%|███▋      | 364/1000 [19:36<30:33,  2.88s/it]"
     ]
    },
    {
     "name": "stdout",
     "output_type": "stream",
     "text": [
      "Epoch: 363 \n",
      "\b Train Loss: 0.6814909236204056 \n",
      "\b Train Acc: 57.964285714285715 \n",
      "\b Val Loss: 0.6818990644180414 \n",
      "\b Val Acc: 58.92518939393939\n",
      "**************************************************\n"
     ]
    },
    {
     "name": "stderr",
     "output_type": "stream",
     "text": [
      " 36%|███▋      | 365/1000 [19:39<30:59,  2.93s/it]"
     ]
    },
    {
     "name": "stdout",
     "output_type": "stream",
     "text": [
      "Epoch: 364 \n",
      "\b Train Loss: 0.6814485696951548 \n",
      "\b Train Acc: 58.00595238095238 \n",
      "\b Val Loss: 0.6818539134480737 \n",
      "\b Val Acc: 58.92518939393939\n",
      "**************************************************\n"
     ]
    },
    {
     "name": "stderr",
     "output_type": "stream",
     "text": [
      " 37%|███▋      | 366/1000 [19:42<31:46,  3.01s/it]"
     ]
    },
    {
     "name": "stdout",
     "output_type": "stream",
     "text": [
      "Epoch: 365 \n",
      "\b Train Loss: 0.6814056034882864 \n",
      "\b Train Acc: 58.01488095238095 \n",
      "\b Val Loss: 0.6818106359604633 \n",
      "\b Val Acc: 58.94886363636363\n",
      "**************************************************\n"
     ]
    },
    {
     "name": "stderr",
     "output_type": "stream",
     "text": [
      " 37%|███▋      | 367/1000 [19:46<32:39,  3.10s/it]"
     ]
    },
    {
     "name": "stdout",
     "output_type": "stream",
     "text": [
      "Epoch: 366 \n",
      "\b Train Loss: 0.6813639924639747 \n",
      "\b Train Acc: 58.035714285714285 \n",
      "\b Val Loss: 0.6817647579944495 \n",
      "\b Val Acc: 58.94886363636363\n",
      "**************************************************\n"
     ]
    },
    {
     "name": "stderr",
     "output_type": "stream",
     "text": [
      " 37%|███▋      | 368/1000 [19:49<33:08,  3.15s/it]"
     ]
    },
    {
     "name": "stdout",
     "output_type": "stream",
     "text": [
      "Epoch: 367 \n",
      "\b Train Loss: 0.6813216507434845 \n",
      "\b Train Acc: 58.044642857142854 \n",
      "\b Val Loss: 0.6817206970670007 \n",
      "\b Val Acc: 58.996212121212125\n",
      "**************************************************\n"
     ]
    },
    {
     "name": "stderr",
     "output_type": "stream",
     "text": [
      " 37%|███▋      | 369/1000 [19:52<32:56,  3.13s/it]"
     ]
    },
    {
     "name": "stdout",
     "output_type": "stream",
     "text": [
      "Epoch: 368 \n",
      "\b Train Loss: 0.6812788046541668 \n",
      "\b Train Acc: 58.05654761904762 \n",
      "\b Val Loss: 0.6816767914728685 \n",
      "\b Val Acc: 58.94886363636363\n",
      "**************************************************\n"
     ]
    },
    {
     "name": "stderr",
     "output_type": "stream",
     "text": [
      " 37%|███▋      | 370/1000 [19:55<33:36,  3.20s/it]"
     ]
    },
    {
     "name": "stdout",
     "output_type": "stream",
     "text": [
      "Epoch: 369 \n",
      "\b Train Loss: 0.6812367572103228 \n",
      "\b Train Acc: 58.07440476190476 \n",
      "\b Val Loss: 0.681631811188929 \n",
      "\b Val Acc: 58.92518939393939\n",
      "**************************************************\n"
     ]
    },
    {
     "name": "stderr",
     "output_type": "stream",
     "text": [
      " 37%|███▋      | 371/1000 [19:58<33:28,  3.19s/it]"
     ]
    },
    {
     "name": "stdout",
     "output_type": "stream",
     "text": [
      "Epoch: 370 \n",
      "\b Train Loss: 0.6811944696449098 \n",
      "\b Train Acc: 58.092261904761905 \n",
      "\b Val Loss: 0.6815861404845209 \n",
      "\b Val Acc: 58.94886363636363\n",
      "**************************************************\n"
     ]
    },
    {
     "name": "stderr",
     "output_type": "stream",
     "text": [
      " 37%|███▋      | 372/1000 [20:02<34:10,  3.26s/it]"
     ]
    },
    {
     "name": "stdout",
     "output_type": "stream",
     "text": [
      "Epoch: 371 \n",
      "\b Train Loss: 0.6811517377126785 \n",
      "\b Train Acc: 58.11011904761905 \n",
      "\b Val Loss: 0.6815402625185071 \n",
      "\b Val Acc: 59.04356060606061\n",
      "**************************************************\n"
     ]
    },
    {
     "name": "stderr",
     "output_type": "stream",
     "text": [
      " 37%|███▋      | 373/1000 [20:06<35:45,  3.42s/it]"
     ]
    },
    {
     "name": "stdout",
     "output_type": "stream",
     "text": [
      "Epoch: 372 \n",
      "\b Train Loss: 0.6811086783522652 \n",
      "\b Train Acc: 58.11607142857143 \n",
      "\b Val Loss: 0.6814967809301434 \n",
      "\b Val Acc: 59.18560606060606\n",
      "**************************************************\n"
     ]
    },
    {
     "name": "stderr",
     "output_type": "stream",
     "text": [
      " 37%|███▋      | 374/1000 [20:09<36:11,  3.47s/it]"
     ]
    },
    {
     "name": "stdout",
     "output_type": "stream",
     "text": [
      "Epoch: 373 \n",
      "\b Train Loss: 0.6810662279242561 \n",
      "\b Train Acc: 58.13988095238095 \n",
      "\b Val Loss: 0.6814507882703434 \n",
      "\b Val Acc: 59.209280303030305\n",
      "**************************************************\n"
     ]
    },
    {
     "name": "stderr",
     "output_type": "stream",
     "text": [
      " 38%|███▊      | 375/1000 [20:12<34:40,  3.33s/it]"
     ]
    },
    {
     "name": "stdout",
     "output_type": "stream",
     "text": [
      "Epoch: 374 \n",
      "\b Train Loss: 0.6810237040973846 \n",
      "\b Train Acc: 58.148809523809526 \n",
      "\b Val Loss: 0.6814061565832659 \n",
      "\b Val Acc: 59.25662878787879\n",
      "**************************************************\n"
     ]
    },
    {
     "name": "stderr",
     "output_type": "stream",
     "text": [
      " 38%|███▊      | 376/1000 [20:15<33:40,  3.24s/it]"
     ]
    },
    {
     "name": "stdout",
     "output_type": "stream",
     "text": [
      "Epoch: 375 \n",
      "\b Train Loss: 0.6809811054524921 \n",
      "\b Train Acc: 58.17857142857143 \n",
      "\b Val Loss: 0.6813598478382284 \n",
      "\b Val Acc: 59.25662878787879\n",
      "**************************************************\n"
     ]
    },
    {
     "name": "stderr",
     "output_type": "stream",
     "text": [
      " 38%|███▊      | 377/1000 [20:18<32:50,  3.16s/it]"
     ]
    },
    {
     "name": "stdout",
     "output_type": "stream",
     "text": [
      "Epoch: 376 \n",
      "\b Train Loss: 0.6809370301451002 \n",
      "\b Train Acc: 58.19345238095238 \n",
      "\b Val Loss: 0.6813144986376618 \n",
      "\b Val Acc: 59.23295454545455\n",
      "**************************************************\n"
     ]
    },
    {
     "name": "stderr",
     "output_type": "stream",
     "text": [
      " 38%|███▊      | 378/1000 [20:21<32:54,  3.17s/it]"
     ]
    },
    {
     "name": "stdout",
     "output_type": "stream",
     "text": [
      "Epoch: 377 \n",
      "\b Train Loss: 0.6808940700122288 \n",
      "\b Train Acc: 58.211309523809526 \n",
      "\b Val Loss: 0.6812671982880795 \n",
      "\b Val Acc: 59.28030303030303\n",
      "**************************************************\n"
     ]
    },
    {
     "name": "stderr",
     "output_type": "stream",
     "text": [
      " 38%|███▊      | 379/1000 [20:24<31:52,  3.08s/it]"
     ]
    },
    {
     "name": "stdout",
     "output_type": "stream",
     "text": [
      "Epoch: 378 \n",
      "\b Train Loss: 0.6808517439592452 \n",
      "\b Train Acc: 58.23511904761905 \n",
      "\b Val Loss: 0.681220430316347 \n",
      "\b Val Acc: 59.209280303030305\n",
      "**************************************************\n"
     ]
    },
    {
     "name": "stderr",
     "output_type": "stream",
     "text": [
      " 38%|███▊      | 380/1000 [20:28<32:21,  3.13s/it]"
     ]
    },
    {
     "name": "stdout",
     "output_type": "stream",
     "text": [
      "Epoch: 379 \n",
      "\b Train Loss: 0.6808090332008544 \n",
      "\b Train Acc: 58.26488095238095 \n",
      "\b Val Loss: 0.6811737065965479 \n",
      "\b Val Acc: 59.23295454545455\n",
      "**************************************************\n"
     ]
    },
    {
     "name": "stderr",
     "output_type": "stream",
     "text": [
      " 38%|███▊      | 381/1000 [20:31<31:50,  3.09s/it]"
     ]
    },
    {
     "name": "stdout",
     "output_type": "stream",
     "text": [
      "Epoch: 380 \n",
      "\b Train Loss: 0.6807657374086834 \n",
      "\b Train Acc: 58.270833333333336 \n",
      "\b Val Loss: 0.6811283190142025 \n",
      "\b Val Acc: 59.18560606060606\n",
      "**************************************************\n"
     ]
    },
    {
     "name": "stderr",
     "output_type": "stream",
     "text": [
      " 38%|███▊      | 382/1000 [20:33<30:42,  2.98s/it]"
     ]
    },
    {
     "name": "stdout",
     "output_type": "stream",
     "text": [
      "Epoch: 381 \n",
      "\b Train Loss: 0.680724047763007 \n",
      "\b Train Acc: 58.30654761904762 \n",
      "\b Val Loss: 0.68108172398625 \n",
      "\b Val Acc: 59.18560606060606\n",
      "**************************************************\n"
     ]
    },
    {
     "name": "stderr",
     "output_type": "stream",
     "text": [
      " 38%|███▊      | 383/1000 [20:36<30:10,  2.93s/it]"
     ]
    },
    {
     "name": "stdout",
     "output_type": "stream",
     "text": [
      "Epoch: 382 \n",
      "\b Train Loss: 0.6806816161246527 \n",
      "\b Train Acc: 58.30952380952381 \n",
      "\b Val Loss: 0.6810352725513054 \n",
      "\b Val Acc: 59.23295454545455\n",
      "**************************************************\n"
     ]
    },
    {
     "name": "stderr",
     "output_type": "stream",
     "text": [
      " 38%|███▊      | 384/1000 [20:39<29:37,  2.89s/it]"
     ]
    },
    {
     "name": "stdout",
     "output_type": "stream",
     "text": [
      "Epoch: 383 \n",
      "\b Train Loss: 0.6806388265178317 \n",
      "\b Train Acc: 58.31547619047619 \n",
      "\b Val Loss: 0.6809897960135431 \n",
      "\b Val Acc: 59.16193181818182\n",
      "**************************************************\n"
     ]
    },
    {
     "name": "stderr",
     "output_type": "stream",
     "text": [
      " 38%|███▊      | 385/1000 [20:43<32:08,  3.14s/it]"
     ]
    },
    {
     "name": "stdout",
     "output_type": "stream",
     "text": [
      "Epoch: 384 \n",
      "\b Train Loss: 0.68059616679237 \n",
      "\b Train Acc: 58.348214285714285 \n",
      "\b Val Loss: 0.6809423764546713 \n",
      "\b Val Acc: 59.16193181818182\n",
      "**************************************************\n"
     ]
    },
    {
     "name": "stderr",
     "output_type": "stream",
     "text": [
      " 39%|███▊      | 386/1000 [20:46<32:29,  3.18s/it]"
     ]
    },
    {
     "name": "stdout",
     "output_type": "stream",
     "text": [
      "Epoch: 385 \n",
      "\b Train Loss: 0.6805525272800809 \n",
      "\b Train Acc: 58.36607142857143 \n",
      "\b Val Loss: 0.6808951334519819 \n",
      "\b Val Acc: 59.23295454545455\n",
      "**************************************************\n"
     ]
    },
    {
     "name": "stderr",
     "output_type": "stream",
     "text": [
      " 39%|███▊      | 387/1000 [20:49<32:35,  3.19s/it]"
     ]
    },
    {
     "name": "stdout",
     "output_type": "stream",
     "text": [
      "Epoch: 386 \n",
      "\b Train Loss: 0.6805094724609738 \n",
      "\b Train Acc: 58.398809523809526 \n",
      "\b Val Loss: 0.6808480778426835 \n",
      "\b Val Acc: 59.23295454545455\n",
      "**************************************************\n"
     ]
    },
    {
     "name": "stderr",
     "output_type": "stream",
     "text": [
      " 39%|███▉      | 388/1000 [20:52<31:54,  3.13s/it]"
     ]
    },
    {
     "name": "stdout",
     "output_type": "stream",
     "text": [
      "Epoch: 387 \n",
      "\b Train Loss: 0.680467555920283 \n",
      "\b Train Acc: 58.43154761904762 \n",
      "\b Val Loss: 0.6808003110416008 \n",
      "\b Val Acc: 59.18560606060606\n",
      "**************************************************\n"
     ]
    },
    {
     "name": "stderr",
     "output_type": "stream",
     "text": [
      " 39%|███▉      | 389/1000 [20:55<32:25,  3.18s/it]"
     ]
    },
    {
     "name": "stdout",
     "output_type": "stream",
     "text": [
      "Epoch: 388 \n",
      "\b Train Loss: 0.6804243816648211 \n",
      "\b Train Acc: 58.44345238095238 \n",
      "\b Val Loss: 0.6807526047482635 \n",
      "\b Val Acc: 59.209280303030305\n",
      "**************************************************\n"
     ]
    },
    {
     "name": "stderr",
     "output_type": "stream",
     "text": [
      " 39%|███▉      | 390/1000 [20:59<33:04,  3.25s/it]"
     ]
    },
    {
     "name": "stdout",
     "output_type": "stream",
     "text": [
      "Epoch: 389 \n",
      "\b Train Loss: 0.6803813462597983 \n",
      "\b Train Acc: 58.455357142857146 \n",
      "\b Val Loss: 0.6807052890459696 \n",
      "\b Val Acc: 59.18560606060606\n",
      "**************************************************\n"
     ]
    },
    {
     "name": "stderr",
     "output_type": "stream",
     "text": [
      " 39%|███▉      | 391/1000 [21:03<35:14,  3.47s/it]"
     ]
    },
    {
     "name": "stdout",
     "output_type": "stream",
     "text": [
      "Epoch: 390 \n",
      "\b Train Loss: 0.6803381376607077 \n",
      "\b Train Acc: 58.467261904761905 \n",
      "\b Val Loss: 0.6806572120298039 \n",
      "\b Val Acc: 59.23295454545455\n",
      "**************************************************\n"
     ]
    },
    {
     "name": "stderr",
     "output_type": "stream",
     "text": [
      " 39%|███▉      | 392/1000 [21:06<35:07,  3.47s/it]"
     ]
    },
    {
     "name": "stdout",
     "output_type": "stream",
     "text": [
      "Epoch: 391 \n",
      "\b Train Loss: 0.680295869509379 \n",
      "\b Train Acc: 58.49107142857143 \n",
      "\b Val Loss: 0.6806089634245093 \n",
      "\b Val Acc: 59.25662878787879\n",
      "**************************************************\n"
     ]
    },
    {
     "name": "stderr",
     "output_type": "stream",
     "text": [
      " 39%|███▉      | 393/1000 [21:09<32:54,  3.25s/it]"
     ]
    },
    {
     "name": "stdout",
     "output_type": "stream",
     "text": [
      "Epoch: 392 \n",
      "\b Train Loss: 0.6802504366920108 \n",
      "\b Train Acc: 58.467261904761905 \n",
      "\b Val Loss: 0.6805620419256615 \n",
      "\b Val Acc: 59.327651515151516\n",
      "**************************************************\n"
     ]
    },
    {
     "name": "stderr",
     "output_type": "stream",
     "text": [
      " 39%|███▉      | 394/1000 [21:12<31:41,  3.14s/it]"
     ]
    },
    {
     "name": "stdout",
     "output_type": "stream",
     "text": [
      "Epoch: 393 \n",
      "\b Train Loss: 0.6802073323726654 \n",
      "\b Train Acc: 58.48809523809524 \n",
      "\b Val Loss: 0.680513884081985 \n",
      "\b Val Acc: 59.35132575757576\n",
      "**************************************************\n"
     ]
    },
    {
     "name": "stderr",
     "output_type": "stream",
     "text": [
      " 40%|███▉      | 395/1000 [21:15<30:11,  2.99s/it]"
     ]
    },
    {
     "name": "stdout",
     "output_type": "stream",
     "text": [
      "Epoch: 394 \n",
      "\b Train Loss: 0.6801633863789694 \n",
      "\b Train Acc: 58.482142857142854 \n",
      "\b Val Loss: 0.6804666514649536 \n",
      "\b Val Acc: 59.35132575757576\n",
      "**************************************************\n"
     ]
    },
    {
     "name": "stderr",
     "output_type": "stream",
     "text": [
      " 40%|███▉      | 396/1000 [21:17<29:52,  2.97s/it]"
     ]
    },
    {
     "name": "stdout",
     "output_type": "stream",
     "text": [
      "Epoch: 395 \n",
      "\b Train Loss: 0.6801196974232083 \n",
      "\b Train Acc: 58.49404761904762 \n",
      "\b Val Loss: 0.6804175205302961 \n",
      "\b Val Acc: 59.35132575757576\n",
      "**************************************************\n"
     ]
    },
    {
     "name": "stderr",
     "output_type": "stream",
     "text": [
      " 40%|███▉      | 397/1000 [21:20<29:24,  2.93s/it]"
     ]
    },
    {
     "name": "stdout",
     "output_type": "stream",
     "text": [
      "Epoch: 396 \n",
      "\b Train Loss: 0.680075025444939 \n",
      "\b Train Acc: 58.517857142857146 \n",
      "\b Val Loss: 0.680369082273859 \n",
      "\b Val Acc: 59.44602272727273\n",
      "**************************************************\n"
     ]
    },
    {
     "name": "stderr",
     "output_type": "stream",
     "text": [
      " 40%|███▉      | 398/1000 [21:23<28:30,  2.84s/it]"
     ]
    },
    {
     "name": "stdout",
     "output_type": "stream",
     "text": [
      "Epoch: 397 \n",
      "\b Train Loss: 0.6800299167633057 \n",
      "\b Train Acc: 58.538690476190474 \n",
      "\b Val Loss: 0.6803208901123567 \n",
      "\b Val Acc: 59.49337121212121\n",
      "**************************************************\n"
     ]
    },
    {
     "name": "stderr",
     "output_type": "stream",
     "text": [
      " 40%|███▉      | 399/1000 [21:26<27:55,  2.79s/it]"
     ]
    },
    {
     "name": "stdout",
     "output_type": "stream",
     "text": [
      "Epoch: 398 \n",
      "\b Train Loss: 0.6799849773588634 \n",
      "\b Train Acc: 58.5625 \n",
      "\b Val Loss: 0.6802734646833304 \n",
      "\b Val Acc: 59.49337121212121\n",
      "**************************************************\n"
     ]
    },
    {
     "name": "stderr",
     "output_type": "stream",
     "text": [
      " 40%|████      | 400/1000 [21:28<27:21,  2.74s/it]"
     ]
    },
    {
     "name": "stdout",
     "output_type": "stream",
     "text": [
      "Epoch: 399 \n",
      "\b Train Loss: 0.6799388361544836 \n",
      "\b Train Acc: 58.583333333333336 \n",
      "\b Val Loss: 0.6802248272931937 \n",
      "\b Val Acc: 59.51704545454545\n",
      "**************************************************\n"
     ]
    },
    {
     "name": "stderr",
     "output_type": "stream",
     "text": [
      " 40%|████      | 401/1000 [21:31<27:02,  2.71s/it]"
     ]
    },
    {
     "name": "stdout",
     "output_type": "stream",
     "text": [
      "Epoch: 400 \n",
      "\b Train Loss: 0.6798952180431003 \n",
      "\b Train Acc: 58.61904761904762 \n",
      "\b Val Loss: 0.680176164616238 \n",
      "\b Val Acc: 59.51704545454545\n",
      "**************************************************\n"
     ]
    },
    {
     "name": "stderr",
     "output_type": "stream",
     "text": [
      " 40%|████      | 402/1000 [21:34<27:35,  2.77s/it]"
     ]
    },
    {
     "name": "stdout",
     "output_type": "stream",
     "text": [
      "Epoch: 401 \n",
      "\b Train Loss: 0.6798508666810535 \n",
      "\b Train Acc: 58.62202380952381 \n",
      "\b Val Loss: 0.6801283666581819 \n",
      "\b Val Acc: 59.58806818181818\n",
      "**************************************************\n"
     ]
    },
    {
     "name": "stderr",
     "output_type": "stream",
     "text": [
      " 40%|████      | 403/1000 [21:36<27:16,  2.74s/it]"
     ]
    },
    {
     "name": "stdout",
     "output_type": "stream",
     "text": [
      "Epoch: 402 \n",
      "\b Train Loss: 0.6798054185367766 \n",
      "\b Train Acc: 58.63392857142857 \n",
      "\b Val Loss: 0.6800813589132193 \n",
      "\b Val Acc: 59.56439393939394\n",
      "**************************************************\n"
     ]
    },
    {
     "name": "stderr",
     "output_type": "stream",
     "text": [
      " 40%|████      | 404/1000 [21:40<28:30,  2.87s/it]"
     ]
    },
    {
     "name": "stdout",
     "output_type": "stream",
     "text": [
      "Epoch: 403 \n",
      "\b Train Loss: 0.6797612082958221 \n",
      "\b Train Acc: 58.657738095238095 \n",
      "\b Val Loss: 0.680032956329259 \n",
      "\b Val Acc: 59.58806818181818\n",
      "**************************************************\n"
     ]
    },
    {
     "name": "stderr",
     "output_type": "stream",
     "text": [
      " 40%|████      | 405/1000 [21:42<27:39,  2.79s/it]"
     ]
    },
    {
     "name": "stdout",
     "output_type": "stream",
     "text": [
      "Epoch: 404 \n",
      "\b Train Loss: 0.6797157705965496 \n",
      "\b Train Acc: 58.6875 \n",
      "\b Val Loss: 0.6799843496445453 \n",
      "\b Val Acc: 59.61174242424242\n",
      "**************************************************\n"
     ]
    },
    {
     "name": "stderr",
     "output_type": "stream",
     "text": [
      " 41%|████      | 406/1000 [21:45<27:10,  2.74s/it]"
     ]
    },
    {
     "name": "stdout",
     "output_type": "stream",
     "text": [
      "Epoch: 405 \n",
      "\b Train Loss: 0.6796716367630732 \n",
      "\b Train Acc: 58.711309523809526 \n",
      "\b Val Loss: 0.679935969638102 \n",
      "\b Val Acc: 59.68276515151515\n",
      "**************************************************\n"
     ]
    },
    {
     "name": "stderr",
     "output_type": "stream",
     "text": [
      " 41%|████      | 407/1000 [21:48<28:35,  2.89s/it]"
     ]
    },
    {
     "name": "stdout",
     "output_type": "stream",
     "text": [
      "Epoch: 406 \n",
      "\b Train Loss: 0.6796281356470926 \n",
      "\b Train Acc: 58.726190476190474 \n",
      "\b Val Loss: 0.6798881170424548 \n",
      "\b Val Acc: 59.70643939393939\n",
      "**************************************************\n"
     ]
    },
    {
     "name": "stderr",
     "output_type": "stream",
     "text": [
      " 41%|████      | 408/1000 [21:51<29:14,  2.96s/it]"
     ]
    },
    {
     "name": "stdout",
     "output_type": "stream",
     "text": [
      "Epoch: 407 \n",
      "\b Train Loss: 0.6795835710707165 \n",
      "\b Train Acc: 58.75595238095238 \n",
      "\b Val Loss: 0.6798399582956777 \n",
      "\b Val Acc: 59.753787878787875\n",
      "**************************************************\n"
     ]
    },
    {
     "name": "stderr",
     "output_type": "stream",
     "text": [
      " 41%|████      | 409/1000 [21:54<28:44,  2.92s/it]"
     ]
    },
    {
     "name": "stdout",
     "output_type": "stream",
     "text": [
      "Epoch: 408 \n",
      "\b Train Loss: 0.6795390670640128 \n",
      "\b Train Acc: 58.770833333333336 \n",
      "\b Val Loss: 0.6797907524036638 \n",
      "\b Val Acc: 59.753787878787875\n",
      "**************************************************\n"
     ]
    },
    {
     "name": "stderr",
     "output_type": "stream",
     "text": [
      " 41%|████      | 410/1000 [21:57<29:47,  3.03s/it]"
     ]
    },
    {
     "name": "stdout",
     "output_type": "stream",
     "text": [
      "Epoch: 409 \n",
      "\b Train Loss: 0.6794940666357676 \n",
      "\b Train Acc: 58.779761904761905 \n",
      "\b Val Loss: 0.6797417497093027 \n",
      "\b Val Acc: 59.777462121212125\n",
      "**************************************************\n"
     ]
    },
    {
     "name": "stderr",
     "output_type": "stream",
     "text": [
      " 41%|████      | 411/1000 [22:01<31:43,  3.23s/it]"
     ]
    },
    {
     "name": "stdout",
     "output_type": "stream",
     "text": [
      "Epoch: 410 \n",
      "\b Train Loss: 0.6794485288574582 \n",
      "\b Train Acc: 58.80952380952381 \n",
      "\b Val Loss: 0.6796942863500479 \n",
      "\b Val Acc: 59.84848484848485\n",
      "**************************************************\n"
     ]
    },
    {
     "name": "stderr",
     "output_type": "stream",
     "text": [
      " 41%|████      | 412/1000 [22:05<32:40,  3.33s/it]"
     ]
    },
    {
     "name": "stdout",
     "output_type": "stream",
     "text": [
      "Epoch: 411 \n",
      "\b Train Loss: 0.6794030668054308 \n",
      "\b Train Acc: 58.845238095238095 \n",
      "\b Val Loss: 0.6796459442738331 \n",
      "\b Val Acc: 59.895833333333336\n",
      "**************************************************\n"
     ]
    },
    {
     "name": "stderr",
     "output_type": "stream",
     "text": [
      " 41%|████▏     | 413/1000 [22:08<32:39,  3.34s/it]"
     ]
    },
    {
     "name": "stdout",
     "output_type": "stream",
     "text": [
      "Epoch: 412 \n",
      "\b Train Loss: 0.6793575550828661 \n",
      "\b Train Acc: 58.854166666666664 \n",
      "\b Val Loss: 0.6795969465465257 \n",
      "\b Val Acc: 59.895833333333336\n",
      "**************************************************\n"
     ]
    },
    {
     "name": "stderr",
     "output_type": "stream",
     "text": [
      " 41%|████▏     | 414/1000 [22:11<31:46,  3.25s/it]"
     ]
    },
    {
     "name": "stdout",
     "output_type": "stream",
     "text": [
      "Epoch: 413 \n",
      "\b Train Loss: 0.6793118991738274 \n",
      "\b Train Acc: 58.875 \n",
      "\b Val Loss: 0.6795479601079767 \n",
      "\b Val Acc: 59.94318181818182\n",
      "**************************************************\n"
     ]
    },
    {
     "name": "stderr",
     "output_type": "stream",
     "text": [
      " 42%|████▏     | 415/1000 [22:14<32:05,  3.29s/it]"
     ]
    },
    {
     "name": "stdout",
     "output_type": "stream",
     "text": [
      "Epoch: 414 \n",
      "\b Train Loss: 0.6792665583746774 \n",
      "\b Train Acc: 58.895833333333336 \n",
      "\b Val Loss: 0.6794992640162959 \n",
      "\b Val Acc: 59.91950757575758\n",
      "**************************************************\n"
     ]
    },
    {
     "name": "stderr",
     "output_type": "stream",
     "text": [
      " 42%|████▏     | 416/1000 [22:18<32:54,  3.38s/it]"
     ]
    },
    {
     "name": "stdout",
     "output_type": "stream",
     "text": [
      "Epoch: 415 \n",
      "\b Train Loss: 0.6792223430815197 \n",
      "\b Train Acc: 58.907738095238095 \n",
      "\b Val Loss: 0.679448690829855 \n",
      "\b Val Acc: 59.87215909090909\n",
      "**************************************************\n"
     ]
    },
    {
     "name": "stderr",
     "output_type": "stream",
     "text": [
      " 42%|████▏     | 417/1000 [22:22<34:00,  3.50s/it]"
     ]
    },
    {
     "name": "stdout",
     "output_type": "stream",
     "text": [
      "Epoch: 416 \n",
      "\b Train Loss: 0.6791758296035585 \n",
      "\b Train Acc: 58.904761904761905 \n",
      "\b Val Loss: 0.679400899645054 \n",
      "\b Val Acc: 59.94318181818182\n",
      "**************************************************\n"
     ]
    },
    {
     "name": "stderr",
     "output_type": "stream",
     "text": [
      " 42%|████▏     | 418/1000 [22:26<35:50,  3.69s/it]"
     ]
    },
    {
     "name": "stdout",
     "output_type": "stream",
     "text": [
      "Epoch: 417 \n",
      "\b Train Loss: 0.6791312720094408 \n",
      "\b Train Acc: 58.92261904761905 \n",
      "\b Val Loss: 0.67935250564055 \n",
      "\b Val Acc: 60.01420454545455\n",
      "**************************************************\n"
     ]
    },
    {
     "name": "stderr",
     "output_type": "stream",
     "text": [
      " 42%|████▏     | 419/1000 [22:29<35:15,  3.64s/it]"
     ]
    },
    {
     "name": "stdout",
     "output_type": "stream",
     "text": [
      "Epoch: 418 \n",
      "\b Train Loss: 0.6790864091260093 \n",
      "\b Train Acc: 58.916666666666664 \n",
      "\b Val Loss: 0.6793045460274725 \n",
      "\b Val Acc: 59.96685606060606\n",
      "**************************************************\n"
     ]
    },
    {
     "name": "stderr",
     "output_type": "stream",
     "text": [
      " 42%|████▏     | 420/1000 [22:33<35:19,  3.65s/it]"
     ]
    },
    {
     "name": "stdout",
     "output_type": "stream",
     "text": [
      "Epoch: 419 \n",
      "\b Train Loss: 0.6790392337526594 \n",
      "\b Train Acc: 58.93154761904762 \n",
      "\b Val Loss: 0.6792555862303936 \n",
      "\b Val Acc: 59.990530303030305\n",
      "**************************************************\n"
     ]
    },
    {
     "name": "stderr",
     "output_type": "stream",
     "text": [
      " 42%|████▏     | 421/1000 [22:37<36:56,  3.83s/it]"
     ]
    },
    {
     "name": "stdout",
     "output_type": "stream",
     "text": [
      "Epoch: 420 \n",
      "\b Train Loss: 0.6789920039404006 \n",
      "\b Train Acc: 58.94345238095238 \n",
      "\b Val Loss: 0.6792069429701025 \n",
      "\b Val Acc: 59.990530303030305\n",
      "**************************************************\n"
     ]
    },
    {
     "name": "stderr",
     "output_type": "stream",
     "text": [
      " 42%|████▏     | 422/1000 [22:41<37:50,  3.93s/it]"
     ]
    },
    {
     "name": "stdout",
     "output_type": "stream",
     "text": [
      "Epoch: 421 \n",
      "\b Train Loss: 0.6789450558594295 \n",
      "\b Train Acc: 58.976190476190474 \n",
      "\b Val Loss: 0.6791546033187346 \n",
      "\b Val Acc: 59.96685606060606\n",
      "**************************************************\n"
     ]
    },
    {
     "name": "stderr",
     "output_type": "stream",
     "text": [
      " 42%|████▏     | 423/1000 [22:46<38:38,  4.02s/it]"
     ]
    },
    {
     "name": "stdout",
     "output_type": "stream",
     "text": [
      "Epoch: 422 \n",
      "\b Train Loss: 0.6788969655831655 \n",
      "\b Train Acc: 58.976190476190474 \n",
      "\b Val Loss: 0.6791052931185925 \n",
      "\b Val Acc: 60.01420454545455\n",
      "**************************************************\n"
     ]
    },
    {
     "name": "stderr",
     "output_type": "stream",
     "text": [
      " 42%|████▏     | 424/1000 [22:49<37:36,  3.92s/it]"
     ]
    },
    {
     "name": "stdout",
     "output_type": "stream",
     "text": [
      "Epoch: 423 \n",
      "\b Train Loss: 0.6788507114137922 \n",
      "\b Train Acc: 59.00297619047619 \n",
      "\b Val Loss: 0.6790553552634788 \n",
      "\b Val Acc: 60.01420454545455\n",
      "**************************************************\n"
     ]
    },
    {
     "name": "stderr",
     "output_type": "stream",
     "text": [
      " 42%|████▎     | 425/1000 [22:53<36:47,  3.84s/it]"
     ]
    },
    {
     "name": "stdout",
     "output_type": "stream",
     "text": [
      "Epoch: 424 \n",
      "\b Train Loss: 0.6788057116099766 \n",
      "\b Train Acc: 59.023809523809526 \n",
      "\b Val Loss: 0.6790050629413489 \n",
      "\b Val Acc: 59.96685606060606\n",
      "**************************************************\n"
     ]
    },
    {
     "name": "stderr",
     "output_type": "stream",
     "text": [
      " 43%|████▎     | 426/1000 [22:58<39:23,  4.12s/it]"
     ]
    },
    {
     "name": "stdout",
     "output_type": "stream",
     "text": [
      "Epoch: 425 \n",
      "\b Train Loss: 0.6787592449642363 \n",
      "\b Train Acc: 59.038690476190474 \n",
      "\b Val Loss: 0.6789539113189235 \n",
      "\b Val Acc: 59.94318181818182\n",
      "**************************************************\n"
     ]
    },
    {
     "name": "stderr",
     "output_type": "stream",
     "text": [
      " 43%|████▎     | 427/1000 [23:01<37:15,  3.90s/it]"
     ]
    },
    {
     "name": "stdout",
     "output_type": "stream",
     "text": [
      "Epoch: 426 \n",
      "\b Train Loss: 0.6787125350747789 \n",
      "\b Train Acc: 59.05654761904762 \n",
      "\b Val Loss: 0.6789041436982878 \n",
      "\b Val Acc: 59.990530303030305\n",
      "**************************************************\n"
     ]
    },
    {
     "name": "stderr",
     "output_type": "stream",
     "text": [
      " 43%|████▎     | 428/1000 [23:05<36:17,  3.81s/it]"
     ]
    },
    {
     "name": "stdout",
     "output_type": "stream",
     "text": [
      "Epoch: 427 \n",
      "\b Train Loss: 0.6786665555976686 \n",
      "\b Train Acc: 59.07440476190476 \n",
      "\b Val Loss: 0.6788561420910286 \n",
      "\b Val Acc: 60.06155303030303\n",
      "**************************************************\n"
     ]
    },
    {
     "name": "stderr",
     "output_type": "stream",
     "text": [
      " 43%|████▎     | 429/1000 [23:08<33:43,  3.54s/it]"
     ]
    },
    {
     "name": "stdout",
     "output_type": "stream",
     "text": [
      "Epoch: 428 \n",
      "\b Train Loss: 0.678620844398226 \n",
      "\b Train Acc: 59.089285714285715 \n",
      "\b Val Loss: 0.6788046698678624 \n",
      "\b Val Acc: 60.08522727272727\n",
      "**************************************************\n"
     ]
    },
    {
     "name": "stderr",
     "output_type": "stream",
     "text": [
      " 43%|████▎     | 430/1000 [23:10<31:06,  3.28s/it]"
     ]
    },
    {
     "name": "stdout",
     "output_type": "stream",
     "text": [
      "Epoch: 429 \n",
      "\b Train Loss: 0.6785749529089247 \n",
      "\b Train Acc: 59.11309523809524 \n",
      "\b Val Loss: 0.6787550182956638 \n",
      "\b Val Acc: 60.08522727272727\n",
      "**************************************************\n"
     ]
    },
    {
     "name": "stderr",
     "output_type": "stream",
     "text": [
      " 43%|████▎     | 431/1000 [23:13<30:18,  3.20s/it]"
     ]
    },
    {
     "name": "stdout",
     "output_type": "stream",
     "text": [
      "Epoch: 430 \n",
      "\b Train Loss: 0.6785290041991643 \n",
      "\b Train Acc: 59.13095238095238 \n",
      "\b Val Loss: 0.6787047891905813 \n",
      "\b Val Acc: 60.08522727272727\n",
      "**************************************************\n"
     ]
    },
    {
     "name": "stderr",
     "output_type": "stream",
     "text": [
      " 43%|████▎     | 432/1000 [23:17<30:46,  3.25s/it]"
     ]
    },
    {
     "name": "stdout",
     "output_type": "stream",
     "text": [
      "Epoch: 431 \n",
      "\b Train Loss: 0.6784824210689181 \n",
      "\b Train Acc: 59.154761904761905 \n",
      "\b Val Loss: 0.6786542706417314 \n",
      "\b Val Acc: 60.06155303030303\n",
      "**************************************************\n"
     ]
    },
    {
     "name": "stderr",
     "output_type": "stream",
     "text": [
      " 43%|████▎     | 433/1000 [23:20<30:14,  3.20s/it]"
     ]
    },
    {
     "name": "stdout",
     "output_type": "stream",
     "text": [
      "Epoch: 432 \n",
      "\b Train Loss: 0.6784356419245402 \n",
      "\b Train Acc: 59.160714285714285 \n",
      "\b Val Loss: 0.6786047906586619 \n",
      "\b Val Acc: 60.15625\n",
      "**************************************************\n"
     ]
    },
    {
     "name": "stderr",
     "output_type": "stream",
     "text": [
      " 43%|████▎     | 434/1000 [23:24<32:26,  3.44s/it]"
     ]
    },
    {
     "name": "stdout",
     "output_type": "stream",
     "text": [
      "Epoch: 433 \n",
      "\b Train Loss: 0.6783895131519863 \n",
      "\b Train Acc: 59.18452380952381 \n",
      "\b Val Loss: 0.6785550912221273 \n",
      "\b Val Acc: 60.27462121212121\n",
      "**************************************************\n"
     ]
    },
    {
     "name": "stderr",
     "output_type": "stream",
     "text": [
      " 44%|████▎     | 435/1000 [23:27<32:59,  3.50s/it]"
     ]
    },
    {
     "name": "stdout",
     "output_type": "stream",
     "text": [
      "Epoch: 434 \n",
      "\b Train Loss: 0.6783428239254724 \n",
      "\b Train Acc: 59.20238095238095 \n",
      "\b Val Loss: 0.6785051903941415 \n",
      "\b Val Acc: 60.27462121212121\n",
      "**************************************************\n"
     ]
    },
    {
     "name": "stderr",
     "output_type": "stream",
     "text": [
      " 44%|████▎     | 436/1000 [23:31<32:22,  3.44s/it]"
     ]
    },
    {
     "name": "stdout",
     "output_type": "stream",
     "text": [
      "Epoch: 435 \n",
      "\b Train Loss: 0.6782968685172853 \n",
      "\b Train Acc: 59.220238095238095 \n",
      "\b Val Loss: 0.6784538771166946 \n",
      "\b Val Acc: 60.27462121212121\n",
      "**************************************************\n"
     ]
    },
    {
     "name": "stderr",
     "output_type": "stream",
     "text": [
      " 44%|████▎     | 437/1000 [23:34<30:24,  3.24s/it]"
     ]
    },
    {
     "name": "stdout",
     "output_type": "stream",
     "text": [
      "Epoch: 436 \n",
      "\b Train Loss: 0.6782493918850309 \n",
      "\b Train Acc: 59.24107142857143 \n",
      "\b Val Loss: 0.678402658664819 \n",
      "\b Val Acc: 60.25094696969697\n",
      "**************************************************\n"
     ]
    },
    {
     "name": "stderr",
     "output_type": "stream",
     "text": [
      " 44%|████▍     | 438/1000 [23:37<30:09,  3.22s/it]"
     ]
    },
    {
     "name": "stdout",
     "output_type": "stream",
     "text": [
      "Epoch: 437 \n",
      "\b Train Loss: 0.6782033093770345 \n",
      "\b Train Acc: 59.25297619047619 \n",
      "\b Val Loss: 0.6783518195152283 \n",
      "\b Val Acc: 60.25094696969697\n",
      "**************************************************\n"
     ]
    },
    {
     "name": "stderr",
     "output_type": "stream",
     "text": [
      " 44%|████▍     | 439/1000 [23:40<29:54,  3.20s/it]"
     ]
    },
    {
     "name": "stdout",
     "output_type": "stream",
     "text": [
      "Epoch: 438 \n",
      "\b Train Loss: 0.678157053618204 \n",
      "\b Train Acc: 59.26488095238095 \n",
      "\b Val Loss: 0.6783000113386096 \n",
      "\b Val Acc: 60.25094696969697\n",
      "**************************************************\n"
     ]
    },
    {
     "name": "stderr",
     "output_type": "stream",
     "text": [
      " 44%|████▍     | 440/1000 [23:43<29:24,  3.15s/it]"
     ]
    },
    {
     "name": "stdout",
     "output_type": "stream",
     "text": [
      "Epoch: 439 \n",
      "\b Train Loss: 0.6781113365718296 \n",
      "\b Train Acc: 59.270833333333336 \n",
      "\b Val Loss: 0.6782493929971348 \n",
      "\b Val Acc: 60.34564393939394\n",
      "**************************************************\n"
     ]
    },
    {
     "name": "stderr",
     "output_type": "stream",
     "text": [
      " 44%|████▍     | 441/1000 [23:46<29:05,  3.12s/it]"
     ]
    },
    {
     "name": "stdout",
     "output_type": "stream",
     "text": [
      "Epoch: 440 \n",
      "\b Train Loss: 0.6780647454942976 \n",
      "\b Train Acc: 59.276785714285715 \n",
      "\b Val Loss: 0.6782004765488885 \n",
      "\b Val Acc: 60.416666666666664\n",
      "**************************************************\n"
     ]
    },
    {
     "name": "stderr",
     "output_type": "stream",
     "text": [
      " 44%|████▍     | 442/1000 [23:49<29:26,  3.17s/it]"
     ]
    },
    {
     "name": "stdout",
     "output_type": "stream",
     "text": [
      "Epoch: 441 \n",
      "\b Train Loss: 0.6780172674428849 \n",
      "\b Train Acc: 59.276785714285715 \n",
      "\b Val Loss: 0.6781494373624976 \n",
      "\b Val Acc: 60.48768939393939\n",
      "**************************************************\n"
     ]
    },
    {
     "name": "stderr",
     "output_type": "stream",
     "text": [
      " 44%|████▍     | 443/1000 [23:52<28:01,  3.02s/it]"
     ]
    },
    {
     "name": "stdout",
     "output_type": "stream",
     "text": [
      "Epoch: 442 \n",
      "\b Train Loss: 0.6779698693752289 \n",
      "\b Train Acc: 59.26190476190476 \n",
      "\b Val Loss: 0.6781041893092069 \n",
      "\b Val Acc: 60.51136363636363\n",
      "**************************************************\n"
     ]
    },
    {
     "name": "stderr",
     "output_type": "stream",
     "text": [
      " 44%|████▍     | 444/1000 [23:55<27:24,  2.96s/it]"
     ]
    },
    {
     "name": "stdout",
     "output_type": "stream",
     "text": [
      "Epoch: 443 \n",
      "\b Train Loss: 0.6779232736996242 \n",
      "\b Train Acc: 59.279761904761905 \n",
      "\b Val Loss: 0.6780523061752319 \n",
      "\b Val Acc: 60.558712121212125\n",
      "**************************************************\n"
     ]
    },
    {
     "name": "stderr",
     "output_type": "stream",
     "text": [
      " 44%|████▍     | 445/1000 [23:58<27:34,  2.98s/it]"
     ]
    },
    {
     "name": "stdout",
     "output_type": "stream",
     "text": [
      "Epoch: 444 \n",
      "\b Train Loss: 0.6778743725163596 \n",
      "\b Train Acc: 59.288690476190474 \n",
      "\b Val Loss: 0.6780015049558697 \n",
      "\b Val Acc: 60.558712121212125\n",
      "**************************************************\n"
     ]
    },
    {
     "name": "stderr",
     "output_type": "stream",
     "text": [
      " 45%|████▍     | 446/1000 [24:01<28:07,  3.05s/it]"
     ]
    },
    {
     "name": "stdout",
     "output_type": "stream",
     "text": [
      "Epoch: 445 \n",
      "\b Train Loss: 0.6778260576725006 \n",
      "\b Train Acc: 59.30654761904762 \n",
      "\b Val Loss: 0.6779518140987917 \n",
      "\b Val Acc: 60.60606060606061\n",
      "**************************************************\n"
     ]
    },
    {
     "name": "stderr",
     "output_type": "stream",
     "text": [
      " 45%|████▍     | 447/1000 [24:04<28:23,  3.08s/it]"
     ]
    },
    {
     "name": "stdout",
     "output_type": "stream",
     "text": [
      "Epoch: 446 \n",
      "\b Train Loss: 0.677779019616899 \n",
      "\b Train Acc: 59.348214285714285 \n",
      "\b Val Loss: 0.6778947354266138 \n",
      "\b Val Acc: 60.535037878787875\n",
      "**************************************************\n"
     ]
    },
    {
     "name": "stderr",
     "output_type": "stream",
     "text": [
      " 45%|████▍     | 448/1000 [24:07<28:28,  3.09s/it]"
     ]
    },
    {
     "name": "stdout",
     "output_type": "stream",
     "text": [
      "Epoch: 447 \n",
      "\b Train Loss: 0.677729808546248 \n",
      "\b Train Acc: 59.357142857142854 \n",
      "\b Val Loss: 0.6778449799978372 \n",
      "\b Val Acc: 60.558712121212125\n",
      "**************************************************\n"
     ]
    },
    {
     "name": "stderr",
     "output_type": "stream",
     "text": [
      " 45%|████▍     | 449/1000 [24:11<29:50,  3.25s/it]"
     ]
    },
    {
     "name": "stdout",
     "output_type": "stream",
     "text": [
      "Epoch: 448 \n",
      "\b Train Loss: 0.677682934147971 \n",
      "\b Train Acc: 59.37797619047619 \n",
      "\b Val Loss: 0.6777907944086826 \n",
      "\b Val Acc: 60.60606060606061\n",
      "**************************************************\n"
     ]
    },
    {
     "name": "stderr",
     "output_type": "stream",
     "text": [
      " 45%|████▌     | 450/1000 [24:14<30:52,  3.37s/it]"
     ]
    },
    {
     "name": "stdout",
     "output_type": "stream",
     "text": [
      "Epoch: 449 \n",
      "\b Train Loss: 0.6776356390544347 \n",
      "\b Train Acc: 59.398809523809526 \n",
      "\b Val Loss: 0.6777405463384859 \n",
      "\b Val Acc: 60.51136363636363\n",
      "**************************************************\n"
     ]
    },
    {
     "name": "stderr",
     "output_type": "stream",
     "text": [
      " 45%|████▌     | 451/1000 [24:17<28:55,  3.16s/it]"
     ]
    },
    {
     "name": "stdout",
     "output_type": "stream",
     "text": [
      "Epoch: 450 \n",
      "\b Train Loss: 0.6775881740025111 \n",
      "\b Train Acc: 59.42857142857143 \n",
      "\b Val Loss: 0.6776846042185118 \n",
      "\b Val Acc: 60.535037878787875\n",
      "**************************************************\n"
     ]
    },
    {
     "name": "stderr",
     "output_type": "stream",
     "text": [
      " 45%|████▌     | 452/1000 [24:20<27:17,  2.99s/it]"
     ]
    },
    {
     "name": "stdout",
     "output_type": "stream",
     "text": [
      "Epoch: 451 \n",
      "\b Train Loss: 0.677540576401211 \n",
      "\b Train Acc: 59.455357142857146 \n",
      "\b Val Loss: 0.677630030747616 \n",
      "\b Val Acc: 60.558712121212125\n",
      "**************************************************\n"
     ]
    },
    {
     "name": "stderr",
     "output_type": "stream",
     "text": [
      " 45%|████▌     | 453/1000 [24:23<27:49,  3.05s/it]"
     ]
    },
    {
     "name": "stdout",
     "output_type": "stream",
     "text": [
      "Epoch: 452 \n",
      "\b Train Loss: 0.6774918838909694 \n",
      "\b Train Acc: 59.470238095238095 \n",
      "\b Val Loss: 0.6775795347762831 \n",
      "\b Val Acc: 60.62973484848485\n",
      "**************************************************\n"
     ]
    },
    {
     "name": "stderr",
     "output_type": "stream",
     "text": [
      " 45%|████▌     | 454/1000 [24:26<28:07,  3.09s/it]"
     ]
    },
    {
     "name": "stdout",
     "output_type": "stream",
     "text": [
      "Epoch: 453 \n",
      "\b Train Loss: 0.6774445805095491 \n",
      "\b Train Acc: 59.49404761904762 \n",
      "\b Val Loss: 0.6775275279175151 \n",
      "\b Val Acc: 60.677083333333336\n",
      "**************************************************\n"
     ]
    },
    {
     "name": "stderr",
     "output_type": "stream",
     "text": [
      " 46%|████▌     | 455/1000 [24:29<28:19,  3.12s/it]"
     ]
    },
    {
     "name": "stdout",
     "output_type": "stream",
     "text": [
      "Epoch: 454 \n",
      "\b Train Loss: 0.6773971689315069 \n",
      "\b Train Acc: 59.51190476190476 \n",
      "\b Val Loss: 0.6774768273938786 \n",
      "\b Val Acc: 60.677083333333336\n",
      "**************************************************\n"
     ]
    },
    {
     "name": "stderr",
     "output_type": "stream",
     "text": [
      " 46%|████▌     | 456/1000 [24:33<29:14,  3.23s/it]"
     ]
    },
    {
     "name": "stdout",
     "output_type": "stream",
     "text": [
      "Epoch: 455 \n",
      "\b Train Loss: 0.6773491903713771 \n",
      "\b Train Acc: 59.541666666666664 \n",
      "\b Val Loss: 0.6774205768650229 \n",
      "\b Val Acc: 60.70075757575758\n",
      "**************************************************\n"
     ]
    },
    {
     "name": "stderr",
     "output_type": "stream",
     "text": [
      " 46%|████▌     | 457/1000 [24:36<29:15,  3.23s/it]"
     ]
    },
    {
     "name": "stdout",
     "output_type": "stream",
     "text": [
      "Epoch: 456 \n",
      "\b Train Loss: 0.6772990940866016 \n",
      "\b Train Acc: 59.56547619047619 \n",
      "\b Val Loss: 0.6773663262526194 \n",
      "\b Val Acc: 60.72443181818182\n",
      "**************************************************\n"
     ]
    },
    {
     "name": "stderr",
     "output_type": "stream",
     "text": [
      " 46%|████▌     | 458/1000 [24:39<28:24,  3.15s/it]"
     ]
    },
    {
     "name": "stdout",
     "output_type": "stream",
     "text": [
      "Epoch: 457 \n",
      "\b Train Loss: 0.6772502391678946 \n",
      "\b Train Acc: 59.601190476190474 \n",
      "\b Val Loss: 0.6773130184773243 \n",
      "\b Val Acc: 60.70075757575758\n",
      "**************************************************\n"
     ]
    },
    {
     "name": "stderr",
     "output_type": "stream",
     "text": [
      " 46%|████▌     | 459/1000 [24:42<28:01,  3.11s/it]"
     ]
    },
    {
     "name": "stdout",
     "output_type": "stream",
     "text": [
      "Epoch: 458 \n",
      "\b Train Loss: 0.6772024834156036 \n",
      "\b Train Acc: 59.607142857142854 \n",
      "\b Val Loss: 0.6772629587036191 \n",
      "\b Val Acc: 60.74810606060606\n",
      "**************************************************\n"
     ]
    },
    {
     "name": "stderr",
     "output_type": "stream",
     "text": [
      " 46%|████▌     | 460/1000 [24:45<27:19,  3.04s/it]"
     ]
    },
    {
     "name": "stdout",
     "output_type": "stream",
     "text": [
      "Epoch: 459 \n",
      "\b Train Loss: 0.6771575738702501 \n",
      "\b Train Acc: 59.61011904761905 \n",
      "\b Val Loss: 0.6772107382615408 \n",
      "\b Val Acc: 60.79545454545455\n",
      "**************************************************\n"
     ]
    },
    {
     "name": "stderr",
     "output_type": "stream",
     "text": [
      " 46%|████▌     | 461/1000 [24:48<27:00,  3.01s/it]"
     ]
    },
    {
     "name": "stdout",
     "output_type": "stream",
     "text": [
      "Epoch: 460 \n",
      "\b Train Loss: 0.6771105437051682 \n",
      "\b Train Acc: 59.63095238095238 \n",
      "\b Val Loss: 0.6771572453506065 \n",
      "\b Val Acc: 60.81912878787879\n",
      "**************************************************\n"
     ]
    },
    {
     "name": "stderr",
     "output_type": "stream",
     "text": [
      " 46%|████▌     | 462/1000 [24:51<26:27,  2.95s/it]"
     ]
    },
    {
     "name": "stdout",
     "output_type": "stream",
     "text": [
      "Epoch: 461 \n",
      "\b Train Loss: 0.677062105564844 \n",
      "\b Train Acc: 59.654761904761905 \n",
      "\b Val Loss: 0.6771048203562245 \n",
      "\b Val Acc: 60.81912878787879\n",
      "**************************************************\n"
     ]
    },
    {
     "name": "stderr",
     "output_type": "stream",
     "text": [
      " 46%|████▋     | 463/1000 [24:54<26:27,  2.96s/it]"
     ]
    },
    {
     "name": "stdout",
     "output_type": "stream",
     "text": [
      "Epoch: 462 \n",
      "\b Train Loss: 0.6770131057217008 \n",
      "\b Train Acc: 59.67559523809524 \n",
      "\b Val Loss: 0.6770515730886748 \n",
      "\b Val Acc: 60.79545454545455\n",
      "**************************************************\n"
     ]
    },
    {
     "name": "stderr",
     "output_type": "stream",
     "text": [
      " 46%|████▋     | 464/1000 [24:57<26:31,  2.97s/it]"
     ]
    },
    {
     "name": "stdout",
     "output_type": "stream",
     "text": [
      "Epoch: 463 \n",
      "\b Train Loss: 0.6769639036201296 \n",
      "\b Train Acc: 59.663690476190474 \n",
      "\b Val Loss: 0.6770061367388928 \n",
      "\b Val Acc: 60.890151515151516\n",
      "**************************************************\n"
     ]
    },
    {
     "name": "stderr",
     "output_type": "stream",
     "text": [
      " 46%|████▋     | 465/1000 [25:00<26:58,  3.02s/it]"
     ]
    },
    {
     "name": "stdout",
     "output_type": "stream",
     "text": [
      "Epoch: 464 \n",
      "\b Train Loss: 0.6769142065161751 \n",
      "\b Train Acc: 59.69940476190476 \n",
      "\b Val Loss: 0.6769535383491805 \n",
      "\b Val Acc: 60.86647727272727\n",
      "**************************************************\n"
     ]
    },
    {
     "name": "stderr",
     "output_type": "stream",
     "text": [
      " 47%|████▋     | 466/1000 [25:03<26:57,  3.03s/it]"
     ]
    },
    {
     "name": "stdout",
     "output_type": "stream",
     "text": [
      "Epoch: 465 \n",
      "\b Train Loss: 0.6768659030255817 \n",
      "\b Train Acc: 59.708333333333336 \n",
      "\b Val Loss: 0.6769002463781473 \n",
      "\b Val Acc: 60.86647727272727\n",
      "**************************************************\n"
     ]
    },
    {
     "name": "stderr",
     "output_type": "stream",
     "text": [
      " 47%|████▋     | 467/1000 [25:06<27:13,  3.06s/it]"
     ]
    },
    {
     "name": "stdout",
     "output_type": "stream",
     "text": [
      "Epoch: 466 \n",
      "\b Train Loss: 0.6768147163164048 \n",
      "\b Train Acc: 59.726190476190474 \n",
      "\b Val Loss: 0.6768466166474603 \n",
      "\b Val Acc: 61.00852272727273\n",
      "**************************************************\n"
     ]
    },
    {
     "name": "stderr",
     "output_type": "stream",
     "text": [
      " 47%|████▋     | 468/1000 [25:09<27:38,  3.12s/it]"
     ]
    },
    {
     "name": "stdout",
     "output_type": "stream",
     "text": [
      "Epoch: 467 \n",
      "\b Train Loss: 0.6767663663341885 \n",
      "\b Train Acc: 59.73511904761905 \n",
      "\b Val Loss: 0.6767975895693807 \n",
      "\b Val Acc: 61.05587121212121\n",
      "**************************************************\n"
     ]
    },
    {
     "name": "stderr",
     "output_type": "stream",
     "text": [
      " 47%|████▋     | 469/1000 [25:12<27:37,  3.12s/it]"
     ]
    },
    {
     "name": "stdout",
     "output_type": "stream",
     "text": [
      "Epoch: 468 \n",
      "\b Train Loss: 0.6767196828410739 \n",
      "\b Train Acc: 59.74702380952381 \n",
      "\b Val Loss: 0.6767492307858034 \n",
      "\b Val Acc: 61.07954545454545\n",
      "**************************************************\n"
     ]
    },
    {
     "name": "stderr",
     "output_type": "stream",
     "text": [
      " 47%|████▋     | 470/1000 [25:15<27:42,  3.14s/it]"
     ]
    },
    {
     "name": "stdout",
     "output_type": "stream",
     "text": [
      "Epoch: 469 \n",
      "\b Train Loss: 0.6766700153691428 \n",
      "\b Train Acc: 59.76190476190476 \n",
      "\b Val Loss: 0.6766975874250586 \n",
      "\b Val Acc: 61.103219696969695\n",
      "**************************************************\n"
     ]
    },
    {
     "name": "stderr",
     "output_type": "stream",
     "text": [
      " 47%|████▋     | 471/1000 [25:19<27:48,  3.15s/it]"
     ]
    },
    {
     "name": "stdout",
     "output_type": "stream",
     "text": [
      "Epoch: 470 \n",
      "\b Train Loss: 0.6766212009248279 \n",
      "\b Train Acc: 59.788690476190474 \n",
      "\b Val Loss: 0.6766443740237843 \n",
      "\b Val Acc: 61.05587121212121\n",
      "**************************************************\n"
     ]
    },
    {
     "name": "stderr",
     "output_type": "stream",
     "text": [
      " 47%|████▋     | 472/1000 [25:22<28:06,  3.19s/it]"
     ]
    },
    {
     "name": "stdout",
     "output_type": "stream",
     "text": [
      "Epoch: 471 \n",
      "\b Train Loss: 0.6765715993586041 \n",
      "\b Train Acc: 59.794642857142854 \n",
      "\b Val Loss: 0.6765914216186061 \n",
      "\b Val Acc: 61.05587121212121\n",
      "**************************************************\n"
     ]
    },
    {
     "name": "stderr",
     "output_type": "stream",
     "text": [
      " 47%|████▋     | 473/1000 [25:25<28:12,  3.21s/it]"
     ]
    },
    {
     "name": "stdout",
     "output_type": "stream",
     "text": [
      "Epoch: 472 \n",
      "\b Train Loss: 0.6765221796149299 \n",
      "\b Train Acc: 59.80654761904762 \n",
      "\b Val Loss: 0.6765458353541114 \n",
      "\b Val Acc: 61.00852272727273\n",
      "**************************************************\n"
     ]
    },
    {
     "name": "stderr",
     "output_type": "stream",
     "text": [
      " 47%|████▋     | 474/1000 [25:28<28:18,  3.23s/it]"
     ]
    },
    {
     "name": "stdout",
     "output_type": "stream",
     "text": [
      "Epoch: 473 \n",
      "\b Train Loss: 0.6764737526575725 \n",
      "\b Train Acc: 59.833333333333336 \n",
      "\b Val Loss: 0.6764919324354692 \n",
      "\b Val Acc: 61.05587121212121\n",
      "**************************************************\n"
     ]
    },
    {
     "name": "stderr",
     "output_type": "stream",
     "text": [
      " 48%|████▊     | 475/1000 [25:32<28:27,  3.25s/it]"
     ]
    },
    {
     "name": "stdout",
     "output_type": "stream",
     "text": [
      "Epoch: 474 \n",
      "\b Train Loss: 0.6764249928792317 \n",
      "\b Train Acc: 59.854166666666664 \n",
      "\b Val Loss: 0.6764347079125318 \n",
      "\b Val Acc: 61.07954545454545\n",
      "**************************************************\n"
     ]
    },
    {
     "name": "stderr",
     "output_type": "stream",
     "text": [
      " 48%|████▊     | 476/1000 [25:35<28:41,  3.28s/it]"
     ]
    },
    {
     "name": "stdout",
     "output_type": "stream",
     "text": [
      "Epoch: 475 \n",
      "\b Train Loss: 0.6763740439642043 \n",
      "\b Train Acc: 59.86607142857143 \n",
      "\b Val Loss: 0.6763816209453525 \n",
      "\b Val Acc: 61.05587121212121\n",
      "**************************************************\n"
     ]
    },
    {
     "name": "stderr",
     "output_type": "stream",
     "text": [
      " 48%|████▊     | 477/1000 [25:39<29:27,  3.38s/it]"
     ]
    },
    {
     "name": "stdout",
     "output_type": "stream",
     "text": [
      "Epoch: 476 \n",
      "\b Train Loss: 0.6763242668197269 \n",
      "\b Train Acc: 59.875 \n",
      "\b Val Loss: 0.6763297518094381 \n",
      "\b Val Acc: 61.05587121212121\n",
      "**************************************************\n"
     ]
    },
    {
     "name": "stderr",
     "output_type": "stream",
     "text": [
      " 48%|████▊     | 478/1000 [25:43<31:30,  3.62s/it]"
     ]
    },
    {
     "name": "stdout",
     "output_type": "stream",
     "text": [
      "Epoch: 477 \n",
      "\b Train Loss: 0.6762724679992312 \n",
      "\b Train Acc: 59.875 \n",
      "\b Val Loss: 0.6762843398433743 \n",
      "\b Val Acc: 61.15056818181818\n",
      "**************************************************\n"
     ]
    },
    {
     "name": "stderr",
     "output_type": "stream",
     "text": [
      " 48%|████▊     | 479/1000 [25:46<30:17,  3.49s/it]"
     ]
    },
    {
     "name": "stdout",
     "output_type": "stream",
     "text": [
      "Epoch: 478 \n",
      "\b Train Loss: 0.6762212786220368 \n",
      "\b Train Acc: 59.904761904761905 \n",
      "\b Val Loss: 0.6762350328040846 \n",
      "\b Val Acc: 61.22159090909091\n",
      "**************************************************\n"
     ]
    },
    {
     "name": "stderr",
     "output_type": "stream",
     "text": [
      " 48%|████▊     | 480/1000 [25:49<28:54,  3.34s/it]"
     ]
    },
    {
     "name": "stdout",
     "output_type": "stream",
     "text": [
      "Epoch: 479 \n",
      "\b Train Loss: 0.676170312166214 \n",
      "\b Train Acc: 59.92261904761905 \n",
      "\b Val Loss: 0.6761812960559671 \n",
      "\b Val Acc: 61.24526515151515\n",
      "**************************************************\n"
     ]
    },
    {
     "name": "stderr",
     "output_type": "stream",
     "text": [
      " 48%|████▊     | 481/1000 [25:53<30:32,  3.53s/it]"
     ]
    },
    {
     "name": "stdout",
     "output_type": "stream",
     "text": [
      "Epoch: 480 \n",
      "\b Train Loss: 0.6761191274438586 \n",
      "\b Train Acc: 59.92857142857143 \n",
      "\b Val Loss: 0.6761276324590048 \n",
      "\b Val Acc: 61.24526515151515\n",
      "**************************************************\n"
     ]
    },
    {
     "name": "stderr",
     "output_type": "stream",
     "text": [
      " 48%|████▊     | 482/1000 [25:57<31:15,  3.62s/it]"
     ]
    },
    {
     "name": "stdout",
     "output_type": "stream",
     "text": [
      "Epoch: 481 \n",
      "\b Train Loss: 0.6760672425656091 \n",
      "\b Train Acc: 59.95238095238095 \n",
      "\b Val Loss: 0.6760761168870059 \n",
      "\b Val Acc: 61.24526515151515\n",
      "**************************************************\n"
     ]
    },
    {
     "name": "stderr",
     "output_type": "stream",
     "text": [
      " 48%|████▊     | 483/1000 [26:01<31:46,  3.69s/it]"
     ]
    },
    {
     "name": "stdout",
     "output_type": "stream",
     "text": [
      "Epoch: 482 \n",
      "\b Train Loss: 0.6760177637281872 \n",
      "\b Train Acc: 59.970238095238095 \n",
      "\b Val Loss: 0.6760192251566685 \n",
      "\b Val Acc: 61.197916666666664\n",
      "**************************************************\n"
     ]
    },
    {
     "name": "stderr",
     "output_type": "stream",
     "text": [
      " 48%|████▊     | 484/1000 [26:04<30:53,  3.59s/it]"
     ]
    },
    {
     "name": "stdout",
     "output_type": "stream",
     "text": [
      "Epoch: 483 \n",
      "\b Train Loss: 0.6759638063112895 \n",
      "\b Train Acc: 59.982142857142854 \n",
      "\b Val Loss: 0.6759670507727247 \n",
      "\b Val Acc: 61.22159090909091\n",
      "**************************************************\n"
     ]
    },
    {
     "name": "stderr",
     "output_type": "stream",
     "text": [
      " 48%|████▊     | 485/1000 [26:08<30:55,  3.60s/it]"
     ]
    },
    {
     "name": "stdout",
     "output_type": "stream",
     "text": [
      "Epoch: 484 \n",
      "\b Train Loss: 0.6759143038590749 \n",
      "\b Train Acc: 59.99107142857143 \n",
      "\b Val Loss: 0.6759195716092081 \n",
      "\b Val Acc: 61.36363636363637\n",
      "**************************************************\n"
     ]
    },
    {
     "name": "stderr",
     "output_type": "stream",
     "text": [
      " 49%|████▊     | 486/1000 [26:11<30:37,  3.57s/it]"
     ]
    },
    {
     "name": "stdout",
     "output_type": "stream",
     "text": [
      "Epoch: 485 \n",
      "\b Train Loss: 0.6758616230601356 \n",
      "\b Train Acc: 60.01190476190476 \n",
      "\b Val Loss: 0.6758696405273495 \n",
      "\b Val Acc: 61.41098484848485\n",
      "**************************************************\n"
     ]
    },
    {
     "name": "stderr",
     "output_type": "stream",
     "text": [
      " 49%|████▊     | 487/1000 [26:15<29:48,  3.49s/it]"
     ]
    },
    {
     "name": "stdout",
     "output_type": "stream",
     "text": [
      "Epoch: 486 \n",
      "\b Train Loss: 0.6758107413564409 \n",
      "\b Train Acc: 60.05059523809524 \n",
      "\b Val Loss: 0.6758113038359266 \n",
      "\b Val Acc: 61.36363636363637\n",
      "**************************************************\n"
     ]
    },
    {
     "name": "stderr",
     "output_type": "stream",
     "text": [
      " 49%|████▉     | 488/1000 [26:18<28:32,  3.35s/it]"
     ]
    },
    {
     "name": "stdout",
     "output_type": "stream",
     "text": [
      "Epoch: 487 \n",
      "\b Train Loss: 0.6757586517788114 \n",
      "\b Train Acc: 60.05952380952381 \n",
      "\b Val Loss: 0.6757645625056643 \n",
      "\b Val Acc: 61.43465909090909\n",
      "**************************************************\n"
     ]
    },
    {
     "name": "stderr",
     "output_type": "stream",
     "text": [
      " 49%|████▉     | 489/1000 [26:21<29:27,  3.46s/it]"
     ]
    },
    {
     "name": "stdout",
     "output_type": "stream",
     "text": [
      "Epoch: 488 \n",
      "\b Train Loss: 0.6757091829322633 \n",
      "\b Train Acc: 60.089285714285715 \n",
      "\b Val Loss: 0.6757096873991417 \n",
      "\b Val Acc: 61.339962121212125\n",
      "**************************************************\n"
     ]
    },
    {
     "name": "stderr",
     "output_type": "stream",
     "text": [
      " 49%|████▉     | 490/1000 [26:26<32:45,  3.85s/it]"
     ]
    },
    {
     "name": "stdout",
     "output_type": "stream",
     "text": [
      "Epoch: 489 \n",
      "\b Train Loss: 0.6756552186466399 \n",
      "\b Train Acc: 60.098214285714285 \n",
      "\b Val Loss: 0.675664765365196 \n",
      "\b Val Acc: 61.50568181818182\n",
      "**************************************************\n"
     ]
    },
    {
     "name": "stderr",
     "output_type": "stream",
     "text": [
      " 49%|████▉     | 491/1000 [26:30<32:10,  3.79s/it]"
     ]
    },
    {
     "name": "stdout",
     "output_type": "stream",
     "text": [
      "Epoch: 490 \n",
      "\b Train Loss: 0.6756038592542921 \n",
      "\b Train Acc: 60.125 \n",
      "\b Val Loss: 0.6756138155857722 \n",
      "\b Val Acc: 61.458333333333336\n",
      "**************************************************\n"
     ]
    },
    {
     "name": "stderr",
     "output_type": "stream",
     "text": [
      " 49%|████▉     | 492/1000 [26:33<31:10,  3.68s/it]"
     ]
    },
    {
     "name": "stdout",
     "output_type": "stream",
     "text": [
      "Epoch: 491 \n",
      "\b Train Loss: 0.6755511360509056 \n",
      "\b Train Acc: 60.160714285714285 \n",
      "\b Val Loss: 0.6755606775934045 \n",
      "\b Val Acc: 61.50568181818182\n",
      "**************************************************\n"
     ]
    },
    {
     "name": "stderr",
     "output_type": "stream",
     "text": [
      " 49%|████▉     | 493/1000 [26:36<29:56,  3.54s/it]"
     ]
    },
    {
     "name": "stdout",
     "output_type": "stream",
     "text": [
      "Epoch: 492 \n",
      "\b Train Loss: 0.6754990250156039 \n",
      "\b Train Acc: 60.19047619047619 \n",
      "\b Val Loss: 0.6755097621318066 \n",
      "\b Val Acc: 61.48200757575758\n",
      "**************************************************\n"
     ]
    },
    {
     "name": "stderr",
     "output_type": "stream",
     "text": [
      " 49%|████▉     | 494/1000 [26:40<29:14,  3.47s/it]"
     ]
    },
    {
     "name": "stdout",
     "output_type": "stream",
     "text": [
      "Epoch: 493 \n",
      "\b Train Loss: 0.675445430619376 \n",
      "\b Train Acc: 60.208333333333336 \n",
      "\b Val Loss: 0.675455370184147 \n",
      "\b Val Acc: 61.48200757575758\n",
      "**************************************************\n"
     ]
    },
    {
     "name": "stderr",
     "output_type": "stream",
     "text": [
      " 50%|████▉     | 495/1000 [26:44<30:49,  3.66s/it]"
     ]
    },
    {
     "name": "stdout",
     "output_type": "stream",
     "text": [
      "Epoch: 494 \n",
      "\b Train Loss: 0.6753952421460833 \n",
      "\b Train Acc: 60.226190476190474 \n",
      "\b Val Loss: 0.6754040650346063 \n",
      "\b Val Acc: 61.50568181818182\n",
      "**************************************************\n"
     ]
    },
    {
     "name": "stderr",
     "output_type": "stream",
     "text": [
      " 50%|████▉     | 496/1000 [26:47<28:44,  3.42s/it]"
     ]
    },
    {
     "name": "stdout",
     "output_type": "stream",
     "text": [
      "Epoch: 495 \n",
      "\b Train Loss: 0.6753436777137575 \n",
      "\b Train Acc: 60.24404761904762 \n",
      "\b Val Loss: 0.6753501377322457 \n",
      "\b Val Acc: 61.553030303030305\n",
      "**************************************************\n"
     ]
    },
    {
     "name": "stderr",
     "output_type": "stream",
     "text": [
      " 50%|████▉     | 497/1000 [26:49<26:52,  3.21s/it]"
     ]
    },
    {
     "name": "stdout",
     "output_type": "stream",
     "text": [
      "Epoch: 496 \n",
      "\b Train Loss: 0.675289621466682 \n",
      "\b Train Acc: 60.26190476190476 \n",
      "\b Val Loss: 0.6753008415301641 \n",
      "\b Val Acc: 61.64772727272727\n",
      "**************************************************\n"
     ]
    },
    {
     "name": "stderr",
     "output_type": "stream",
     "text": [
      " 50%|████▉     | 498/1000 [26:52<25:26,  3.04s/it]"
     ]
    },
    {
     "name": "stdout",
     "output_type": "stream",
     "text": [
      "Epoch: 497 \n",
      "\b Train Loss: 0.6752367275101798 \n",
      "\b Train Acc: 60.267857142857146 \n",
      "\b Val Loss: 0.6752613787398194 \n",
      "\b Val Acc: 61.71875\n",
      "**************************************************\n"
     ]
    },
    {
     "name": "stderr",
     "output_type": "stream",
     "text": [
      " 50%|████▉     | 499/1000 [26:55<24:47,  2.97s/it]"
     ]
    },
    {
     "name": "stdout",
     "output_type": "stream",
     "text": [
      "Epoch: 498 \n",
      "\b Train Loss: 0.6751866056805566 \n",
      "\b Train Acc: 60.29761904761905 \n",
      "\b Val Loss: 0.6752124202973915 \n",
      "\b Val Acc: 61.74242424242424\n",
      "**************************************************\n"
     ]
    },
    {
     "name": "stderr",
     "output_type": "stream",
     "text": [
      " 50%|█████     | 500/1000 [26:57<23:57,  2.88s/it]"
     ]
    },
    {
     "name": "stdout",
     "output_type": "stream",
     "text": [
      "Epoch: 499 \n",
      "\b Train Loss: 0.6751338772546678 \n",
      "\b Train Acc: 60.3125 \n",
      "\b Val Loss: 0.6751638632832151 \n",
      "\b Val Acc: 61.69507575757576\n",
      "**************************************************\n"
     ]
    },
    {
     "name": "stderr",
     "output_type": "stream",
     "text": [
      " 50%|█████     | 501/1000 [27:01<25:06,  3.02s/it]"
     ]
    },
    {
     "name": "stdout",
     "output_type": "stream",
     "text": [
      "Epoch: 500 \n",
      "\b Train Loss: 0.6750814710912251 \n",
      "\b Train Acc: 60.330357142857146 \n",
      "\b Val Loss: 0.6751076850024137 \n",
      "\b Val Acc: 61.62405303030303\n",
      "**************************************************\n"
     ]
    },
    {
     "name": "stderr",
     "output_type": "stream",
     "text": [
      " 50%|█████     | 502/1000 [27:05<29:02,  3.50s/it]"
     ]
    },
    {
     "name": "stdout",
     "output_type": "stream",
     "text": [
      "Epoch: 501 \n",
      "\b Train Loss: 0.6750304081894103 \n",
      "\b Train Acc: 60.351190476190474 \n",
      "\b Val Loss: 0.6750472382162557 \n",
      "\b Val Acc: 61.62405303030303\n",
      "**************************************************\n"
     ]
    },
    {
     "name": "stderr",
     "output_type": "stream",
     "text": [
      " 50%|█████     | 503/1000 [27:09<30:03,  3.63s/it]"
     ]
    },
    {
     "name": "stdout",
     "output_type": "stream",
     "text": [
      "Epoch: 502 \n",
      "\b Train Loss: 0.6749767393725259 \n",
      "\b Train Acc: 60.36607142857143 \n",
      "\b Val Loss: 0.6749988564036109 \n",
      "\b Val Acc: 61.64772727272727\n",
      "**************************************************\n"
     ]
    },
    {
     "name": "stderr",
     "output_type": "stream",
     "text": [
      " 50%|█████     | 504/1000 [27:13<29:16,  3.54s/it]"
     ]
    },
    {
     "name": "stdout",
     "output_type": "stream",
     "text": [
      "Epoch: 503 \n",
      "\b Train Loss: 0.6749268966629391 \n",
      "\b Train Acc: 60.38690476190476 \n",
      "\b Val Loss: 0.6749485952384544 \n",
      "\b Val Acc: 61.62405303030303\n",
      "**************************************************\n"
     ]
    },
    {
     "name": "stderr",
     "output_type": "stream",
     "text": [
      " 50%|█████     | 505/1000 [27:16<28:16,  3.43s/it]"
     ]
    },
    {
     "name": "stdout",
     "output_type": "stream",
     "text": [
      "Epoch: 504 \n",
      "\b Train Loss: 0.6748741698265076 \n",
      "\b Train Acc: 60.392857142857146 \n",
      "\b Val Loss: 0.6748961341200452 \n",
      "\b Val Acc: 61.671401515151516\n",
      "**************************************************\n"
     ]
    },
    {
     "name": "stderr",
     "output_type": "stream",
     "text": [
      " 51%|█████     | 506/1000 [27:19<28:01,  3.40s/it]"
     ]
    },
    {
     "name": "stdout",
     "output_type": "stream",
     "text": [
      "Epoch: 505 \n",
      "\b Train Loss: 0.6748234860102336 \n",
      "\b Train Acc: 60.404761904761905 \n",
      "\b Val Loss: 0.6748427617730517 \n",
      "\b Val Acc: 61.69507575757576\n",
      "**************************************************\n"
     ]
    },
    {
     "name": "stderr",
     "output_type": "stream",
     "text": [
      " 51%|█████     | 507/1000 [27:22<26:52,  3.27s/it]"
     ]
    },
    {
     "name": "stdout",
     "output_type": "stream",
     "text": [
      "Epoch: 506 \n",
      "\b Train Loss: 0.6747724800450461 \n",
      "\b Train Acc: 60.419642857142854 \n",
      "\b Val Loss: 0.6747936177434344 \n",
      "\b Val Acc: 61.74242424242424\n",
      "**************************************************\n"
     ]
    },
    {
     "name": "stderr",
     "output_type": "stream",
     "text": [
      " 51%|█████     | 508/1000 [27:25<26:26,  3.22s/it]"
     ]
    },
    {
     "name": "stdout",
     "output_type": "stream",
     "text": [
      "Epoch: 507 \n",
      "\b Train Loss: 0.6747222276528676 \n",
      "\b Train Acc: 60.419642857142854 \n",
      "\b Val Loss: 0.6747402557820985 \n",
      "\b Val Acc: 61.766098484848484\n",
      "**************************************************\n"
     ]
    },
    {
     "name": "stderr",
     "output_type": "stream",
     "text": [
      " 51%|█████     | 509/1000 [27:28<25:08,  3.07s/it]"
     ]
    },
    {
     "name": "stdout",
     "output_type": "stream",
     "text": [
      "Epoch: 508 \n",
      "\b Train Loss: 0.67467097339176 \n",
      "\b Train Acc: 60.44047619047619 \n",
      "\b Val Loss: 0.6746809035539627 \n",
      "\b Val Acc: 61.766098484848484\n",
      "**************************************************\n"
     ]
    },
    {
     "name": "stderr",
     "output_type": "stream",
     "text": [
      " 51%|█████     | 510/1000 [27:31<25:57,  3.18s/it]"
     ]
    },
    {
     "name": "stdout",
     "output_type": "stream",
     "text": [
      "Epoch: 509 \n",
      "\b Train Loss: 0.6746183324995495 \n",
      "\b Train Acc: 60.461309523809526 \n",
      "\b Val Loss: 0.674624322941809 \n",
      "\b Val Acc: 61.766098484848484\n",
      "**************************************************\n"
     ]
    },
    {
     "name": "stderr",
     "output_type": "stream",
     "text": [
      " 51%|█████     | 511/1000 [27:35<27:07,  3.33s/it]"
     ]
    },
    {
     "name": "stdout",
     "output_type": "stream",
     "text": [
      "Epoch: 510 \n",
      "\b Train Loss: 0.6745670383317129 \n",
      "\b Train Acc: 60.479166666666664 \n",
      "\b Val Loss: 0.6745761235555013 \n",
      "\b Val Acc: 61.81344696969697\n",
      "**************************************************\n"
     ]
    },
    {
     "name": "stderr",
     "output_type": "stream",
     "text": [
      " 51%|█████     | 512/1000 [27:38<26:02,  3.20s/it]"
     ]
    },
    {
     "name": "stdout",
     "output_type": "stream",
     "text": [
      "Epoch: 511 \n",
      "\b Train Loss: 0.6745156507265 \n",
      "\b Train Acc: 60.482142857142854 \n",
      "\b Val Loss: 0.6745258118167068 \n",
      "\b Val Acc: 61.766098484848484\n",
      "**************************************************\n"
     ]
    },
    {
     "name": "stderr",
     "output_type": "stream",
     "text": [
      " 51%|█████▏    | 513/1000 [27:41<24:41,  3.04s/it]"
     ]
    },
    {
     "name": "stdout",
     "output_type": "stream",
     "text": [
      "Epoch: 512 \n",
      "\b Train Loss: 0.6744621018001011 \n",
      "\b Train Acc: 60.49404761904762 \n",
      "\b Val Loss: 0.6744752259868564 \n",
      "\b Val Acc: 61.78977272727273\n",
      "**************************************************\n"
     ]
    },
    {
     "name": "stderr",
     "output_type": "stream",
     "text": [
      " 51%|█████▏    | 514/1000 [27:44<24:32,  3.03s/it]"
     ]
    },
    {
     "name": "stdout",
     "output_type": "stream",
     "text": [
      "Epoch: 513 \n",
      "\b Train Loss: 0.6744098872230166 \n",
      "\b Train Acc: 60.51488095238095 \n",
      "\b Val Loss: 0.6744218039693255 \n",
      "\b Val Acc: 61.81344696969697\n",
      "**************************************************\n"
     ]
    },
    {
     "name": "stderr",
     "output_type": "stream",
     "text": [
      " 52%|█████▏    | 515/1000 [27:47<24:51,  3.08s/it]"
     ]
    },
    {
     "name": "stdout",
     "output_type": "stream",
     "text": [
      "Epoch: 514 \n",
      "\b Train Loss: 0.6743577250412532 \n",
      "\b Train Acc: 60.532738095238095 \n",
      "\b Val Loss: 0.6743611241831924 \n",
      "\b Val Acc: 61.81344696969697\n",
      "**************************************************\n"
     ]
    },
    {
     "name": "stderr",
     "output_type": "stream",
     "text": [
      " 52%|█████▏    | 516/1000 [27:50<26:09,  3.24s/it]"
     ]
    },
    {
     "name": "stdout",
     "output_type": "stream",
     "text": [
      "Epoch: 515 \n",
      "\b Train Loss: 0.6743057549567449 \n",
      "\b Train Acc: 60.544642857142854 \n",
      "\b Val Loss: 0.6743052272182523 \n",
      "\b Val Acc: 61.86079545454545\n",
      "**************************************************\n"
     ]
    },
    {
     "name": "stderr",
     "output_type": "stream",
     "text": [
      " 52%|█████▏    | 517/1000 [27:54<25:38,  3.18s/it]"
     ]
    },
    {
     "name": "stdout",
     "output_type": "stream",
     "text": [
      "Epoch: 516 \n",
      "\b Train Loss: 0.6742543116069976 \n",
      "\b Train Acc: 60.57142857142857 \n",
      "\b Val Loss: 0.6742449782111428 \n",
      "\b Val Acc: 61.81344696969697\n",
      "**************************************************\n"
     ]
    },
    {
     "name": "stderr",
     "output_type": "stream",
     "text": [
      " 52%|█████▏    | 518/1000 [27:56<24:29,  3.05s/it]"
     ]
    },
    {
     "name": "stdout",
     "output_type": "stream",
     "text": [
      "Epoch: 517 \n",
      "\b Train Loss: 0.6742015908445631 \n",
      "\b Train Acc: 60.57440476190476 \n",
      "\b Val Loss: 0.6741891832965793 \n",
      "\b Val Acc: 61.78977272727273\n",
      "**************************************************\n"
     ]
    },
    {
     "name": "stderr",
     "output_type": "stream",
     "text": [
      " 52%|█████▏    | 519/1000 [28:00<26:51,  3.35s/it]"
     ]
    },
    {
     "name": "stdout",
     "output_type": "stream",
     "text": [
      "Epoch: 518 \n",
      "\b Train Loss: 0.6741484573909214 \n",
      "\b Train Acc: 60.598214285714285 \n",
      "\b Val Loss: 0.6741249136852495 \n",
      "\b Val Acc: 61.74242424242424\n",
      "**************************************************\n"
     ]
    },
    {
     "name": "stderr",
     "output_type": "stream",
     "text": [
      " 52%|█████▏    | 520/1000 [28:04<27:58,  3.50s/it]"
     ]
    },
    {
     "name": "stdout",
     "output_type": "stream",
     "text": [
      "Epoch: 519 \n",
      "\b Train Loss: 0.6740949502445402 \n",
      "\b Train Acc: 60.61607142857143 \n",
      "\b Val Loss: 0.6740670506701325 \n",
      "\b Val Acc: 61.78977272727273\n",
      "**************************************************\n"
     ]
    },
    {
     "name": "stderr",
     "output_type": "stream",
     "text": [
      " 52%|█████▏    | 521/1000 [28:08<28:09,  3.53s/it]"
     ]
    },
    {
     "name": "stdout",
     "output_type": "stream",
     "text": [
      "Epoch: 520 \n",
      "\b Train Loss: 0.6740427339076995 \n",
      "\b Train Acc: 60.63392857142857 \n",
      "\b Val Loss: 0.6740134967999025 \n",
      "\b Val Acc: 61.86079545454545\n",
      "**************************************************\n"
     ]
    },
    {
     "name": "stderr",
     "output_type": "stream",
     "text": [
      " 52%|█████▏    | 522/1000 [28:11<28:27,  3.57s/it]"
     ]
    },
    {
     "name": "stdout",
     "output_type": "stream",
     "text": [
      "Epoch: 521 \n",
      "\b Train Loss: 0.6739901552881513 \n",
      "\b Train Acc: 60.63392857142857 \n",
      "\b Val Loss: 0.6739517061999349 \n",
      "\b Val Acc: 61.83712121212121\n",
      "**************************************************\n"
     ]
    },
    {
     "name": "stderr",
     "output_type": "stream",
     "text": [
      " 52%|█████▏    | 523/1000 [28:16<29:53,  3.76s/it]"
     ]
    },
    {
     "name": "stdout",
     "output_type": "stream",
     "text": [
      "Epoch: 522 \n",
      "\b Train Loss: 0.6739381991681599 \n",
      "\b Train Acc: 60.654761904761905 \n",
      "\b Val Loss: 0.6738937935142806 \n",
      "\b Val Acc: 61.90814393939394\n",
      "**************************************************\n"
     ]
    },
    {
     "name": "stderr",
     "output_type": "stream",
     "text": [
      " 52%|█████▏    | 524/1000 [28:19<28:18,  3.57s/it]"
     ]
    },
    {
     "name": "stdout",
     "output_type": "stream",
     "text": [
      "Epoch: 523 \n",
      "\b Train Loss: 0.6738839615526654 \n",
      "\b Train Acc: 60.68154761904762 \n",
      "\b Val Loss: 0.6738379322218172 \n",
      "\b Val Acc: 61.86079545454545\n",
      "**************************************************\n"
     ]
    },
    {
     "name": "stderr",
     "output_type": "stream",
     "text": [
      " 52%|█████▎    | 525/1000 [28:22<28:29,  3.60s/it]"
     ]
    },
    {
     "name": "stdout",
     "output_type": "stream",
     "text": [
      "Epoch: 524 \n",
      "\b Train Loss: 0.6738300300212133 \n",
      "\b Train Acc: 60.705357142857146 \n",
      "\b Val Loss: 0.673782366694826 \n",
      "\b Val Acc: 61.86079545454545\n",
      "**************************************************\n"
     ]
    },
    {
     "name": "stderr",
     "output_type": "stream",
     "text": [
      " 53%|█████▎    | 526/1000 [28:26<28:03,  3.55s/it]"
     ]
    },
    {
     "name": "stdout",
     "output_type": "stream",
     "text": [
      "Epoch: 525 \n",
      "\b Train Loss: 0.6737759153048197 \n",
      "\b Train Acc: 60.717261904761905 \n",
      "\b Val Loss: 0.6737250762455391 \n",
      "\b Val Acc: 61.86079545454545\n",
      "**************************************************\n"
     ]
    },
    {
     "name": "stderr",
     "output_type": "stream",
     "text": [
      " 53%|█████▎    | 527/1000 [28:29<26:36,  3.38s/it]"
     ]
    },
    {
     "name": "stdout",
     "output_type": "stream",
     "text": [
      "Epoch: 526 \n",
      "\b Train Loss: 0.6737199144704001 \n",
      "\b Train Acc: 60.74404761904762 \n",
      "\b Val Loss: 0.6736694244724332 \n",
      "\b Val Acc: 61.86079545454545\n",
      "**************************************************\n"
     ]
    },
    {
     "name": "stderr",
     "output_type": "stream",
     "text": [
      " 53%|█████▎    | 528/1000 [28:32<26:15,  3.34s/it]"
     ]
    },
    {
     "name": "stdout",
     "output_type": "stream",
     "text": [
      "Epoch: 527 \n",
      "\b Train Loss: 0.6736661949044183 \n",
      "\b Train Acc: 60.767857142857146 \n",
      "\b Val Loss: 0.6736093533761573 \n",
      "\b Val Acc: 61.90814393939394\n",
      "**************************************************\n"
     ]
    },
    {
     "name": "stderr",
     "output_type": "stream",
     "text": [
      " 53%|█████▎    | 529/1000 [28:36<26:53,  3.43s/it]"
     ]
    },
    {
     "name": "stdout",
     "output_type": "stream",
     "text": [
      "Epoch: 528 \n",
      "\b Train Loss: 0.6736127142679124 \n",
      "\b Train Acc: 60.779761904761905 \n",
      "\b Val Loss: 0.6735528210798899 \n",
      "\b Val Acc: 61.979166666666664\n",
      "**************************************************\n"
     ]
    },
    {
     "name": "stderr",
     "output_type": "stream",
     "text": [
      " 53%|█████▎    | 530/1000 [28:40<28:00,  3.58s/it]"
     ]
    },
    {
     "name": "stdout",
     "output_type": "stream",
     "text": [
      "Epoch: 529 \n",
      "\b Train Loss: 0.6735581172080267 \n",
      "\b Train Acc: 60.794642857142854 \n",
      "\b Val Loss: 0.6735028028488159 \n",
      "\b Val Acc: 62.05018939393939\n",
      "**************************************************\n"
     ]
    },
    {
     "name": "stderr",
     "output_type": "stream",
     "text": [
      " 53%|█████▎    | 531/1000 [28:43<28:11,  3.61s/it]"
     ]
    },
    {
     "name": "stdout",
     "output_type": "stream",
     "text": [
      "Epoch: 530 \n",
      "\b Train Loss: 0.6735041557607196 \n",
      "\b Train Acc: 60.782738095238095 \n",
      "\b Val Loss: 0.6734514737671072 \n",
      "\b Val Acc: 62.07386363636363\n",
      "**************************************************\n"
     ]
    },
    {
     "name": "stderr",
     "output_type": "stream",
     "text": [
      " 53%|█████▎    | 532/1000 [28:47<28:51,  3.70s/it]"
     ]
    },
    {
     "name": "stdout",
     "output_type": "stream",
     "text": [
      "Epoch: 531 \n",
      "\b Train Loss: 0.6734492223035722 \n",
      "\b Train Acc: 60.8125 \n",
      "\b Val Loss: 0.673394601001884 \n",
      "\b Val Acc: 62.05018939393939\n",
      "**************************************************\n"
     ]
    },
    {
     "name": "stderr",
     "output_type": "stream",
     "text": [
      " 53%|█████▎    | 533/1000 [28:51<28:34,  3.67s/it]"
     ]
    },
    {
     "name": "stdout",
     "output_type": "stream",
     "text": [
      "Epoch: 532 \n",
      "\b Train Loss: 0.6733962840693337 \n",
      "\b Train Acc: 60.842261904761905 \n",
      "\b Val Loss: 0.6733349340431618 \n",
      "\b Val Acc: 62.097537878787875\n",
      "**************************************************\n"
     ]
    },
    {
     "name": "stderr",
     "output_type": "stream",
     "text": [
      " 53%|█████▎    | 534/1000 [28:54<27:31,  3.54s/it]"
     ]
    },
    {
     "name": "stdout",
     "output_type": "stream",
     "text": [
      "Epoch: 533 \n",
      "\b Train Loss: 0.6733413484550658 \n",
      "\b Train Acc: 60.86904761904762 \n",
      "\b Val Loss: 0.6732776056636464 \n",
      "\b Val Acc: 62.16856060606061\n",
      "**************************************************\n"
     ]
    },
    {
     "name": "stderr",
     "output_type": "stream",
     "text": [
      " 54%|█████▎    | 535/1000 [28:57<26:49,  3.46s/it]"
     ]
    },
    {
     "name": "stdout",
     "output_type": "stream",
     "text": [
      "Epoch: 534 \n",
      "\b Train Loss: 0.6732856429758526 \n",
      "\b Train Acc: 60.88095238095238 \n",
      "\b Val Loss: 0.6732220360727021 \n",
      "\b Val Acc: 62.16856060606061\n",
      "**************************************************\n"
     ]
    },
    {
     "name": "stderr",
     "output_type": "stream",
     "text": [
      " 54%|█████▎    | 536/1000 [29:01<26:04,  3.37s/it]"
     ]
    },
    {
     "name": "stdout",
     "output_type": "stream",
     "text": [
      "Epoch: 535 \n",
      "\b Train Loss: 0.6732311619463421 \n",
      "\b Train Acc: 60.907738095238095 \n",
      "\b Val Loss: 0.6731621952670993 \n",
      "\b Val Acc: 62.19223484848485\n",
      "**************************************************\n"
     ]
    },
    {
     "name": "stderr",
     "output_type": "stream",
     "text": [
      " 54%|█████▎    | 537/1000 [29:04<26:09,  3.39s/it]"
     ]
    },
    {
     "name": "stdout",
     "output_type": "stream",
     "text": [
      "Epoch: 536 \n",
      "\b Train Loss: 0.6731762545449393 \n",
      "\b Train Acc: 60.92559523809524 \n",
      "\b Val Loss: 0.6731002502369158 \n",
      "\b Val Acc: 62.14488636363637\n",
      "**************************************************\n"
     ]
    },
    {
     "name": "stderr",
     "output_type": "stream",
     "text": [
      " 54%|█████▍    | 538/1000 [29:07<26:16,  3.41s/it]"
     ]
    },
    {
     "name": "stdout",
     "output_type": "stream",
     "text": [
      "Epoch: 537 \n",
      "\b Train Loss: 0.6731223516237168 \n",
      "\b Train Acc: 60.94940476190476 \n",
      "\b Val Loss: 0.6730430008787097 \n",
      "\b Val Acc: 62.19223484848485\n",
      "**************************************************\n"
     ]
    },
    {
     "name": "stderr",
     "output_type": "stream",
     "text": [
      " 54%|█████▍    | 539/1000 [29:10<25:28,  3.32s/it]"
     ]
    },
    {
     "name": "stdout",
     "output_type": "stream",
     "text": [
      "Epoch: 538 \n",
      "\b Train Loss: 0.6730673408508301 \n",
      "\b Train Acc: 60.94642857142857 \n",
      "\b Val Loss: 0.6729905835606835 \n",
      "\b Val Acc: 62.21590909090909\n",
      "**************************************************\n"
     ]
    },
    {
     "name": "stderr",
     "output_type": "stream",
     "text": [
      " 54%|█████▍    | 540/1000 [29:13<24:28,  3.19s/it]"
     ]
    },
    {
     "name": "stdout",
     "output_type": "stream",
     "text": [
      "Epoch: 539 \n",
      "\b Train Loss: 0.6730156307561057 \n",
      "\b Train Acc: 60.973214285714285 \n",
      "\b Val Loss: 0.6729204388278903 \n",
      "\b Val Acc: 62.21590909090909\n",
      "**************************************************\n"
     ]
    },
    {
     "name": "stderr",
     "output_type": "stream",
     "text": [
      " 54%|█████▍    | 541/1000 [29:17<26:23,  3.45s/it]"
     ]
    },
    {
     "name": "stdout",
     "output_type": "stream",
     "text": [
      "Epoch: 540 \n",
      "\b Train Loss: 0.672959189414978 \n",
      "\b Train Acc: 60.98809523809524 \n",
      "\b Val Loss: 0.6728638252525618 \n",
      "\b Val Acc: 62.239583333333336\n",
      "**************************************************\n"
     ]
    },
    {
     "name": "stderr",
     "output_type": "stream",
     "text": [
      " 54%|█████▍    | 542/1000 [29:21<27:08,  3.56s/it]"
     ]
    },
    {
     "name": "stdout",
     "output_type": "stream",
     "text": [
      "Epoch: 541 \n",
      "\b Train Loss: 0.6729045089085897 \n",
      "\b Train Acc: 61.0 \n",
      "\b Val Loss: 0.6728148320407579 \n",
      "\b Val Acc: 62.334280303030305\n",
      "**************************************************\n"
     ]
    },
    {
     "name": "stderr",
     "output_type": "stream",
     "text": [
      " 54%|█████▍    | 543/1000 [29:25<26:57,  3.54s/it]"
     ]
    },
    {
     "name": "stdout",
     "output_type": "stream",
     "text": [
      "Epoch: 542 \n",
      "\b Train Loss: 0.6728523443426405 \n",
      "\b Train Acc: 61.026785714285715 \n",
      "\b Val Loss: 0.6727611842480573 \n",
      "\b Val Acc: 62.31060606060606\n",
      "**************************************************\n"
     ]
    },
    {
     "name": "stderr",
     "output_type": "stream",
     "text": [
      " 54%|█████▍    | 544/1000 [29:28<26:57,  3.55s/it]"
     ]
    },
    {
     "name": "stdout",
     "output_type": "stream",
     "text": [
      "Epoch: 543 \n",
      "\b Train Loss: 0.6727998688107445 \n",
      "\b Train Acc: 61.05357142857143 \n",
      "\b Val Loss: 0.6726897968487306 \n",
      "\b Val Acc: 62.26325757575758\n",
      "**************************************************\n"
     ]
    },
    {
     "name": "stderr",
     "output_type": "stream",
     "text": [
      " 55%|█████▍    | 545/1000 [29:32<26:40,  3.52s/it]"
     ]
    },
    {
     "name": "stdout",
     "output_type": "stream",
     "text": [
      "Epoch: 544 \n",
      "\b Train Loss: 0.6727444662934258 \n",
      "\b Train Acc: 61.05357142857143 \n",
      "\b Val Loss: 0.672640399499373 \n",
      "\b Val Acc: 62.28693181818182\n",
      "**************************************************\n"
     ]
    },
    {
     "name": "stderr",
     "output_type": "stream",
     "text": [
      " 55%|█████▍    | 546/1000 [29:35<26:43,  3.53s/it]"
     ]
    },
    {
     "name": "stdout",
     "output_type": "stream",
     "text": [
      "Epoch: 545 \n",
      "\b Train Loss: 0.6726916826906658 \n",
      "\b Train Acc: 61.080357142857146 \n",
      "\b Val Loss: 0.6725736933224129 \n",
      "\b Val Acc: 62.26325757575758\n",
      "**************************************************\n"
     ]
    },
    {
     "name": "stderr",
     "output_type": "stream",
     "text": [
      " 55%|█████▍    | 547/1000 [29:39<26:54,  3.56s/it]"
     ]
    },
    {
     "name": "stdout",
     "output_type": "stream",
     "text": [
      "Epoch: 546 \n",
      "\b Train Loss: 0.6726361160051255 \n",
      "\b Train Acc: 61.11011904761905 \n",
      "\b Val Loss: 0.6725116710771214 \n",
      "\b Val Acc: 62.334280303030305\n",
      "**************************************************\n"
     ]
    },
    {
     "name": "stderr",
     "output_type": "stream",
     "text": [
      " 55%|█████▍    | 548/1000 [29:43<27:24,  3.64s/it]"
     ]
    },
    {
     "name": "stdout",
     "output_type": "stream",
     "text": [
      "Epoch: 547 \n",
      "\b Train Loss: 0.672579406726928 \n",
      "\b Train Acc: 61.12202380952381 \n",
      "\b Val Loss: 0.6724595675865809 \n",
      "\b Val Acc: 62.38162878787879\n",
      "**************************************************\n"
     ]
    },
    {
     "name": "stderr",
     "output_type": "stream",
     "text": [
      " 55%|█████▍    | 549/1000 [29:47<28:10,  3.75s/it]"
     ]
    },
    {
     "name": "stdout",
     "output_type": "stream",
     "text": [
      "Epoch: 548 \n",
      "\b Train Loss: 0.6725248563289642 \n",
      "\b Train Acc: 61.142857142857146 \n",
      "\b Val Loss: 0.6724060475826263 \n",
      "\b Val Acc: 62.40530303030303\n",
      "**************************************************\n"
     ]
    },
    {
     "name": "stderr",
     "output_type": "stream",
     "text": [
      " 55%|█████▌    | 550/1000 [29:51<29:41,  3.96s/it]"
     ]
    },
    {
     "name": "stdout",
     "output_type": "stream",
     "text": [
      "Epoch: 549 \n",
      "\b Train Loss: 0.6724707309405009 \n",
      "\b Train Acc: 61.151785714285715 \n",
      "\b Val Loss: 0.6723618669943376 \n",
      "\b Val Acc: 62.47632575757576\n",
      "**************************************************\n"
     ]
    },
    {
     "name": "stderr",
     "output_type": "stream",
     "text": [
      " 55%|█████▌    | 551/1000 [29:55<28:52,  3.86s/it]"
     ]
    },
    {
     "name": "stdout",
     "output_type": "stream",
     "text": [
      "Epoch: 550 \n",
      "\b Train Loss: 0.6724176279703776 \n",
      "\b Train Acc: 61.17261904761905 \n",
      "\b Val Loss: 0.6723078028722242 \n",
      "\b Val Acc: 62.452651515151516\n",
      "**************************************************\n"
     ]
    },
    {
     "name": "stderr",
     "output_type": "stream",
     "text": [
      " 55%|█████▌    | 552/1000 [29:59<29:02,  3.89s/it]"
     ]
    },
    {
     "name": "stdout",
     "output_type": "stream",
     "text": [
      "Epoch: 551 \n",
      "\b Train Loss: 0.6723626422314417 \n",
      "\b Train Acc: 61.160714285714285 \n",
      "\b Val Loss: 0.672256278720769 \n",
      "\b Val Acc: 62.5\n",
      "**************************************************\n"
     ]
    },
    {
     "name": "stderr",
     "output_type": "stream",
     "text": [
      " 55%|█████▌    | 553/1000 [30:03<28:56,  3.88s/it]"
     ]
    },
    {
     "name": "stdout",
     "output_type": "stream",
     "text": [
      "Epoch: 552 \n",
      "\b Train Loss: 0.6723068093118213 \n",
      "\b Train Acc: 61.160714285714285 \n",
      "\b Val Loss: 0.6722130879308238 \n",
      "\b Val Acc: 62.38162878787879\n",
      "**************************************************\n"
     ]
    },
    {
     "name": "stderr",
     "output_type": "stream",
     "text": [
      " 55%|█████▌    | 554/1000 [30:06<27:36,  3.72s/it]"
     ]
    },
    {
     "name": "stdout",
     "output_type": "stream",
     "text": [
      "Epoch: 553 \n",
      "\b Train Loss: 0.6722530840124403 \n",
      "\b Train Acc: 61.18452380952381 \n",
      "\b Val Loss: 0.6721559988729882 \n",
      "\b Val Acc: 62.38162878787879\n",
      "**************************************************\n"
     ]
    },
    {
     "name": "stderr",
     "output_type": "stream",
     "text": [
      " 56%|█████▌    | 555/1000 [30:09<26:50,  3.62s/it]"
     ]
    },
    {
     "name": "stdout",
     "output_type": "stream",
     "text": [
      "Epoch: 554 \n",
      "\b Train Loss: 0.6722005899747213 \n",
      "\b Train Acc: 61.20238095238095 \n",
      "\b Val Loss: 0.6720985670884451 \n",
      "\b Val Acc: 62.452651515151516\n",
      "**************************************************\n"
     ]
    },
    {
     "name": "stderr",
     "output_type": "stream",
     "text": [
      " 56%|█████▌    | 556/1000 [30:12<25:12,  3.41s/it]"
     ]
    },
    {
     "name": "stdout",
     "output_type": "stream",
     "text": [
      "Epoch: 555 \n",
      "\b Train Loss: 0.6721437592165811 \n",
      "\b Train Acc: 61.226190476190474 \n",
      "\b Val Loss: 0.6720399391470533 \n",
      "\b Val Acc: 62.452651515151516\n",
      "**************************************************\n"
     ]
    },
    {
     "name": "stderr",
     "output_type": "stream",
     "text": [
      " 56%|█████▌    | 557/1000 [30:15<24:32,  3.32s/it]"
     ]
    },
    {
     "name": "stdout",
     "output_type": "stream",
     "text": [
      "Epoch: 556 \n",
      "\b Train Loss: 0.6720880602087294 \n",
      "\b Train Acc: 61.25297619047619 \n",
      "\b Val Loss: 0.6719866593678793 \n",
      "\b Val Acc: 62.42897727272727\n",
      "**************************************************\n"
     ]
    },
    {
     "name": "stderr",
     "output_type": "stream",
     "text": [
      " 56%|█████▌    | 558/1000 [30:19<23:55,  3.25s/it]"
     ]
    },
    {
     "name": "stdout",
     "output_type": "stream",
     "text": [
      "Epoch: 557 \n",
      "\b Train Loss: 0.6720326306706383 \n",
      "\b Train Acc: 61.25595238095238 \n",
      "\b Val Loss: 0.671924859736905 \n",
      "\b Val Acc: 62.47632575757576\n",
      "**************************************************\n"
     ]
    },
    {
     "name": "stderr",
     "output_type": "stream",
     "text": [
      " 56%|█████▌    | 559/1000 [30:22<23:32,  3.20s/it]"
     ]
    },
    {
     "name": "stdout",
     "output_type": "stream",
     "text": [
      "Epoch: 558 \n",
      "\b Train Loss: 0.6719766086623782 \n",
      "\b Train Acc: 61.270833333333336 \n",
      "\b Val Loss: 0.6718633463888457 \n",
      "\b Val Acc: 62.57102272727273\n",
      "**************************************************\n"
     ]
    },
    {
     "name": "stderr",
     "output_type": "stream",
     "text": [
      " 56%|█████▌    | 560/1000 [30:25<24:47,  3.38s/it]"
     ]
    },
    {
     "name": "stdout",
     "output_type": "stream",
     "text": [
      "Epoch: 559 \n",
      "\b Train Loss: 0.6719212057476952 \n",
      "\b Train Acc: 61.285714285714285 \n",
      "\b Val Loss: 0.6718103831464594 \n",
      "\b Val Acc: 62.5\n",
      "**************************************************\n"
     ]
    },
    {
     "name": "stderr",
     "output_type": "stream",
     "text": [
      " 56%|█████▌    | 561/1000 [30:30<26:17,  3.59s/it]"
     ]
    },
    {
     "name": "stdout",
     "output_type": "stream",
     "text": [
      "Epoch: 560 \n",
      "\b Train Loss: 0.6718629651977902 \n",
      "\b Train Acc: 61.30654761904762 \n",
      "\b Val Loss: 0.6717521846294403 \n",
      "\b Val Acc: 62.5\n",
      "**************************************************\n"
     ]
    },
    {
     "name": "stderr",
     "output_type": "stream",
     "text": [
      " 56%|█████▌    | 562/1000 [30:33<26:06,  3.58s/it]"
     ]
    },
    {
     "name": "stdout",
     "output_type": "stream",
     "text": [
      "Epoch: 561 \n",
      "\b Train Loss: 0.6718091057595752 \n",
      "\b Train Acc: 61.345238095238095 \n",
      "\b Val Loss: 0.6716857805396571 \n",
      "\b Val Acc: 62.52367424242424\n",
      "**************************************************\n"
     ]
    },
    {
     "name": "stderr",
     "output_type": "stream",
     "text": [
      " 56%|█████▋    | 563/1000 [30:37<27:20,  3.76s/it]"
     ]
    },
    {
     "name": "stdout",
     "output_type": "stream",
     "text": [
      "Epoch: 562 \n",
      "\b Train Loss: 0.6717519118672326 \n",
      "\b Train Acc: 61.351190476190474 \n",
      "\b Val Loss: 0.6716215484070055 \n",
      "\b Val Acc: 62.57102272727273\n",
      "**************************************************\n"
     ]
    },
    {
     "name": "stderr",
     "output_type": "stream",
     "text": [
      " 56%|█████▋    | 564/1000 [30:41<26:48,  3.69s/it]"
     ]
    },
    {
     "name": "stdout",
     "output_type": "stream",
     "text": [
      "Epoch: 563 \n",
      "\b Train Loss: 0.6716952098551251 \n",
      "\b Train Acc: 61.36011904761905 \n",
      "\b Val Loss: 0.6715628202214385 \n",
      "\b Val Acc: 62.57102272727273\n",
      "**************************************************\n"
     ]
    },
    {
     "name": "stderr",
     "output_type": "stream",
     "text": [
      " 56%|█████▋    | 565/1000 [30:44<26:34,  3.66s/it]"
     ]
    },
    {
     "name": "stdout",
     "output_type": "stream",
     "text": [
      "Epoch: 564 \n",
      "\b Train Loss: 0.6716374813375019 \n",
      "\b Train Acc: 61.37797619047619 \n",
      "\b Val Loss: 0.6715023734352805 \n",
      "\b Val Acc: 62.547348484848484\n",
      "**************************************************\n"
     ]
    },
    {
     "name": "stderr",
     "output_type": "stream",
     "text": [
      " 57%|█████▋    | 566/1000 [30:48<27:07,  3.75s/it]"
     ]
    },
    {
     "name": "stdout",
     "output_type": "stream",
     "text": [
      "Epoch: 565 \n",
      "\b Train Loss: 0.6715809647242228 \n",
      "\b Train Acc: 61.401785714285715 \n",
      "\b Val Loss: 0.6714309616522356 \n",
      "\b Val Acc: 62.61837121212121\n",
      "**************************************************\n"
     ]
    },
    {
     "name": "stderr",
     "output_type": "stream",
     "text": [
      " 57%|█████▋    | 567/1000 [30:52<26:39,  3.69s/it]"
     ]
    },
    {
     "name": "stdout",
     "output_type": "stream",
     "text": [
      "Epoch: 566 \n",
      "\b Train Loss: 0.6715218347027189 \n",
      "\b Train Acc: 61.42559523809524 \n",
      "\b Val Loss: 0.6713602777683374 \n",
      "\b Val Acc: 62.59469696969697\n",
      "**************************************************\n"
     ]
    },
    {
     "name": "stderr",
     "output_type": "stream",
     "text": [
      " 57%|█████▋    | 568/1000 [30:55<25:27,  3.54s/it]"
     ]
    },
    {
     "name": "stdout",
     "output_type": "stream",
     "text": [
      "Epoch: 567 \n",
      "\b Train Loss: 0.6714631956531888 \n",
      "\b Train Acc: 61.43452380952381 \n",
      "\b Val Loss: 0.6712991044376836 \n",
      "\b Val Acc: 62.59469696969697\n",
      "**************************************************\n"
     ]
    },
    {
     "name": "stderr",
     "output_type": "stream",
     "text": [
      " 57%|█████▋    | 569/1000 [30:59<26:34,  3.70s/it]"
     ]
    },
    {
     "name": "stdout",
     "output_type": "stream",
     "text": [
      "Epoch: 568 \n",
      "\b Train Loss: 0.6714054919992174 \n",
      "\b Train Acc: 61.45238095238095 \n",
      "\b Val Loss: 0.6712369331807801 \n",
      "\b Val Acc: 62.59469696969697\n",
      "**************************************************\n"
     ]
    },
    {
     "name": "stderr",
     "output_type": "stream",
     "text": [
      " 57%|█████▋    | 570/1000 [31:03<27:31,  3.84s/it]"
     ]
    },
    {
     "name": "stdout",
     "output_type": "stream",
     "text": [
      "Epoch: 569 \n",
      "\b Train Loss: 0.6713470575355348 \n",
      "\b Train Acc: 61.476190476190474 \n",
      "\b Val Loss: 0.67116789745562 \n",
      "\b Val Acc: 62.547348484848484\n",
      "**************************************************\n"
     ]
    },
    {
     "name": "stderr",
     "output_type": "stream",
     "text": [
      " 57%|█████▋    | 571/1000 [31:07<28:07,  3.93s/it]"
     ]
    },
    {
     "name": "stdout",
     "output_type": "stream",
     "text": [
      "Epoch: 570 \n",
      "\b Train Loss: 0.6712875468390328 \n",
      "\b Train Acc: 61.482142857142854 \n",
      "\b Val Loss: 0.6711057194254615 \n",
      "\b Val Acc: 62.57102272727273\n",
      "**************************************************\n"
     ]
    },
    {
     "name": "stderr",
     "output_type": "stream",
     "text": [
      " 57%|█████▋    | 572/1000 [31:12<29:22,  4.12s/it]"
     ]
    },
    {
     "name": "stdout",
     "output_type": "stream",
     "text": [
      "Epoch: 571 \n",
      "\b Train Loss: 0.6712300570805868 \n",
      "\b Train Acc: 61.482142857142854 \n",
      "\b Val Loss: 0.6710477557146188 \n",
      "\b Val Acc: 62.64204545454545\n",
      "**************************************************\n"
     ]
    },
    {
     "name": "stderr",
     "output_type": "stream",
     "text": [
      " 57%|█████▋    | 573/1000 [31:16<28:56,  4.07s/it]"
     ]
    },
    {
     "name": "stdout",
     "output_type": "stream",
     "text": [
      "Epoch: 572 \n",
      "\b Train Loss: 0.6711701194445292 \n",
      "\b Train Acc: 61.479166666666664 \n",
      "\b Val Loss: 0.6709863918297219 \n",
      "\b Val Acc: 62.68939393939394\n",
      "**************************************************\n"
     ]
    },
    {
     "name": "stderr",
     "output_type": "stream",
     "text": [
      " 57%|█████▋    | 574/1000 [31:20<28:49,  4.06s/it]"
     ]
    },
    {
     "name": "stdout",
     "output_type": "stream",
     "text": [
      "Epoch: 573 \n",
      "\b Train Loss: 0.6711121924718221 \n",
      "\b Train Acc: 61.50595238095238 \n",
      "\b Val Loss: 0.6709132307406628 \n",
      "\b Val Acc: 62.64204545454545\n",
      "**************************************************\n"
     ]
    },
    {
     "name": "stderr",
     "output_type": "stream",
     "text": [
      " 57%|█████▊    | 575/1000 [31:24<28:24,  4.01s/it]"
     ]
    },
    {
     "name": "stdout",
     "output_type": "stream",
     "text": [
      "Epoch: 574 \n",
      "\b Train Loss: 0.671052527370907 \n",
      "\b Train Acc: 61.50892857142857 \n",
      "\b Val Loss: 0.6708453279553037 \n",
      "\b Val Acc: 62.64204545454545\n",
      "**************************************************\n"
     ]
    },
    {
     "name": "stderr",
     "output_type": "stream",
     "text": [
      " 58%|█████▊    | 576/1000 [31:27<27:18,  3.86s/it]"
     ]
    },
    {
     "name": "stdout",
     "output_type": "stream",
     "text": [
      "Epoch: 575 \n",
      "\b Train Loss: 0.6709932242121015 \n",
      "\b Train Acc: 61.523809523809526 \n",
      "\b Val Loss: 0.6707806004719301 \n",
      "\b Val Acc: 62.68939393939394\n",
      "**************************************************\n"
     ]
    },
    {
     "name": "stderr",
     "output_type": "stream",
     "text": [
      " 58%|█████▊    | 577/1000 [31:31<27:08,  3.85s/it]"
     ]
    },
    {
     "name": "stdout",
     "output_type": "stream",
     "text": [
      "Epoch: 576 \n",
      "\b Train Loss: 0.6709345153399876 \n",
      "\b Train Acc: 61.54761904761905 \n",
      "\b Val Loss: 0.6707200502807443 \n",
      "\b Val Acc: 62.71306818181818\n",
      "**************************************************\n"
     ]
    },
    {
     "name": "stderr",
     "output_type": "stream",
     "text": [
      " 58%|█████▊    | 578/1000 [31:35<26:34,  3.78s/it]"
     ]
    },
    {
     "name": "stdout",
     "output_type": "stream",
     "text": [
      "Epoch: 577 \n",
      "\b Train Loss: 0.6708768727098192 \n",
      "\b Train Acc: 61.56547619047619 \n",
      "\b Val Loss: 0.67065806415948 \n",
      "\b Val Acc: 62.64204545454545\n",
      "**************************************************\n"
     ]
    },
    {
     "name": "stderr",
     "output_type": "stream",
     "text": [
      " 58%|█████▊    | 579/1000 [31:39<26:45,  3.81s/it]"
     ]
    },
    {
     "name": "stdout",
     "output_type": "stream",
     "text": [
      "Epoch: 578 \n",
      "\b Train Loss: 0.6708184167884645 \n",
      "\b Train Acc: 61.57738095238095 \n",
      "\b Val Loss: 0.6705877022309736 \n",
      "\b Val Acc: 62.665719696969695\n",
      "**************************************************\n"
     ]
    },
    {
     "name": "stderr",
     "output_type": "stream",
     "text": [
      " 58%|█████▊    | 580/1000 [31:42<25:06,  3.59s/it]"
     ]
    },
    {
     "name": "stdout",
     "output_type": "stream",
     "text": [
      "Epoch: 579 \n",
      "\b Train Loss: 0.6707612996441977 \n",
      "\b Train Acc: 61.61011904761905 \n",
      "\b Val Loss: 0.6705193293817115 \n",
      "\b Val Acc: 62.61837121212121\n",
      "**************************************************\n"
     ]
    },
    {
     "name": "stderr",
     "output_type": "stream",
     "text": [
      " 58%|█████▊    | 581/1000 [31:45<23:47,  3.41s/it]"
     ]
    },
    {
     "name": "stdout",
     "output_type": "stream",
     "text": [
      "Epoch: 580 \n",
      "\b Train Loss: 0.6707002697672163 \n",
      "\b Train Acc: 61.61904761904762 \n",
      "\b Val Loss: 0.67045919732614 \n",
      "\b Val Acc: 62.57102272727273\n",
      "**************************************************\n"
     ]
    },
    {
     "name": "stderr",
     "output_type": "stream",
     "text": [
      " 58%|█████▊    | 582/1000 [31:48<23:00,  3.30s/it]"
     ]
    },
    {
     "name": "stdout",
     "output_type": "stream",
     "text": [
      "Epoch: 581 \n",
      "\b Train Loss: 0.6706423904782249 \n",
      "\b Train Acc: 61.63095238095238 \n",
      "\b Val Loss: 0.6703854130976128 \n",
      "\b Val Acc: 62.547348484848484\n",
      "**************************************************\n"
     ]
    },
    {
     "name": "stderr",
     "output_type": "stream",
     "text": [
      " 58%|█████▊    | 583/1000 [31:51<22:24,  3.22s/it]"
     ]
    },
    {
     "name": "stdout",
     "output_type": "stream",
     "text": [
      "Epoch: 582 \n",
      "\b Train Loss: 0.6705810870443072 \n",
      "\b Train Acc: 61.63392857142857 \n",
      "\b Val Loss: 0.6703233872399186 \n",
      "\b Val Acc: 62.61837121212121\n",
      "**************************************************\n"
     ]
    },
    {
     "name": "stderr",
     "output_type": "stream",
     "text": [
      " 58%|█████▊    | 584/1000 [31:55<23:19,  3.36s/it]"
     ]
    },
    {
     "name": "stdout",
     "output_type": "stream",
     "text": [
      "Epoch: 583 \n",
      "\b Train Loss: 0.6705198283422561 \n",
      "\b Train Acc: 61.648809523809526 \n",
      "\b Val Loss: 0.6702676158059727 \n",
      "\b Val Acc: 62.64204545454545\n",
      "**************************************************\n"
     ]
    },
    {
     "name": "stderr",
     "output_type": "stream",
     "text": [
      " 58%|█████▊    | 585/1000 [31:59<25:02,  3.62s/it]"
     ]
    },
    {
     "name": "stdout",
     "output_type": "stream",
     "text": [
      "Epoch: 584 \n",
      "\b Train Loss: 0.6704614492257436 \n",
      "\b Train Acc: 61.67261904761905 \n",
      "\b Val Loss: 0.670202271956386 \n",
      "\b Val Acc: 62.68939393939394\n",
      "**************************************************\n"
     ]
    },
    {
     "name": "stderr",
     "output_type": "stream",
     "text": [
      " 59%|█████▊    | 586/1000 [32:03<25:36,  3.71s/it]"
     ]
    },
    {
     "name": "stdout",
     "output_type": "stream",
     "text": [
      "Epoch: 585 \n",
      "\b Train Loss: 0.6704003980046227 \n",
      "\b Train Acc: 61.69345238095238 \n",
      "\b Val Loss: 0.6701329702680762 \n",
      "\b Val Acc: 62.73674242424242\n",
      "**************************************************\n"
     ]
    },
    {
     "name": "stderr",
     "output_type": "stream",
     "text": [
      " 59%|█████▊    | 587/1000 [32:07<26:59,  3.92s/it]"
     ]
    },
    {
     "name": "stdout",
     "output_type": "stream",
     "text": [
      "Epoch: 586 \n",
      "\b Train Loss: 0.6703384927340916 \n",
      "\b Train Acc: 61.714285714285715 \n",
      "\b Val Loss: 0.6700673527789839 \n",
      "\b Val Acc: 62.760416666666664\n",
      "**************************************************\n"
     ]
    },
    {
     "name": "stderr",
     "output_type": "stream",
     "text": [
      " 59%|█████▉    | 588/1000 [32:11<26:58,  3.93s/it]"
     ]
    },
    {
     "name": "stdout",
     "output_type": "stream",
     "text": [
      "Epoch: 587 \n",
      "\b Train Loss: 0.6702793319452377 \n",
      "\b Train Acc: 61.720238095238095 \n",
      "\b Val Loss: 0.6699973159667217 \n",
      "\b Val Acc: 62.71306818181818\n",
      "**************************************************\n"
     ]
    },
    {
     "name": "stderr",
     "output_type": "stream",
     "text": [
      " 59%|█████▉    | 589/1000 [32:15<27:43,  4.05s/it]"
     ]
    },
    {
     "name": "stdout",
     "output_type": "stream",
     "text": [
      "Epoch: 588 \n",
      "\b Train Loss: 0.6702184084483556 \n",
      "\b Train Acc: 61.74404761904762 \n",
      "\b Val Loss: 0.66993004851269 \n",
      "\b Val Acc: 62.78409090909091\n",
      "**************************************************\n"
     ]
    },
    {
     "name": "stderr",
     "output_type": "stream",
     "text": [
      " 59%|█████▉    | 590/1000 [32:18<25:29,  3.73s/it]"
     ]
    },
    {
     "name": "stdout",
     "output_type": "stream",
     "text": [
      "Epoch: 589 \n",
      "\b Train Loss: 0.6701607463473366 \n",
      "\b Train Acc: 61.76488095238095 \n",
      "\b Val Loss: 0.6698691361781323 \n",
      "\b Val Acc: 62.78409090909091\n",
      "**************************************************\n"
     ]
    },
    {
     "name": "stderr",
     "output_type": "stream",
     "text": [
      " 59%|█████▉    | 591/1000 [32:22<25:07,  3.69s/it]"
     ]
    },
    {
     "name": "stdout",
     "output_type": "stream",
     "text": [
      "Epoch: 590 \n",
      "\b Train Loss: 0.6701006268887293 \n",
      "\b Train Acc: 61.782738095238095 \n",
      "\b Val Loss: 0.6697971247362368 \n",
      "\b Val Acc: 62.78409090909091\n",
      "**************************************************\n"
     ]
    },
    {
     "name": "stderr",
     "output_type": "stream",
     "text": [
      " 59%|█████▉    | 592/1000 [32:25<24:40,  3.63s/it]"
     ]
    },
    {
     "name": "stdout",
     "output_type": "stream",
     "text": [
      "Epoch: 591 \n",
      "\b Train Loss: 0.6700404944306328 \n",
      "\b Train Acc: 61.791666666666664 \n",
      "\b Val Loss: 0.6697263970519557 \n",
      "\b Val Acc: 62.80776515151515\n",
      "**************************************************\n"
     ]
    },
    {
     "name": "stderr",
     "output_type": "stream",
     "text": [
      " 59%|█████▉    | 593/1000 [32:29<25:27,  3.75s/it]"
     ]
    },
    {
     "name": "stdout",
     "output_type": "stream",
     "text": [
      "Epoch: 592 \n",
      "\b Train Loss: 0.6699777570224944 \n",
      "\b Train Acc: 61.79761904761905 \n",
      "\b Val Loss: 0.6696607926578233 \n",
      "\b Val Acc: 62.878787878787875\n",
      "**************************************************\n"
     ]
    },
    {
     "name": "stderr",
     "output_type": "stream",
     "text": [
      " 59%|█████▉    | 594/1000 [32:33<24:54,  3.68s/it]"
     ]
    },
    {
     "name": "stdout",
     "output_type": "stream",
     "text": [
      "Epoch: 593 \n",
      "\b Train Loss: 0.6699186987536294 \n",
      "\b Train Acc: 61.82440476190476 \n",
      "\b Val Loss: 0.669593557715416 \n",
      "\b Val Acc: 62.92613636363637\n",
      "**************************************************\n"
     ]
    },
    {
     "name": "stderr",
     "output_type": "stream",
     "text": [
      " 60%|█████▉    | 595/1000 [32:36<23:45,  3.52s/it]"
     ]
    },
    {
     "name": "stdout",
     "output_type": "stream",
     "text": [
      "Epoch: 594 \n",
      "\b Train Loss: 0.6698556225640433 \n",
      "\b Train Acc: 61.836309523809526 \n",
      "\b Val Loss: 0.6695255786180496 \n",
      "\b Val Acc: 62.94981060606061\n",
      "**************************************************\n"
     ]
    },
    {
     "name": "stderr",
     "output_type": "stream",
     "text": [
      " 60%|█████▉    | 596/1000 [32:40<23:36,  3.51s/it]"
     ]
    },
    {
     "name": "stdout",
     "output_type": "stream",
     "text": [
      "Epoch: 595 \n",
      "\b Train Loss: 0.6697950664588384 \n",
      "\b Train Acc: 61.848214285714285 \n",
      "\b Val Loss: 0.6694595497665983 \n",
      "\b Val Acc: 62.99715909090909\n",
      "**************************************************\n"
     ]
    },
    {
     "name": "stderr",
     "output_type": "stream",
     "text": [
      " 60%|█████▉    | 597/1000 [32:43<23:39,  3.52s/it]"
     ]
    },
    {
     "name": "stdout",
     "output_type": "stream",
     "text": [
      "Epoch: 596 \n",
      "\b Train Loss: 0.66972838083903 \n",
      "\b Train Acc: 61.86309523809524 \n",
      "\b Val Loss: 0.6693967824632471 \n",
      "\b Val Acc: 62.94981060606061\n",
      "**************************************************\n"
     ]
    },
    {
     "name": "stderr",
     "output_type": "stream",
     "text": [
      " 60%|█████▉    | 598/1000 [32:47<23:45,  3.55s/it]"
     ]
    },
    {
     "name": "stdout",
     "output_type": "stream",
     "text": [
      "Epoch: 597 \n",
      "\b Train Loss: 0.6696693557217007 \n",
      "\b Train Acc: 61.88392857142857 \n",
      "\b Val Loss: 0.669334971091964 \n",
      "\b Val Acc: 62.99715909090909\n",
      "**************************************************\n"
     ]
    },
    {
     "name": "stderr",
     "output_type": "stream",
     "text": [
      " 60%|█████▉    | 599/1000 [32:52<26:13,  3.92s/it]"
     ]
    },
    {
     "name": "stdout",
     "output_type": "stream",
     "text": [
      "Epoch: 598 \n",
      "\b Train Loss: 0.6696082390490032 \n",
      "\b Train Acc: 61.904761904761905 \n",
      "\b Val Loss: 0.6692672814383651 \n",
      "\b Val Acc: 63.020833333333336\n",
      "**************************************************\n"
     ]
    },
    {
     "name": "stderr",
     "output_type": "stream",
     "text": [
      " 60%|██████    | 600/1000 [32:55<25:48,  3.87s/it]"
     ]
    },
    {
     "name": "stdout",
     "output_type": "stream",
     "text": [
      "Epoch: 599 \n",
      "\b Train Loss: 0.6695429035027822 \n",
      "\b Train Acc: 61.898809523809526 \n",
      "\b Val Loss: 0.6692041777300112 \n",
      "\b Val Acc: 63.115530303030305\n",
      "**************************************************\n"
     ]
    },
    {
     "name": "stderr",
     "output_type": "stream",
     "text": [
      " 60%|██████    | 601/1000 [33:00<26:43,  4.02s/it]"
     ]
    },
    {
     "name": "stdout",
     "output_type": "stream",
     "text": [
      "Epoch: 600 \n",
      "\b Train Loss: 0.6694816176664261 \n",
      "\b Train Acc: 61.92857142857143 \n",
      "\b Val Loss: 0.6691285335656368 \n",
      "\b Val Acc: 63.16287878787879\n",
      "**************************************************\n"
     ]
    },
    {
     "name": "stderr",
     "output_type": "stream",
     "text": [
      " 60%|██████    | 602/1000 [33:04<26:28,  3.99s/it]"
     ]
    },
    {
     "name": "stdout",
     "output_type": "stream",
     "text": [
      "Epoch: 601 \n",
      "\b Train Loss: 0.6694177988597325 \n",
      "\b Train Acc: 61.958333333333336 \n",
      "\b Val Loss: 0.6690531689109225 \n",
      "\b Val Acc: 63.16287878787879\n",
      "**************************************************\n"
     ]
    },
    {
     "name": "stderr",
     "output_type": "stream",
     "text": [
      " 60%|██████    | 603/1000 [33:07<25:29,  3.85s/it]"
     ]
    },
    {
     "name": "stdout",
     "output_type": "stream",
     "text": [
      "Epoch: 602 \n",
      "\b Train Loss: 0.6693514508292788 \n",
      "\b Train Acc: 61.99107142857143 \n",
      "\b Val Loss: 0.6689814008546598 \n",
      "\b Val Acc: 63.16287878787879\n",
      "**************************************************\n"
     ]
    },
    {
     "name": "stderr",
     "output_type": "stream",
     "text": [
      " 60%|██████    | 604/1000 [33:11<26:06,  3.95s/it]"
     ]
    },
    {
     "name": "stdout",
     "output_type": "stream",
     "text": [
      "Epoch: 603 \n",
      "\b Train Loss: 0.6692877957934426 \n",
      "\b Train Acc: 62.00297619047619 \n",
      "\b Val Loss: 0.6689136385014562 \n",
      "\b Val Acc: 63.16287878787879\n",
      "**************************************************\n"
     ]
    },
    {
     "name": "stderr",
     "output_type": "stream",
     "text": [
      " 60%|██████    | 605/1000 [33:16<26:33,  4.04s/it]"
     ]
    },
    {
     "name": "stdout",
     "output_type": "stream",
     "text": [
      "Epoch: 604 \n",
      "\b Train Loss: 0.6692210490930648 \n",
      "\b Train Acc: 62.029761904761905 \n",
      "\b Val Loss: 0.6688421793056257 \n",
      "\b Val Acc: 63.18655303030303\n",
      "**************************************************\n"
     ]
    },
    {
     "name": "stderr",
     "output_type": "stream",
     "text": [
      " 61%|██████    | 606/1000 [33:20<26:43,  4.07s/it]"
     ]
    },
    {
     "name": "stdout",
     "output_type": "stream",
     "text": [
      "Epoch: 605 \n",
      "\b Train Loss: 0.6691547456809452 \n",
      "\b Train Acc: 62.041666666666664 \n",
      "\b Val Loss: 0.6687786154674761 \n",
      "\b Val Acc: 63.16287878787879\n",
      "**************************************************\n"
     ]
    },
    {
     "name": "stderr",
     "output_type": "stream",
     "text": [
      " 61%|██████    | 607/1000 [33:24<26:33,  4.05s/it]"
     ]
    },
    {
     "name": "stdout",
     "output_type": "stream",
     "text": [
      "Epoch: 606 \n",
      "\b Train Loss: 0.6690892468747639 \n",
      "\b Train Acc: 62.05357142857143 \n",
      "\b Val Loss: 0.6687124791470441 \n",
      "\b Val Acc: 63.21022727272727\n",
      "**************************************************\n"
     ]
    },
    {
     "name": "stderr",
     "output_type": "stream",
     "text": [
      " 61%|██████    | 608/1000 [33:27<24:07,  3.69s/it]"
     ]
    },
    {
     "name": "stdout",
     "output_type": "stream",
     "text": [
      "Epoch: 607 \n",
      "\b Train Loss: 0.669021307116463 \n",
      "\b Train Acc: 62.06547619047619 \n",
      "\b Val Loss: 0.6686386836297584 \n",
      "\b Val Acc: 63.233901515151516\n",
      "**************************************************\n"
     ]
    },
    {
     "name": "stderr",
     "output_type": "stream",
     "text": [
      " 61%|██████    | 609/1000 [33:30<23:10,  3.56s/it]"
     ]
    },
    {
     "name": "stdout",
     "output_type": "stream",
     "text": [
      "Epoch: 608 \n",
      "\b Train Loss: 0.6689555327665239 \n",
      "\b Train Acc: 62.104166666666664 \n",
      "\b Val Loss: 0.6685631509983179 \n",
      "\b Val Acc: 63.35227272727273\n",
      "**************************************************\n"
     ]
    },
    {
     "name": "stderr",
     "output_type": "stream",
     "text": [
      " 61%|██████    | 610/1000 [33:33<22:46,  3.50s/it]"
     ]
    },
    {
     "name": "stdout",
     "output_type": "stream",
     "text": [
      "Epoch: 609 \n",
      "\b Train Loss: 0.6688885693890708 \n",
      "\b Train Acc: 62.148809523809526 \n",
      "\b Val Loss: 0.6684693784424753 \n",
      "\b Val Acc: 63.37594696969697\n",
      "**************************************************\n"
     ]
    },
    {
     "name": "stderr",
     "output_type": "stream",
     "text": [
      " 61%|██████    | 611/1000 [33:37<22:34,  3.48s/it]"
     ]
    },
    {
     "name": "stdout",
     "output_type": "stream",
     "text": [
      "Epoch: 610 \n",
      "\b Train Loss: 0.6688188555694762 \n",
      "\b Train Acc: 62.142857142857146 \n",
      "\b Val Loss: 0.6683950333884268 \n",
      "\b Val Acc: 63.37594696969697\n",
      "**************************************************\n"
     ]
    },
    {
     "name": "stderr",
     "output_type": "stream",
     "text": [
      " 61%|██████    | 612/1000 [33:40<23:01,  3.56s/it]"
     ]
    },
    {
     "name": "stdout",
     "output_type": "stream",
     "text": [
      "Epoch: 611 \n",
      "\b Train Loss: 0.6687514750162761 \n",
      "\b Train Acc: 62.1875 \n",
      "\b Val Loss: 0.6683118266589714 \n",
      "\b Val Acc: 63.39962121212121\n",
      "**************************************************\n"
     ]
    },
    {
     "name": "stderr",
     "output_type": "stream",
     "text": [
      " 61%|██████▏   | 613/1000 [33:44<23:59,  3.72s/it]"
     ]
    },
    {
     "name": "stdout",
     "output_type": "stream",
     "text": [
      "Epoch: 612 \n",
      "\b Train Loss: 0.6686827744756426 \n",
      "\b Train Acc: 62.205357142857146 \n",
      "\b Val Loss: 0.6682439758019014 \n",
      "\b Val Acc: 63.328598484848484\n",
      "**************************************************\n"
     ]
    },
    {
     "name": "stderr",
     "output_type": "stream",
     "text": [
      " 61%|██████▏   | 614/1000 [33:49<24:33,  3.82s/it]"
     ]
    },
    {
     "name": "stdout",
     "output_type": "stream",
     "text": [
      "Epoch: 613 \n",
      "\b Train Loss: 0.6686152987253098 \n",
      "\b Train Acc: 62.220238095238095 \n",
      "\b Val Loss: 0.6681609551111857 \n",
      "\b Val Acc: 63.37594696969697\n",
      "**************************************************\n"
     ]
    },
    {
     "name": "stderr",
     "output_type": "stream",
     "text": [
      " 62%|██████▏   | 615/1000 [33:53<25:56,  4.04s/it]"
     ]
    },
    {
     "name": "stdout",
     "output_type": "stream",
     "text": [
      "Epoch: 614 \n",
      "\b Train Loss: 0.6685469873178573 \n",
      "\b Train Acc: 62.23511904761905 \n",
      "\b Val Loss: 0.6680889052875114 \n",
      "\b Val Acc: 63.446969696969695\n",
      "**************************************************\n"
     ]
    },
    {
     "name": "stderr",
     "output_type": "stream",
     "text": [
      " 62%|██████▏   | 616/1000 [33:57<25:15,  3.95s/it]"
     ]
    },
    {
     "name": "stdout",
     "output_type": "stream",
     "text": [
      "Epoch: 615 \n",
      "\b Train Loss: 0.6684799029145922 \n",
      "\b Train Acc: 62.276785714285715 \n",
      "\b Val Loss: 0.6680075657187086 \n",
      "\b Val Acc: 63.35227272727273\n",
      "**************************************************\n"
     ]
    },
    {
     "name": "stderr",
     "output_type": "stream",
     "text": [
      " 62%|██████▏   | 617/1000 [34:01<24:46,  3.88s/it]"
     ]
    },
    {
     "name": "stdout",
     "output_type": "stream",
     "text": [
      "Epoch: 616 \n",
      "\b Train Loss: 0.6684130630606697 \n",
      "\b Train Acc: 62.285714285714285 \n",
      "\b Val Loss: 0.667935516798135 \n",
      "\b Val Acc: 63.35227272727273\n",
      "**************************************************\n"
     ]
    },
    {
     "name": "stderr",
     "output_type": "stream",
     "text": [
      " 62%|██████▏   | 618/1000 [34:05<25:25,  3.99s/it]"
     ]
    },
    {
     "name": "stdout",
     "output_type": "stream",
     "text": [
      "Epoch: 617 \n",
      "\b Train Loss: 0.6683464215482984 \n",
      "\b Train Acc: 62.31845238095238 \n",
      "\b Val Loss: 0.6678608484340437 \n",
      "\b Val Acc: 63.35227272727273\n",
      "**************************************************\n"
     ]
    },
    {
     "name": "stderr",
     "output_type": "stream",
     "text": [
      " 62%|██████▏   | 619/1000 [34:09<25:05,  3.95s/it]"
     ]
    },
    {
     "name": "stdout",
     "output_type": "stream",
     "text": [
      "Epoch: 618 \n",
      "\b Train Loss: 0.6682773399353027 \n",
      "\b Train Acc: 62.330357142857146 \n",
      "\b Val Loss: 0.6677838180101279 \n",
      "\b Val Acc: 63.42329545454545\n",
      "**************************************************\n"
     ]
    },
    {
     "name": "stderr",
     "output_type": "stream",
     "text": [
      " 62%|██████▏   | 620/1000 [34:12<24:35,  3.88s/it]"
     ]
    },
    {
     "name": "stdout",
     "output_type": "stream",
     "text": [
      "Epoch: 619 \n",
      "\b Train Loss: 0.6682110817091805 \n",
      "\b Train Acc: 62.348214285714285 \n",
      "\b Val Loss: 0.6677058957742922 \n",
      "\b Val Acc: 63.39962121212121\n",
      "**************************************************\n"
     ]
    },
    {
     "name": "stderr",
     "output_type": "stream",
     "text": [
      " 62%|██████▏   | 621/1000 [34:16<24:05,  3.81s/it]"
     ]
    },
    {
     "name": "stdout",
     "output_type": "stream",
     "text": [
      "Epoch: 620 \n",
      "\b Train Loss: 0.6681401043278831 \n",
      "\b Train Acc: 62.36904761904762 \n",
      "\b Val Loss: 0.6676265800541098 \n",
      "\b Val Acc: 63.35227272727273\n",
      "**************************************************\n"
     ]
    },
    {
     "name": "stderr",
     "output_type": "stream",
     "text": [
      " 62%|██████▏   | 622/1000 [34:20<24:22,  3.87s/it]"
     ]
    },
    {
     "name": "stdout",
     "output_type": "stream",
     "text": [
      "Epoch: 621 \n",
      "\b Train Loss: 0.6680705911772592 \n",
      "\b Train Acc: 62.401785714285715 \n",
      "\b Val Loss: 0.6675497695352092 \n",
      "\b Val Acc: 63.328598484848484\n",
      "**************************************************\n"
     ]
    },
    {
     "name": "stderr",
     "output_type": "stream",
     "text": [
      " 62%|██████▏   | 623/1000 [34:24<24:24,  3.88s/it]"
     ]
    },
    {
     "name": "stdout",
     "output_type": "stream",
     "text": [
      "Epoch: 622 \n",
      "\b Train Loss: 0.6680020502635411 \n",
      "\b Train Acc: 62.42261904761905 \n",
      "\b Val Loss: 0.6674728732217442 \n",
      "\b Val Acc: 63.328598484848484\n",
      "**************************************************\n"
     ]
    },
    {
     "name": "stderr",
     "output_type": "stream",
     "text": [
      " 62%|██████▏   | 624/1000 [34:29<26:12,  4.18s/it]"
     ]
    },
    {
     "name": "stdout",
     "output_type": "stream",
     "text": [
      "Epoch: 623 \n",
      "\b Train Loss: 0.6679322533380417 \n",
      "\b Train Acc: 62.44047619047619 \n",
      "\b Val Loss: 0.6673926954919641 \n",
      "\b Val Acc: 63.35227272727273\n",
      "**************************************************\n"
     ]
    },
    {
     "name": "stderr",
     "output_type": "stream",
     "text": [
      " 62%|██████▎   | 625/1000 [34:33<26:29,  4.24s/it]"
     ]
    },
    {
     "name": "stdout",
     "output_type": "stream",
     "text": [
      "Epoch: 624 \n",
      "\b Train Loss: 0.6678630929333823 \n",
      "\b Train Acc: 62.461309523809526 \n",
      "\b Val Loss: 0.6673143375100512 \n",
      "\b Val Acc: 63.35227272727273\n",
      "**************************************************\n"
     ]
    },
    {
     "name": "stderr",
     "output_type": "stream",
     "text": [
      " 63%|██████▎   | 626/1000 [34:37<26:01,  4.18s/it]"
     ]
    },
    {
     "name": "stdout",
     "output_type": "stream",
     "text": [
      "Epoch: 625 \n",
      "\b Train Loss: 0.667795273576464 \n",
      "\b Train Acc: 62.467261904761905 \n",
      "\b Val Loss: 0.667240126114903 \n",
      "\b Val Acc: 63.30492424242424\n",
      "**************************************************\n"
     ]
    },
    {
     "name": "stderr",
     "output_type": "stream",
     "text": [
      " 63%|██████▎   | 627/1000 [34:41<25:22,  4.08s/it]"
     ]
    },
    {
     "name": "stdout",
     "output_type": "stream",
     "text": [
      "Epoch: 626 \n",
      "\b Train Loss: 0.6677237797918774 \n",
      "\b Train Acc: 62.470238095238095 \n",
      "\b Val Loss: 0.667170623035142 \n",
      "\b Val Acc: 63.28125\n",
      "**************************************************\n"
     ]
    },
    {
     "name": "stderr",
     "output_type": "stream",
     "text": [
      " 63%|██████▎   | 628/1000 [34:46<26:56,  4.34s/it]"
     ]
    },
    {
     "name": "stdout",
     "output_type": "stream",
     "text": [
      "Epoch: 627 \n",
      "\b Train Loss: 0.6676571867011842 \n",
      "\b Train Acc: 62.48809523809524 \n",
      "\b Val Loss: 0.6670927965279781 \n",
      "\b Val Acc: 63.233901515151516\n",
      "**************************************************\n"
     ]
    },
    {
     "name": "stderr",
     "output_type": "stream",
     "text": [
      " 63%|██████▎   | 629/1000 [34:51<27:22,  4.43s/it]"
     ]
    },
    {
     "name": "stdout",
     "output_type": "stream",
     "text": [
      "Epoch: 628 \n",
      "\b Train Loss: 0.6675855387392499 \n",
      "\b Train Acc: 62.50297619047619 \n",
      "\b Val Loss: 0.6670109074224125 \n",
      "\b Val Acc: 63.233901515151516\n",
      "**************************************************\n"
     ]
    },
    {
     "name": "stderr",
     "output_type": "stream",
     "text": [
      " 63%|██████▎   | 630/1000 [34:55<26:45,  4.34s/it]"
     ]
    },
    {
     "name": "stdout",
     "output_type": "stream",
     "text": [
      "Epoch: 629 \n",
      "\b Train Loss: 0.6675155540875026 \n",
      "\b Train Acc: 62.50892857142857 \n",
      "\b Val Loss: 0.6669281563072493 \n",
      "\b Val Acc: 63.28125\n",
      "**************************************************\n"
     ]
    },
    {
     "name": "stderr",
     "output_type": "stream",
     "text": [
      " 63%|██████▎   | 631/1000 [35:00<27:26,  4.46s/it]"
     ]
    },
    {
     "name": "stdout",
     "output_type": "stream",
     "text": [
      "Epoch: 630 \n",
      "\b Train Loss: 0.6674426333109538 \n",
      "\b Train Acc: 62.523809523809526 \n",
      "\b Val Loss: 0.6668460965156555 \n",
      "\b Val Acc: 63.233901515151516\n",
      "**************************************************\n"
     ]
    },
    {
     "name": "stderr",
     "output_type": "stream",
     "text": [
      " 63%|██████▎   | 632/1000 [35:03<26:16,  4.28s/it]"
     ]
    },
    {
     "name": "stdout",
     "output_type": "stream",
     "text": [
      "Epoch: 631 \n",
      "\b Train Loss: 0.6673692159425645 \n",
      "\b Train Acc: 62.535714285714285 \n",
      "\b Val Loss: 0.6667671975764361 \n",
      "\b Val Acc: 63.21022727272727\n",
      "**************************************************\n"
     ]
    },
    {
     "name": "stderr",
     "output_type": "stream",
     "text": [
      " 63%|██████▎   | 633/1000 [35:08<25:54,  4.23s/it]"
     ]
    },
    {
     "name": "stdout",
     "output_type": "stream",
     "text": [
      "Epoch: 632 \n",
      "\b Train Loss: 0.6672949859641847 \n",
      "\b Train Acc: 62.54761904761905 \n",
      "\b Val Loss: 0.6666950420899824 \n",
      "\b Val Acc: 63.328598484848484\n",
      "**************************************************\n"
     ]
    },
    {
     "name": "stderr",
     "output_type": "stream",
     "text": [
      " 63%|██████▎   | 634/1000 [35:12<26:02,  4.27s/it]"
     ]
    },
    {
     "name": "stdout",
     "output_type": "stream",
     "text": [
      "Epoch: 633 \n",
      "\b Train Loss: 0.6672229704970405 \n",
      "\b Train Acc: 62.55654761904762 \n",
      "\b Val Loss: 0.6666131349224033 \n",
      "\b Val Acc: 63.39962121212121\n",
      "**************************************************\n"
     ]
    },
    {
     "name": "stderr",
     "output_type": "stream",
     "text": [
      " 64%|██████▎   | 635/1000 [35:16<26:09,  4.30s/it]"
     ]
    },
    {
     "name": "stdout",
     "output_type": "stream",
     "text": [
      "Epoch: 634 \n",
      "\b Train Loss: 0.667148319426037 \n",
      "\b Train Acc: 62.54761904761905 \n",
      "\b Val Loss: 0.6665384656552112 \n",
      "\b Val Acc: 63.42329545454545\n",
      "**************************************************\n"
     ]
    },
    {
     "name": "stderr",
     "output_type": "stream",
     "text": [
      " 64%|██████▎   | 636/1000 [35:20<24:17,  4.00s/it]"
     ]
    },
    {
     "name": "stdout",
     "output_type": "stream",
     "text": [
      "Epoch: 635 \n",
      "\b Train Loss: 0.6670764592148009 \n",
      "\b Train Acc: 62.56845238095238 \n",
      "\b Val Loss: 0.6664650146708344 \n",
      "\b Val Acc: 63.58901515151515\n",
      "**************************************************\n"
     ]
    },
    {
     "name": "stderr",
     "output_type": "stream",
     "text": [
      " 64%|██████▎   | 637/1000 [35:23<23:22,  3.86s/it]"
     ]
    },
    {
     "name": "stdout",
     "output_type": "stream",
     "text": [
      "Epoch: 636 \n",
      "\b Train Loss: 0.667002876486097 \n",
      "\b Train Acc: 62.5625 \n",
      "\b Val Loss: 0.6663777074127486 \n",
      "\b Val Acc: 63.61268939393939\n",
      "**************************************************\n"
     ]
    },
    {
     "name": "stderr",
     "output_type": "stream",
     "text": [
      " 64%|██████▍   | 638/1000 [35:27<23:07,  3.83s/it]"
     ]
    },
    {
     "name": "stdout",
     "output_type": "stream",
     "text": [
      "Epoch: 637 \n",
      "\b Train Loss: 0.666930802095504 \n",
      "\b Train Acc: 62.56845238095238 \n",
      "\b Val Loss: 0.6662945751890992 \n",
      "\b Val Acc: 63.63636363636363\n",
      "**************************************************\n"
     ]
    },
    {
     "name": "stderr",
     "output_type": "stream",
     "text": [
      " 64%|██████▍   | 639/1000 [35:31<23:09,  3.85s/it]"
     ]
    },
    {
     "name": "stdout",
     "output_type": "stream",
     "text": [
      "Epoch: 638 \n",
      "\b Train Loss: 0.6668547088191623 \n",
      "\b Train Acc: 62.592261904761905 \n",
      "\b Val Loss: 0.6662135580272386 \n",
      "\b Val Acc: 63.61268939393939\n",
      "**************************************************\n"
     ]
    },
    {
     "name": "stderr",
     "output_type": "stream",
     "text": [
      " 64%|██████▍   | 640/1000 [35:35<24:40,  4.11s/it]"
     ]
    },
    {
     "name": "stdout",
     "output_type": "stream",
     "text": [
      "Epoch: 639 \n",
      "\b Train Loss: 0.6667775964736938 \n",
      "\b Train Acc: 62.604166666666664 \n",
      "\b Val Loss: 0.6661308069120754 \n",
      "\b Val Acc: 63.683712121212125\n",
      "**************************************************\n"
     ]
    },
    {
     "name": "stderr",
     "output_type": "stream",
     "text": [
      " 64%|██████▍   | 641/1000 [35:39<23:06,  3.86s/it]"
     ]
    },
    {
     "name": "stdout",
     "output_type": "stream",
     "text": [
      "Epoch: 640 \n",
      "\b Train Loss: 0.6667030939601717 \n",
      "\b Train Acc: 62.625 \n",
      "\b Val Loss: 0.6660545260617228 \n",
      "\b Val Acc: 63.77840909090909\n",
      "**************************************************\n"
     ]
    },
    {
     "name": "stderr",
     "output_type": "stream",
     "text": [
      " 64%|██████▍   | 642/1000 [35:43<22:56,  3.85s/it]"
     ]
    },
    {
     "name": "stdout",
     "output_type": "stream",
     "text": [
      "Epoch: 641 \n",
      "\b Train Loss: 0.666630664552961 \n",
      "\b Train Acc: 62.645833333333336 \n",
      "\b Val Loss: 0.6659741704211091 \n",
      "\b Val Acc: 63.82575757575758\n",
      "**************************************************\n"
     ]
    },
    {
     "name": "stderr",
     "output_type": "stream",
     "text": [
      " 64%|██████▍   | 643/1000 [35:46<22:54,  3.85s/it]"
     ]
    },
    {
     "name": "stdout",
     "output_type": "stream",
     "text": [
      "Epoch: 642 \n",
      "\b Train Loss: 0.6665556459767478 \n",
      "\b Train Acc: 62.67857142857143 \n",
      "\b Val Loss: 0.6658909754319624 \n",
      "\b Val Acc: 63.75473484848485\n",
      "**************************************************\n"
     ]
    },
    {
     "name": "stderr",
     "output_type": "stream",
     "text": [
      " 64%|██████▍   | 644/1000 [35:50<21:57,  3.70s/it]"
     ]
    },
    {
     "name": "stdout",
     "output_type": "stream",
     "text": [
      "Epoch: 643 \n",
      "\b Train Loss: 0.6664776127111344 \n",
      "\b Train Acc: 62.69047619047619 \n",
      "\b Val Loss: 0.6658012776663809 \n",
      "\b Val Acc: 63.75473484848485\n",
      "**************************************************\n"
     ]
    },
    {
     "name": "stderr",
     "output_type": "stream",
     "text": [
      " 64%|██████▍   | 645/1000 [35:53<21:40,  3.66s/it]"
     ]
    },
    {
     "name": "stdout",
     "output_type": "stream",
     "text": [
      "Epoch: 644 \n",
      "\b Train Loss: 0.6663980492523738 \n",
      "\b Train Acc: 62.69940476190476 \n",
      "\b Val Loss: 0.6657200853029887 \n",
      "\b Val Acc: 63.75473484848485\n",
      "**************************************************\n"
     ]
    },
    {
     "name": "stderr",
     "output_type": "stream",
     "text": [
      " 65%|██████▍   | 646/1000 [35:57<21:24,  3.63s/it]"
     ]
    },
    {
     "name": "stdout",
     "output_type": "stream",
     "text": [
      "Epoch: 645 \n",
      "\b Train Loss: 0.6663207721142542 \n",
      "\b Train Acc: 62.729166666666664 \n",
      "\b Val Loss: 0.6656404020208301 \n",
      "\b Val Acc: 63.802083333333336\n",
      "**************************************************\n"
     ]
    },
    {
     "name": "stderr",
     "output_type": "stream",
     "text": [
      " 65%|██████▍   | 647/1000 [36:01<21:45,  3.70s/it]"
     ]
    },
    {
     "name": "stdout",
     "output_type": "stream",
     "text": [
      "Epoch: 646 \n",
      "\b Train Loss: 0.6662414872078668 \n",
      "\b Train Acc: 62.73809523809524 \n",
      "\b Val Loss: 0.6655625610640554 \n",
      "\b Val Acc: 63.82575757575758\n",
      "**************************************************\n"
     ]
    },
    {
     "name": "stderr",
     "output_type": "stream",
     "text": [
      " 65%|██████▍   | 648/1000 [36:04<21:25,  3.65s/it]"
     ]
    },
    {
     "name": "stdout",
     "output_type": "stream",
     "text": [
      "Epoch: 647 \n",
      "\b Train Loss: 0.6661637802351089 \n",
      "\b Train Acc: 62.75892857142857 \n",
      "\b Val Loss: 0.6654806525418253 \n",
      "\b Val Acc: 63.84943181818182\n",
      "**************************************************\n"
     ]
    },
    {
     "name": "stderr",
     "output_type": "stream",
     "text": [
      " 65%|██████▍   | 649/1000 [36:08<20:36,  3.52s/it]"
     ]
    },
    {
     "name": "stdout",
     "output_type": "stream",
     "text": [
      "Epoch: 648 \n",
      "\b Train Loss: 0.6660834712073916 \n",
      "\b Train Acc: 62.773809523809526 \n",
      "\b Val Loss: 0.6653981989983356 \n",
      "\b Val Acc: 63.87310606060606\n",
      "**************************************************\n"
     ]
    },
    {
     "name": "stderr",
     "output_type": "stream",
     "text": [
      " 65%|██████▌   | 650/1000 [36:11<19:50,  3.40s/it]"
     ]
    },
    {
     "name": "stdout",
     "output_type": "stream",
     "text": [
      "Epoch: 649 \n",
      "\b Train Loss: 0.6660058680034819 \n",
      "\b Train Acc: 62.80357142857143 \n",
      "\b Val Loss: 0.6653164033636902 \n",
      "\b Val Acc: 63.84943181818182\n",
      "**************************************************\n"
     ]
    },
    {
     "name": "stderr",
     "output_type": "stream",
     "text": [
      " 65%|██████▌   | 651/1000 [36:14<19:45,  3.40s/it]"
     ]
    },
    {
     "name": "stdout",
     "output_type": "stream",
     "text": [
      "Epoch: 650 \n",
      "\b Train Loss: 0.6659256189210074 \n",
      "\b Train Acc: 62.842261904761905 \n",
      "\b Val Loss: 0.6652325346614375 \n",
      "\b Val Acc: 63.896780303030305\n",
      "**************************************************\n"
     ]
    },
    {
     "name": "stderr",
     "output_type": "stream",
     "text": [
      " 65%|██████▌   | 652/1000 [36:18<20:20,  3.51s/it]"
     ]
    },
    {
     "name": "stdout",
     "output_type": "stream",
     "text": [
      "Epoch: 651 \n",
      "\b Train Loss: 0.6658438043367295 \n",
      "\b Train Acc: 62.86309523809524 \n",
      "\b Val Loss: 0.6651458505428198 \n",
      "\b Val Acc: 63.94412878787879\n",
      "**************************************************\n"
     ]
    },
    {
     "name": "stderr",
     "output_type": "stream",
     "text": [
      " 65%|██████▌   | 653/1000 [36:21<20:12,  3.49s/it]"
     ]
    },
    {
     "name": "stdout",
     "output_type": "stream",
     "text": [
      "Epoch: 652 \n",
      "\b Train Loss: 0.6657645404338837 \n",
      "\b Train Acc: 62.88690476190476 \n",
      "\b Val Loss: 0.6650625304742293 \n",
      "\b Val Acc: 64.03882575757575\n",
      "**************************************************\n"
     ]
    },
    {
     "name": "stderr",
     "output_type": "stream",
     "text": [
      " 65%|██████▌   | 654/1000 [36:24<19:16,  3.34s/it]"
     ]
    },
    {
     "name": "stdout",
     "output_type": "stream",
     "text": [
      "Epoch: 653 \n",
      "\b Train Loss: 0.6656813454627991 \n",
      "\b Train Acc: 62.913690476190474 \n",
      "\b Val Loss: 0.6649797703280593 \n",
      "\b Val Acc: 64.08617424242425\n",
      "**************************************************\n"
     ]
    },
    {
     "name": "stderr",
     "output_type": "stream",
     "text": [
      " 66%|██████▌   | 655/1000 [36:27<18:53,  3.29s/it]"
     ]
    },
    {
     "name": "stdout",
     "output_type": "stream",
     "text": [
      "Epoch: 654 \n",
      "\b Train Loss: 0.6655984330744971 \n",
      "\b Train Acc: 62.93452380952381 \n",
      "\b Val Loss: 0.6648994300401572 \n",
      "\b Val Acc: 64.15719696969697\n",
      "**************************************************\n"
     ]
    },
    {
     "name": "stderr",
     "output_type": "stream",
     "text": [
      " 66%|██████▌   | 656/1000 [36:31<18:39,  3.26s/it]"
     ]
    },
    {
     "name": "stdout",
     "output_type": "stream",
     "text": [
      "Epoch: 655 \n",
      "\b Train Loss: 0.6655210511457352 \n",
      "\b Train Acc: 62.961309523809526 \n",
      "\b Val Loss: 0.6648132918458997 \n",
      "\b Val Acc: 64.2282196969697\n",
      "**************************************************\n"
     ]
    },
    {
     "name": "stderr",
     "output_type": "stream",
     "text": [
      " 66%|██████▌   | 657/1000 [36:34<19:04,  3.34s/it]"
     ]
    },
    {
     "name": "stdout",
     "output_type": "stream",
     "text": [
      "Epoch: 656 \n",
      "\b Train Loss: 0.6654405089219412 \n",
      "\b Train Acc: 62.979166666666664 \n",
      "\b Val Loss: 0.6647312546318228 \n",
      "\b Val Acc: 64.2282196969697\n",
      "**************************************************\n"
     ]
    },
    {
     "name": "stderr",
     "output_type": "stream",
     "text": [
      " 66%|██████▌   | 658/1000 [36:37<19:03,  3.34s/it]"
     ]
    },
    {
     "name": "stdout",
     "output_type": "stream",
     "text": [
      "Epoch: 657 \n",
      "\b Train Loss: 0.66535903885251 \n",
      "\b Train Acc: 63.017857142857146 \n",
      "\b Val Loss: 0.6646432966896982 \n",
      "\b Val Acc: 64.25189393939394\n",
      "**************************************************\n"
     ]
    },
    {
     "name": "stderr",
     "output_type": "stream",
     "text": [
      " 66%|██████▌   | 659/1000 [36:41<19:35,  3.45s/it]"
     ]
    },
    {
     "name": "stdout",
     "output_type": "stream",
     "text": [
      "Epoch: 658 \n",
      "\b Train Loss: 0.6652771315120516 \n",
      "\b Train Acc: 63.041666666666664 \n",
      "\b Val Loss: 0.6645605546055418 \n",
      "\b Val Acc: 64.18087121212122\n",
      "**************************************************\n"
     ]
    },
    {
     "name": "stderr",
     "output_type": "stream",
     "text": [
      " 66%|██████▌   | 660/1000 [36:45<20:10,  3.56s/it]"
     ]
    },
    {
     "name": "stdout",
     "output_type": "stream",
     "text": [
      "Epoch: 659 \n",
      "\b Train Loss: 0.6651960295722598 \n",
      "\b Train Acc: 63.0625 \n",
      "\b Val Loss: 0.6644714799794283 \n",
      "\b Val Acc: 64.20454545454545\n",
      "**************************************************\n"
     ]
    },
    {
     "name": "stderr",
     "output_type": "stream",
     "text": [
      " 66%|██████▌   | 661/1000 [36:48<19:25,  3.44s/it]"
     ]
    },
    {
     "name": "stdout",
     "output_type": "stream",
     "text": [
      "Epoch: 660 \n",
      "\b Train Loss: 0.6651100204672132 \n",
      "\b Train Acc: 63.07142857142857 \n",
      "\b Val Loss: 0.6643854438355474 \n",
      "\b Val Acc: 64.20454545454545\n",
      "**************************************************\n"
     ]
    },
    {
     "name": "stderr",
     "output_type": "stream",
     "text": [
      " 66%|██████▌   | 662/1000 [36:52<19:15,  3.42s/it]"
     ]
    },
    {
     "name": "stdout",
     "output_type": "stream",
     "text": [
      "Epoch: 661 \n",
      "\b Train Loss: 0.6650264328434354 \n",
      "\b Train Acc: 63.092261904761905 \n",
      "\b Val Loss: 0.6642911980549494 \n",
      "\b Val Acc: 64.25189393939394\n",
      "**************************************************\n"
     ]
    },
    {
     "name": "stderr",
     "output_type": "stream",
     "text": [
      " 66%|██████▋   | 663/1000 [36:55<19:16,  3.43s/it]"
     ]
    },
    {
     "name": "stdout",
     "output_type": "stream",
     "text": [
      "Epoch: 662 \n",
      "\b Train Loss: 0.6649443652516319 \n",
      "\b Train Acc: 63.11011904761905 \n",
      "\b Val Loss: 0.6642071153178359 \n",
      "\b Val Acc: 64.20454545454545\n",
      "**************************************************\n"
     ]
    },
    {
     "name": "stderr",
     "output_type": "stream",
     "text": [
      " 66%|██████▋   | 664/1000 [37:00<21:05,  3.77s/it]"
     ]
    },
    {
     "name": "stdout",
     "output_type": "stream",
     "text": [
      "Epoch: 663 \n",
      "\b Train Loss: 0.664861306803567 \n",
      "\b Train Acc: 63.148809523809526 \n",
      "\b Val Loss: 0.6641245073441303 \n",
      "\b Val Acc: 64.18087121212122\n",
      "**************************************************\n"
     ]
    },
    {
     "name": "stderr",
     "output_type": "stream",
     "text": [
      " 66%|██████▋   | 665/1000 [37:04<21:43,  3.89s/it]"
     ]
    },
    {
     "name": "stdout",
     "output_type": "stream",
     "text": [
      "Epoch: 664 \n",
      "\b Train Loss: 0.6647767092500414 \n",
      "\b Train Acc: 63.142857142857146 \n",
      "\b Val Loss: 0.664052527962309 \n",
      "\b Val Acc: 64.13352272727273\n",
      "**************************************************\n"
     ]
    },
    {
     "name": "stderr",
     "output_type": "stream",
     "text": [
      " 67%|██████▋   | 666/1000 [37:08<23:05,  4.15s/it]"
     ]
    },
    {
     "name": "stdout",
     "output_type": "stream",
     "text": [
      "Epoch: 665 \n",
      "\b Train Loss: 0.6646926178818657 \n",
      "\b Train Acc: 63.125 \n",
      "\b Val Loss: 0.66397996608055 \n",
      "\b Val Acc: 64.32291666666667\n",
      "**************************************************\n"
     ]
    },
    {
     "name": "stderr",
     "output_type": "stream",
     "text": [
      " 67%|██████▋   | 667/1000 [37:13<23:23,  4.21s/it]"
     ]
    },
    {
     "name": "stdout",
     "output_type": "stream",
     "text": [
      "Epoch: 666 \n",
      "\b Train Loss: 0.6646102731000809 \n",
      "\b Train Acc: 63.13988095238095 \n",
      "\b Val Loss: 0.6639053758346674 \n",
      "\b Val Acc: 64.37026515151516\n",
      "**************************************************\n"
     ]
    },
    {
     "name": "stderr",
     "output_type": "stream",
     "text": [
      " 67%|██████▋   | 668/1000 [37:16<21:38,  3.91s/it]"
     ]
    },
    {
     "name": "stdout",
     "output_type": "stream",
     "text": [
      "Epoch: 667 \n",
      "\b Train Loss: 0.6645272222019377 \n",
      "\b Train Acc: 63.17261904761905 \n",
      "\b Val Loss: 0.663825688940106 \n",
      "\b Val Acc: 64.37026515151516\n",
      "**************************************************\n"
     ]
    },
    {
     "name": "stderr",
     "output_type": "stream",
     "text": [
      " 67%|██████▋   | 669/1000 [37:19<20:07,  3.65s/it]"
     ]
    },
    {
     "name": "stdout",
     "output_type": "stream",
     "text": [
      "Epoch: 668 \n",
      "\b Train Loss: 0.6644432392006828 \n",
      "\b Train Acc: 63.19642857142857 \n",
      "\b Val Loss: 0.6637409022360137 \n",
      "\b Val Acc: 64.3465909090909\n",
      "**************************************************\n"
     ]
    },
    {
     "name": "stderr",
     "output_type": "stream",
     "text": [
      " 67%|██████▋   | 670/1000 [37:22<18:52,  3.43s/it]"
     ]
    },
    {
     "name": "stdout",
     "output_type": "stream",
     "text": [
      "Epoch: 669 \n",
      "\b Train Loss: 0.6643585143770491 \n",
      "\b Train Acc: 63.223214285714285 \n",
      "\b Val Loss: 0.6636634879943096 \n",
      "\b Val Acc: 64.37026515151516\n",
      "**************************************************\n"
     ]
    },
    {
     "name": "stderr",
     "output_type": "stream",
     "text": [
      " 67%|██████▋   | 671/1000 [37:26<19:05,  3.48s/it]"
     ]
    },
    {
     "name": "stdout",
     "output_type": "stream",
     "text": [
      "Epoch: 670 \n",
      "\b Train Loss: 0.6642771968955086 \n",
      "\b Train Acc: 63.24702380952381 \n",
      "\b Val Loss: 0.6635801457997524 \n",
      "\b Val Acc: 64.37026515151516\n",
      "**************************************************\n"
     ]
    },
    {
     "name": "stderr",
     "output_type": "stream",
     "text": [
      " 67%|██████▋   | 672/1000 [37:30<20:15,  3.71s/it]"
     ]
    },
    {
     "name": "stdout",
     "output_type": "stream",
     "text": [
      "Epoch: 671 \n",
      "\b Train Loss: 0.664192076751164 \n",
      "\b Train Acc: 63.26488095238095 \n",
      "\b Val Loss: 0.6635059660131281 \n",
      "\b Val Acc: 64.37026515151516\n",
      "**************************************************\n"
     ]
    },
    {
     "name": "stderr",
     "output_type": "stream",
     "text": [
      " 67%|██████▋   | 673/1000 [37:33<19:30,  3.58s/it]"
     ]
    },
    {
     "name": "stdout",
     "output_type": "stream",
     "text": [
      "Epoch: 672 \n",
      "\b Train Loss: 0.6641087069965544 \n",
      "\b Train Acc: 63.279761904761905 \n",
      "\b Val Loss: 0.6634456352754072 \n",
      "\b Val Acc: 64.44128787878788\n",
      "**************************************************\n"
     ]
    },
    {
     "name": "stderr",
     "output_type": "stream",
     "text": [
      " 67%|██████▋   | 674/1000 [37:36<18:10,  3.34s/it]"
     ]
    },
    {
     "name": "stdout",
     "output_type": "stream",
     "text": [
      "Epoch: 673 \n",
      "\b Train Loss: 0.664028720515115 \n",
      "\b Train Acc: 63.29761904761905 \n",
      "\b Val Loss: 0.6633682630278848 \n",
      "\b Val Acc: 64.46496212121212\n",
      "**************************************************\n"
     ]
    },
    {
     "name": "stderr",
     "output_type": "stream",
     "text": [
      " 68%|██████▊   | 675/1000 [37:40<18:56,  3.50s/it]"
     ]
    },
    {
     "name": "stdout",
     "output_type": "stream",
     "text": [
      "Epoch: 674 \n",
      "\b Train Loss: 0.6639442803746178 \n",
      "\b Train Acc: 63.32142857142857 \n",
      "\b Val Loss: 0.6632930708653999 \n",
      "\b Val Acc: 64.48863636363636\n",
      "**************************************************\n"
     ]
    },
    {
     "name": "stderr",
     "output_type": "stream",
     "text": [
      " 68%|██████▊   | 676/1000 [37:44<20:14,  3.75s/it]"
     ]
    },
    {
     "name": "stdout",
     "output_type": "stream",
     "text": [
      "Epoch: 675 \n",
      "\b Train Loss: 0.6638590604918344 \n",
      "\b Train Acc: 63.330357142857146 \n",
      "\b Val Loss: 0.6632273648724412 \n",
      "\b Val Acc: 64.48863636363636\n",
      "**************************************************\n"
     ]
    },
    {
     "name": "stderr",
     "output_type": "stream",
     "text": [
      " 68%|██████▊   | 677/1000 [37:48<19:48,  3.68s/it]"
     ]
    },
    {
     "name": "stdout",
     "output_type": "stream",
     "text": [
      "Epoch: 676 \n",
      "\b Train Loss: 0.6637737655071985 \n",
      "\b Train Acc: 63.36607142857143 \n",
      "\b Val Loss: 0.6631475470282815 \n",
      "\b Val Acc: 64.48863636363636\n",
      "**************************************************\n"
     ]
    },
    {
     "name": "stderr",
     "output_type": "stream",
     "text": [
      " 68%|██████▊   | 678/1000 [37:51<19:16,  3.59s/it]"
     ]
    },
    {
     "name": "stdout",
     "output_type": "stream",
     "text": [
      "Epoch: 677 \n",
      "\b Train Loss: 0.6636877271674928 \n",
      "\b Train Acc: 63.398809523809526 \n",
      "\b Val Loss: 0.6630711410984849 \n",
      "\b Val Acc: 64.48863636363636\n",
      "**************************************************\n"
     ]
    },
    {
     "name": "stderr",
     "output_type": "stream",
     "text": [
      " 68%|██████▊   | 679/1000 [37:55<19:07,  3.57s/it]"
     ]
    },
    {
     "name": "stdout",
     "output_type": "stream",
     "text": [
      "Epoch: 678 \n",
      "\b Train Loss: 0.6636005393664042 \n",
      "\b Train Acc: 63.410714285714285 \n",
      "\b Val Loss: 0.6629907077912128 \n",
      "\b Val Acc: 64.5596590909091\n",
      "**************************************************\n"
     ]
    },
    {
     "name": "stderr",
     "output_type": "stream",
     "text": [
      " 68%|██████▊   | 680/1000 [37:58<19:42,  3.70s/it]"
     ]
    },
    {
     "name": "stdout",
     "output_type": "stream",
     "text": [
      "Epoch: 679 \n",
      "\b Train Loss: 0.6635158249877748 \n",
      "\b Train Acc: 63.43452380952381 \n",
      "\b Val Loss: 0.6629178266633641 \n",
      "\b Val Acc: 64.48863636363636\n",
      "**************************************************\n"
     ]
    },
    {
     "name": "stderr",
     "output_type": "stream",
     "text": [
      " 68%|██████▊   | 681/1000 [38:02<19:06,  3.59s/it]"
     ]
    },
    {
     "name": "stdout",
     "output_type": "stream",
     "text": [
      "Epoch: 680 \n",
      "\b Train Loss: 0.6634274653593699 \n",
      "\b Train Acc: 63.44345238095238 \n",
      "\b Val Loss: 0.6628456598881519 \n",
      "\b Val Acc: 64.51231060606061\n",
      "**************************************************\n"
     ]
    },
    {
     "name": "stderr",
     "output_type": "stream",
     "text": [
      " 68%|██████▊   | 682/1000 [38:05<18:56,  3.57s/it]"
     ]
    },
    {
     "name": "stdout",
     "output_type": "stream",
     "text": [
      "Epoch: 681 \n",
      "\b Train Loss: 0.6633418293226333 \n",
      "\b Train Acc: 63.473214285714285 \n",
      "\b Val Loss: 0.6627687897646066 \n",
      "\b Val Acc: 64.53598484848484\n",
      "**************************************************\n"
     ]
    },
    {
     "name": "stderr",
     "output_type": "stream",
     "text": [
      " 68%|██████▊   | 683/1000 [38:08<17:40,  3.34s/it]"
     ]
    },
    {
     "name": "stdout",
     "output_type": "stream",
     "text": [
      "Epoch: 682 \n",
      "\b Train Loss: 0.6632528868743351 \n",
      "\b Train Acc: 63.48809523809524 \n",
      "\b Val Loss: 0.6626937127474583 \n",
      "\b Val Acc: 64.48863636363636\n",
      "**************************************************\n"
     ]
    },
    {
     "name": "stderr",
     "output_type": "stream",
     "text": [
      " 68%|██████▊   | 684/1000 [38:11<16:43,  3.17s/it]"
     ]
    },
    {
     "name": "stdout",
     "output_type": "stream",
     "text": [
      "Epoch: 683 \n",
      "\b Train Loss: 0.6631680514698937 \n",
      "\b Train Acc: 63.523809523809526 \n",
      "\b Val Loss: 0.6626099867351127 \n",
      "\b Val Acc: 64.46496212121212\n",
      "**************************************************\n"
     ]
    },
    {
     "name": "stderr",
     "output_type": "stream",
     "text": [
      " 68%|██████▊   | 685/1000 [38:14<16:35,  3.16s/it]"
     ]
    },
    {
     "name": "stdout",
     "output_type": "stream",
     "text": [
      "Epoch: 684 \n",
      "\b Train Loss: 0.6630802591074081 \n",
      "\b Train Acc: 63.526785714285715 \n",
      "\b Val Loss: 0.6625319588364977 \n",
      "\b Val Acc: 64.41761363636364\n",
      "**************************************************\n"
     ]
    },
    {
     "name": "stderr",
     "output_type": "stream",
     "text": [
      " 69%|██████▊   | 686/1000 [38:18<17:37,  3.37s/it]"
     ]
    },
    {
     "name": "stdout",
     "output_type": "stream",
     "text": [
      "Epoch: 685 \n",
      "\b Train Loss: 0.6629917856057485 \n",
      "\b Train Acc: 63.54761904761905 \n",
      "\b Val Loss: 0.6624496710119825 \n",
      "\b Val Acc: 64.53598484848484\n",
      "**************************************************\n"
     ]
    },
    {
     "name": "stderr",
     "output_type": "stream",
     "text": [
      " 69%|██████▊   | 687/1000 [38:22<17:53,  3.43s/it]"
     ]
    },
    {
     "name": "stdout",
     "output_type": "stream",
     "text": [
      "Epoch: 686 \n",
      "\b Train Loss: 0.6629039613405864 \n",
      "\b Train Acc: 63.5625 \n",
      "\b Val Loss: 0.6623715175823732 \n",
      "\b Val Acc: 64.5596590909091\n",
      "**************************************************\n"
     ]
    },
    {
     "name": "stderr",
     "output_type": "stream",
     "text": [
      " 69%|██████▉   | 688/1000 [38:25<17:26,  3.35s/it]"
     ]
    },
    {
     "name": "stdout",
     "output_type": "stream",
     "text": [
      "Epoch: 687 \n",
      "\b Train Loss: 0.6628183593068804 \n",
      "\b Train Acc: 63.589285714285715 \n",
      "\b Val Loss: 0.662291706963019 \n",
      "\b Val Acc: 64.51231060606061\n",
      "**************************************************\n"
     ]
    },
    {
     "name": "stderr",
     "output_type": "stream",
     "text": [
      " 69%|██████▉   | 689/1000 [38:28<17:56,  3.46s/it]"
     ]
    },
    {
     "name": "stdout",
     "output_type": "stream",
     "text": [
      "Epoch: 688 \n",
      "\b Train Loss: 0.6627269760767619 \n",
      "\b Train Acc: 63.61011904761905 \n",
      "\b Val Loss: 0.6622054342067603 \n",
      "\b Val Acc: 64.53598484848484\n",
      "**************************************************\n"
     ]
    },
    {
     "name": "stderr",
     "output_type": "stream",
     "text": [
      " 69%|██████▉   | 690/1000 [38:32<18:32,  3.59s/it]"
     ]
    },
    {
     "name": "stdout",
     "output_type": "stream",
     "text": [
      "Epoch: 689 \n",
      "\b Train Loss: 0.6626377390679858 \n",
      "\b Train Acc: 63.63095238095238 \n",
      "\b Val Loss: 0.6621199439872395 \n",
      "\b Val Acc: 64.58333333333333\n",
      "**************************************************\n"
     ]
    },
    {
     "name": "stderr",
     "output_type": "stream",
     "text": [
      " 69%|██████▉   | 691/1000 [38:36<18:48,  3.65s/it]"
     ]
    },
    {
     "name": "stdout",
     "output_type": "stream",
     "text": [
      "Epoch: 690 \n",
      "\b Train Loss: 0.6625497953664689 \n",
      "\b Train Acc: 63.654761904761905 \n",
      "\b Val Loss: 0.6620285276210669 \n",
      "\b Val Acc: 64.5596590909091\n",
      "**************************************************\n"
     ]
    },
    {
     "name": "stderr",
     "output_type": "stream",
     "text": [
      " 69%|██████▉   | 692/1000 [38:40<18:30,  3.61s/it]"
     ]
    },
    {
     "name": "stdout",
     "output_type": "stream",
     "text": [
      "Epoch: 691 \n",
      "\b Train Loss: 0.6624553717318036 \n",
      "\b Train Acc: 63.67857142857143 \n",
      "\b Val Loss: 0.6619563549757004 \n",
      "\b Val Acc: 64.5596590909091\n",
      "**************************************************\n"
     ]
    },
    {
     "name": "stderr",
     "output_type": "stream",
     "text": [
      " 69%|██████▉   | 693/1000 [38:43<18:25,  3.60s/it]"
     ]
    },
    {
     "name": "stdout",
     "output_type": "stream",
     "text": [
      "Epoch: 692 \n",
      "\b Train Loss: 0.6623656611783164 \n",
      "\b Train Acc: 63.717261904761905 \n",
      "\b Val Loss: 0.6618619294780673 \n",
      "\b Val Acc: 64.51231060606061\n",
      "**************************************************\n"
     ]
    },
    {
     "name": "stderr",
     "output_type": "stream",
     "text": [
      " 69%|██████▉   | 694/1000 [38:47<19:20,  3.79s/it]"
     ]
    },
    {
     "name": "stdout",
     "output_type": "stream",
     "text": [
      "Epoch: 693 \n",
      "\b Train Loss: 0.6622722845418113 \n",
      "\b Train Acc: 63.75297619047619 \n",
      "\b Val Loss: 0.6617710531661005 \n",
      "\b Val Acc: 64.53598484848484\n",
      "**************************************************\n"
     ]
    },
    {
     "name": "stderr",
     "output_type": "stream",
     "text": [
      " 70%|██████▉   | 695/1000 [38:51<19:32,  3.85s/it]"
     ]
    },
    {
     "name": "stdout",
     "output_type": "stream",
     "text": [
      "Epoch: 694 \n",
      "\b Train Loss: 0.6621772542453948 \n",
      "\b Train Acc: 63.770833333333336 \n",
      "\b Val Loss: 0.6616987346699743 \n",
      "\b Val Acc: 64.53598484848484\n",
      "**************************************************\n"
     ]
    },
    {
     "name": "stderr",
     "output_type": "stream",
     "text": [
      " 70%|██████▉   | 696/1000 [38:55<19:32,  3.86s/it]"
     ]
    },
    {
     "name": "stdout",
     "output_type": "stream",
     "text": [
      "Epoch: 695 \n",
      "\b Train Loss: 0.6620819947265444 \n",
      "\b Train Acc: 63.776785714285715 \n",
      "\b Val Loss: 0.6616157121730574 \n",
      "\b Val Acc: 64.48863636363636\n",
      "**************************************************\n"
     ]
    },
    {
     "name": "stderr",
     "output_type": "stream",
     "text": [
      " 70%|██████▉   | 697/1000 [38:59<19:10,  3.80s/it]"
     ]
    },
    {
     "name": "stdout",
     "output_type": "stream",
     "text": [
      "Epoch: 696 \n",
      "\b Train Loss: 0.6619903266429901 \n",
      "\b Train Acc: 63.794642857142854 \n",
      "\b Val Loss: 0.6615357945362726 \n",
      "\b Val Acc: 64.48863636363636\n",
      "**************************************************\n"
     ]
    },
    {
     "name": "stderr",
     "output_type": "stream",
     "text": [
      " 70%|██████▉   | 698/1000 [39:02<17:50,  3.54s/it]"
     ]
    },
    {
     "name": "stdout",
     "output_type": "stream",
     "text": [
      "Epoch: 697 \n",
      "\b Train Loss: 0.6618975840296064 \n",
      "\b Train Acc: 63.81845238095238 \n",
      "\b Val Loss: 0.6614523101033587 \n",
      "\b Val Acc: 64.51231060606061\n",
      "**************************************************\n"
     ]
    },
    {
     "name": "stderr",
     "output_type": "stream",
     "text": [
      " 70%|██████▉   | 699/1000 [39:05<17:50,  3.56s/it]"
     ]
    },
    {
     "name": "stdout",
     "output_type": "stream",
     "text": [
      "Epoch: 698 \n",
      "\b Train Loss: 0.6618031887781053 \n",
      "\b Train Acc: 63.875 \n",
      "\b Val Loss: 0.6613659736785021 \n",
      "\b Val Acc: 64.5596590909091\n",
      "**************************************************\n"
     ]
    },
    {
     "name": "stderr",
     "output_type": "stream",
     "text": [
      " 70%|███████   | 700/1000 [39:08<16:56,  3.39s/it]"
     ]
    },
    {
     "name": "stdout",
     "output_type": "stream",
     "text": [
      "Epoch: 699 \n",
      "\b Train Loss: 0.6617099950427101 \n",
      "\b Train Acc: 63.93154761904762 \n",
      "\b Val Loss: 0.6612761431571209 \n",
      "\b Val Acc: 64.65435606060606\n",
      "**************************************************\n"
     ]
    },
    {
     "name": "stderr",
     "output_type": "stream",
     "text": [
      " 70%|███████   | 701/1000 [39:11<16:15,  3.26s/it]"
     ]
    },
    {
     "name": "stdout",
     "output_type": "stream",
     "text": [
      "Epoch: 700 \n",
      "\b Train Loss: 0.6616108036041259 \n",
      "\b Train Acc: 63.973214285714285 \n",
      "\b Val Loss: 0.6612082475965674 \n",
      "\b Val Acc: 64.58333333333333\n",
      "**************************************************\n"
     ]
    },
    {
     "name": "stderr",
     "output_type": "stream",
     "text": [
      " 70%|███████   | 702/1000 [39:15<16:21,  3.29s/it]"
     ]
    },
    {
     "name": "stdout",
     "output_type": "stream",
     "text": [
      "Epoch: 701 \n",
      "\b Train Loss: 0.6615137348856245 \n",
      "\b Train Acc: 64.00892857142857 \n",
      "\b Val Loss: 0.6611316176978025 \n",
      "\b Val Acc: 64.63068181818181\n",
      "**************************************************\n"
     ]
    },
    {
     "name": "stderr",
     "output_type": "stream",
     "text": [
      " 70%|███████   | 703/1000 [39:19<17:06,  3.46s/it]"
     ]
    },
    {
     "name": "stdout",
     "output_type": "stream",
     "text": [
      "Epoch: 702 \n",
      "\b Train Loss: 0.661415159532002 \n",
      "\b Train Acc: 64.03571428571429 \n",
      "\b Val Loss: 0.6610610494107911 \n",
      "\b Val Acc: 64.58333333333333\n",
      "**************************************************\n"
     ]
    },
    {
     "name": "stderr",
     "output_type": "stream",
     "text": [
      " 70%|███████   | 704/1000 [39:23<18:19,  3.72s/it]"
     ]
    },
    {
     "name": "stdout",
     "output_type": "stream",
     "text": [
      "Epoch: 703 \n",
      "\b Train Loss: 0.6613180947303772 \n",
      "\b Train Acc: 64.08333333333333 \n",
      "\b Val Loss: 0.6609785949642007 \n",
      "\b Val Acc: 64.58333333333333\n",
      "**************************************************\n"
     ]
    },
    {
     "name": "stderr",
     "output_type": "stream",
     "text": [
      " 70%|███████   | 705/1000 [39:27<19:25,  3.95s/it]"
     ]
    },
    {
     "name": "stdout",
     "output_type": "stream",
     "text": [
      "Epoch: 704 \n",
      "\b Train Loss: 0.6612180386838459 \n",
      "\b Train Acc: 64.11607142857143 \n",
      "\b Val Loss: 0.6609017289046085 \n",
      "\b Val Acc: 64.63068181818181\n",
      "**************************************************\n"
     ]
    },
    {
     "name": "stderr",
     "output_type": "stream",
     "text": [
      " 71%|███████   | 706/1000 [39:32<20:01,  4.09s/it]"
     ]
    },
    {
     "name": "stdout",
     "output_type": "stream",
     "text": [
      "Epoch: 705 \n",
      "\b Train Loss: 0.6611201691059839 \n",
      "\b Train Acc: 64.1577380952381 \n",
      "\b Val Loss: 0.6608179599949808 \n",
      "\b Val Acc: 64.70170454545455\n",
      "**************************************************\n"
     ]
    },
    {
     "name": "stderr",
     "output_type": "stream",
     "text": [
      " 71%|███████   | 707/1000 [39:36<19:44,  4.04s/it]"
     ]
    },
    {
     "name": "stdout",
     "output_type": "stream",
     "text": [
      "Epoch: 706 \n",
      "\b Train Loss: 0.6610208658944993 \n",
      "\b Train Acc: 64.19642857142857 \n",
      "\b Val Loss: 0.660737516302051 \n",
      "\b Val Acc: 64.86742424242425\n",
      "**************************************************\n"
     ]
    },
    {
     "name": "stderr",
     "output_type": "stream",
     "text": [
      " 71%|███████   | 708/1000 [39:40<19:48,  4.07s/it]"
     ]
    },
    {
     "name": "stdout",
     "output_type": "stream",
     "text": [
      "Epoch: 707 \n",
      "\b Train Loss: 0.6609180969851357 \n",
      "\b Train Acc: 64.24702380952381 \n",
      "\b Val Loss: 0.6606502794858181 \n",
      "\b Val Acc: 64.89109848484848\n",
      "**************************************************\n"
     ]
    },
    {
     "name": "stderr",
     "output_type": "stream",
     "text": [
      " 71%|███████   | 709/1000 [39:44<19:34,  4.03s/it]"
     ]
    },
    {
     "name": "stdout",
     "output_type": "stream",
     "text": [
      "Epoch: 708 \n",
      "\b Train Loss: 0.660812801406497 \n",
      "\b Train Acc: 64.28571428571429 \n",
      "\b Val Loss: 0.6605734734824209 \n",
      "\b Val Acc: 64.91477272727273\n",
      "**************************************************\n"
     ]
    },
    {
     "name": "stderr",
     "output_type": "stream",
     "text": [
      " 71%|███████   | 710/1000 [39:48<18:56,  3.92s/it]"
     ]
    },
    {
     "name": "stdout",
     "output_type": "stream",
     "text": [
      "Epoch: 709 \n",
      "\b Train Loss: 0.6607084803354173 \n",
      "\b Train Acc: 64.30059523809524 \n",
      "\b Val Loss: 0.6604978844071879 \n",
      "\b Val Acc: 64.91477272727273\n",
      "**************************************************\n"
     ]
    },
    {
     "name": "stderr",
     "output_type": "stream",
     "text": [
      " 71%|███████   | 711/1000 [39:51<18:27,  3.83s/it]"
     ]
    },
    {
     "name": "stdout",
     "output_type": "stream",
     "text": [
      "Epoch: 710 \n",
      "\b Train Loss: 0.6606052247115544 \n",
      "\b Train Acc: 64.31547619047619 \n",
      "\b Val Loss: 0.6604206173708944 \n",
      "\b Val Acc: 64.93844696969697\n",
      "**************************************************\n"
     ]
    },
    {
     "name": "stderr",
     "output_type": "stream",
     "text": [
      " 71%|███████   | 712/1000 [39:55<18:32,  3.86s/it]"
     ]
    },
    {
     "name": "stdout",
     "output_type": "stream",
     "text": [
      "Epoch: 711 \n",
      "\b Train Loss: 0.6604996542703537 \n",
      "\b Train Acc: 64.3452380952381 \n",
      "\b Val Loss: 0.660341974009167 \n",
      "\b Val Acc: 64.96212121212122\n",
      "**************************************************\n"
     ]
    },
    {
     "name": "stderr",
     "output_type": "stream",
     "text": [
      " 71%|███████▏  | 713/1000 [39:58<17:29,  3.66s/it]"
     ]
    },
    {
     "name": "stdout",
     "output_type": "stream",
     "text": [
      "Epoch: 712 \n",
      "\b Train Loss: 0.6603939746107373 \n",
      "\b Train Acc: 64.36309523809524 \n",
      "\b Val Loss: 0.6602651571685617 \n",
      "\b Val Acc: 64.96212121212122\n",
      "**************************************************\n"
     ]
    },
    {
     "name": "stderr",
     "output_type": "stream",
     "text": [
      " 71%|███████▏  | 714/1000 [40:02<17:21,  3.64s/it]"
     ]
    },
    {
     "name": "stdout",
     "output_type": "stream",
     "text": [
      "Epoch: 713 \n",
      "\b Train Loss: 0.6602892888727643 \n",
      "\b Train Acc: 64.39583333333333 \n",
      "\b Val Loss: 0.6601831926540895 \n",
      "\b Val Acc: 64.98579545454545\n",
      "**************************************************\n"
     ]
    },
    {
     "name": "stderr",
     "output_type": "stream",
     "text": [
      " 72%|███████▏  | 715/1000 [40:05<17:09,  3.61s/it]"
     ]
    },
    {
     "name": "stdout",
     "output_type": "stream",
     "text": [
      "Epoch: 714 \n",
      "\b Train Loss: 0.6601829428899856 \n",
      "\b Train Acc: 64.42261904761905 \n",
      "\b Val Loss: 0.6600910334876089 \n",
      "\b Val Acc: 65.0094696969697\n",
      "**************************************************\n"
     ]
    },
    {
     "name": "stderr",
     "output_type": "stream",
     "text": [
      " 72%|███████▏  | 716/1000 [40:08<16:04,  3.40s/it]"
     ]
    },
    {
     "name": "stdout",
     "output_type": "stream",
     "text": [
      "Epoch: 715 \n",
      "\b Train Loss: 0.6600775436560313 \n",
      "\b Train Acc: 64.44345238095238 \n",
      "\b Val Loss: 0.6600069069501125 \n",
      "\b Val Acc: 64.93844696969697\n",
      "**************************************************\n"
     ]
    },
    {
     "name": "stderr",
     "output_type": "stream",
     "text": [
      " 72%|███████▏  | 717/1000 [40:13<17:13,  3.65s/it]"
     ]
    },
    {
     "name": "stdout",
     "output_type": "stream",
     "text": [
      "Epoch: 716 \n",
      "\b Train Loss: 0.659970851966313 \n",
      "\b Train Acc: 64.44940476190476 \n",
      "\b Val Loss: 0.6599233182090701 \n",
      "\b Val Acc: 65.0094696969697\n",
      "**************************************************\n"
     ]
    },
    {
     "name": "stderr",
     "output_type": "stream",
     "text": [
      " 72%|███████▏  | 718/1000 [40:16<17:27,  3.71s/it]"
     ]
    },
    {
     "name": "stdout",
     "output_type": "stream",
     "text": [
      "Epoch: 717 \n",
      "\b Train Loss: 0.6598670525210244 \n",
      "\b Train Acc: 64.49404761904762 \n",
      "\b Val Loss: 0.6598352862126899 \n",
      "\b Val Acc: 64.93844696969697\n",
      "**************************************************\n"
     ]
    },
    {
     "name": "stderr",
     "output_type": "stream",
     "text": [
      " 72%|███████▏  | 719/1000 [40:21<18:03,  3.86s/it]"
     ]
    },
    {
     "name": "stdout",
     "output_type": "stream",
     "text": [
      "Epoch: 718 \n",
      "\b Train Loss: 0.6597571660791125 \n",
      "\b Train Acc: 64.51785714285714 \n",
      "\b Val Loss: 0.6597442635984132 \n",
      "\b Val Acc: 64.86742424242425\n",
      "**************************************************\n"
     ]
    },
    {
     "name": "stderr",
     "output_type": "stream",
     "text": [
      " 72%|███████▏  | 720/1000 [40:25<18:33,  3.98s/it]"
     ]
    },
    {
     "name": "stdout",
     "output_type": "stream",
     "text": [
      "Epoch: 719 \n",
      "\b Train Loss: 0.6596492331368583 \n",
      "\b Train Acc: 64.5625 \n",
      "\b Val Loss: 0.6596557967590563 \n",
      "\b Val Acc: 64.89109848484848\n",
      "**************************************************\n"
     ]
    },
    {
     "name": "stderr",
     "output_type": "stream",
     "text": [
      " 72%|███████▏  | 721/1000 [40:29<18:43,  4.03s/it]"
     ]
    },
    {
     "name": "stdout",
     "output_type": "stream",
     "text": [
      "Epoch: 720 \n",
      "\b Train Loss: 0.6595431408428011 \n",
      "\b Train Acc: 64.5922619047619 \n",
      "\b Val Loss: 0.6595652324683738 \n",
      "\b Val Acc: 64.79640151515152\n",
      "**************************************************\n"
     ]
    },
    {
     "name": "stderr",
     "output_type": "stream",
     "text": [
      " 72%|███████▏  | 722/1000 [40:33<19:11,  4.14s/it]"
     ]
    },
    {
     "name": "stdout",
     "output_type": "stream",
     "text": [
      "Epoch: 721 \n",
      "\b Train Loss: 0.6594323055517106 \n",
      "\b Train Acc: 64.61011904761905 \n",
      "\b Val Loss: 0.6594847910331957 \n",
      "\b Val Acc: 64.79640151515152\n",
      "**************************************************\n"
     ]
    },
    {
     "name": "stderr",
     "output_type": "stream",
     "text": [
      " 72%|███████▏  | 723/1000 [40:38<19:25,  4.21s/it]"
     ]
    },
    {
     "name": "stdout",
     "output_type": "stream",
     "text": [
      "Epoch: 722 \n",
      "\b Train Loss: 0.6593268723714919 \n",
      "\b Train Acc: 64.63095238095238 \n",
      "\b Val Loss: 0.6594002671314009 \n",
      "\b Val Acc: 64.72537878787878\n",
      "**************************************************\n"
     ]
    },
    {
     "name": "stderr",
     "output_type": "stream",
     "text": [
      " 72%|███████▏  | 724/1000 [40:42<19:23,  4.21s/it]"
     ]
    },
    {
     "name": "stdout",
     "output_type": "stream",
     "text": [
      "Epoch: 723 \n",
      "\b Train Loss: 0.6592200968379066 \n",
      "\b Train Acc: 64.6547619047619 \n",
      "\b Val Loss: 0.659313649390683 \n",
      "\b Val Acc: 64.70170454545455\n",
      "**************************************************\n"
     ]
    },
    {
     "name": "stderr",
     "output_type": "stream",
     "text": [
      " 72%|███████▎  | 725/1000 [40:46<19:11,  4.19s/it]"
     ]
    },
    {
     "name": "stdout",
     "output_type": "stream",
     "text": [
      "Epoch: 724 \n",
      "\b Train Loss: 0.659113564491272 \n",
      "\b Train Acc: 64.67857142857143 \n",
      "\b Val Loss: 0.6592229433131941 \n",
      "\b Val Acc: 64.70170454545455\n",
      "**************************************************\n"
     ]
    },
    {
     "name": "stderr",
     "output_type": "stream",
     "text": [
      " 73%|███████▎  | 726/1000 [40:50<19:11,  4.20s/it]"
     ]
    },
    {
     "name": "stdout",
     "output_type": "stream",
     "text": [
      "Epoch: 725 \n",
      "\b Train Loss: 0.6590044577916463 \n",
      "\b Train Acc: 64.69345238095238 \n",
      "\b Val Loss: 0.6591341405203848 \n",
      "\b Val Acc: 64.72537878787878\n",
      "**************************************************\n"
     ]
    },
    {
     "name": "stderr",
     "output_type": "stream",
     "text": [
      " 73%|███████▎  | 727/1000 [40:54<18:21,  4.04s/it]"
     ]
    },
    {
     "name": "stdout",
     "output_type": "stream",
     "text": [
      "Epoch: 726 \n",
      "\b Train Loss: 0.6588976593812307 \n",
      "\b Train Acc: 64.72619047619048 \n",
      "\b Val Loss: 0.6590441275726665 \n",
      "\b Val Acc: 64.74905303030303\n",
      "**************************************************\n"
     ]
    },
    {
     "name": "stderr",
     "output_type": "stream",
     "text": [
      " 73%|███████▎  | 728/1000 [40:59<18:54,  4.17s/it]"
     ]
    },
    {
     "name": "stdout",
     "output_type": "stream",
     "text": [
      "Epoch: 727 \n",
      "\b Train Loss: 0.6587892028263637 \n",
      "\b Train Acc: 64.70238095238095 \n",
      "\b Val Loss: 0.6589576809695272 \n",
      "\b Val Acc: 64.70170454545455\n",
      "**************************************************\n"
     ]
    },
    {
     "name": "stderr",
     "output_type": "stream",
     "text": [
      " 73%|███████▎  | 729/1000 [41:03<19:31,  4.32s/it]"
     ]
    },
    {
     "name": "stdout",
     "output_type": "stream",
     "text": [
      "Epoch: 728 \n",
      "\b Train Loss: 0.6586860879829952 \n",
      "\b Train Acc: 64.73809523809524 \n",
      "\b Val Loss: 0.6588685715740378 \n",
      "\b Val Acc: 64.6780303030303\n",
      "**************************************************\n"
     ]
    },
    {
     "name": "stderr",
     "output_type": "stream",
     "text": [
      " 73%|███████▎  | 730/1000 [41:07<18:52,  4.19s/it]"
     ]
    },
    {
     "name": "stdout",
     "output_type": "stream",
     "text": [
      "Epoch: 729 \n",
      "\b Train Loss: 0.6585807273501442 \n",
      "\b Train Acc: 64.74404761904762 \n",
      "\b Val Loss: 0.6587777557698163 \n",
      "\b Val Acc: 64.63068181818181\n",
      "**************************************************\n"
     ]
    },
    {
     "name": "stderr",
     "output_type": "stream",
     "text": [
      " 73%|███████▎  | 731/1000 [41:10<17:36,  3.93s/it]"
     ]
    },
    {
     "name": "stdout",
     "output_type": "stream",
     "text": [
      "Epoch: 730 \n",
      "\b Train Loss: 0.6584712437788646 \n",
      "\b Train Acc: 64.74404761904762 \n",
      "\b Val Loss: 0.6586904119361531 \n",
      "\b Val Acc: 64.70170454545455\n",
      "**************************************************\n"
     ]
    },
    {
     "name": "stderr",
     "output_type": "stream",
     "text": [
      " 73%|███████▎  | 732/1000 [41:14<16:53,  3.78s/it]"
     ]
    },
    {
     "name": "stdout",
     "output_type": "stream",
     "text": [
      "Epoch: 731 \n",
      "\b Train Loss: 0.6583666777043116 \n",
      "\b Train Acc: 64.77380952380952 \n",
      "\b Val Loss: 0.6586037598776094 \n",
      "\b Val Acc: 64.79640151515152\n",
      "**************************************************\n"
     ]
    },
    {
     "name": "stderr",
     "output_type": "stream",
     "text": [
      " 73%|███████▎  | 733/1000 [41:18<17:27,  3.92s/it]"
     ]
    },
    {
     "name": "stdout",
     "output_type": "stream",
     "text": [
      "Epoch: 732 \n",
      "\b Train Loss: 0.6582642900376093 \n",
      "\b Train Acc: 64.80952380952381 \n",
      "\b Val Loss: 0.6585102081298828 \n",
      "\b Val Acc: 64.74905303030303\n",
      "**************************************************\n"
     ]
    },
    {
     "name": "stderr",
     "output_type": "stream",
     "text": [
      " 73%|███████▎  | 734/1000 [41:22<17:45,  4.01s/it]"
     ]
    },
    {
     "name": "stdout",
     "output_type": "stream",
     "text": [
      "Epoch: 733 \n",
      "\b Train Loss: 0.6581561046554929 \n",
      "\b Train Acc: 64.82440476190476 \n",
      "\b Val Loss: 0.6584155821438992 \n",
      "\b Val Acc: 64.6780303030303\n",
      "**************************************************\n"
     ]
    },
    {
     "name": "stderr",
     "output_type": "stream",
     "text": [
      " 74%|███████▎  | 735/1000 [41:26<17:41,  4.00s/it]"
     ]
    },
    {
     "name": "stdout",
     "output_type": "stream",
     "text": [
      "Epoch: 734 \n",
      "\b Train Loss: 0.6580488090288071 \n",
      "\b Train Acc: 64.82440476190476 \n",
      "\b Val Loss: 0.6583238659483014 \n",
      "\b Val Acc: 64.6780303030303\n",
      "**************************************************\n"
     ]
    },
    {
     "name": "stderr",
     "output_type": "stream",
     "text": [
      " 74%|███████▎  | 736/1000 [41:29<16:04,  3.65s/it]"
     ]
    },
    {
     "name": "stdout",
     "output_type": "stream",
     "text": [
      "Epoch: 735 \n",
      "\b Train Loss: 0.6579421257405054 \n",
      "\b Train Acc: 64.85416666666667 \n",
      "\b Val Loss: 0.658229956572706 \n",
      "\b Val Acc: 64.58333333333333\n",
      "**************************************************\n"
     ]
    },
    {
     "name": "stderr",
     "output_type": "stream",
     "text": [
      " 74%|███████▎  | 737/1000 [41:33<15:43,  3.59s/it]"
     ]
    },
    {
     "name": "stdout",
     "output_type": "stream",
     "text": [
      "Epoch: 736 \n",
      "\b Train Loss: 0.6578321531840733 \n",
      "\b Train Acc: 64.87797619047619 \n",
      "\b Val Loss: 0.6581373955264236 \n",
      "\b Val Acc: 64.5596590909091\n",
      "**************************************************\n"
     ]
    },
    {
     "name": "stderr",
     "output_type": "stream",
     "text": [
      " 74%|███████▍  | 738/1000 [41:36<15:25,  3.53s/it]"
     ]
    },
    {
     "name": "stdout",
     "output_type": "stream",
     "text": [
      "Epoch: 737 \n",
      "\b Train Loss: 0.6577278334186191 \n",
      "\b Train Acc: 64.88690476190476 \n",
      "\b Val Loss: 0.6580446055441191 \n",
      "\b Val Acc: 64.5596590909091\n",
      "**************************************************\n"
     ]
    },
    {
     "name": "stderr",
     "output_type": "stream",
     "text": [
      " 74%|███████▍  | 739/1000 [41:40<15:24,  3.54s/it]"
     ]
    },
    {
     "name": "stdout",
     "output_type": "stream",
     "text": [
      "Epoch: 738 \n",
      "\b Train Loss: 0.657622166417894 \n",
      "\b Train Acc: 64.91666666666667 \n",
      "\b Val Loss: 0.65795194244746 \n",
      "\b Val Acc: 64.58333333333333\n",
      "**************************************************\n"
     ]
    },
    {
     "name": "stderr",
     "output_type": "stream",
     "text": [
      " 74%|███████▍  | 740/1000 [41:44<16:09,  3.73s/it]"
     ]
    },
    {
     "name": "stdout",
     "output_type": "stream",
     "text": [
      "Epoch: 739 \n",
      "\b Train Loss: 0.6575138719308944 \n",
      "\b Train Acc: 64.94642857142857 \n",
      "\b Val Loss: 0.6578592748352976 \n",
      "\b Val Acc: 64.60700757575758\n",
      "**************************************************\n"
     ]
    },
    {
     "name": "stderr",
     "output_type": "stream",
     "text": [
      " 74%|███████▍  | 741/1000 [41:48<17:25,  4.03s/it]"
     ]
    },
    {
     "name": "stdout",
     "output_type": "stream",
     "text": [
      "Epoch: 740 \n",
      "\b Train Loss: 0.6574061729226793 \n",
      "\b Train Acc: 64.96130952380952 \n",
      "\b Val Loss: 0.6577666672793302 \n",
      "\b Val Acc: 64.60700757575758\n",
      "**************************************************\n"
     ]
    },
    {
     "name": "stderr",
     "output_type": "stream",
     "text": [
      " 74%|███████▍  | 742/1000 [41:52<16:39,  3.88s/it]"
     ]
    },
    {
     "name": "stdout",
     "output_type": "stream",
     "text": [
      "Epoch: 741 \n",
      "\b Train Loss: 0.6572986146381923 \n",
      "\b Train Acc: 64.96130952380952 \n",
      "\b Val Loss: 0.6576725921847604 \n",
      "\b Val Acc: 64.65435606060606\n",
      "**************************************************\n"
     ]
    },
    {
     "name": "stderr",
     "output_type": "stream",
     "text": [
      " 74%|███████▍  | 743/1000 [41:56<16:37,  3.88s/it]"
     ]
    },
    {
     "name": "stdout",
     "output_type": "stream",
     "text": [
      "Epoch: 742 \n",
      "\b Train Loss: 0.6571939459301177 \n",
      "\b Train Acc: 65.00297619047619 \n",
      "\b Val Loss: 0.6575761125846342 \n",
      "\b Val Acc: 64.63068181818181\n",
      "**************************************************\n"
     ]
    },
    {
     "name": "stderr",
     "output_type": "stream",
     "text": [
      " 74%|███████▍  | 744/1000 [42:00<16:21,  3.83s/it]"
     ]
    },
    {
     "name": "stdout",
     "output_type": "stream",
     "text": [
      "Epoch: 743 \n",
      "\b Train Loss: 0.6570912447997502 \n",
      "\b Train Acc: 65.02380952380952 \n",
      "\b Val Loss: 0.657482871503541 \n",
      "\b Val Acc: 64.60700757575758\n",
      "**************************************************\n"
     ]
    },
    {
     "name": "stderr",
     "output_type": "stream",
     "text": [
      " 74%|███████▍  | 745/1000 [42:03<15:32,  3.66s/it]"
     ]
    },
    {
     "name": "stdout",
     "output_type": "stream",
     "text": [
      "Epoch: 744 \n",
      "\b Train Loss: 0.6569883316471463 \n",
      "\b Train Acc: 65.03571428571429 \n",
      "\b Val Loss: 0.6573889630310463 \n",
      "\b Val Acc: 64.74905303030303\n",
      "**************************************************\n"
     ]
    },
    {
     "name": "stderr",
     "output_type": "stream",
     "text": [
      " 75%|███████▍  | 746/1000 [42:07<16:05,  3.80s/it]"
     ]
    },
    {
     "name": "stdout",
     "output_type": "stream",
     "text": [
      "Epoch: 745 \n",
      "\b Train Loss: 0.6568830255667368 \n",
      "\b Train Acc: 65.04761904761905 \n",
      "\b Val Loss: 0.6572962800661722 \n",
      "\b Val Acc: 64.74905303030303\n",
      "**************************************************\n"
     ]
    },
    {
     "name": "stderr",
     "output_type": "stream",
     "text": [
      " 75%|███████▍  | 747/1000 [42:12<17:24,  4.13s/it]"
     ]
    },
    {
     "name": "stdout",
     "output_type": "stream",
     "text": [
      "Epoch: 746 \n",
      "\b Train Loss: 0.6567796109403883 \n",
      "\b Train Acc: 65.06845238095238 \n",
      "\b Val Loss: 0.6572014377875761 \n",
      "\b Val Acc: 64.86742424242425\n",
      "**************************************************\n"
     ]
    },
    {
     "name": "stderr",
     "output_type": "stream",
     "text": [
      " 75%|███████▍  | 748/1000 [42:16<16:51,  4.01s/it]"
     ]
    },
    {
     "name": "stdout",
     "output_type": "stream",
     "text": [
      "Epoch: 747 \n",
      "\b Train Loss: 0.656676957039606 \n",
      "\b Train Acc: 65.08035714285714 \n",
      "\b Val Loss: 0.6571088668071863 \n",
      "\b Val Acc: 64.96212121212122\n",
      "**************************************************\n"
     ]
    },
    {
     "name": "stderr",
     "output_type": "stream",
     "text": [
      " 75%|███████▍  | 749/1000 [42:20<17:01,  4.07s/it]"
     ]
    },
    {
     "name": "stdout",
     "output_type": "stream",
     "text": [
      "Epoch: 748 \n",
      "\b Train Loss: 0.6565743749482291 \n",
      "\b Train Acc: 65.0952380952381 \n",
      "\b Val Loss: 0.6570147768114553 \n",
      "\b Val Acc: 65.05681818181819\n",
      "**************************************************\n"
     ]
    },
    {
     "name": "stderr",
     "output_type": "stream",
     "text": [
      " 75%|███████▌  | 750/1000 [42:24<17:01,  4.08s/it]"
     ]
    },
    {
     "name": "stdout",
     "output_type": "stream",
     "text": [
      "Epoch: 749 \n",
      "\b Train Loss: 0.656472898040499 \n",
      "\b Train Acc: 65.12202380952381 \n",
      "\b Val Loss: 0.6569206908796773 \n",
      "\b Val Acc: 65.1278409090909\n",
      "**************************************************\n"
     ]
    },
    {
     "name": "stderr",
     "output_type": "stream",
     "text": [
      " 75%|███████▌  | 751/1000 [42:28<17:32,  4.23s/it]"
     ]
    },
    {
     "name": "stdout",
     "output_type": "stream",
     "text": [
      "Epoch: 750 \n",
      "\b Train Loss: 0.656371538525536 \n",
      "\b Train Acc: 65.13392857142857 \n",
      "\b Val Loss: 0.6568283041318258 \n",
      "\b Val Acc: 65.15151515151516\n",
      "**************************************************\n"
     ]
    },
    {
     "name": "stderr",
     "output_type": "stream",
     "text": [
      " 75%|███████▌  | 752/1000 [42:32<16:52,  4.08s/it]"
     ]
    },
    {
     "name": "stdout",
     "output_type": "stream",
     "text": [
      "Epoch: 751 \n",
      "\b Train Loss: 0.6562710591157277 \n",
      "\b Train Acc: 65.1577380952381 \n",
      "\b Val Loss: 0.6567341188589731 \n",
      "\b Val Acc: 65.1278409090909\n",
      "**************************************************\n"
     ]
    },
    {
     "name": "stderr",
     "output_type": "stream",
     "text": [
      " 75%|███████▌  | 753/1000 [42:36<16:01,  3.89s/it]"
     ]
    },
    {
     "name": "stdout",
     "output_type": "stream",
     "text": [
      "Epoch: 752 \n",
      "\b Train Loss: 0.6561711499236879 \n",
      "\b Train Acc: 65.19047619047619 \n",
      "\b Val Loss: 0.6566389198556091 \n",
      "\b Val Acc: 65.24621212121212\n",
      "**************************************************\n"
     ]
    },
    {
     "name": "stderr",
     "output_type": "stream",
     "text": [
      " 75%|███████▌  | 754/1000 [42:40<16:06,  3.93s/it]"
     ]
    },
    {
     "name": "stdout",
     "output_type": "stream",
     "text": [
      "Epoch: 753 \n",
      "\b Train Loss: 0.6560692623683384 \n",
      "\b Train Acc: 65.18154761904762 \n",
      "\b Val Loss: 0.6565474687200604 \n",
      "\b Val Acc: 65.24621212121212\n",
      "**************************************************\n"
     ]
    },
    {
     "name": "stderr",
     "output_type": "stream",
     "text": [
      " 76%|███████▌  | 755/1000 [42:44<16:04,  3.94s/it]"
     ]
    },
    {
     "name": "stdout",
     "output_type": "stream",
     "text": [
      "Epoch: 754 \n",
      "\b Train Loss: 0.6559670790036519 \n",
      "\b Train Acc: 65.19047619047619 \n",
      "\b Val Loss: 0.6564579944718968 \n",
      "\b Val Acc: 65.31723484848484\n",
      "**************************************************\n"
     ]
    },
    {
     "name": "stderr",
     "output_type": "stream",
     "text": [
      " 76%|███████▌  | 756/1000 [42:47<15:13,  3.74s/it]"
     ]
    },
    {
     "name": "stdout",
     "output_type": "stream",
     "text": [
      "Epoch: 755 \n",
      "\b Train Loss: 0.6558643819036938 \n",
      "\b Train Acc: 65.21428571428571 \n",
      "\b Val Loss: 0.6563659084565712 \n",
      "\b Val Acc: 65.24621212121212\n",
      "**************************************************\n"
     ]
    },
    {
     "name": "stderr",
     "output_type": "stream",
     "text": [
      " 76%|███████▌  | 757/1000 [42:50<14:11,  3.51s/it]"
     ]
    },
    {
     "name": "stdout",
     "output_type": "stream",
     "text": [
      "Epoch: 756 \n",
      "\b Train Loss: 0.655761612767265 \n",
      "\b Train Acc: 65.22321428571429 \n",
      "\b Val Loss: 0.6562726168018399 \n",
      "\b Val Acc: 65.31723484848484\n",
      "**************************************************\n"
     ]
    },
    {
     "name": "stderr",
     "output_type": "stream",
     "text": [
      " 76%|███████▌  | 758/1000 [42:53<13:22,  3.32s/it]"
     ]
    },
    {
     "name": "stdout",
     "output_type": "stream",
     "text": [
      "Epoch: 757 \n",
      "\b Train Loss: 0.6556575913656325 \n",
      "\b Train Acc: 65.25 \n",
      "\b Val Loss: 0.656179708964897 \n",
      "\b Val Acc: 65.26988636363636\n",
      "**************************************************\n"
     ]
    },
    {
     "name": "stderr",
     "output_type": "stream",
     "text": [
      " 76%|███████▌  | 759/1000 [42:56<12:55,  3.22s/it]"
     ]
    },
    {
     "name": "stdout",
     "output_type": "stream",
     "text": [
      "Epoch: 758 \n",
      "\b Train Loss: 0.6555559665816171 \n",
      "\b Train Acc: 65.28571428571429 \n",
      "\b Val Loss: 0.6560834470120344 \n",
      "\b Val Acc: 65.24621212121212\n",
      "**************************************************\n"
     ]
    },
    {
     "name": "stderr",
     "output_type": "stream",
     "text": [
      " 76%|███████▌  | 760/1000 [42:59<12:21,  3.09s/it]"
     ]
    },
    {
     "name": "stdout",
     "output_type": "stream",
     "text": [
      "Epoch: 759 \n",
      "\b Train Loss: 0.6554510700702667 \n",
      "\b Train Acc: 65.29761904761905 \n",
      "\b Val Loss: 0.6559859401348865 \n",
      "\b Val Acc: 65.31723484848484\n",
      "**************************************************\n"
     ]
    },
    {
     "name": "stderr",
     "output_type": "stream",
     "text": [
      " 76%|███████▌  | 761/1000 [43:01<12:02,  3.02s/it]"
     ]
    },
    {
     "name": "stdout",
     "output_type": "stream",
     "text": [
      "Epoch: 760 \n",
      "\b Train Loss: 0.6553492059594109 \n",
      "\b Train Acc: 65.31547619047619 \n",
      "\b Val Loss: 0.6558847747968904 \n",
      "\b Val Acc: 65.41193181818181\n",
      "**************************************************\n"
     ]
    },
    {
     "name": "stderr",
     "output_type": "stream",
     "text": [
      " 76%|███████▌  | 762/1000 [43:04<11:52,  2.99s/it]"
     ]
    },
    {
     "name": "stdout",
     "output_type": "stream",
     "text": [
      "Epoch: 761 \n",
      "\b Train Loss: 0.6552453992480324 \n",
      "\b Train Acc: 65.34821428571429 \n",
      "\b Val Loss: 0.6557859661001147 \n",
      "\b Val Acc: 65.4592803030303\n",
      "**************************************************\n"
     ]
    },
    {
     "name": "stderr",
     "output_type": "stream",
     "text": [
      " 76%|███████▋  | 763/1000 [43:07<11:48,  2.99s/it]"
     ]
    },
    {
     "name": "stdout",
     "output_type": "stream",
     "text": [
      "Epoch: 762 \n",
      "\b Train Loss: 0.6551404384771983 \n",
      "\b Train Acc: 65.37202380952381 \n",
      "\b Val Loss: 0.6556848937814886 \n",
      "\b Val Acc: 65.53030303030303\n",
      "**************************************************\n"
     ]
    },
    {
     "name": "stderr",
     "output_type": "stream",
     "text": [
      " 76%|███████▋  | 764/1000 [43:11<12:13,  3.11s/it]"
     ]
    },
    {
     "name": "stdout",
     "output_type": "stream",
     "text": [
      "Epoch: 763 \n",
      "\b Train Loss: 0.6550340293134962 \n",
      "\b Train Acc: 65.36011904761905 \n",
      "\b Val Loss: 0.6555875896504431 \n",
      "\b Val Acc: 65.57765151515152\n",
      "**************************************************\n"
     ]
    },
    {
     "name": "stderr",
     "output_type": "stream",
     "text": [
      " 76%|███████▋  | 765/1000 [43:14<12:27,  3.18s/it]"
     ]
    },
    {
     "name": "stdout",
     "output_type": "stream",
     "text": [
      "Epoch: 764 \n",
      "\b Train Loss: 0.6549288774672009 \n",
      "\b Train Acc: 65.375 \n",
      "\b Val Loss: 0.6554892072171876 \n",
      "\b Val Acc: 65.64867424242425\n",
      "**************************************************\n"
     ]
    },
    {
     "name": "stderr",
     "output_type": "stream",
     "text": [
      " 77%|███████▋  | 766/1000 [43:18<12:52,  3.30s/it]"
     ]
    },
    {
     "name": "stdout",
     "output_type": "stream",
     "text": [
      "Epoch: 765 \n",
      "\b Train Loss: 0.6548228326865605 \n",
      "\b Train Acc: 65.39285714285714 \n",
      "\b Val Loss: 0.6553908843885768 \n",
      "\b Val Acc: 65.69602272727273\n",
      "**************************************************\n"
     ]
    },
    {
     "name": "stderr",
     "output_type": "stream",
     "text": [
      " 77%|███████▋  | 767/1000 [43:21<12:42,  3.27s/it]"
     ]
    },
    {
     "name": "stdout",
     "output_type": "stream",
     "text": [
      "Epoch: 766 \n",
      "\b Train Loss: 0.6547168452966781 \n",
      "\b Train Acc: 65.41666666666667 \n",
      "\b Val Loss: 0.6552893641320142 \n",
      "\b Val Acc: 65.74337121212122\n",
      "**************************************************\n"
     ]
    },
    {
     "name": "stderr",
     "output_type": "stream",
     "text": [
      " 77%|███████▋  | 768/1000 [43:24<12:12,  3.16s/it]"
     ]
    },
    {
     "name": "stdout",
     "output_type": "stream",
     "text": [
      "Epoch: 767 \n",
      "\b Train Loss: 0.6546109563963753 \n",
      "\b Train Acc: 65.44642857142857 \n",
      "\b Val Loss: 0.6551878068483237 \n",
      "\b Val Acc: 65.76704545454545\n",
      "**************************************************\n"
     ]
    },
    {
     "name": "stderr",
     "output_type": "stream",
     "text": [
      " 77%|███████▋  | 769/1000 [43:27<12:09,  3.16s/it]"
     ]
    },
    {
     "name": "stdout",
     "output_type": "stream",
     "text": [
      "Epoch: 768 \n",
      "\b Train Loss: 0.6545063905488877 \n",
      "\b Train Acc: 65.4672619047619 \n",
      "\b Val Loss: 0.6550919828992902 \n",
      "\b Val Acc: 65.86174242424242\n",
      "**************************************************\n"
     ]
    },
    {
     "name": "stderr",
     "output_type": "stream",
     "text": [
      " 77%|███████▋  | 770/1000 [43:30<12:39,  3.30s/it]"
     ]
    },
    {
     "name": "stdout",
     "output_type": "stream",
     "text": [
      "Epoch: 769 \n",
      "\b Train Loss: 0.6544036512147813 \n",
      "\b Train Acc: 65.48809523809524 \n",
      "\b Val Loss: 0.6549925813169191 \n",
      "\b Val Acc: 65.7907196969697\n",
      "**************************************************\n"
     ]
    },
    {
     "name": "stderr",
     "output_type": "stream",
     "text": [
      " 77%|███████▋  | 771/1000 [43:33<12:03,  3.16s/it]"
     ]
    },
    {
     "name": "stdout",
     "output_type": "stream",
     "text": [
      "Epoch: 770 \n",
      "\b Train Loss: 0.6542995421091715 \n",
      "\b Train Acc: 65.52083333333333 \n",
      "\b Val Loss: 0.6548836998867266 \n",
      "\b Val Acc: 65.88541666666667\n",
      "**************************************************\n"
     ]
    },
    {
     "name": "stderr",
     "output_type": "stream",
     "text": [
      " 77%|███████▋  | 772/1000 [43:36<11:38,  3.06s/it]"
     ]
    },
    {
     "name": "stdout",
     "output_type": "stream",
     "text": [
      "Epoch: 771 \n",
      "\b Train Loss: 0.6541938068185533 \n",
      "\b Train Acc: 65.54464285714286 \n",
      "\b Val Loss: 0.6547838846842448 \n",
      "\b Val Acc: 65.83806818181819\n",
      "**************************************************\n"
     ]
    },
    {
     "name": "stderr",
     "output_type": "stream",
     "text": [
      " 77%|███████▋  | 773/1000 [43:40<12:24,  3.28s/it]"
     ]
    },
    {
     "name": "stdout",
     "output_type": "stream",
     "text": [
      "Epoch: 772 \n",
      "\b Train Loss: 0.6540895168554215 \n",
      "\b Train Acc: 65.5625 \n",
      "\b Val Loss: 0.6546809284976034 \n",
      "\b Val Acc: 65.88541666666667\n",
      "**************************************************\n"
     ]
    },
    {
     "name": "stderr",
     "output_type": "stream",
     "text": [
      " 77%|███████▋  | 774/1000 [43:43<12:27,  3.31s/it]"
     ]
    },
    {
     "name": "stdout",
     "output_type": "stream",
     "text": [
      "Epoch: 773 \n",
      "\b Train Loss: 0.6539868857747032 \n",
      "\b Train Acc: 65.5952380952381 \n",
      "\b Val Loss: 0.6545704549009149 \n",
      "\b Val Acc: 65.86174242424242\n",
      "**************************************************\n"
     ]
    },
    {
     "name": "stderr",
     "output_type": "stream",
     "text": [
      " 78%|███████▊  | 775/1000 [43:47<12:23,  3.30s/it]"
     ]
    },
    {
     "name": "stdout",
     "output_type": "stream",
     "text": [
      "Epoch: 774 \n",
      "\b Train Loss: 0.6538815381413414 \n",
      "\b Train Acc: 65.61309523809524 \n",
      "\b Val Loss: 0.6544664989818226 \n",
      "\b Val Acc: 65.88541666666667\n",
      "**************************************************\n"
     ]
    },
    {
     "name": "stderr",
     "output_type": "stream",
     "text": [
      " 78%|███████▊  | 776/1000 [43:50<12:04,  3.24s/it]"
     ]
    },
    {
     "name": "stdout",
     "output_type": "stream",
     "text": [
      "Epoch: 775 \n",
      "\b Train Loss: 0.6537761129084088 \n",
      "\b Train Acc: 65.62797619047619 \n",
      "\b Val Loss: 0.6543665785681118 \n",
      "\b Val Acc: 65.9090909090909\n",
      "**************************************************\n"
     ]
    },
    {
     "name": "stderr",
     "output_type": "stream",
     "text": [
      " 78%|███████▊  | 777/1000 [43:53<11:49,  3.18s/it]"
     ]
    },
    {
     "name": "stdout",
     "output_type": "stream",
     "text": [
      "Epoch: 776 \n",
      "\b Train Loss: 0.653674191066197 \n",
      "\b Train Acc: 65.64285714285714 \n",
      "\b Val Loss: 0.6542665854547963 \n",
      "\b Val Acc: 65.95643939393939\n",
      "**************************************************\n"
     ]
    },
    {
     "name": "stderr",
     "output_type": "stream",
     "text": [
      " 78%|███████▊  | 778/1000 [43:56<11:19,  3.06s/it]"
     ]
    },
    {
     "name": "stdout",
     "output_type": "stream",
     "text": [
      "Epoch: 777 \n",
      "\b Train Loss: 0.6535715218952723 \n",
      "\b Train Acc: 65.66964285714286 \n",
      "\b Val Loss: 0.6541613317800291 \n",
      "\b Val Acc: 65.98011363636364\n",
      "**************************************************\n"
     ]
    },
    {
     "name": "stderr",
     "output_type": "stream",
     "text": [
      " 78%|███████▊  | 779/1000 [43:58<11:04,  3.01s/it]"
     ]
    },
    {
     "name": "stdout",
     "output_type": "stream",
     "text": [
      "Epoch: 778 \n",
      "\b Train Loss: 0.6534659748985654 \n",
      "\b Train Acc: 65.69940476190476 \n",
      "\b Val Loss: 0.6540570335857796 \n",
      "\b Val Acc: 66.00378787878788\n",
      "**************************************************\n"
     ]
    },
    {
     "name": "stderr",
     "output_type": "stream",
     "text": [
      " 78%|███████▊  | 780/1000 [44:01<10:48,  2.95s/it]"
     ]
    },
    {
     "name": "stdout",
     "output_type": "stream",
     "text": [
      "Epoch: 779 \n",
      "\b Train Loss: 0.6533630249613808 \n",
      "\b Train Acc: 65.71130952380952 \n",
      "\b Val Loss: 0.6539530383818077 \n",
      "\b Val Acc: 66.1221590909091\n",
      "**************************************************\n"
     ]
    },
    {
     "name": "stderr",
     "output_type": "stream",
     "text": [
      " 78%|███████▊  | 781/1000 [44:04<10:57,  3.00s/it]"
     ]
    },
    {
     "name": "stdout",
     "output_type": "stream",
     "text": [
      "Epoch: 780 \n",
      "\b Train Loss: 0.6532594536599658 \n",
      "\b Train Acc: 65.72916666666667 \n",
      "\b Val Loss: 0.6538560625278589 \n",
      "\b Val Acc: 66.16950757575758\n",
      "**************************************************\n"
     ]
    },
    {
     "name": "stderr",
     "output_type": "stream",
     "text": [
      " 78%|███████▊  | 782/1000 [44:08<11:08,  3.06s/it]"
     ]
    },
    {
     "name": "stdout",
     "output_type": "stream",
     "text": [
      "Epoch: 781 \n",
      "\b Train Loss: 0.6531581257070814 \n",
      "\b Train Acc: 65.75 \n",
      "\b Val Loss: 0.6537557632634134 \n",
      "\b Val Acc: 66.14583333333333\n",
      "**************************************************\n"
     ]
    },
    {
     "name": "stderr",
     "output_type": "stream",
     "text": [
      " 78%|███████▊  | 783/1000 [44:10<10:53,  3.01s/it]"
     ]
    },
    {
     "name": "stdout",
     "output_type": "stream",
     "text": [
      "Epoch: 782 \n",
      "\b Train Loss: 0.6530549342859359 \n",
      "\b Train Acc: 65.77678571428571 \n",
      "\b Val Loss: 0.6536561377120741 \n",
      "\b Val Acc: 66.1221590909091\n",
      "**************************************************\n"
     ]
    },
    {
     "name": "stderr",
     "output_type": "stream",
     "text": [
      " 78%|███████▊  | 784/1000 [44:14<11:09,  3.10s/it]"
     ]
    },
    {
     "name": "stdout",
     "output_type": "stream",
     "text": [
      "Epoch: 783 \n",
      "\b Train Loss: 0.6529508659385499 \n",
      "\b Train Acc: 65.7797619047619 \n",
      "\b Val Loss: 0.6535564855192647 \n",
      "\b Val Acc: 66.1221590909091\n",
      "**************************************************\n"
     ]
    },
    {
     "name": "stderr",
     "output_type": "stream",
     "text": [
      " 78%|███████▊  | 785/1000 [44:17<11:10,  3.12s/it]"
     ]
    },
    {
     "name": "stdout",
     "output_type": "stream",
     "text": [
      "Epoch: 784 \n",
      "\b Train Loss: 0.6528496498720987 \n",
      "\b Train Acc: 65.78869047619048 \n",
      "\b Val Loss: 0.653455480481639 \n",
      "\b Val Acc: 66.16950757575758\n",
      "**************************************************\n"
     ]
    },
    {
     "name": "stderr",
     "output_type": "stream",
     "text": [
      " 79%|███████▊  | 786/1000 [44:20<11:13,  3.15s/it]"
     ]
    },
    {
     "name": "stdout",
     "output_type": "stream",
     "text": [
      "Epoch: 785 \n",
      "\b Train Loss: 0.6527472136701856 \n",
      "\b Train Acc: 65.80952380952381 \n",
      "\b Val Loss: 0.6533553717714368 \n",
      "\b Val Acc: 66.19318181818181\n",
      "**************************************************\n"
     ]
    },
    {
     "name": "stderr",
     "output_type": "stream",
     "text": [
      " 79%|███████▊  | 787/1000 [44:23<10:55,  3.08s/it]"
     ]
    },
    {
     "name": "stdout",
     "output_type": "stream",
     "text": [
      "Epoch: 786 \n",
      "\b Train Loss: 0.6526454859120505 \n",
      "\b Train Acc: 65.83928571428571 \n",
      "\b Val Loss: 0.6532532094102917 \n",
      "\b Val Acc: 66.19318181818181\n",
      "**************************************************\n"
     ]
    },
    {
     "name": "stderr",
     "output_type": "stream",
     "text": [
      " 79%|███████▉  | 788/1000 [44:26<10:34,  2.99s/it]"
     ]
    },
    {
     "name": "stdout",
     "output_type": "stream",
     "text": [
      "Epoch: 787 \n",
      "\b Train Loss: 0.6525422504402343 \n",
      "\b Train Acc: 65.86904761904762 \n",
      "\b Val Loss: 0.6531452640439525 \n",
      "\b Val Acc: 66.19318181818181\n",
      "**************************************************\n"
     ]
    },
    {
     "name": "stderr",
     "output_type": "stream",
     "text": [
      " 79%|███████▉  | 789/1000 [44:29<10:14,  2.91s/it]"
     ]
    },
    {
     "name": "stdout",
     "output_type": "stream",
     "text": [
      "Epoch: 788 \n",
      "\b Train Loss: 0.6524364501521701 \n",
      "\b Train Acc: 65.86904761904762 \n",
      "\b Val Loss: 0.6530400108207356 \n",
      "\b Val Acc: 66.21685606060606\n",
      "**************************************************\n"
     ]
    },
    {
     "name": "stderr",
     "output_type": "stream",
     "text": [
      " 79%|███████▉  | 790/1000 [44:31<10:09,  2.90s/it]"
     ]
    },
    {
     "name": "stdout",
     "output_type": "stream",
     "text": [
      "Epoch: 789 \n",
      "\b Train Loss: 0.6523309803009033 \n",
      "\b Train Acc: 65.89583333333333 \n",
      "\b Val Loss: 0.6529379130312891 \n",
      "\b Val Acc: 66.28787878787878\n",
      "**************************************************\n"
     ]
    },
    {
     "name": "stderr",
     "output_type": "stream",
     "text": [
      " 79%|███████▉  | 791/1000 [44:34<09:54,  2.85s/it]"
     ]
    },
    {
     "name": "stdout",
     "output_type": "stream",
     "text": [
      "Epoch: 790 \n",
      "\b Train Loss: 0.6522259943258195 \n",
      "\b Train Acc: 65.91071428571429 \n",
      "\b Val Loss: 0.6528355926275253 \n",
      "\b Val Acc: 66.31155303030303\n",
      "**************************************************\n"
     ]
    },
    {
     "name": "stderr",
     "output_type": "stream",
     "text": [
      " 79%|███████▉  | 792/1000 [44:37<09:48,  2.83s/it]"
     ]
    },
    {
     "name": "stdout",
     "output_type": "stream",
     "text": [
      "Epoch: 791 \n",
      "\b Train Loss: 0.6521232977367583 \n",
      "\b Train Acc: 65.93452380952381 \n",
      "\b Val Loss: 0.6527260031664011 \n",
      "\b Val Acc: 66.33522727272727\n",
      "**************************************************\n"
     ]
    },
    {
     "name": "stderr",
     "output_type": "stream",
     "text": [
      " 79%|███████▉  | 793/1000 [44:40<09:45,  2.83s/it]"
     ]
    },
    {
     "name": "stdout",
     "output_type": "stream",
     "text": [
      "Epoch: 792 \n",
      "\b Train Loss: 0.6520203221411932 \n",
      "\b Train Acc: 65.94047619047619 \n",
      "\b Val Loss: 0.6526190200538347 \n",
      "\b Val Acc: 66.33522727272727\n",
      "**************************************************\n"
     ]
    },
    {
     "name": "stderr",
     "output_type": "stream",
     "text": [
      " 79%|███████▉  | 794/1000 [44:43<09:55,  2.89s/it]"
     ]
    },
    {
     "name": "stdout",
     "output_type": "stream",
     "text": [
      "Epoch: 793 \n",
      "\b Train Loss: 0.651916820094699 \n",
      "\b Train Acc: 65.9672619047619 \n",
      "\b Val Loss: 0.6525134457783266 \n",
      "\b Val Acc: 66.33522727272727\n",
      "**************************************************\n"
     ]
    },
    {
     "name": "stderr",
     "output_type": "stream",
     "text": [
      " 80%|███████▉  | 795/1000 [44:46<09:45,  2.86s/it]"
     ]
    },
    {
     "name": "stdout",
     "output_type": "stream",
     "text": [
      "Epoch: 794 \n",
      "\b Train Loss: 0.6518135619731177 \n",
      "\b Train Acc: 65.99702380952381 \n",
      "\b Val Loss: 0.6524063931270079 \n",
      "\b Val Acc: 66.33522727272727\n",
      "**************************************************\n"
     ]
    },
    {
     "name": "stderr",
     "output_type": "stream",
     "text": [
      " 80%|███████▉  | 796/1000 [44:48<09:40,  2.84s/it]"
     ]
    },
    {
     "name": "stdout",
     "output_type": "stream",
     "text": [
      "Epoch: 795 \n",
      "\b Train Loss: 0.6517092441377186 \n",
      "\b Train Acc: 66.02083333333333 \n",
      "\b Val Loss: 0.6523027501323007 \n",
      "\b Val Acc: 66.35890151515152\n",
      "**************************************************\n"
     ]
    },
    {
     "name": "stderr",
     "output_type": "stream",
     "text": [
      " 80%|███████▉  | 797/1000 [44:51<09:33,  2.83s/it]"
     ]
    },
    {
     "name": "stdout",
     "output_type": "stream",
     "text": [
      "Epoch: 796 \n",
      "\b Train Loss: 0.6516049720559801 \n",
      "\b Train Acc: 66.04166666666667 \n",
      "\b Val Loss: 0.6521971216707518 \n",
      "\b Val Acc: 66.28787878787878\n",
      "**************************************************\n"
     ]
    },
    {
     "name": "stderr",
     "output_type": "stream",
     "text": [
      " 80%|███████▉  | 798/1000 [44:54<09:25,  2.80s/it]"
     ]
    },
    {
     "name": "stdout",
     "output_type": "stream",
     "text": [
      "Epoch: 797 \n",
      "\b Train Loss: 0.6515004379976364 \n",
      "\b Train Acc: 66.04761904761905 \n",
      "\b Val Loss: 0.6520961568211064 \n",
      "\b Val Acc: 66.38257575757575\n",
      "**************************************************\n"
     ]
    },
    {
     "name": "stderr",
     "output_type": "stream",
     "text": [
      " 80%|███████▉  | 799/1000 [44:57<09:27,  2.82s/it]"
     ]
    },
    {
     "name": "stdout",
     "output_type": "stream",
     "text": [
      "Epoch: 798 \n",
      "\b Train Loss: 0.651397910118103 \n",
      "\b Train Acc: 66.06547619047619 \n",
      "\b Val Loss: 0.6519939836227533 \n",
      "\b Val Acc: 66.42992424242425\n",
      "**************************************************\n"
     ]
    },
    {
     "name": "stderr",
     "output_type": "stream",
     "text": [
      " 80%|████████  | 800/1000 [45:00<09:19,  2.80s/it]"
     ]
    },
    {
     "name": "stdout",
     "output_type": "stream",
     "text": [
      "Epoch: 799 \n",
      "\b Train Loss: 0.651294390303748 \n",
      "\b Train Acc: 66.08630952380952 \n",
      "\b Val Loss: 0.6518857515219486 \n",
      "\b Val Acc: 66.42992424242425\n",
      "**************************************************\n"
     ]
    },
    {
     "name": "stderr",
     "output_type": "stream",
     "text": [
      " 80%|████████  | 801/1000 [45:03<10:21,  3.12s/it]"
     ]
    },
    {
     "name": "stdout",
     "output_type": "stream",
     "text": [
      "Epoch: 800 \n",
      "\b Train Loss: 0.6511911359287443 \n",
      "\b Train Acc: 66.11309523809524 \n",
      "\b Val Loss: 0.6517790700450088 \n",
      "\b Val Acc: 66.45359848484848\n",
      "**************************************************\n"
     ]
    },
    {
     "name": "stderr",
     "output_type": "stream",
     "text": [
      " 80%|████████  | 802/1000 [45:07<10:37,  3.22s/it]"
     ]
    },
    {
     "name": "stdout",
     "output_type": "stream",
     "text": [
      "Epoch: 801 \n",
      "\b Train Loss: 0.6510861219678606 \n",
      "\b Train Acc: 66.12797619047619 \n",
      "\b Val Loss: 0.6516747799786654 \n",
      "\b Val Acc: 66.47727272727273\n",
      "**************************************************\n"
     ]
    },
    {
     "name": "stderr",
     "output_type": "stream",
     "text": [
      " 80%|████████  | 803/1000 [45:10<10:39,  3.25s/it]"
     ]
    },
    {
     "name": "stdout",
     "output_type": "stream",
     "text": [
      "Epoch: 802 \n",
      "\b Train Loss: 0.6509826944555555 \n",
      "\b Train Acc: 66.1547619047619 \n",
      "\b Val Loss: 0.6515687744725834 \n",
      "\b Val Acc: 66.54829545454545\n",
      "**************************************************\n"
     ]
    },
    {
     "name": "stderr",
     "output_type": "stream",
     "text": [
      " 80%|████████  | 804/1000 [45:13<10:23,  3.18s/it]"
     ]
    },
    {
     "name": "stdout",
     "output_type": "stream",
     "text": [
      "Epoch: 803 \n",
      "\b Train Loss: 0.6508784726120177 \n",
      "\b Train Acc: 66.18154761904762 \n",
      "\b Val Loss: 0.651463043960658 \n",
      "\b Val Acc: 66.5719696969697\n",
      "**************************************************\n"
     ]
    },
    {
     "name": "stderr",
     "output_type": "stream",
     "text": [
      " 80%|████████  | 805/1000 [45:17<10:35,  3.26s/it]"
     ]
    },
    {
     "name": "stdout",
     "output_type": "stream",
     "text": [
      "Epoch: 804 \n",
      "\b Train Loss: 0.6507755490144094 \n",
      "\b Train Acc: 66.19047619047619 \n",
      "\b Val Loss: 0.6513618262428226 \n",
      "\b Val Acc: 66.59564393939394\n",
      "**************************************************\n"
     ]
    },
    {
     "name": "stderr",
     "output_type": "stream",
     "text": [
      " 81%|████████  | 806/1000 [45:21<11:52,  3.67s/it]"
     ]
    },
    {
     "name": "stdout",
     "output_type": "stream",
     "text": [
      "Epoch: 805 \n",
      "\b Train Loss: 0.6506737739699228 \n",
      "\b Train Acc: 66.21130952380952 \n",
      "\b Val Loss: 0.6512578599380724 \n",
      "\b Val Acc: 66.54829545454545\n",
      "**************************************************\n"
     ]
    },
    {
     "name": "stderr",
     "output_type": "stream",
     "text": [
      " 81%|████████  | 807/1000 [45:25<11:29,  3.57s/it]"
     ]
    },
    {
     "name": "stdout",
     "output_type": "stream",
     "text": [
      "Epoch: 806 \n",
      "\b Train Loss: 0.6505697363898868 \n",
      "\b Train Acc: 66.25 \n",
      "\b Val Loss: 0.6511537766817844 \n",
      "\b Val Acc: 66.64299242424242\n",
      "**************************************************\n"
     ]
    },
    {
     "name": "stderr",
     "output_type": "stream",
     "text": [
      " 81%|████████  | 808/1000 [45:28<11:14,  3.51s/it]"
     ]
    },
    {
     "name": "stdout",
     "output_type": "stream",
     "text": [
      "Epoch: 807 \n",
      "\b Train Loss: 0.6504650679656437 \n",
      "\b Train Acc: 66.27083333333333 \n",
      "\b Val Loss: 0.6510504967335499 \n",
      "\b Val Acc: 66.59564393939394\n",
      "**************************************************\n"
     ]
    },
    {
     "name": "stderr",
     "output_type": "stream",
     "text": [
      " 81%|████████  | 809/1000 [45:32<11:33,  3.63s/it]"
     ]
    },
    {
     "name": "stdout",
     "output_type": "stream",
     "text": [
      "Epoch: 808 \n",
      "\b Train Loss: 0.6503621729214987 \n",
      "\b Train Acc: 66.29166666666667 \n",
      "\b Val Loss: 0.6509472574248458 \n",
      "\b Val Acc: 66.64299242424242\n",
      "**************************************************\n"
     ]
    },
    {
     "name": "stderr",
     "output_type": "stream",
     "text": [
      " 81%|████████  | 810/1000 [45:36<12:03,  3.81s/it]"
     ]
    },
    {
     "name": "stdout",
     "output_type": "stream",
     "text": [
      "Epoch: 809 \n",
      "\b Train Loss: 0.6502582081158956 \n",
      "\b Train Acc: 66.30654761904762 \n",
      "\b Val Loss: 0.6508445179823673 \n",
      "\b Val Acc: 66.6903409090909\n",
      "**************************************************\n"
     ]
    },
    {
     "name": "stderr",
     "output_type": "stream",
     "text": [
      " 81%|████████  | 811/1000 [45:40<11:44,  3.73s/it]"
     ]
    },
    {
     "name": "stdout",
     "output_type": "stream",
     "text": [
      "Epoch: 810 \n",
      "\b Train Loss: 0.6501547891185397 \n",
      "\b Train Acc: 66.3452380952381 \n",
      "\b Val Loss: 0.6507398310032758 \n",
      "\b Val Acc: 66.78503787878788\n",
      "**************************************************\n"
     ]
    },
    {
     "name": "stderr",
     "output_type": "stream",
     "text": [
      " 81%|████████  | 812/1000 [45:43<11:33,  3.69s/it]"
     ]
    },
    {
     "name": "stdout",
     "output_type": "stream",
     "text": [
      "Epoch: 811 \n",
      "\b Train Loss: 0.6500492386023203 \n",
      "\b Train Acc: 66.35119047619048 \n",
      "\b Val Loss: 0.6506363501151403 \n",
      "\b Val Acc: 66.78503787878788\n",
      "**************************************************\n"
     ]
    },
    {
     "name": "stderr",
     "output_type": "stream",
     "text": [
      " 81%|████████▏ | 813/1000 [45:47<11:19,  3.63s/it]"
     ]
    },
    {
     "name": "stdout",
     "output_type": "stream",
     "text": [
      "Epoch: 812 \n",
      "\b Train Loss: 0.6499434024947031 \n",
      "\b Train Acc: 66.36309523809524 \n",
      "\b Val Loss: 0.6505305139404355 \n",
      "\b Val Acc: 66.78503787878788\n",
      "**************************************************\n"
     ]
    },
    {
     "name": "stderr",
     "output_type": "stream",
     "text": [
      " 81%|████████▏ | 814/1000 [45:51<12:13,  3.94s/it]"
     ]
    },
    {
     "name": "stdout",
     "output_type": "stream",
     "text": [
      "Epoch: 813 \n",
      "\b Train Loss: 0.6498380955627986 \n",
      "\b Train Acc: 66.37202380952381 \n",
      "\b Val Loss: 0.6504286207032927 \n",
      "\b Val Acc: 66.78503787878788\n",
      "**************************************************\n"
     ]
    },
    {
     "name": "stderr",
     "output_type": "stream",
     "text": [
      " 82%|████████▏ | 815/1000 [45:55<11:58,  3.88s/it]"
     ]
    },
    {
     "name": "stdout",
     "output_type": "stream",
     "text": [
      "Epoch: 814 \n",
      "\b Train Loss: 0.6497320812656766 \n",
      "\b Train Acc: 66.38988095238095 \n",
      "\b Val Loss: 0.6503229096080317 \n",
      "\b Val Acc: 66.78503787878788\n",
      "**************************************************\n"
     ]
    },
    {
     "name": "stderr",
     "output_type": "stream",
     "text": [
      " 82%|████████▏ | 816/1000 [45:58<10:58,  3.58s/it]"
     ]
    },
    {
     "name": "stdout",
     "output_type": "stream",
     "text": [
      "Epoch: 815 \n",
      "\b Train Loss: 0.6496282622360048 \n",
      "\b Train Acc: 66.42261904761905 \n",
      "\b Val Loss: 0.6502175936193177 \n",
      "\b Val Acc: 66.80871212121212\n",
      "**************************************************\n"
     ]
    },
    {
     "name": "stderr",
     "output_type": "stream",
     "text": [
      " 82%|████████▏ | 817/1000 [46:01<10:09,  3.33s/it]"
     ]
    },
    {
     "name": "stdout",
     "output_type": "stream",
     "text": [
      "Epoch: 816 \n",
      "\b Train Loss: 0.6495219989617665 \n",
      "\b Train Acc: 66.43452380952381 \n",
      "\b Val Loss: 0.6501179527152668 \n",
      "\b Val Acc: 66.83238636363636\n",
      "**************************************************\n"
     ]
    },
    {
     "name": "stderr",
     "output_type": "stream",
     "text": [
      " 82%|████████▏ | 818/1000 [46:04<09:56,  3.28s/it]"
     ]
    },
    {
     "name": "stdout",
     "output_type": "stream",
     "text": [
      "Epoch: 817 \n",
      "\b Train Loss: 0.649414921204249 \n",
      "\b Train Acc: 66.46428571428571 \n",
      "\b Val Loss: 0.6500147639802007 \n",
      "\b Val Acc: 66.85606060606061\n",
      "**************************************************\n"
     ]
    },
    {
     "name": "stderr",
     "output_type": "stream",
     "text": [
      " 82%|████████▏ | 819/1000 [46:07<09:33,  3.17s/it]"
     ]
    },
    {
     "name": "stdout",
     "output_type": "stream",
     "text": [
      "Epoch: 818 \n",
      "\b Train Loss: 0.6493083494617825 \n",
      "\b Train Acc: 66.50595238095238 \n",
      "\b Val Loss: 0.6499072746797041 \n",
      "\b Val Acc: 66.85606060606061\n",
      "**************************************************\n"
     ]
    },
    {
     "name": "stderr",
     "output_type": "stream",
     "text": [
      " 82%|████████▏ | 820/1000 [46:11<10:04,  3.36s/it]"
     ]
    },
    {
     "name": "stdout",
     "output_type": "stream",
     "text": [
      "Epoch: 819 \n",
      "\b Train Loss: 0.6492026249567667 \n",
      "\b Train Acc: 66.51785714285714 \n",
      "\b Val Loss: 0.6498040118903825 \n",
      "\b Val Acc: 66.92708333333333\n",
      "**************************************************\n"
     ]
    },
    {
     "name": "stderr",
     "output_type": "stream",
     "text": [
      " 82%|████████▏ | 821/1000 [46:14<10:20,  3.46s/it]"
     ]
    },
    {
     "name": "stdout",
     "output_type": "stream",
     "text": [
      "Epoch: 820 \n",
      "\b Train Loss: 0.6490982797599975 \n",
      "\b Train Acc: 66.54166666666667 \n",
      "\b Val Loss: 0.6497021547772668 \n",
      "\b Val Acc: 66.99810606060606\n",
      "**************************************************\n"
     ]
    },
    {
     "name": "stderr",
     "output_type": "stream",
     "text": [
      " 82%|████████▏ | 822/1000 [46:18<10:04,  3.40s/it]"
     ]
    },
    {
     "name": "stdout",
     "output_type": "stream",
     "text": [
      "Epoch: 821 \n",
      "\b Train Loss: 0.6489939807142531 \n",
      "\b Train Acc: 66.5625 \n",
      "\b Val Loss: 0.6495967331257734 \n",
      "\b Val Acc: 67.04545454545455\n",
      "**************************************************\n"
     ]
    },
    {
     "name": "stderr",
     "output_type": "stream",
     "text": [
      " 82%|████████▏ | 823/1000 [46:20<09:33,  3.24s/it]"
     ]
    },
    {
     "name": "stdout",
     "output_type": "stream",
     "text": [
      "Epoch: 822 \n",
      "\b Train Loss: 0.6488882524626596 \n",
      "\b Train Acc: 66.5922619047619 \n",
      "\b Val Loss: 0.6494891205520341 \n",
      "\b Val Acc: 66.99810606060606\n",
      "**************************************************\n"
     ]
    },
    {
     "name": "stderr",
     "output_type": "stream",
     "text": [
      " 82%|████████▏ | 824/1000 [46:24<09:55,  3.38s/it]"
     ]
    },
    {
     "name": "stdout",
     "output_type": "stream",
     "text": [
      "Epoch: 823 \n",
      "\b Train Loss: 0.6487834101063864 \n",
      "\b Train Acc: 66.62202380952381 \n",
      "\b Val Loss: 0.6493873189796101 \n",
      "\b Val Acc: 67.0217803030303\n",
      "**************************************************\n"
     ]
    },
    {
     "name": "stderr",
     "output_type": "stream",
     "text": [
      " 82%|████████▎ | 825/1000 [46:28<10:28,  3.59s/it]"
     ]
    },
    {
     "name": "stdout",
     "output_type": "stream",
     "text": [
      "Epoch: 824 \n",
      "\b Train Loss: 0.6486777127924419 \n",
      "\b Train Acc: 66.64583333333333 \n",
      "\b Val Loss: 0.6492826401284246 \n",
      "\b Val Acc: 67.04545454545455\n",
      "**************************************************\n"
     ]
    },
    {
     "name": "stderr",
     "output_type": "stream",
     "text": [
      " 83%|████████▎ | 826/1000 [46:32<10:20,  3.56s/it]"
     ]
    },
    {
     "name": "stdout",
     "output_type": "stream",
     "text": [
      "Epoch: 825 \n",
      "\b Train Loss: 0.6485726304848989 \n",
      "\b Train Acc: 66.6547619047619 \n",
      "\b Val Loss: 0.6491773340738181 \n",
      "\b Val Acc: 67.0217803030303\n",
      "**************************************************\n"
     ]
    },
    {
     "name": "stderr",
     "output_type": "stream",
     "text": [
      " 83%|████████▎ | 827/1000 [46:36<10:31,  3.65s/it]"
     ]
    },
    {
     "name": "stdout",
     "output_type": "stream",
     "text": [
      "Epoch: 826 \n",
      "\b Train Loss: 0.6484662503287906 \n",
      "\b Train Acc: 66.67857142857143 \n",
      "\b Val Loss: 0.6490707632267114 \n",
      "\b Val Acc: 66.95075757575758\n",
      "**************************************************\n"
     ]
    },
    {
     "name": "stderr",
     "output_type": "stream",
     "text": [
      " 83%|████████▎ | 828/1000 [46:39<10:28,  3.65s/it]"
     ]
    },
    {
     "name": "stdout",
     "output_type": "stream",
     "text": [
      "Epoch: 827 \n",
      "\b Train Loss: 0.6483603753362384 \n",
      "\b Train Acc: 66.69345238095238 \n",
      "\b Val Loss: 0.648965496005434 \n",
      "\b Val Acc: 66.97443181818181\n",
      "**************************************************\n"
     ]
    },
    {
     "name": "stderr",
     "output_type": "stream",
     "text": [
      " 83%|████████▎ | 829/1000 [46:43<10:21,  3.64s/it]"
     ]
    },
    {
     "name": "stdout",
     "output_type": "stream",
     "text": [
      "Epoch: 828 \n",
      "\b Train Loss: 0.648252325682413 \n",
      "\b Train Acc: 66.72619047619048 \n",
      "\b Val Loss: 0.6488610668615862 \n",
      "\b Val Acc: 66.97443181818181\n",
      "**************************************************\n"
     ]
    },
    {
     "name": "stderr",
     "output_type": "stream",
     "text": [
      " 83%|████████▎ | 830/1000 [46:46<09:48,  3.46s/it]"
     ]
    },
    {
     "name": "stdout",
     "output_type": "stream",
     "text": [
      "Epoch: 829 \n",
      "\b Train Loss: 0.6481479095844995 \n",
      "\b Train Acc: 66.74702380952381 \n",
      "\b Val Loss: 0.6487549475648187 \n",
      "\b Val Acc: 67.06912878787878\n",
      "**************************************************\n"
     ]
    },
    {
     "name": "stderr",
     "output_type": "stream",
     "text": [
      " 83%|████████▎ | 831/1000 [46:49<09:18,  3.30s/it]"
     ]
    },
    {
     "name": "stdout",
     "output_type": "stream",
     "text": [
      "Epoch: 830 \n",
      "\b Train Loss: 0.6480413034984044 \n",
      "\b Train Acc: 66.76785714285714 \n",
      "\b Val Loss: 0.6486496902776487 \n",
      "\b Val Acc: 67.11647727272727\n",
      "**************************************************\n"
     ]
    },
    {
     "name": "stderr",
     "output_type": "stream",
     "text": [
      " 83%|████████▎ | 832/1000 [46:53<10:12,  3.65s/it]"
     ]
    },
    {
     "name": "stdout",
     "output_type": "stream",
     "text": [
      "Epoch: 831 \n",
      "\b Train Loss: 0.6479357317515781 \n",
      "\b Train Acc: 66.79464285714286 \n",
      "\b Val Loss: 0.6485420822194128 \n",
      "\b Val Acc: 67.14015151515152\n",
      "**************************************************\n"
     ]
    },
    {
     "name": "stderr",
     "output_type": "stream",
     "text": [
      " 83%|████████▎ | 833/1000 [46:56<09:33,  3.43s/it]"
     ]
    },
    {
     "name": "stdout",
     "output_type": "stream",
     "text": [
      "Epoch: 832 \n",
      "\b Train Loss: 0.6478283519971938 \n",
      "\b Train Acc: 66.80952380952381 \n",
      "\b Val Loss: 0.6484405059706081 \n",
      "\b Val Acc: 67.1875\n",
      "**************************************************\n"
     ]
    },
    {
     "name": "stderr",
     "output_type": "stream",
     "text": [
      " 83%|████████▎ | 834/1000 [47:00<09:28,  3.43s/it]"
     ]
    },
    {
     "name": "stdout",
     "output_type": "stream",
     "text": [
      "Epoch: 833 \n",
      "\b Train Loss: 0.647721889643442 \n",
      "\b Train Acc: 66.83630952380952 \n",
      "\b Val Loss: 0.6483360745690085 \n",
      "\b Val Acc: 67.11647727272727\n",
      "**************************************************\n"
     ]
    },
    {
     "name": "stderr",
     "output_type": "stream",
     "text": [
      " 84%|████████▎ | 835/1000 [47:03<09:14,  3.36s/it]"
     ]
    },
    {
     "name": "stdout",
     "output_type": "stream",
     "text": [
      "Epoch: 834 \n",
      "\b Train Loss: 0.6476138142177037 \n",
      "\b Train Acc: 66.8452380952381 \n",
      "\b Val Loss: 0.6482349349693819 \n",
      "\b Val Acc: 67.16382575757575\n",
      "**************************************************\n"
     ]
    },
    {
     "name": "stderr",
     "output_type": "stream",
     "text": [
      " 84%|████████▎ | 836/1000 [47:06<08:53,  3.25s/it]"
     ]
    },
    {
     "name": "stdout",
     "output_type": "stream",
     "text": [
      "Epoch: 835 \n",
      "\b Train Loss: 0.6475067109721048 \n",
      "\b Train Acc: 66.89285714285714 \n",
      "\b Val Loss: 0.6481278976707747 \n",
      "\b Val Acc: 67.21117424242425\n",
      "**************************************************\n"
     ]
    },
    {
     "name": "stderr",
     "output_type": "stream",
     "text": [
      " 84%|████████▎ | 837/1000 [47:09<09:03,  3.33s/it]"
     ]
    },
    {
     "name": "stdout",
     "output_type": "stream",
     "text": [
      "Epoch: 836 \n",
      "\b Train Loss: 0.6473986182326362 \n",
      "\b Train Acc: 66.93452380952381 \n",
      "\b Val Loss: 0.6480214871240385 \n",
      "\b Val Acc: 67.1875\n",
      "**************************************************\n"
     ]
    },
    {
     "name": "stderr",
     "output_type": "stream",
     "text": [
      " 84%|████████▍ | 838/1000 [47:13<08:56,  3.31s/it]"
     ]
    },
    {
     "name": "stdout",
     "output_type": "stream",
     "text": [
      "Epoch: 837 \n",
      "\b Train Loss: 0.6472924145062765 \n",
      "\b Train Acc: 66.92857142857143 \n",
      "\b Val Loss: 0.6479188108986075 \n",
      "\b Val Acc: 67.1875\n",
      "**************************************************\n"
     ]
    },
    {
     "name": "stderr",
     "output_type": "stream",
     "text": [
      " 84%|████████▍ | 839/1000 [47:16<08:33,  3.19s/it]"
     ]
    },
    {
     "name": "stdout",
     "output_type": "stream",
     "text": [
      "Epoch: 838 \n",
      "\b Train Loss: 0.6471856542428335 \n",
      "\b Train Acc: 66.95238095238095 \n",
      "\b Val Loss: 0.6478155006965002 \n",
      "\b Val Acc: 67.25852272727273\n",
      "**************************************************\n"
     ]
    },
    {
     "name": "stderr",
     "output_type": "stream",
     "text": [
      " 84%|████████▍ | 840/1000 [47:19<08:19,  3.12s/it]"
     ]
    },
    {
     "name": "stdout",
     "output_type": "stream",
     "text": [
      "Epoch: 839 \n",
      "\b Train Loss: 0.647077107713336 \n",
      "\b Train Acc: 66.97321428571429 \n",
      "\b Val Loss: 0.6477100722717516 \n",
      "\b Val Acc: 67.21117424242425\n",
      "**************************************************\n"
     ]
    },
    {
     "name": "stderr",
     "output_type": "stream",
     "text": [
      " 84%|████████▍ | 841/1000 [47:21<08:05,  3.05s/it]"
     ]
    },
    {
     "name": "stdout",
     "output_type": "stream",
     "text": [
      "Epoch: 840 \n",
      "\b Train Loss: 0.6469685485249473 \n",
      "\b Train Acc: 66.97916666666667 \n",
      "\b Val Loss: 0.6476117923404231 \n",
      "\b Val Acc: 67.28219696969697\n",
      "**************************************************\n"
     ]
    },
    {
     "name": "stderr",
     "output_type": "stream",
     "text": [
      " 84%|████████▍ | 842/1000 [47:25<08:18,  3.16s/it]"
     ]
    },
    {
     "name": "stdout",
     "output_type": "stream",
     "text": [
      "Epoch: 841 \n",
      "\b Train Loss: 0.6468608996414003 \n",
      "\b Train Acc: 66.99404761904762 \n",
      "\b Val Loss: 0.6475101876439471 \n",
      "\b Val Acc: 67.3532196969697\n",
      "**************************************************\n"
     ]
    },
    {
     "name": "stderr",
     "output_type": "stream",
     "text": [
      " 84%|████████▍ | 843/1000 [47:28<08:12,  3.14s/it]"
     ]
    },
    {
     "name": "stdout",
     "output_type": "stream",
     "text": [
      "Epoch: 842 \n",
      "\b Train Loss: 0.6467529073215667 \n",
      "\b Train Acc: 67.0297619047619 \n",
      "\b Val Loss: 0.6474045487967405 \n",
      "\b Val Acc: 67.30587121212122\n",
      "**************************************************\n"
     ]
    },
    {
     "name": "stderr",
     "output_type": "stream",
     "text": [
      " 84%|████████▍ | 844/1000 [47:31<07:54,  3.04s/it]"
     ]
    },
    {
     "name": "stdout",
     "output_type": "stream",
     "text": [
      "Epoch: 843 \n",
      "\b Train Loss: 0.6466455692904336 \n",
      "\b Train Acc: 67.03571428571429 \n",
      "\b Val Loss: 0.6473028176661694 \n",
      "\b Val Acc: 67.42424242424242\n",
      "**************************************************\n"
     ]
    },
    {
     "name": "stderr",
     "output_type": "stream",
     "text": [
      " 84%|████████▍ | 845/1000 [47:34<07:48,  3.02s/it]"
     ]
    },
    {
     "name": "stdout",
     "output_type": "stream",
     "text": [
      "Epoch: 844 \n",
      "\b Train Loss: 0.6465390050411224 \n",
      "\b Train Acc: 67.05952380952381 \n",
      "\b Val Loss: 0.647201267155734 \n",
      "\b Val Acc: 67.4715909090909\n",
      "**************************************************\n"
     ]
    },
    {
     "name": "stderr",
     "output_type": "stream",
     "text": [
      " 85%|████████▍ | 846/1000 [47:37<08:04,  3.15s/it]"
     ]
    },
    {
     "name": "stdout",
     "output_type": "stream",
     "text": [
      "Epoch: 845 \n",
      "\b Train Loss: 0.6464317152046022 \n",
      "\b Train Acc: 67.08035714285714 \n",
      "\b Val Loss: 0.6471021875287547 \n",
      "\b Val Acc: 67.4715909090909\n",
      "**************************************************\n"
     ]
    },
    {
     "name": "stderr",
     "output_type": "stream",
     "text": [
      " 85%|████████▍ | 847/1000 [47:41<08:49,  3.46s/it]"
     ]
    },
    {
     "name": "stdout",
     "output_type": "stream",
     "text": [
      "Epoch: 846 \n",
      "\b Train Loss: 0.6463257122039795 \n",
      "\b Train Acc: 67.11011904761905 \n",
      "\b Val Loss: 0.6469988348809156 \n",
      "\b Val Acc: 67.51893939393939\n",
      "**************************************************\n"
     ]
    },
    {
     "name": "stderr",
     "output_type": "stream",
     "text": [
      " 85%|████████▍ | 848/1000 [47:45<09:12,  3.63s/it]"
     ]
    },
    {
     "name": "stdout",
     "output_type": "stream",
     "text": [
      "Epoch: 847 \n",
      "\b Train Loss: 0.6462178763037636 \n",
      "\b Train Acc: 67.12797619047619 \n",
      "\b Val Loss: 0.6468962774132238 \n",
      "\b Val Acc: 67.56628787878788\n",
      "**************************************************\n"
     ]
    },
    {
     "name": "stderr",
     "output_type": "stream",
     "text": [
      " 85%|████████▍ | 849/1000 [47:49<09:14,  3.68s/it]"
     ]
    },
    {
     "name": "stdout",
     "output_type": "stream",
     "text": [
      "Epoch: 848 \n",
      "\b Train Loss: 0.6461111981528146 \n",
      "\b Train Acc: 67.13095238095238 \n",
      "\b Val Loss: 0.6467976895245638 \n",
      "\b Val Acc: 67.56628787878788\n",
      "**************************************************\n"
     ]
    },
    {
     "name": "stderr",
     "output_type": "stream",
     "text": [
      " 85%|████████▌ | 850/1000 [47:53<09:41,  3.87s/it]"
     ]
    },
    {
     "name": "stdout",
     "output_type": "stream",
     "text": [
      "Epoch: 849 \n",
      "\b Train Loss: 0.6460057503552664 \n",
      "\b Train Acc: 67.16369047619048 \n",
      "\b Val Loss: 0.646693716898109 \n",
      "\b Val Acc: 67.58996212121212\n",
      "**************************************************\n"
     ]
    },
    {
     "name": "stderr",
     "output_type": "stream",
     "text": [
      " 85%|████████▌ | 851/1000 [47:57<09:12,  3.71s/it]"
     ]
    },
    {
     "name": "stdout",
     "output_type": "stream",
     "text": [
      "Epoch: 850 \n",
      "\b Train Loss: 0.6458996858483269 \n",
      "\b Train Acc: 67.17857142857143 \n",
      "\b Val Loss: 0.6465957255074473 \n",
      "\b Val Acc: 67.66098484848484\n",
      "**************************************************\n"
     ]
    },
    {
     "name": "stderr",
     "output_type": "stream",
     "text": [
      " 85%|████████▌ | 852/1000 [48:00<08:55,  3.62s/it]"
     ]
    },
    {
     "name": "stdout",
     "output_type": "stream",
     "text": [
      "Epoch: 851 \n",
      "\b Train Loss: 0.6457938015177136 \n",
      "\b Train Acc: 67.20238095238095 \n",
      "\b Val Loss: 0.6464943109136639 \n",
      "\b Val Acc: 67.70833333333333\n",
      "**************************************************\n"
     ]
    },
    {
     "name": "stderr",
     "output_type": "stream",
     "text": [
      " 85%|████████▌ | 853/1000 [48:03<08:25,  3.44s/it]"
     ]
    },
    {
     "name": "stdout",
     "output_type": "stream",
     "text": [
      "Epoch: 852 \n",
      "\b Train Loss: 0.645686175198782 \n",
      "\b Train Acc: 67.23214285714286 \n",
      "\b Val Loss: 0.6463874822313135 \n",
      "\b Val Acc: 67.75568181818181\n",
      "**************************************************\n"
     ]
    },
    {
     "name": "stderr",
     "output_type": "stream",
     "text": [
      " 85%|████████▌ | 854/1000 [48:06<08:06,  3.33s/it]"
     ]
    },
    {
     "name": "stdout",
     "output_type": "stream",
     "text": [
      "Epoch: 853 \n",
      "\b Train Loss: 0.6455801490658806 \n",
      "\b Train Acc: 67.25595238095238 \n",
      "\b Val Loss: 0.646280052987012 \n",
      "\b Val Acc: 67.82670454545455\n",
      "**************************************************\n"
     ]
    },
    {
     "name": "stderr",
     "output_type": "stream",
     "text": [
      " 86%|████████▌ | 855/1000 [48:09<07:55,  3.28s/it]"
     ]
    },
    {
     "name": "stdout",
     "output_type": "stream",
     "text": [
      "Epoch: 854 \n",
      "\b Train Loss: 0.6454743310383388 \n",
      "\b Train Acc: 67.2797619047619 \n",
      "\b Val Loss: 0.646182483344367 \n",
      "\b Val Acc: 67.8030303030303\n",
      "**************************************************\n"
     ]
    },
    {
     "name": "stderr",
     "output_type": "stream",
     "text": [
      " 86%|████████▌ | 856/1000 [48:13<07:46,  3.24s/it]"
     ]
    },
    {
     "name": "stdout",
     "output_type": "stream",
     "text": [
      "Epoch: 855 \n",
      "\b Train Loss: 0.6453690096026375 \n",
      "\b Train Acc: 67.30357142857143 \n",
      "\b Val Loss: 0.6460731548793388 \n",
      "\b Val Acc: 67.85037878787878\n",
      "**************************************************\n"
     ]
    },
    {
     "name": "stderr",
     "output_type": "stream",
     "text": [
      " 86%|████████▌ | 857/1000 [48:16<07:57,  3.34s/it]"
     ]
    },
    {
     "name": "stdout",
     "output_type": "stream",
     "text": [
      "Epoch: 856 \n",
      "\b Train Loss: 0.6452614253191721 \n",
      "\b Train Acc: 67.30952380952381 \n",
      "\b Val Loss: 0.6459683112122796 \n",
      "\b Val Acc: 67.85037878787878\n",
      "**************************************************\n"
     ]
    },
    {
     "name": "stderr",
     "output_type": "stream",
     "text": [
      " 86%|████████▌ | 858/1000 [48:20<08:08,  3.44s/it]"
     ]
    },
    {
     "name": "stdout",
     "output_type": "stream",
     "text": [
      "Epoch: 857 \n",
      "\b Train Loss: 0.645155500741232 \n",
      "\b Train Acc: 67.33630952380952 \n",
      "\b Val Loss: 0.6458614829814795 \n",
      "\b Val Acc: 67.87405303030303\n",
      "**************************************************\n"
     ]
    },
    {
     "name": "stderr",
     "output_type": "stream",
     "text": [
      " 86%|████████▌ | 859/1000 [48:24<08:40,  3.69s/it]"
     ]
    },
    {
     "name": "stdout",
     "output_type": "stream",
     "text": [
      "Epoch: 858 \n",
      "\b Train Loss: 0.6450475046748206 \n",
      "\b Train Acc: 67.35714285714286 \n",
      "\b Val Loss: 0.6457556576439829 \n",
      "\b Val Acc: 67.89772727272727\n",
      "**************************************************\n"
     ]
    },
    {
     "name": "stderr",
     "output_type": "stream",
     "text": [
      " 86%|████████▌ | 860/1000 [48:27<08:12,  3.51s/it]"
     ]
    },
    {
     "name": "stdout",
     "output_type": "stream",
     "text": [
      "Epoch: 859 \n",
      "\b Train Loss: 0.6449398535206204 \n",
      "\b Train Acc: 67.38392857142857 \n",
      "\b Val Loss: 0.645647410642017 \n",
      "\b Val Acc: 67.87405303030303\n",
      "**************************************************\n"
     ]
    },
    {
     "name": "stderr",
     "output_type": "stream",
     "text": [
      " 86%|████████▌ | 861/1000 [48:31<08:22,  3.62s/it]"
     ]
    },
    {
     "name": "stdout",
     "output_type": "stream",
     "text": [
      "Epoch: 860 \n",
      "\b Train Loss: 0.6448342412426358 \n",
      "\b Train Acc: 67.41071428571429 \n",
      "\b Val Loss: 0.645546169443564 \n",
      "\b Val Acc: 67.92140151515152\n",
      "**************************************************\n"
     ]
    },
    {
     "name": "stderr",
     "output_type": "stream",
     "text": [
      " 86%|████████▌ | 862/1000 [48:34<08:10,  3.55s/it]"
     ]
    },
    {
     "name": "stdout",
     "output_type": "stream",
     "text": [
      "Epoch: 861 \n",
      "\b Train Loss: 0.6447268040691103 \n",
      "\b Train Acc: 67.42559523809524 \n",
      "\b Val Loss: 0.6454436738382686 \n",
      "\b Val Acc: 67.94507575757575\n",
      "**************************************************\n"
     ]
    },
    {
     "name": "stderr",
     "output_type": "stream",
     "text": [
      " 86%|████████▋ | 863/1000 [48:38<07:59,  3.50s/it]"
     ]
    },
    {
     "name": "stdout",
     "output_type": "stream",
     "text": [
      "Epoch: 862 \n",
      "\b Train Loss: 0.644618929539408 \n",
      "\b Train Acc: 67.43154761904762 \n",
      "\b Val Loss: 0.6453390193708015 \n",
      "\b Val Acc: 67.96875\n",
      "**************************************************\n"
     ]
    },
    {
     "name": "stderr",
     "output_type": "stream",
     "text": [
      " 86%|████████▋ | 864/1000 [48:41<07:46,  3.43s/it]"
     ]
    },
    {
     "name": "stdout",
     "output_type": "stream",
     "text": [
      "Epoch: 863 \n",
      "\b Train Loss: 0.6445112551961626 \n",
      "\b Train Acc: 67.46428571428571 \n",
      "\b Val Loss: 0.6452367707635417 \n",
      "\b Val Acc: 67.99242424242425\n",
      "**************************************************\n"
     ]
    },
    {
     "name": "stderr",
     "output_type": "stream",
     "text": [
      " 86%|████████▋ | 865/1000 [48:45<07:53,  3.51s/it]"
     ]
    },
    {
     "name": "stdout",
     "output_type": "stream",
     "text": [
      "Epoch: 864 \n",
      "\b Train Loss: 0.6444039328325363 \n",
      "\b Train Acc: 67.49404761904762 \n",
      "\b Val Loss: 0.6451309661973607 \n",
      "\b Val Acc: 68.03977272727273\n",
      "**************************************************\n"
     ]
    },
    {
     "name": "stderr",
     "output_type": "stream",
     "text": [
      " 87%|████████▋ | 866/1000 [48:48<07:34,  3.39s/it]"
     ]
    },
    {
     "name": "stdout",
     "output_type": "stream",
     "text": [
      "Epoch: 865 \n",
      "\b Train Loss: 0.6442996235688527 \n",
      "\b Train Acc: 67.50595238095238 \n",
      "\b Val Loss: 0.6450223511818683 \n",
      "\b Val Acc: 68.01609848484848\n",
      "**************************************************\n"
     ]
    },
    {
     "name": "stderr",
     "output_type": "stream",
     "text": [
      " 87%|████████▋ | 867/1000 [48:52<08:02,  3.63s/it]"
     ]
    },
    {
     "name": "stdout",
     "output_type": "stream",
     "text": [
      "Epoch: 866 \n",
      "\b Train Loss: 0.6441926660140356 \n",
      "\b Train Acc: 67.52678571428571 \n",
      "\b Val Loss: 0.644919753074646 \n",
      "\b Val Acc: 68.01609848484848\n",
      "**************************************************\n"
     ]
    },
    {
     "name": "stderr",
     "output_type": "stream",
     "text": [
      " 87%|████████▋ | 868/1000 [48:56<07:57,  3.62s/it]"
     ]
    },
    {
     "name": "stdout",
     "output_type": "stream",
     "text": [
      "Epoch: 867 \n",
      "\b Train Loss: 0.6440857821135294 \n",
      "\b Train Acc: 67.54761904761905 \n",
      "\b Val Loss: 0.6448133664600777 \n",
      "\b Val Acc: 68.11079545454545\n",
      "**************************************************\n"
     ]
    },
    {
     "name": "stderr",
     "output_type": "stream",
     "text": [
      " 87%|████████▋ | 869/1000 [49:00<08:09,  3.74s/it]"
     ]
    },
    {
     "name": "stdout",
     "output_type": "stream",
     "text": [
      "Epoch: 868 \n",
      "\b Train Loss: 0.6439824229195005 \n",
      "\b Train Acc: 67.57738095238095 \n",
      "\b Val Loss: 0.6447108261512987 \n",
      "\b Val Acc: 68.15814393939394\n",
      "**************************************************\n"
     ]
    },
    {
     "name": "stderr",
     "output_type": "stream",
     "text": [
      " 87%|████████▋ | 870/1000 [49:03<07:55,  3.66s/it]"
     ]
    },
    {
     "name": "stdout",
     "output_type": "stream",
     "text": [
      "Epoch: 869 \n",
      "\b Train Loss: 0.6438800187621798 \n",
      "\b Train Acc: 67.5922619047619 \n",
      "\b Val Loss: 0.6446079566623225 \n",
      "\b Val Acc: 68.20549242424242\n",
      "**************************************************\n"
     ]
    },
    {
     "name": "stderr",
     "output_type": "stream",
     "text": [
      " 87%|████████▋ | 871/1000 [49:07<07:46,  3.62s/it]"
     ]
    },
    {
     "name": "stdout",
     "output_type": "stream",
     "text": [
      "Epoch: 870 \n",
      "\b Train Loss: 0.643774155264809 \n",
      "\b Train Acc: 67.61011904761905 \n",
      "\b Val Loss: 0.6445040576385729 \n",
      "\b Val Acc: 68.2528409090909\n",
      "**************************************************\n"
     ]
    },
    {
     "name": "stderr",
     "output_type": "stream",
     "text": [
      " 87%|████████▋ | 872/1000 [49:10<07:33,  3.55s/it]"
     ]
    },
    {
     "name": "stdout",
     "output_type": "stream",
     "text": [
      "Epoch: 871 \n",
      "\b Train Loss: 0.643668999161039 \n",
      "\b Train Acc: 67.61309523809524 \n",
      "\b Val Loss: 0.6444030115098665 \n",
      "\b Val Acc: 68.30018939393939\n",
      "**************************************************\n"
     ]
    },
    {
     "name": "stderr",
     "output_type": "stream",
     "text": [
      " 87%|████████▋ | 873/1000 [49:14<07:27,  3.53s/it]"
     ]
    },
    {
     "name": "stdout",
     "output_type": "stream",
     "text": [
      "Epoch: 872 \n",
      "\b Train Loss: 0.6435659587950934 \n",
      "\b Train Acc: 67.63690476190476 \n",
      "\b Val Loss: 0.6443016745827415 \n",
      "\b Val Acc: 68.39488636363636\n",
      "**************************************************\n"
     ]
    },
    {
     "name": "stderr",
     "output_type": "stream",
     "text": [
      " 87%|████████▋ | 874/1000 [49:17<07:19,  3.49s/it]"
     ]
    },
    {
     "name": "stdout",
     "output_type": "stream",
     "text": [
      "Epoch: 873 \n",
      "\b Train Loss: 0.6434646296784992 \n",
      "\b Train Acc: 67.67857142857143 \n",
      "\b Val Loss: 0.644199270642165 \n",
      "\b Val Acc: 68.39488636363636\n",
      "**************************************************\n"
     ]
    },
    {
     "name": "stderr",
     "output_type": "stream",
     "text": [
      " 88%|████████▊ | 875/1000 [49:21<07:31,  3.61s/it]"
     ]
    },
    {
     "name": "stdout",
     "output_type": "stream",
     "text": [
      "Epoch: 874 \n",
      "\b Train Loss: 0.6433614537829444 \n",
      "\b Train Acc: 67.70535714285714 \n",
      "\b Val Loss: 0.6440988706819939 \n",
      "\b Val Acc: 68.39488636363636\n",
      "**************************************************\n"
     ]
    },
    {
     "name": "stderr",
     "output_type": "stream",
     "text": [
      " 88%|████████▊ | 876/1000 [49:24<07:16,  3.52s/it]"
     ]
    },
    {
     "name": "stdout",
     "output_type": "stream",
     "text": [
      "Epoch: 875 \n",
      "\b Train Loss: 0.6432594440380732 \n",
      "\b Train Acc: 67.7202380952381 \n",
      "\b Val Loss: 0.6440004579948656 \n",
      "\b Val Acc: 68.48958333333333\n",
      "**************************************************\n"
     ]
    },
    {
     "name": "stderr",
     "output_type": "stream",
     "text": [
      " 88%|████████▊ | 877/1000 [49:28<07:30,  3.66s/it]"
     ]
    },
    {
     "name": "stdout",
     "output_type": "stream",
     "text": [
      "Epoch: 876 \n",
      "\b Train Loss: 0.6431571789014907 \n",
      "\b Train Acc: 67.74404761904762 \n",
      "\b Val Loss: 0.6438939539772092 \n",
      "\b Val Acc: 68.53693181818181\n",
      "**************************************************\n"
     ]
    },
    {
     "name": "stderr",
     "output_type": "stream",
     "text": [
      " 88%|████████▊ | 878/1000 [49:32<07:22,  3.63s/it]"
     ]
    },
    {
     "name": "stdout",
     "output_type": "stream",
     "text": [
      "Epoch: 877 \n",
      "\b Train Loss: 0.6430539808386848 \n",
      "\b Train Acc: 67.76785714285714 \n",
      "\b Val Loss: 0.6437900517926072 \n",
      "\b Val Acc: 68.4659090909091\n",
      "**************************************************\n"
     ]
    },
    {
     "name": "stderr",
     "output_type": "stream",
     "text": [
      " 88%|████████▊ | 879/1000 [49:35<07:06,  3.52s/it]"
     ]
    },
    {
     "name": "stdout",
     "output_type": "stream",
     "text": [
      "Epoch: 878 \n",
      "\b Train Loss: 0.6429496551979156 \n",
      "\b Train Acc: 67.77678571428571 \n",
      "\b Val Loss: 0.6436869655594681 \n",
      "\b Val Acc: 68.48958333333333\n",
      "**************************************************\n"
     ]
    },
    {
     "name": "stderr",
     "output_type": "stream",
     "text": [
      " 88%|████████▊ | 880/1000 [49:38<06:41,  3.34s/it]"
     ]
    },
    {
     "name": "stdout",
     "output_type": "stream",
     "text": [
      "Epoch: 879 \n",
      "\b Train Loss: 0.6428458457049869 \n",
      "\b Train Acc: 67.79464285714286 \n",
      "\b Val Loss: 0.6435841832197073 \n",
      "\b Val Acc: 68.4659090909091\n",
      "**************************************************\n"
     ]
    },
    {
     "name": "stderr",
     "output_type": "stream",
     "text": [
      " 88%|████████▊ | 881/1000 [49:41<06:32,  3.29s/it]"
     ]
    },
    {
     "name": "stdout",
     "output_type": "stream",
     "text": [
      "Epoch: 880 \n",
      "\b Train Loss: 0.64274432854993 \n",
      "\b Train Acc: 67.80952380952381 \n",
      "\b Val Loss: 0.6434832246917667 \n",
      "\b Val Acc: 68.41856060606061\n",
      "**************************************************\n"
     ]
    },
    {
     "name": "stderr",
     "output_type": "stream",
     "text": [
      " 88%|████████▊ | 882/1000 [49:44<06:16,  3.19s/it]"
     ]
    },
    {
     "name": "stdout",
     "output_type": "stream",
     "text": [
      "Epoch: 881 \n",
      "\b Train Loss: 0.6426419254144032 \n",
      "\b Train Acc: 67.84821428571429 \n",
      "\b Val Loss: 0.6433790628657197 \n",
      "\b Val Acc: 68.44223484848484\n",
      "**************************************************\n"
     ]
    },
    {
     "name": "stderr",
     "output_type": "stream",
     "text": [
      " 88%|████████▊ | 883/1000 [49:47<06:08,  3.15s/it]"
     ]
    },
    {
     "name": "stdout",
     "output_type": "stream",
     "text": [
      "Epoch: 882 \n",
      "\b Train Loss: 0.6425428183022 \n",
      "\b Train Acc: 67.89285714285714 \n",
      "\b Val Loss: 0.6432645722772136 \n",
      "\b Val Acc: 68.32386363636364\n",
      "**************************************************\n"
     ]
    },
    {
     "name": "stderr",
     "output_type": "stream",
     "text": [
      " 88%|████████▊ | 884/1000 [49:50<05:54,  3.05s/it]"
     ]
    },
    {
     "name": "stdout",
     "output_type": "stream",
     "text": [
      "Epoch: 883 \n",
      "\b Train Loss: 0.6424396652267093 \n",
      "\b Train Acc: 67.88392857142857 \n",
      "\b Val Loss: 0.6431644518267025 \n",
      "\b Val Acc: 68.48958333333333\n",
      "**************************************************\n"
     ]
    },
    {
     "name": "stderr",
     "output_type": "stream",
     "text": [
      " 88%|████████▊ | 885/1000 [49:53<06:00,  3.14s/it]"
     ]
    },
    {
     "name": "stdout",
     "output_type": "stream",
     "text": [
      "Epoch: 884 \n",
      "\b Train Loss: 0.6423403821956544 \n",
      "\b Train Acc: 67.92559523809524 \n",
      "\b Val Loss: 0.643058411099694 \n",
      "\b Val Acc: 68.53693181818181\n",
      "**************************************************\n"
     ]
    },
    {
     "name": "stderr",
     "output_type": "stream",
     "text": [
      " 89%|████████▊ | 886/1000 [49:57<06:22,  3.36s/it]"
     ]
    },
    {
     "name": "stdout",
     "output_type": "stream",
     "text": [
      "Epoch: 885 \n",
      "\b Train Loss: 0.6422364738157817 \n",
      "\b Train Acc: 67.94047619047619 \n",
      "\b Val Loss: 0.6429599360986189 \n",
      "\b Val Acc: 68.5842803030303\n",
      "**************************************************\n"
     ]
    },
    {
     "name": "stderr",
     "output_type": "stream",
     "text": [
      " 89%|████████▊ | 887/1000 [50:01<06:48,  3.62s/it]"
     ]
    },
    {
     "name": "stdout",
     "output_type": "stream",
     "text": [
      "Epoch: 886 \n",
      "\b Train Loss: 0.6421370274112338 \n",
      "\b Train Acc: 67.9702380952381 \n",
      "\b Val Loss: 0.6428545406370452 \n",
      "\b Val Acc: 68.63162878787878\n",
      "**************************************************\n"
     ]
    },
    {
     "name": "stderr",
     "output_type": "stream",
     "text": [
      " 89%|████████▉ | 888/1000 [50:05<06:39,  3.57s/it]"
     ]
    },
    {
     "name": "stdout",
     "output_type": "stream",
     "text": [
      "Epoch: 887 \n",
      "\b Train Loss: 0.6420380141621544 \n",
      "\b Train Acc: 68.00297619047619 \n",
      "\b Val Loss: 0.6427395817908373 \n",
      "\b Val Acc: 68.56060606060606\n",
      "**************************************************\n"
     ]
    },
    {
     "name": "stderr",
     "output_type": "stream",
     "text": [
      " 89%|████████▉ | 889/1000 [50:09<06:42,  3.62s/it]"
     ]
    },
    {
     "name": "stdout",
     "output_type": "stream",
     "text": [
      "Epoch: 888 \n",
      "\b Train Loss: 0.6419352303800129 \n",
      "\b Train Acc: 68.01190476190476 \n",
      "\b Val Loss: 0.6426317985310699 \n",
      "\b Val Acc: 68.53693181818181\n",
      "**************************************************\n"
     ]
    },
    {
     "name": "stderr",
     "output_type": "stream",
     "text": [
      " 89%|████████▉ | 890/1000 [50:12<06:29,  3.54s/it]"
     ]
    },
    {
     "name": "stdout",
     "output_type": "stream",
     "text": [
      "Epoch: 889 \n",
      "\b Train Loss: 0.6418340581655503 \n",
      "\b Train Acc: 68.02083333333333 \n",
      "\b Val Loss: 0.6425412066958167 \n",
      "\b Val Acc: 68.77367424242425\n",
      "**************************************************\n"
     ]
    },
    {
     "name": "stderr",
     "output_type": "stream",
     "text": [
      " 89%|████████▉ | 891/1000 [50:16<06:30,  3.59s/it]"
     ]
    },
    {
     "name": "stdout",
     "output_type": "stream",
     "text": [
      "Epoch: 890 \n",
      "\b Train Loss: 0.6417346636738096 \n",
      "\b Train Acc: 68.05059523809524 \n",
      "\b Val Loss: 0.6424283714908542 \n",
      "\b Val Acc: 68.70265151515152\n",
      "**************************************************\n"
     ]
    },
    {
     "name": "stderr",
     "output_type": "stream",
     "text": [
      " 89%|████████▉ | 892/1000 [50:19<06:18,  3.50s/it]"
     ]
    },
    {
     "name": "stdout",
     "output_type": "stream",
     "text": [
      "Epoch: 891 \n",
      "\b Train Loss: 0.6416328964346931 \n",
      "\b Train Acc: 68.06845238095238 \n",
      "\b Val Loss: 0.6423213012290724 \n",
      "\b Val Acc: 68.65530303030303\n",
      "**************************************************\n"
     ]
    },
    {
     "name": "stderr",
     "output_type": "stream",
     "text": [
      " 89%|████████▉ | 893/1000 [50:23<06:22,  3.58s/it]"
     ]
    },
    {
     "name": "stdout",
     "output_type": "stream",
     "text": [
      "Epoch: 892 \n",
      "\b Train Loss: 0.6415309725205104 \n",
      "\b Train Acc: 68.08333333333333 \n",
      "\b Val Loss: 0.6422177128719561 \n",
      "\b Val Acc: 68.63162878787878\n",
      "**************************************************\n"
     ]
    },
    {
     "name": "stderr",
     "output_type": "stream",
     "text": [
      " 89%|████████▉ | 894/1000 [50:26<05:59,  3.40s/it]"
     ]
    },
    {
     "name": "stdout",
     "output_type": "stream",
     "text": [
      "Epoch: 893 \n",
      "\b Train Loss: 0.6414329785960061 \n",
      "\b Train Acc: 68.10416666666667 \n",
      "\b Val Loss: 0.6421143760283788 \n",
      "\b Val Acc: 68.67897727272727\n",
      "**************************************************\n"
     ]
    },
    {
     "name": "stderr",
     "output_type": "stream",
     "text": [
      " 90%|████████▉ | 895/1000 [50:29<05:44,  3.29s/it]"
     ]
    },
    {
     "name": "stdout",
     "output_type": "stream",
     "text": [
      "Epoch: 894 \n",
      "\b Train Loss: 0.6413333982796896 \n",
      "\b Train Acc: 68.11904761904762 \n",
      "\b Val Loss: 0.642013567866701 \n",
      "\b Val Acc: 68.70265151515152\n",
      "**************************************************\n"
     ]
    },
    {
     "name": "stderr",
     "output_type": "stream",
     "text": [
      " 90%|████████▉ | 896/1000 [50:32<05:40,  3.27s/it]"
     ]
    },
    {
     "name": "stdout",
     "output_type": "stream",
     "text": [
      "Epoch: 895 \n",
      "\b Train Loss: 0.6412365126042139 \n",
      "\b Train Acc: 68.14285714285714 \n",
      "\b Val Loss: 0.6419122435829856 \n",
      "\b Val Acc: 68.70265151515152\n",
      "**************************************************\n"
     ]
    },
    {
     "name": "stderr",
     "output_type": "stream",
     "text": [
      " 90%|████████▉ | 897/1000 [50:35<05:40,  3.30s/it]"
     ]
    },
    {
     "name": "stdout",
     "output_type": "stream",
     "text": [
      "Epoch: 896 \n",
      "\b Train Loss: 0.6411364106053398 \n",
      "\b Train Acc: 68.16964285714286 \n",
      "\b Val Loss: 0.6418104388497092 \n",
      "\b Val Acc: 68.65530303030303\n",
      "**************************************************\n"
     ]
    },
    {
     "name": "stderr",
     "output_type": "stream",
     "text": [
      " 90%|████████▉ | 898/1000 [50:39<05:43,  3.37s/it]"
     ]
    },
    {
     "name": "stdout",
     "output_type": "stream",
     "text": [
      "Epoch: 897 \n",
      "\b Train Loss: 0.6410375461691902 \n",
      "\b Train Acc: 68.19047619047619 \n",
      "\b Val Loss: 0.6417090897307252 \n",
      "\b Val Acc: 68.75\n",
      "**************************************************\n"
     ]
    },
    {
     "name": "stderr",
     "output_type": "stream",
     "text": [
      " 90%|████████▉ | 899/1000 [50:42<05:37,  3.34s/it]"
     ]
    },
    {
     "name": "stdout",
     "output_type": "stream",
     "text": [
      "Epoch: 898 \n",
      "\b Train Loss: 0.6409388262317294 \n",
      "\b Train Acc: 68.22321428571429 \n",
      "\b Val Loss: 0.6416034946839014 \n",
      "\b Val Acc: 68.72632575757575\n",
      "**************************************************\n"
     ]
    },
    {
     "name": "stderr",
     "output_type": "stream",
     "text": [
      " 90%|█████████ | 900/1000 [50:46<05:55,  3.56s/it]"
     ]
    },
    {
     "name": "stdout",
     "output_type": "stream",
     "text": [
      "Epoch: 899 \n",
      "\b Train Loss: 0.6408395960501262 \n",
      "\b Train Acc: 68.24404761904762 \n",
      "\b Val Loss: 0.6415025469931689 \n",
      "\b Val Acc: 68.82102272727273\n",
      "**************************************************\n"
     ]
    },
    {
     "name": "stderr",
     "output_type": "stream",
     "text": [
      " 90%|█████████ | 901/1000 [50:49<05:39,  3.43s/it]"
     ]
    },
    {
     "name": "stdout",
     "output_type": "stream",
     "text": [
      "Epoch: 900 \n",
      "\b Train Loss: 0.6407416585797355 \n",
      "\b Train Acc: 68.26785714285714 \n",
      "\b Val Loss: 0.6414010321552103 \n",
      "\b Val Acc: 68.75\n",
      "**************************************************\n"
     ]
    },
    {
     "name": "stderr",
     "output_type": "stream",
     "text": [
      " 90%|█████████ | 902/1000 [50:52<05:17,  3.24s/it]"
     ]
    },
    {
     "name": "stdout",
     "output_type": "stream",
     "text": [
      "Epoch: 901 \n",
      "\b Train Loss: 0.640643472188995 \n",
      "\b Train Acc: 68.2797619047619 \n",
      "\b Val Loss: 0.6413037140261043 \n",
      "\b Val Acc: 68.86837121212122\n",
      "**************************************************\n"
     ]
    },
    {
     "name": "stderr",
     "output_type": "stream",
     "text": [
      " 90%|█████████ | 903/1000 [50:55<05:03,  3.13s/it]"
     ]
    },
    {
     "name": "stdout",
     "output_type": "stream",
     "text": [
      "Epoch: 902 \n",
      "\b Train Loss: 0.6405452124561583 \n",
      "\b Train Acc: 68.30059523809524 \n",
      "\b Val Loss: 0.6412063647400249 \n",
      "\b Val Acc: 68.9157196969697\n",
      "**************************************************\n"
     ]
    },
    {
     "name": "stderr",
     "output_type": "stream",
     "text": [
      " 90%|█████████ | 904/1000 [50:58<04:54,  3.06s/it]"
     ]
    },
    {
     "name": "stdout",
     "output_type": "stream",
     "text": [
      "Epoch: 903 \n",
      "\b Train Loss: 0.6404476820571082 \n",
      "\b Train Acc: 68.31547619047619 \n",
      "\b Val Loss: 0.6411063400181857 \n",
      "\b Val Acc: 68.93939393939394\n",
      "**************************************************\n"
     ]
    },
    {
     "name": "stderr",
     "output_type": "stream",
     "text": [
      " 90%|█████████ | 905/1000 [51:01<04:43,  2.99s/it]"
     ]
    },
    {
     "name": "stdout",
     "output_type": "stream",
     "text": [
      "Epoch: 904 \n",
      "\b Train Loss: 0.6403505852392741 \n",
      "\b Train Acc: 68.36011904761905 \n",
      "\b Val Loss: 0.6410028749343121 \n",
      "\b Val Acc: 68.77367424242425\n",
      "**************************************************\n"
     ]
    },
    {
     "name": "stderr",
     "output_type": "stream",
     "text": [
      " 91%|█████████ | 906/1000 [51:04<04:40,  2.98s/it]"
     ]
    },
    {
     "name": "stdout",
     "output_type": "stream",
     "text": [
      "Epoch: 905 \n",
      "\b Train Loss: 0.6402524043264843 \n",
      "\b Train Acc: 68.38392857142857 \n",
      "\b Val Loss: 0.6409037090612181 \n",
      "\b Val Acc: 68.84469696969697\n",
      "**************************************************\n"
     ]
    },
    {
     "name": "stderr",
     "output_type": "stream",
     "text": [
      " 91%|█████████ | 907/1000 [51:06<04:31,  2.92s/it]"
     ]
    },
    {
     "name": "stdout",
     "output_type": "stream",
     "text": [
      "Epoch: 906 \n",
      "\b Train Loss: 0.6401558894770486 \n",
      "\b Train Acc: 68.39583333333333 \n",
      "\b Val Loss: 0.6408060513662569 \n",
      "\b Val Acc: 68.96306818181819\n",
      "**************************************************\n"
     ]
    },
    {
     "name": "stderr",
     "output_type": "stream",
     "text": [
      " 91%|█████████ | 908/1000 [51:10<04:34,  2.99s/it]"
     ]
    },
    {
     "name": "stdout",
     "output_type": "stream",
     "text": [
      "Epoch: 907 \n",
      "\b Train Loss: 0.6400602544205529 \n",
      "\b Train Acc: 68.42857142857143 \n",
      "\b Val Loss: 0.640705381378983 \n",
      "\b Val Acc: 68.89204545454545\n",
      "**************************************************\n"
     ]
    },
    {
     "name": "stderr",
     "output_type": "stream",
     "text": [
      " 91%|█████████ | 909/1000 [51:14<05:05,  3.36s/it]"
     ]
    },
    {
     "name": "stdout",
     "output_type": "stream",
     "text": [
      "Epoch: 908 \n",
      "\b Train Loss: 0.6399616063208807 \n",
      "\b Train Acc: 68.45238095238095 \n",
      "\b Val Loss: 0.640606219569842 \n",
      "\b Val Acc: 68.98674242424242\n",
      "**************************************************\n"
     ]
    },
    {
     "name": "stderr",
     "output_type": "stream",
     "text": [
      " 91%|█████████ | 910/1000 [51:17<05:03,  3.38s/it]"
     ]
    },
    {
     "name": "stdout",
     "output_type": "stream",
     "text": [
      "Epoch: 909 \n",
      "\b Train Loss: 0.6398653111287526 \n",
      "\b Train Acc: 68.47619047619048 \n",
      "\b Val Loss: 0.6405040829470663 \n",
      "\b Val Acc: 69.01041666666667\n",
      "**************************************************\n"
     ]
    },
    {
     "name": "stderr",
     "output_type": "stream",
     "text": [
      " 91%|█████████ | 911/1000 [51:20<04:57,  3.34s/it]"
     ]
    },
    {
     "name": "stdout",
     "output_type": "stream",
     "text": [
      "Epoch: 910 \n",
      "\b Train Loss: 0.6397683988866352 \n",
      "\b Train Acc: 68.50595238095238 \n",
      "\b Val Loss: 0.6404030133377422 \n",
      "\b Val Acc: 68.98674242424242\n",
      "**************************************************\n"
     ]
    },
    {
     "name": "stderr",
     "output_type": "stream",
     "text": [
      " 91%|█████████ | 912/1000 [51:24<04:52,  3.32s/it]"
     ]
    },
    {
     "name": "stdout",
     "output_type": "stream",
     "text": [
      "Epoch: 911 \n",
      "\b Train Loss: 0.6396718985977627 \n",
      "\b Train Acc: 68.52380952380952 \n",
      "\b Val Loss: 0.6403043107552961 \n",
      "\b Val Acc: 69.05776515151516\n",
      "**************************************************\n"
     ]
    },
    {
     "name": "stderr",
     "output_type": "stream",
     "text": [
      " 91%|█████████▏| 913/1000 [51:27<04:43,  3.26s/it]"
     ]
    },
    {
     "name": "stdout",
     "output_type": "stream",
     "text": [
      "Epoch: 912 \n",
      "\b Train Loss: 0.6395759281374159 \n",
      "\b Train Acc: 68.5327380952381 \n",
      "\b Val Loss: 0.6402032312118646 \n",
      "\b Val Acc: 69.0340909090909\n",
      "**************************************************\n"
     ]
    },
    {
     "name": "stderr",
     "output_type": "stream",
     "text": [
      " 91%|█████████▏| 914/1000 [51:30<04:37,  3.23s/it]"
     ]
    },
    {
     "name": "stdout",
     "output_type": "stream",
     "text": [
      "Epoch: 913 \n",
      "\b Train Loss: 0.6394802380459649 \n",
      "\b Train Acc: 68.5625 \n",
      "\b Val Loss: 0.6401021412827752 \n",
      "\b Val Acc: 68.98674242424242\n",
      "**************************************************\n"
     ]
    },
    {
     "name": "stderr",
     "output_type": "stream",
     "text": [
      " 92%|█████████▏| 915/1000 [51:33<04:34,  3.23s/it]"
     ]
    },
    {
     "name": "stdout",
     "output_type": "stream",
     "text": [
      "Epoch: 914 \n",
      "\b Train Loss: 0.639385315548806 \n",
      "\b Train Acc: 68.58035714285714 \n",
      "\b Val Loss: 0.6400025437275568 \n",
      "\b Val Acc: 68.93939393939394\n",
      "**************************************************\n"
     ]
    },
    {
     "name": "stderr",
     "output_type": "stream",
     "text": [
      " 92%|█████████▏| 916/1000 [51:36<04:31,  3.23s/it]"
     ]
    },
    {
     "name": "stdout",
     "output_type": "stream",
     "text": [
      "Epoch: 915 \n",
      "\b Train Loss: 0.6392921227500552 \n",
      "\b Train Acc: 68.61011904761905 \n",
      "\b Val Loss: 0.6399044715093843 \n",
      "\b Val Acc: 69.0340909090909\n",
      "**************************************************\n"
     ]
    },
    {
     "name": "stderr",
     "output_type": "stream",
     "text": [
      " 92%|█████████▏| 917/1000 [51:40<04:30,  3.25s/it]"
     ]
    },
    {
     "name": "stdout",
     "output_type": "stream",
     "text": [
      "Epoch: 916 \n",
      "\b Train Loss: 0.639195573755673 \n",
      "\b Train Acc: 68.63690476190476 \n",
      "\b Val Loss: 0.6398075832562014 \n",
      "\b Val Acc: 69.19981060606061\n",
      "**************************************************\n"
     ]
    },
    {
     "name": "stderr",
     "output_type": "stream",
     "text": [
      " 92%|█████████▏| 918/1000 [51:43<04:26,  3.25s/it]"
     ]
    },
    {
     "name": "stdout",
     "output_type": "stream",
     "text": [
      "Epoch: 917 \n",
      "\b Train Loss: 0.6391019491070793 \n",
      "\b Train Acc: 68.6577380952381 \n",
      "\b Val Loss: 0.6397056019667423 \n",
      "\b Val Acc: 69.10511363636364\n",
      "**************************************************\n"
     ]
    },
    {
     "name": "stderr",
     "output_type": "stream",
     "text": [
      " 92%|█████████▏| 919/1000 [51:46<04:21,  3.23s/it]"
     ]
    },
    {
     "name": "stdout",
     "output_type": "stream",
     "text": [
      "Epoch: 918 \n",
      "\b Train Loss: 0.6390064617281869 \n",
      "\b Train Acc: 68.67857142857143 \n",
      "\b Val Loss: 0.6396075184598113 \n",
      "\b Val Acc: 69.17613636363636\n",
      "**************************************************\n"
     ]
    },
    {
     "name": "stderr",
     "output_type": "stream",
     "text": [
      " 92%|█████████▏| 920/1000 [51:50<04:24,  3.30s/it]"
     ]
    },
    {
     "name": "stdout",
     "output_type": "stream",
     "text": [
      "Epoch: 919 \n",
      "\b Train Loss: 0.6389142570609138 \n",
      "\b Train Acc: 68.71428571428571 \n",
      "\b Val Loss: 0.6395078459472368 \n",
      "\b Val Acc: 69.15246212121212\n",
      "**************************************************\n"
     ]
    },
    {
     "name": "stderr",
     "output_type": "stream",
     "text": [
      " 92%|█████████▏| 921/1000 [51:53<04:20,  3.29s/it]"
     ]
    },
    {
     "name": "stdout",
     "output_type": "stream",
     "text": [
      "Epoch: 920 \n",
      "\b Train Loss: 0.6388195564065661 \n",
      "\b Train Acc: 68.73214285714286 \n",
      "\b Val Loss: 0.6394092296109055 \n",
      "\b Val Acc: 69.19981060606061\n",
      "**************************************************\n"
     ]
    },
    {
     "name": "stderr",
     "output_type": "stream",
     "text": [
      " 92%|█████████▏| 922/1000 [51:56<04:15,  3.27s/it]"
     ]
    },
    {
     "name": "stdout",
     "output_type": "stream",
     "text": [
      "Epoch: 921 \n",
      "\b Train Loss: 0.638725631407329 \n",
      "\b Train Acc: 68.74702380952381 \n",
      "\b Val Loss: 0.6393118171077786 \n",
      "\b Val Acc: 69.27083333333333\n",
      "**************************************************\n"
     ]
    },
    {
     "name": "stderr",
     "output_type": "stream",
     "text": [
      " 92%|█████████▏| 923/1000 [51:59<04:09,  3.25s/it]"
     ]
    },
    {
     "name": "stdout",
     "output_type": "stream",
     "text": [
      "Epoch: 922 \n",
      "\b Train Loss: 0.6386337444044294 \n",
      "\b Train Acc: 68.77678571428571 \n",
      "\b Val Loss: 0.6392118185758591 \n",
      "\b Val Acc: 69.2471590909091\n",
      "**************************************************\n"
     ]
    },
    {
     "name": "stderr",
     "output_type": "stream",
     "text": [
      " 92%|█████████▏| 924/1000 [52:02<04:03,  3.20s/it]"
     ]
    },
    {
     "name": "stdout",
     "output_type": "stream",
     "text": [
      "Epoch: 923 \n",
      "\b Train Loss: 0.6385402011019843 \n",
      "\b Train Acc: 68.79166666666667 \n",
      "\b Val Loss: 0.6391145225727197 \n",
      "\b Val Acc: 69.27083333333333\n",
      "**************************************************\n"
     ]
    },
    {
     "name": "stderr",
     "output_type": "stream",
     "text": [
      " 92%|█████████▎| 925/1000 [52:06<04:00,  3.21s/it]"
     ]
    },
    {
     "name": "stdout",
     "output_type": "stream",
     "text": [
      "Epoch: 924 \n",
      "\b Train Loss: 0.6384467184259778 \n",
      "\b Train Acc: 68.81845238095238 \n",
      "\b Val Loss: 0.6390168165618723 \n",
      "\b Val Acc: 69.27083333333333\n",
      "**************************************************\n"
     ]
    },
    {
     "name": "stderr",
     "output_type": "stream",
     "text": [
      " 93%|█████████▎| 926/1000 [52:09<03:58,  3.23s/it]"
     ]
    },
    {
     "name": "stdout",
     "output_type": "stream",
     "text": [
      "Epoch: 925 \n",
      "\b Train Loss: 0.6383555763676053 \n",
      "\b Train Acc: 68.83630952380952 \n",
      "\b Val Loss: 0.6389206128590035 \n",
      "\b Val Acc: 69.2471590909091\n",
      "**************************************************\n"
     ]
    },
    {
     "name": "stderr",
     "output_type": "stream",
     "text": [
      " 93%|█████████▎| 927/1000 [52:12<03:52,  3.18s/it]"
     ]
    },
    {
     "name": "stdout",
     "output_type": "stream",
     "text": [
      "Epoch: 926 \n",
      "\b Train Loss: 0.6382615302006404 \n",
      "\b Train Acc: 68.86607142857143 \n",
      "\b Val Loss: 0.6388260726675843 \n",
      "\b Val Acc: 69.31818181818181\n",
      "**************************************************\n"
     ]
    },
    {
     "name": "stderr",
     "output_type": "stream",
     "text": [
      " 93%|█████████▎| 928/1000 [52:16<03:58,  3.31s/it]"
     ]
    },
    {
     "name": "stdout",
     "output_type": "stream",
     "text": [
      "Epoch: 927 \n",
      "\b Train Loss: 0.6381679988191241 \n",
      "\b Train Acc: 68.88988095238095 \n",
      "\b Val Loss: 0.6387260628469063 \n",
      "\b Val Acc: 69.31818181818181\n",
      "**************************************************\n"
     ]
    },
    {
     "name": "stderr",
     "output_type": "stream",
     "text": [
      " 93%|█████████▎| 929/1000 [52:19<04:00,  3.39s/it]"
     ]
    },
    {
     "name": "stdout",
     "output_type": "stream",
     "text": [
      "Epoch: 928 \n",
      "\b Train Loss: 0.6380722341367177 \n",
      "\b Train Acc: 68.91369047619048 \n",
      "\b Val Loss: 0.6386263650475126 \n",
      "\b Val Acc: 69.34185606060606\n",
      "**************************************************\n"
     ]
    },
    {
     "name": "stderr",
     "output_type": "stream",
     "text": [
      " 93%|█████████▎| 930/1000 [52:23<04:03,  3.48s/it]"
     ]
    },
    {
     "name": "stdout",
     "output_type": "stream",
     "text": [
      "Epoch: 929 \n",
      "\b Train Loss: 0.6379805965650649 \n",
      "\b Train Acc: 68.93452380952381 \n",
      "\b Val Loss: 0.6385308251236425 \n",
      "\b Val Acc: 69.3655303030303\n",
      "**************************************************\n"
     ]
    },
    {
     "name": "stderr",
     "output_type": "stream",
     "text": [
      " 93%|█████████▎| 931/1000 [52:26<04:00,  3.49s/it]"
     ]
    },
    {
     "name": "stdout",
     "output_type": "stream",
     "text": [
      "Epoch: 930 \n",
      "\b Train Loss: 0.6378880989835376 \n",
      "\b Train Acc: 68.96428571428571 \n",
      "\b Val Loss: 0.63843529558543 \n",
      "\b Val Acc: 69.3655303030303\n",
      "**************************************************\n"
     ]
    },
    {
     "name": "stderr",
     "output_type": "stream",
     "text": [
      " 93%|█████████▎| 932/1000 [52:30<03:58,  3.51s/it]"
     ]
    },
    {
     "name": "stdout",
     "output_type": "stream",
     "text": [
      "Epoch: 931 \n",
      "\b Train Loss: 0.637794873714447 \n",
      "\b Train Acc: 68.98511904761905 \n",
      "\b Val Loss: 0.638335979346073 \n",
      "\b Val Acc: 69.38920454545455\n",
      "**************************************************\n"
     ]
    },
    {
     "name": "stderr",
     "output_type": "stream",
     "text": [
      " 93%|█████████▎| 933/1000 [52:33<03:47,  3.40s/it]"
     ]
    },
    {
     "name": "stdout",
     "output_type": "stream",
     "text": [
      "Epoch: 932 \n",
      "\b Train Loss: 0.6377024279321943 \n",
      "\b Train Acc: 69.01488095238095 \n",
      "\b Val Loss: 0.638240092179992 \n",
      "\b Val Acc: 69.43655303030303\n",
      "**************************************************\n"
     ]
    },
    {
     "name": "stderr",
     "output_type": "stream",
     "text": [
      " 93%|█████████▎| 934/1000 [52:36<03:38,  3.32s/it]"
     ]
    },
    {
     "name": "stdout",
     "output_type": "stream",
     "text": [
      "Epoch: 933 \n",
      "\b Train Loss: 0.6376086354823339 \n",
      "\b Train Acc: 69.03869047619048 \n",
      "\b Val Loss: 0.6381441594073267 \n",
      "\b Val Acc: 69.41287878787878\n",
      "**************************************************\n"
     ]
    },
    {
     "name": "stderr",
     "output_type": "stream",
     "text": [
      " 94%|█████████▎| 935/1000 [52:39<03:31,  3.25s/it]"
     ]
    },
    {
     "name": "stdout",
     "output_type": "stream",
     "text": [
      "Epoch: 934 \n",
      "\b Train Loss: 0.6375160931121735 \n",
      "\b Train Acc: 69.04761904761905 \n",
      "\b Val Loss: 0.6380485892295837 \n",
      "\b Val Acc: 69.41287878787878\n",
      "**************************************************\n"
     ]
    },
    {
     "name": "stderr",
     "output_type": "stream",
     "text": [
      " 94%|█████████▎| 936/1000 [52:43<03:31,  3.31s/it]"
     ]
    },
    {
     "name": "stdout",
     "output_type": "stream",
     "text": [
      "Epoch: 935 \n",
      "\b Train Loss: 0.637425963424501 \n",
      "\b Train Acc: 69.07142857142857 \n",
      "\b Val Loss: 0.6379572053750356 \n",
      "\b Val Acc: 69.50757575757575\n",
      "**************************************************\n"
     ]
    },
    {
     "name": "stderr",
     "output_type": "stream",
     "text": [
      " 94%|█████████▎| 937/1000 [52:46<03:24,  3.24s/it]"
     ]
    },
    {
     "name": "stdout",
     "output_type": "stream",
     "text": [
      "Epoch: 936 \n",
      "\b Train Loss: 0.6373335165353048 \n",
      "\b Train Acc: 69.08928571428571 \n",
      "\b Val Loss: 0.6378671445629813 \n",
      "\b Val Acc: 69.57859848484848\n",
      "**************************************************\n"
     ]
    },
    {
     "name": "stderr",
     "output_type": "stream",
     "text": [
      " 94%|█████████▍| 938/1000 [52:49<03:19,  3.21s/it]"
     ]
    },
    {
     "name": "stdout",
     "output_type": "stream",
     "text": [
      "Epoch: 937 \n",
      "\b Train Loss: 0.6372462572370257 \n",
      "\b Train Acc: 69.12202380952381 \n",
      "\b Val Loss: 0.6377774413787958 \n",
      "\b Val Acc: 69.62594696969697\n",
      "**************************************************\n"
     ]
    },
    {
     "name": "stderr",
     "output_type": "stream",
     "text": [
      " 94%|█████████▍| 939/1000 [52:52<03:12,  3.15s/it]"
     ]
    },
    {
     "name": "stdout",
     "output_type": "stream",
     "text": [
      "Epoch: 938 \n",
      "\b Train Loss: 0.6371536812044325 \n",
      "\b Train Acc: 69.14880952380952 \n",
      "\b Val Loss: 0.6376867000803803 \n",
      "\b Val Acc: 69.72064393939394\n",
      "**************************************************\n"
     ]
    },
    {
     "name": "stderr",
     "output_type": "stream",
     "text": [
      " 94%|█████████▍| 940/1000 [52:55<03:09,  3.16s/it]"
     ]
    },
    {
     "name": "stdout",
     "output_type": "stream",
     "text": [
      "Epoch: 939 \n",
      "\b Train Loss: 0.6370642431009383 \n",
      "\b Train Acc: 69.17559523809524 \n",
      "\b Val Loss: 0.6375865642771577 \n",
      "\b Val Acc: 69.6969696969697\n",
      "**************************************************\n"
     ]
    },
    {
     "name": "stderr",
     "output_type": "stream",
     "text": [
      " 94%|█████████▍| 941/1000 [52:58<03:04,  3.13s/it]"
     ]
    },
    {
     "name": "stdout",
     "output_type": "stream",
     "text": [
      "Epoch: 940 \n",
      "\b Train Loss: 0.63697514519805 \n",
      "\b Train Acc: 69.19047619047619 \n",
      "\b Val Loss: 0.6374958302035476 \n",
      "\b Val Acc: 69.74431818181819\n",
      "**************************************************\n"
     ]
    },
    {
     "name": "stderr",
     "output_type": "stream",
     "text": [
      " 94%|█████████▍| 942/1000 [53:02<03:08,  3.24s/it]"
     ]
    },
    {
     "name": "stdout",
     "output_type": "stream",
     "text": [
      "Epoch: 941 \n",
      "\b Train Loss: 0.636882432954652 \n",
      "\b Train Acc: 69.22916666666667 \n",
      "\b Val Loss: 0.6373996549483502 \n",
      "\b Val Acc: 69.6969696969697\n",
      "**************************************************\n"
     ]
    },
    {
     "name": "stderr",
     "output_type": "stream",
     "text": [
      " 94%|█████████▍| 943/1000 [53:05<03:10,  3.35s/it]"
     ]
    },
    {
     "name": "stdout",
     "output_type": "stream",
     "text": [
      "Epoch: 942 \n",
      "\b Train Loss: 0.6367925415436427 \n",
      "\b Train Acc: 69.25297619047619 \n",
      "\b Val Loss: 0.6373045697356715 \n",
      "\b Val Acc: 69.74431818181819\n",
      "**************************************************\n"
     ]
    },
    {
     "name": "stderr",
     "output_type": "stream",
     "text": [
      " 94%|█████████▍| 944/1000 [53:09<03:08,  3.37s/it]"
     ]
    },
    {
     "name": "stdout",
     "output_type": "stream",
     "text": [
      "Epoch: 943 \n",
      "\b Train Loss: 0.6367045849845523 \n",
      "\b Train Acc: 69.2827380952381 \n",
      "\b Val Loss: 0.6372106860984456 \n",
      "\b Val Acc: 69.8153409090909\n",
      "**************************************************\n"
     ]
    },
    {
     "name": "stderr",
     "output_type": "stream",
     "text": [
      " 94%|█████████▍| 945/1000 [53:12<03:06,  3.39s/it]"
     ]
    },
    {
     "name": "stdout",
     "output_type": "stream",
     "text": [
      "Epoch: 944 \n",
      "\b Train Loss: 0.6366133531502315 \n",
      "\b Train Acc: 69.30357142857143 \n",
      "\b Val Loss: 0.637114583994403 \n",
      "\b Val Acc: 69.91003787878788\n",
      "**************************************************\n"
     ]
    },
    {
     "name": "stderr",
     "output_type": "stream",
     "text": [
      " 95%|█████████▍| 946/1000 [53:16<03:03,  3.40s/it]"
     ]
    },
    {
     "name": "stdout",
     "output_type": "stream",
     "text": [
      "Epoch: 945 \n",
      "\b Train Loss: 0.6365242447171893 \n",
      "\b Train Acc: 69.31845238095238 \n",
      "\b Val Loss: 0.6370198261557203 \n",
      "\b Val Acc: 69.95738636363636\n",
      "**************************************************\n"
     ]
    },
    {
     "name": "stderr",
     "output_type": "stream",
     "text": [
      " 95%|█████████▍| 947/1000 [53:19<03:00,  3.40s/it]"
     ]
    },
    {
     "name": "stdout",
     "output_type": "stream",
     "text": [
      "Epoch: 946 \n",
      "\b Train Loss: 0.6364348008235295 \n",
      "\b Train Acc: 69.3125 \n",
      "\b Val Loss: 0.6369317137833798 \n",
      "\b Val Acc: 69.95738636363636\n",
      "**************************************************\n"
     ]
    },
    {
     "name": "stderr",
     "output_type": "stream",
     "text": [
      " 95%|█████████▍| 948/1000 [53:22<02:57,  3.41s/it]"
     ]
    },
    {
     "name": "stdout",
     "output_type": "stream",
     "text": [
      "Epoch: 947 \n",
      "\b Train Loss: 0.6363469118447531 \n",
      "\b Train Acc: 69.3422619047619 \n",
      "\b Val Loss: 0.6368350490476146 \n",
      "\b Val Acc: 70.00473484848484\n",
      "**************************************************\n"
     ]
    },
    {
     "name": "stderr",
     "output_type": "stream",
     "text": [
      " 95%|█████████▍| 949/1000 [53:26<03:03,  3.59s/it]"
     ]
    },
    {
     "name": "stdout",
     "output_type": "stream",
     "text": [
      "Epoch: 948 \n",
      "\b Train Loss: 0.6362569745381673 \n",
      "\b Train Acc: 69.375 \n",
      "\b Val Loss: 0.6367442332433931 \n",
      "\b Val Acc: 70.0284090909091\n",
      "**************************************************\n"
     ]
    },
    {
     "name": "stderr",
     "output_type": "stream",
     "text": [
      " 95%|█████████▌| 950/1000 [53:30<03:03,  3.67s/it]"
     ]
    },
    {
     "name": "stdout",
     "output_type": "stream",
     "text": [
      "Epoch: 949 \n",
      "\b Train Loss: 0.6361714629899888 \n",
      "\b Train Acc: 69.37797619047619 \n",
      "\b Val Loss: 0.636656407605518 \n",
      "\b Val Acc: 70.0284090909091\n",
      "**************************************************\n"
     ]
    },
    {
     "name": "stderr",
     "output_type": "stream",
     "text": [
      " 95%|█████████▌| 951/1000 [53:34<02:56,  3.60s/it]"
     ]
    },
    {
     "name": "stdout",
     "output_type": "stream",
     "text": [
      "Epoch: 950 \n",
      "\b Train Loss: 0.6360847309373674 \n",
      "\b Train Acc: 69.40178571428571 \n",
      "\b Val Loss: 0.6365667120976881 \n",
      "\b Val Acc: 70.07575757575758\n",
      "**************************************************\n"
     ]
    },
    {
     "name": "stderr",
     "output_type": "stream",
     "text": [
      " 95%|█████████▌| 952/1000 [53:37<02:54,  3.63s/it]"
     ]
    },
    {
     "name": "stdout",
     "output_type": "stream",
     "text": [
      "Epoch: 951 \n",
      "\b Train Loss: 0.6359973300922485 \n",
      "\b Train Acc: 69.41666666666667 \n",
      "\b Val Loss: 0.6364747723846724 \n",
      "\b Val Acc: 70.12310606060606\n",
      "**************************************************\n"
     ]
    },
    {
     "name": "stderr",
     "output_type": "stream",
     "text": [
      " 95%|█████████▌| 953/1000 [53:42<02:58,  3.80s/it]"
     ]
    },
    {
     "name": "stdout",
     "output_type": "stream",
     "text": [
      "Epoch: 952 \n",
      "\b Train Loss: 0.6359095094601314 \n",
      "\b Train Acc: 69.45535714285714 \n",
      "\b Val Loss: 0.6363776886101925 \n",
      "\b Val Acc: 70.21780303030303\n",
      "**************************************************\n"
     ]
    },
    {
     "name": "stderr",
     "output_type": "stream",
     "text": [
      " 95%|█████████▌| 954/1000 [53:46<02:59,  3.90s/it]"
     ]
    },
    {
     "name": "stdout",
     "output_type": "stream",
     "text": [
      "Epoch: 953 \n",
      "\b Train Loss: 0.6358227045195444 \n",
      "\b Train Acc: 69.4672619047619 \n",
      "\b Val Loss: 0.636288914716605 \n",
      "\b Val Acc: 70.21780303030303\n",
      "**************************************************\n"
     ]
    },
    {
     "name": "stderr",
     "output_type": "stream",
     "text": [
      " 96%|█████████▌| 955/1000 [53:50<02:54,  3.88s/it]"
     ]
    },
    {
     "name": "stdout",
     "output_type": "stream",
     "text": [
      "Epoch: 954 \n",
      "\b Train Loss: 0.6357380706639517 \n",
      "\b Train Acc: 69.47321428571429 \n",
      "\b Val Loss: 0.6361971845229467 \n",
      "\b Val Acc: 70.24147727272727\n",
      "**************************************************\n"
     ]
    },
    {
     "name": "stderr",
     "output_type": "stream",
     "text": [
      " 96%|█████████▌| 956/1000 [53:53<02:47,  3.80s/it]"
     ]
    },
    {
     "name": "stdout",
     "output_type": "stream",
     "text": [
      "Epoch: 955 \n",
      "\b Train Loss: 0.6356509880224863 \n",
      "\b Train Acc: 69.48511904761905 \n",
      "\b Val Loss: 0.6361049729766268 \n",
      "\b Val Acc: 70.26515151515152\n",
      "**************************************************\n"
     ]
    },
    {
     "name": "stderr",
     "output_type": "stream",
     "text": [
      " 96%|█████████▌| 957/1000 [53:57<02:48,  3.92s/it]"
     ]
    },
    {
     "name": "stdout",
     "output_type": "stream",
     "text": [
      "Epoch: 956 \n",
      "\b Train Loss: 0.6355614275024051 \n",
      "\b Train Acc: 69.50595238095238 \n",
      "\b Val Loss: 0.6360187087998246 \n",
      "\b Val Acc: 70.28882575757575\n",
      "**************************************************\n"
     ]
    },
    {
     "name": "stderr",
     "output_type": "stream",
     "text": [
      " 96%|█████████▌| 958/1000 [54:01<02:36,  3.72s/it]"
     ]
    },
    {
     "name": "stdout",
     "output_type": "stream",
     "text": [
      "Epoch: 957 \n",
      "\b Train Loss: 0.6354754319928941 \n",
      "\b Train Acc: 69.5327380952381 \n",
      "\b Val Loss: 0.635926911776716 \n",
      "\b Val Acc: 70.28882575757575\n",
      "**************************************************\n"
     ]
    },
    {
     "name": "stderr",
     "output_type": "stream",
     "text": [
      " 96%|█████████▌| 959/1000 [54:05<02:38,  3.87s/it]"
     ]
    },
    {
     "name": "stdout",
     "output_type": "stream",
     "text": [
      "Epoch: 958 \n",
      "\b Train Loss: 0.6353866784345537 \n",
      "\b Train Acc: 69.53869047619048 \n",
      "\b Val Loss: 0.6358366206739888 \n",
      "\b Val Acc: 70.28882575757575\n",
      "**************************************************\n"
     ]
    },
    {
     "name": "stderr",
     "output_type": "stream",
     "text": [
      " 96%|█████████▌| 960/1000 [54:08<02:28,  3.72s/it]"
     ]
    },
    {
     "name": "stdout",
     "output_type": "stream",
     "text": [
      "Epoch: 959 \n",
      "\b Train Loss: 0.6353036655982336 \n",
      "\b Train Acc: 69.55952380952381 \n",
      "\b Val Loss: 0.6357459448503725 \n",
      "\b Val Acc: 70.26515151515152\n",
      "**************************************************\n"
     ]
    },
    {
     "name": "stderr",
     "output_type": "stream",
     "text": [
      " 96%|█████████▌| 961/1000 [54:12<02:21,  3.62s/it]"
     ]
    },
    {
     "name": "stdout",
     "output_type": "stream",
     "text": [
      "Epoch: 960 \n",
      "\b Train Loss: 0.635216901188805 \n",
      "\b Train Acc: 69.58035714285714 \n",
      "\b Val Loss: 0.6356588453054428 \n",
      "\b Val Acc: 70.3125\n",
      "**************************************************\n"
     ]
    },
    {
     "name": "stderr",
     "output_type": "stream",
     "text": [
      " 96%|█████████▌| 962/1000 [54:15<02:16,  3.58s/it]"
     ]
    },
    {
     "name": "stdout",
     "output_type": "stream",
     "text": [
      "Epoch: 961 \n",
      "\b Train Loss: 0.6351316043592634 \n",
      "\b Train Acc: 69.59821428571429 \n",
      "\b Val Loss: 0.6355728570258978 \n",
      "\b Val Acc: 70.33617424242425\n",
      "**************************************************\n"
     ]
    },
    {
     "name": "stderr",
     "output_type": "stream",
     "text": [
      " 96%|█████████▋| 963/1000 [54:19<02:15,  3.65s/it]"
     ]
    },
    {
     "name": "stdout",
     "output_type": "stream",
     "text": [
      "Epoch: 962 \n",
      "\b Train Loss: 0.6350469550916127 \n",
      "\b Train Acc: 69.62202380952381 \n",
      "\b Val Loss: 0.6354849641070222 \n",
      "\b Val Acc: 70.3125\n",
      "**************************************************\n"
     ]
    },
    {
     "name": "stderr",
     "output_type": "stream",
     "text": [
      " 96%|█████████▋| 964/1000 [54:23<02:13,  3.71s/it]"
     ]
    },
    {
     "name": "stdout",
     "output_type": "stream",
     "text": [
      "Epoch: 963 \n",
      "\b Train Loss: 0.6349636999198368 \n",
      "\b Train Acc: 69.6547619047619 \n",
      "\b Val Loss: 0.635396044362675 \n",
      "\b Val Acc: 70.3125\n",
      "**************************************************\n"
     ]
    },
    {
     "name": "stderr",
     "output_type": "stream",
     "text": [
      " 96%|█████████▋| 965/1000 [54:26<02:06,  3.61s/it]"
     ]
    },
    {
     "name": "stdout",
     "output_type": "stream",
     "text": [
      "Epoch: 964 \n",
      "\b Train Loss: 0.634879133956773 \n",
      "\b Train Acc: 69.67857142857143 \n",
      "\b Val Loss: 0.6353060255448023 \n",
      "\b Val Acc: 70.28882575757575\n",
      "**************************************************\n"
     ]
    },
    {
     "name": "stderr",
     "output_type": "stream",
     "text": [
      " 97%|█████████▋| 966/1000 [54:31<02:11,  3.86s/it]"
     ]
    },
    {
     "name": "stdout",
     "output_type": "stream",
     "text": [
      "Epoch: 965 \n",
      "\b Train Loss: 0.6347950598171779 \n",
      "\b Train Acc: 69.69940476190476 \n",
      "\b Val Loss: 0.6352176982345004 \n",
      "\b Val Acc: 70.28882575757575\n",
      "**************************************************\n"
     ]
    },
    {
     "name": "stderr",
     "output_type": "stream",
     "text": [
      " 97%|█████████▋| 967/1000 [54:35<02:17,  4.16s/it]"
     ]
    },
    {
     "name": "stdout",
     "output_type": "stream",
     "text": [
      "Epoch: 966 \n",
      "\b Train Loss: 0.6347105438084829 \n",
      "\b Train Acc: 69.71428571428571 \n",
      "\b Val Loss: 0.6351297723524498 \n",
      "\b Val Acc: 70.26515151515152\n",
      "**************************************************\n"
     ]
    },
    {
     "name": "stderr",
     "output_type": "stream",
     "text": [
      " 97%|█████████▋| 968/1000 [54:40<02:18,  4.33s/it]"
     ]
    },
    {
     "name": "stdout",
     "output_type": "stream",
     "text": [
      "Epoch: 967 \n",
      "\b Train Loss: 0.6346271749621346 \n",
      "\b Train Acc: 69.7202380952381 \n",
      "\b Val Loss: 0.6350452705766215 \n",
      "\b Val Acc: 70.24147727272727\n",
      "**************************************************\n"
     ]
    },
    {
     "name": "stderr",
     "output_type": "stream",
     "text": [
      " 97%|█████████▋| 969/1000 [54:45<02:17,  4.44s/it]"
     ]
    },
    {
     "name": "stdout",
     "output_type": "stream",
     "text": [
      "Epoch: 968 \n",
      "\b Train Loss: 0.6345427875291734 \n",
      "\b Train Acc: 69.73511904761905 \n",
      "\b Val Loss: 0.6349571654290864 \n",
      "\b Val Acc: 70.24147727272727\n",
      "**************************************************\n"
     ]
    },
    {
     "name": "stderr",
     "output_type": "stream",
     "text": [
      " 97%|█████████▋| 970/1000 [54:49<02:06,  4.22s/it]"
     ]
    },
    {
     "name": "stdout",
     "output_type": "stream",
     "text": [
      "Epoch: 969 \n",
      "\b Train Loss: 0.6344574918065752 \n",
      "\b Train Acc: 69.74404761904762 \n",
      "\b Val Loss: 0.6348753160599506 \n",
      "\b Val Acc: 70.33617424242425\n",
      "**************************************************\n"
     ]
    },
    {
     "name": "stderr",
     "output_type": "stream",
     "text": [
      " 97%|█████████▋| 971/1000 [54:52<01:53,  3.93s/it]"
     ]
    },
    {
     "name": "stdout",
     "output_type": "stream",
     "text": [
      "Epoch: 970 \n",
      "\b Train Loss: 0.6343754430611929 \n",
      "\b Train Acc: 69.75297619047619 \n",
      "\b Val Loss: 0.6347894790497693 \n",
      "\b Val Acc: 70.38352272727273\n",
      "**************************************************\n"
     ]
    },
    {
     "name": "stderr",
     "output_type": "stream",
     "text": [
      " 97%|█████████▋| 972/1000 [54:56<01:48,  3.86s/it]"
     ]
    },
    {
     "name": "stdout",
     "output_type": "stream",
     "text": [
      "Epoch: 971 \n",
      "\b Train Loss: 0.6342911212784903 \n",
      "\b Train Acc: 69.77083333333333 \n",
      "\b Val Loss: 0.6347062113610181 \n",
      "\b Val Acc: 70.38352272727273\n",
      "**************************************************\n"
     ]
    },
    {
     "name": "stderr",
     "output_type": "stream",
     "text": [
      " 97%|█████████▋| 973/1000 [54:59<01:39,  3.67s/it]"
     ]
    },
    {
     "name": "stdout",
     "output_type": "stream",
     "text": [
      "Epoch: 972 \n",
      "\b Train Loss: 0.6342059474615823 \n",
      "\b Train Acc: 69.7797619047619 \n",
      "\b Val Loss: 0.6346222970521811 \n",
      "\b Val Acc: 70.40719696969697\n",
      "**************************************************\n"
     ]
    },
    {
     "name": "stderr",
     "output_type": "stream",
     "text": [
      " 97%|█████████▋| 974/1000 [55:02<01:30,  3.48s/it]"
     ]
    },
    {
     "name": "stdout",
     "output_type": "stream",
     "text": [
      "Epoch: 973 \n",
      "\b Train Loss: 0.6341226281722386 \n",
      "\b Train Acc: 69.80059523809524 \n",
      "\b Val Loss: 0.63452763449062 \n",
      "\b Val Acc: 70.43087121212122\n",
      "**************************************************\n"
     ]
    },
    {
     "name": "stderr",
     "output_type": "stream",
     "text": [
      " 98%|█████████▊| 975/1000 [55:05<01:23,  3.34s/it]"
     ]
    },
    {
     "name": "stdout",
     "output_type": "stream",
     "text": [
      "Epoch: 974 \n",
      "\b Train Loss: 0.6340386077052071 \n",
      "\b Train Acc: 69.80952380952381 \n",
      "\b Val Loss: 0.6344374738859407 \n",
      "\b Val Acc: 70.45454545454545\n",
      "**************************************************\n"
     ]
    },
    {
     "name": "stderr",
     "output_type": "stream",
     "text": [
      " 98%|█████████▊| 976/1000 [55:08<01:16,  3.18s/it]"
     ]
    },
    {
     "name": "stdout",
     "output_type": "stream",
     "text": [
      "Epoch: 975 \n",
      "\b Train Loss: 0.6339566795882725 \n",
      "\b Train Acc: 69.8125 \n",
      "\b Val Loss: 0.6343623973203428 \n",
      "\b Val Acc: 70.54924242424242\n",
      "**************************************************\n"
     ]
    },
    {
     "name": "stderr",
     "output_type": "stream",
     "text": [
      " 98%|█████████▊| 977/1000 [55:11<01:11,  3.10s/it]"
     ]
    },
    {
     "name": "stdout",
     "output_type": "stream",
     "text": [
      "Epoch: 976 \n",
      "\b Train Loss: 0.6338743257806415 \n",
      "\b Train Acc: 69.83333333333333 \n",
      "\b Val Loss: 0.6342701383612372 \n",
      "\b Val Acc: 70.52556818181819\n",
      "**************************************************\n"
     ]
    },
    {
     "name": "stderr",
     "output_type": "stream",
     "text": [
      " 98%|█████████▊| 978/1000 [55:13<01:06,  3.03s/it]"
     ]
    },
    {
     "name": "stdout",
     "output_type": "stream",
     "text": [
      "Epoch: 977 \n",
      "\b Train Loss: 0.6337890263114657 \n",
      "\b Train Acc: 69.8452380952381 \n",
      "\b Val Loss: 0.634182867678729 \n",
      "\b Val Acc: 70.57291666666667\n",
      "**************************************************\n"
     ]
    },
    {
     "name": "stderr",
     "output_type": "stream",
     "text": [
      " 98%|█████████▊| 979/1000 [55:16<01:02,  2.98s/it]"
     ]
    },
    {
     "name": "stdout",
     "output_type": "stream",
     "text": [
      "Epoch: 978 \n",
      "\b Train Loss: 0.6337074264458248 \n",
      "\b Train Acc: 69.85416666666667 \n",
      "\b Val Loss: 0.634096751610438 \n",
      "\b Val Acc: 70.57291666666667\n",
      "**************************************************\n"
     ]
    },
    {
     "name": "stderr",
     "output_type": "stream",
     "text": [
      " 98%|█████████▊| 980/1000 [55:19<00:58,  2.93s/it]"
     ]
    },
    {
     "name": "stdout",
     "output_type": "stream",
     "text": [
      "Epoch: 979 \n",
      "\b Train Loss: 0.6336241311402548 \n",
      "\b Train Acc: 69.86309523809524 \n",
      "\b Val Loss: 0.634014221754941 \n",
      "\b Val Acc: 70.5965909090909\n",
      "**************************************************\n"
     ]
    },
    {
     "name": "stderr",
     "output_type": "stream",
     "text": [
      " 98%|█████████▊| 981/1000 [55:22<00:55,  2.91s/it]"
     ]
    },
    {
     "name": "stdout",
     "output_type": "stream",
     "text": [
      "Epoch: 980 \n",
      "\b Train Loss: 0.6335428881361371 \n",
      "\b Train Acc: 69.88690476190476 \n",
      "\b Val Loss: 0.6339227855205536 \n",
      "\b Val Acc: 70.5965909090909\n",
      "**************************************************\n"
     ]
    },
    {
     "name": "stderr",
     "output_type": "stream",
     "text": [
      " 98%|█████████▊| 982/1000 [55:25<00:52,  2.94s/it]"
     ]
    },
    {
     "name": "stdout",
     "output_type": "stream",
     "text": [
      "Epoch: 981 \n",
      "\b Train Loss: 0.6334598640033177 \n",
      "\b Train Acc: 69.9047619047619 \n",
      "\b Val Loss: 0.6338368582003044 \n",
      "\b Val Acc: 70.57291666666667\n",
      "**************************************************\n"
     ]
    },
    {
     "name": "stderr",
     "output_type": "stream",
     "text": [
      " 98%|█████████▊| 983/1000 [55:28<00:49,  2.93s/it]"
     ]
    },
    {
     "name": "stdout",
     "output_type": "stream",
     "text": [
      "Epoch: 982 \n",
      "\b Train Loss: 0.6333770572003864 \n",
      "\b Train Acc: 69.93452380952381 \n",
      "\b Val Loss: 0.6337518461725928 \n",
      "\b Val Acc: 70.57291666666667\n",
      "**************************************************\n"
     ]
    },
    {
     "name": "stderr",
     "output_type": "stream",
     "text": [
      " 98%|█████████▊| 984/1000 [55:31<00:46,  2.91s/it]"
     ]
    },
    {
     "name": "stdout",
     "output_type": "stream",
     "text": [
      "Epoch: 983 \n",
      "\b Train Loss: 0.6332958104780743 \n",
      "\b Train Acc: 69.94047619047619 \n",
      "\b Val Loss: 0.633669866305409 \n",
      "\b Val Acc: 70.64393939393939\n",
      "**************************************************\n"
     ]
    },
    {
     "name": "stderr",
     "output_type": "stream",
     "text": [
      " 98%|█████████▊| 985/1000 [55:34<00:43,  2.89s/it]"
     ]
    },
    {
     "name": "stdout",
     "output_type": "stream",
     "text": [
      "Epoch: 984 \n",
      "\b Train Loss: 0.63321324745814 \n",
      "\b Train Acc: 69.96130952380952 \n",
      "\b Val Loss: 0.633589066790812 \n",
      "\b Val Acc: 70.66761363636364\n",
      "**************************************************\n"
     ]
    },
    {
     "name": "stderr",
     "output_type": "stream",
     "text": [
      " 99%|█████████▊| 986/1000 [55:37<00:40,  2.90s/it]"
     ]
    },
    {
     "name": "stdout",
     "output_type": "stream",
     "text": [
      "Epoch: 985 \n",
      "\b Train Loss: 0.6331320703029633 \n",
      "\b Train Acc: 69.98214285714286 \n",
      "\b Val Loss: 0.6335067744507934 \n",
      "\b Val Acc: 70.71496212121212\n",
      "**************************************************\n"
     ]
    },
    {
     "name": "stderr",
     "output_type": "stream",
     "text": [
      " 99%|█████████▊| 987/1000 [55:39<00:37,  2.91s/it]"
     ]
    },
    {
     "name": "stdout",
     "output_type": "stream",
     "text": [
      "Epoch: 986 \n",
      "\b Train Loss: 0.6330519592761994 \n",
      "\b Train Acc: 70.00595238095238 \n",
      "\b Val Loss: 0.6334178831541177 \n",
      "\b Val Acc: 70.69128787878788\n",
      "**************************************************\n"
     ]
    },
    {
     "name": "stderr",
     "output_type": "stream",
     "text": [
      " 99%|█████████▉| 988/1000 [55:42<00:34,  2.87s/it]"
     ]
    },
    {
     "name": "stdout",
     "output_type": "stream",
     "text": [
      "Epoch: 987 \n",
      "\b Train Loss: 0.6329695819105421 \n",
      "\b Train Acc: 70.0297619047619 \n",
      "\b Val Loss: 0.6333339363336563 \n",
      "\b Val Acc: 70.76231060606061\n",
      "**************************************************\n"
     ]
    },
    {
     "name": "stderr",
     "output_type": "stream",
     "text": [
      " 99%|█████████▉| 989/1000 [55:45<00:31,  2.88s/it]"
     ]
    },
    {
     "name": "stdout",
     "output_type": "stream",
     "text": [
      "Epoch: 988 \n",
      "\b Train Loss: 0.6328898865552176 \n",
      "\b Train Acc: 70.04464285714286 \n",
      "\b Val Loss: 0.6332550771308668 \n",
      "\b Val Acc: 70.78598484848484\n",
      "**************************************************\n"
     ]
    },
    {
     "name": "stderr",
     "output_type": "stream",
     "text": [
      " 99%|█████████▉| 990/1000 [55:48<00:28,  2.88s/it]"
     ]
    },
    {
     "name": "stdout",
     "output_type": "stream",
     "text": [
      "Epoch: 989 \n",
      "\b Train Loss: 0.6328077537389029 \n",
      "\b Train Acc: 70.05952380952381 \n",
      "\b Val Loss: 0.6331719841920969 \n",
      "\b Val Acc: 70.78598484848484\n",
      "**************************************************\n"
     ]
    },
    {
     "name": "stderr",
     "output_type": "stream",
     "text": [
      " 99%|█████████▉| 991/1000 [55:51<00:25,  2.87s/it]"
     ]
    },
    {
     "name": "stdout",
     "output_type": "stream",
     "text": [
      "Epoch: 990 \n",
      "\b Train Loss: 0.6327266744772593 \n",
      "\b Train Acc: 70.07738095238095 \n",
      "\b Val Loss: 0.633082980910937 \n",
      "\b Val Acc: 70.88068181818181\n",
      "**************************************************\n"
     ]
    },
    {
     "name": "stderr",
     "output_type": "stream",
     "text": [
      " 99%|█████████▉| 992/1000 [55:54<00:22,  2.85s/it]"
     ]
    },
    {
     "name": "stdout",
     "output_type": "stream",
     "text": [
      "Epoch: 991 \n",
      "\b Train Loss: 0.6326487293413707 \n",
      "\b Train Acc: 70.11309523809524 \n",
      "\b Val Loss: 0.6330034001307054 \n",
      "\b Val Acc: 70.88068181818181\n",
      "**************************************************\n"
     ]
    },
    {
     "name": "stderr",
     "output_type": "stream",
     "text": [
      " 99%|█████████▉| 993/1000 [55:57<00:20,  2.90s/it]"
     ]
    },
    {
     "name": "stdout",
     "output_type": "stream",
     "text": [
      "Epoch: 992 \n",
      "\b Train Loss: 0.6325687847818647 \n",
      "\b Train Acc: 70.13392857142857 \n",
      "\b Val Loss: 0.6329171111186346 \n",
      "\b Val Acc: 70.83333333333333\n",
      "**************************************************\n"
     ]
    },
    {
     "name": "stderr",
     "output_type": "stream",
     "text": [
      " 99%|█████████▉| 994/1000 [56:00<00:17,  2.88s/it]"
     ]
    },
    {
     "name": "stdout",
     "output_type": "stream",
     "text": [
      "Epoch: 993 \n",
      "\b Train Loss: 0.6324888032958621 \n",
      "\b Train Acc: 70.15178571428571 \n",
      "\b Val Loss: 0.6328367347067053 \n",
      "\b Val Acc: 70.85700757575758\n",
      "**************************************************\n"
     ]
    },
    {
     "name": "stderr",
     "output_type": "stream",
     "text": [
      "100%|█████████▉| 995/1000 [56:02<00:14,  2.86s/it]"
     ]
    },
    {
     "name": "stdout",
     "output_type": "stream",
     "text": [
      "Epoch: 994 \n",
      "\b Train Loss: 0.6324110562460763 \n",
      "\b Train Acc: 70.18154761904762 \n",
      "\b Val Loss: 0.6327492964990211 \n",
      "\b Val Acc: 70.83333333333333\n",
      "**************************************************\n"
     ]
    },
    {
     "name": "stderr",
     "output_type": "stream",
     "text": [
      "100%|█████████▉| 996/1000 [56:05<00:11,  2.89s/it]"
     ]
    },
    {
     "name": "stdout",
     "output_type": "stream",
     "text": [
      "Epoch: 995 \n",
      "\b Train Loss: 0.632333094733102 \n",
      "\b Train Acc: 70.19047619047619 \n",
      "\b Val Loss: 0.6326639200701858 \n",
      "\b Val Acc: 70.83333333333333\n",
      "**************************************************\n"
     ]
    },
    {
     "name": "stderr",
     "output_type": "stream",
     "text": [
      "100%|█████████▉| 997/1000 [56:08<00:08,  2.94s/it]"
     ]
    },
    {
     "name": "stdout",
     "output_type": "stream",
     "text": [
      "Epoch: 996 \n",
      "\b Train Loss: 0.6322521952788035 \n",
      "\b Train Acc: 70.19940476190476 \n",
      "\b Val Loss: 0.6325800116315032 \n",
      "\b Val Acc: 70.88068181818181\n",
      "**************************************************\n"
     ]
    },
    {
     "name": "stderr",
     "output_type": "stream",
     "text": [
      "100%|█████████▉| 998/1000 [56:11<00:05,  2.96s/it]"
     ]
    },
    {
     "name": "stdout",
     "output_type": "stream",
     "text": [
      "Epoch: 997 \n",
      "\b Train Loss: 0.6321727171966007 \n",
      "\b Train Acc: 70.2172619047619 \n",
      "\b Val Loss: 0.6325004868435137 \n",
      "\b Val Acc: 70.9280303030303\n",
      "**************************************************\n"
     ]
    },
    {
     "name": "stderr",
     "output_type": "stream",
     "text": [
      "100%|█████████▉| 999/1000 [56:14<00:02,  2.93s/it]"
     ]
    },
    {
     "name": "stdout",
     "output_type": "stream",
     "text": [
      "Epoch: 998 \n",
      "\b Train Loss: 0.6320951050519943 \n",
      "\b Train Acc: 70.22321428571429 \n",
      "\b Val Loss: 0.6324238059195605 \n",
      "\b Val Acc: 70.95170454545455\n",
      "**************************************************\n"
     ]
    },
    {
     "name": "stderr",
     "output_type": "stream",
     "text": [
      "100%|██████████| 1000/1000 [56:17<00:00,  3.38s/it]"
     ]
    },
    {
     "name": "stdout",
     "output_type": "stream",
     "text": [
      "Epoch: 999 \n",
      "\b Train Loss: 0.6320167968102864 \n",
      "\b Train Acc: 70.23511904761905 \n",
      "\b Val Loss: 0.6323426849011219 \n",
      "\b Val Acc: 70.99905303030303\n",
      "**************************************************\n"
     ]
    },
    {
     "name": "stderr",
     "output_type": "stream",
     "text": [
      "\n"
     ]
    }
   ],
   "source": [
    "if MODEL == 'lstm':\n",
    "\n",
    "    model = LSTMClassification(\n",
    "        device=hyperparameters[\"device\"],\n",
    "        batch_size=hyperparameters[\"batch_size\"],\n",
    "        input_size=X_batch_train.shape[2],\n",
    "        hidden_size=hyperparameters[\"hidden_size\"],\n",
    "        num_stacked_layers=hyperparameters[\"num_layers\"],\n",
    "        bidirectional=hyperparameters[\"bidirectional\"],\n",
    "        output_logits=hyperparameters[\"output_logits\"]\n",
    "    )\n",
    "\n",
    "    optimizer = torch.optim.Adam(model.parameters(), lr=hyperparameters[\"lr\"])\n",
    "\n",
    "    train_losses, train_accs, val_losses, val_accs, model = train_model(\n",
    "                        model=model,\n",
    "                        train_loader=train_loader,\n",
    "                        val_loader=val_loader,\n",
    "                        criterion=criterion,\n",
    "                        optimizer=optimizer,\n",
    "                        device=hyperparameters[\"device\"],\n",
    "                        num_epochs=hyperparameters[\"num_epochs\"],\n",
    "                        verbose=True)\n",
    "    \n",
    "elif MODEL == 'cnn':\n",
    "\n",
    "    ### Model ### \n",
    "    model = CNNClassification(verbose=False)\n",
    "    optimizer = torch.optim.Adam(model.parameters(), lr=hyperparameters['lr'])\n",
    "\n",
    "    train_losses, val_losses, train_accs, val_accs, model = train_cnn(\n",
    "        model=model,\n",
    "        hyperparameters=hyperparameters,\n",
    "        train_loader=train_loader,\n",
    "        val_loader=val_loader,\n",
    "        criterion=criterion,\n",
    "        optimizer=optimizer,\n",
    "    )"
   ]
  },
  {
   "cell_type": "markdown",
   "metadata": {},
   "source": [
    "## 3 Evaluate Training"
   ]
  },
  {
   "cell_type": "code",
   "execution_count": 13,
   "metadata": {},
   "outputs": [
    {
     "data": {
      "text/plain": [
       "Text(0.5, 1.0, 'Validation Accuracy')"
      ]
     },
     "execution_count": 13,
     "metadata": {},
     "output_type": "execute_result"
    },
    {
     "data": {
      "image/png": "[encoded data removed]",
      "text/plain": [
       "<Figure size 1000x800 with 4 Axes>"
      ]
     },
     "metadata": {},
     "output_type": "display_data"
    }
   ],
   "source": [
    "fig, axs = plt.subplots(2, 2, figsize=(10, 8))\n",
    "\n",
    "    # Diagramm 1 (oben links)\n",
    "axs[0, 0].plot(train_losses, label=\"BCELoss\")\n",
    "axs[0, 0].set_title('Training Loss')\n",
    "\n",
    "axs[0, 1].plot(val_losses, label=\"BCELoss\")\n",
    "axs[0, 1].set_title('Validation Loss')\n",
    "\n",
    "axs[1, 0].plot(train_accs, label=\"Accuracy\")\n",
    "axs[1, 0].set_title('Training Accuracy')\n",
    "\n",
    "axs[1, 1].plot(val_accs, label=\"Accuracy\")\n",
    "axs[1, 1].set_title('Validation Accuracy')"
   ]
  },
  {
   "cell_type": "code",
   "execution_count": 14,
   "metadata": {},
   "outputs": [],
   "source": [
    "autoencoder_test = load_sequential_time_series(SYNTHETIC_DATA_FOLDER / 'discriminative_test' / 'discriminative_test_autoencoder_3000_13_5.csv', shape=(3000, 13, 5))\n",
    "jitt_01_test = load_sequential_time_series(SYNTHETIC_DATA_FOLDER / 'discriminative_test' / 'discriminative_test_jitt_01_3000_13_5.csv', shape=(3000, 13, 5))\n",
    "jitt_02_test = load_sequential_time_series(SYNTHETIC_DATA_FOLDER / 'discriminative_test' / 'discriminative_test_jitt_02_3000_13_5.csv', shape=(3000, 13, 5))\n",
    "jitt_005_test = load_sequential_time_series(SYNTHETIC_DATA_FOLDER / 'discriminative_test' / 'discriminative_test_jitt_005_3000_13_5.csv', shape=(3000, 13, 5))\n",
    "timegan_gru_test = load_sequential_time_series(SYNTHETIC_DATA_FOLDER / 'discriminative_test' / 'discriminative_test_timegan_gru_3000_13_5.csv', shape=(3000, 13, 5))\n",
    "timegan_lstm_test = load_sequential_time_series(SYNTHETIC_DATA_FOLDER / 'discriminative_test' / 'discriminative_test_timegan_lstm_3000_13_5.csv', shape=(3000, 13, 5))\n",
    "timewarp_test = load_sequential_time_series(SYNTHETIC_DATA_FOLDER / 'discriminative_test' / 'discriminative_test_timewarp_3000_13_5.csv', shape=(3000, 13, 5))"
   ]
  },
  {
   "cell_type": "code",
   "execution_count": 15,
   "metadata": {},
   "outputs": [],
   "source": [
    "results = pd.DataFrame(columns=['Method', 'Accuracy'])"
   ]
  },
  {
   "cell_type": "code",
   "execution_count": 16,
   "metadata": {},
   "outputs": [],
   "source": [
    "def get_discriminative_test_performance(model, test_data, method, results):\n",
    "\n",
    "    X_test, y_test = extract_features_and_targets_clas(test_data)\n",
    "    X_test = torch.tensor(X_test, dtype=torch.float32)\n",
    "    y_test = torch.tensor(y_test, dtype=torch.float32)\n",
    "\n",
    "    with torch.inference_mode(): \n",
    "        test_logits = model(X_test.to(hyperparameters['device'])) # get plain model output (logits)\n",
    "        test_probs = torch.sigmoid(test_logits) # get probabilities\n",
    "        test_preds = torch.round(test_probs) # get classes\n",
    "\n",
    "        test_acc = accuracy(y_true=y_test, y_pred=torch.tensor(test_preds))\n",
    "        print(test_acc)\n",
    "        \n",
    "        results = pd.concat([results, pd.DataFrame([{'Method': method, 'Accuracy': test_acc}])], ignore_index=True)\n",
    "\n",
    "    return results"
   ]
  },
  {
   "cell_type": "code",
   "execution_count": 17,
   "metadata": {},
   "outputs": [
    {
     "name": "stdout",
     "output_type": "stream",
     "text": [
      "Extracted features and target from training data.\n",
      "Shape of X_train: (3000, 12, 5)\n",
      "Shape of y_train: (3000, 1)\n",
      "0.0\n",
      "Extracted features and target from training data.\n",
      "Shape of X_train: (3000, 12, 5)\n",
      "Shape of y_train: (3000, 1)\n",
      "0.0\n",
      "Extracted features and target from training data.\n",
      "Shape of X_train: (3000, 12, 5)\n",
      "Shape of y_train: (3000, 1)\n",
      "0.06666666666666667\n",
      "Extracted features and target from training data.\n",
      "Shape of X_train: (3000, 12, 5)\n",
      "Shape of y_train: (3000, 1)\n",
      "0.0\n",
      "Extracted features and target from training data.\n",
      "Shape of X_train: (3000, 12, 5)\n",
      "Shape of y_train: (3000, 1)\n",
      "0.03333333333333333\n",
      "Extracted features and target from training data.\n",
      "Shape of X_train: (3000, 12, 5)\n",
      "Shape of y_train: (3000, 1)\n",
      "0.03333333333333333\n",
      "Extracted features and target from training data.\n",
      "Shape of X_train: (3000, 12, 5)\n",
      "Shape of y_train: (3000, 1)\n",
      "0.03333333333333333\n"
     ]
    },
    {
     "name": "stderr",
     "output_type": "stream",
     "text": [
      "/var/folders/hg/9qymy01n6cnff41vb6p0yj_80000gn/T/ipykernel_84241/276383998.py:12: UserWarning: To copy construct from a tensor, it is recommended to use sourceTensor.clone().detach() or sourceTensor.clone().detach().requires_grad_(True), rather than torch.tensor(sourceTensor).\n",
      "  test_acc = accuracy(y_true=y_test, y_pred=torch.tensor(test_preds))\n",
      "/var/folders/hg/9qymy01n6cnff41vb6p0yj_80000gn/T/ipykernel_84241/276383998.py:15: FutureWarning: The behavior of DataFrame concatenation with empty or all-NA entries is deprecated. In a future version, this will no longer exclude empty or all-NA columns when determining the result dtypes. To retain the old behavior, exclude the relevant entries before the concat operation.\n",
      "  results = pd.concat([results, pd.DataFrame([{'Method': method, 'Accuracy': test_acc}])], ignore_index=True)\n"
     ]
    }
   ],
   "source": [
    "results = get_discriminative_test_performance(model, autoencoder_test, 'Autoencoder', results)\n",
    "results = get_discriminative_test_performance(model, jitt_01_test, 'Jitter 0.1', results)\n",
    "results = get_discriminative_test_performance(model, jitt_02_test, 'Jitter 0.2', results)\n",
    "results = get_discriminative_test_performance(model, jitt_005_test, 'Jitter 0.05', results)\n",
    "results = get_discriminative_test_performance(model, timegan_gru_test, 'TimeGAN GRU', results)\n",
    "results = get_discriminative_test_performance(model, timegan_lstm_test, 'TimeGAN LSTM', results)\n",
    "results = get_discriminative_test_performance(model, timewarp_test, 'Timewarp', results)"
   ]
  },
  {
   "cell_type": "code",
   "execution_count": 18,
   "metadata": {},
   "outputs": [
    {
     "data": {
      "image/png": "[encoded data removed]",
      "text/plain": [
       "<Figure size 1000x600 with 1 Axes>"
      ]
     },
     "metadata": {},
     "output_type": "display_data"
    }
   ],
   "source": [
    "plt.figure(figsize=(10, 6))\n",
    "plt.bar(results['Method'], results['Accuracy'], color='skyblue')\n",
    "\n",
    "# Diagramm anpassen\n",
    "plt.xlabel('Method')\n",
    "plt.ylabel('Accuracy')\n",
    "plt.title('Accuracy per Method')\n",
    "plt.xticks(rotation=45)  # Optional: Dreht die Beschriftungen der x-Achse um 45 Grad\n",
    "plt.tight_layout()\n",
    "\n",
    "# Diagramm anzeigen\n",
    "plt.show()"
   ]
  },
  {
   "cell_type": "code",
   "execution_count": 19,
   "metadata": {},
   "outputs": [],
   "source": [
    "results.to_csv(f'{MODEL}_results.csv', index=False)"
   ]
  },
  {
   "cell_type": "code",
   "execution_count": null,
   "metadata": {},
   "outputs": [],
   "source": []
  }
 ],
 "metadata": {
  "kernelspec": {
   "display_name": "time_series_data_augmentation_venv",
   "language": "python",
   "name": "python3"
  },
  "language_info": {
   "codemirror_mode": {
    "name": "ipython",
    "version": 3
   },
   "file_extension": ".py",
   "mimetype": "text/x-python",
   "name": "python",
   "nbconvert_exporter": "python",
   "pygments_lexer": "ipython3",
   "version": "3.11.7"
  }
 },
 "nbformat": 4,
 "nbformat_minor": 2
}
