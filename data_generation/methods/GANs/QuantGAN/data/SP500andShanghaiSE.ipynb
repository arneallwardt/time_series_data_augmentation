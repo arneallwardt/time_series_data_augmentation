{
 "cells": [
  {
   "cell_type": "markdown",
   "source": [
    "# Data API - Time Series examples\n",
    "This notebook demonstrates how to retrieve Time Series from Eikon or Refinitiv Workspace (fee liable service).\n",
    "\n",
    "#### Learn more\n",
    "To learn more about the Data API just connect to the Refinitiv Developer Community. By [registering](https://developers.refinitiv.com/iam/register) and [login](https://developers.refinitiv.com/iam/login) to the Refinitiv Developer Community portal you will get free access to a number of learning materials like [Quick Start guides](https://developers.refinitiv.com/eikon-apis/eikon-data-api/quick-start), [Tutorials](https://developers.refinitiv.com/eikon-apis/eikon-data-api/learning), [Documentation](https://developers.refinitiv.com/eikon-apis/eikon-data-api/docs) and much more.  \n",
    "\n",
    "#### About the \"eikon\" module of the Refinitiv Data Platform Library\n",
    "The \"eikon\" module of the Refinitiv Data Platform Library for Python embeds all functions of the classical Eikon Data API (\"eikon\" python library). This module works the same as the Eikon Data API and can be used by applications that need the best of the Eikon Data API while taking advantage of the latest features offered by the Refinitiv Data Platform Library for Python. "
   ],
   "metadata": {}
  },
  {
   "cell_type": "markdown",
   "source": [
    "## Import the library and connect to Eikon or Refinitiv Workspace"
   ],
   "metadata": {}
  },
  {
   "cell_type": "code",
   "execution_count": 20,
   "source": [
    "import refinitiv.dataplatform.eikon as ek\n",
    "import datetime\n",
    "\n",
    "ek.set_app_key('xxxxxx')"
   ],
   "outputs": [],
   "metadata": {}
  },
  {
   "cell_type": "markdown",
   "source": [
    "## Get Time Series"
   ],
   "metadata": {}
  },
  {
   "cell_type": "markdown",
   "source": [
    "#### Simple call with default parameters"
   ],
   "metadata": {}
  },
  {
   "cell_type": "code",
   "execution_count": 21,
   "source": [
    "SP500_daily = ek.get_timeseries(['.SPX'], start_date='2011-01-01', interval='daily')['CLOSE']\n",
    "ShanghaiSE_daily = ek.get_timeseries(['.SSEC'], start_date='2011-01-01', interval='daily')['CLOSE']"
   ],
   "outputs": [],
   "metadata": {}
  },
  {
   "cell_type": "markdown",
   "source": [
    "#### Sanity Check Results"
   ],
   "metadata": {}
  },
  {
   "cell_type": "code",
   "execution_count": 22,
   "source": [
    "print(f\"SP500_daily.shape: {SP500_daily.shape}\")\n",
    "print(f\"ShanghaiSE_daily.shape: {ShanghaiSE_daily.shape}\")['CLOSE']"
   ],
   "outputs": [
    {
     "output_type": "stream",
     "name": "stdout",
     "text": [
      "SP500_daily.shape: (2680,)\n",
      "ShanghaiSE_daily.shape: (2592, 6)\n"
     ]
    }
   ],
   "metadata": {}
  },
  {
   "cell_type": "markdown",
   "source": [
    "#### Save Results"
   ],
   "metadata": {}
  },
  {
   "cell_type": "code",
   "execution_count": 23,
   "source": [
    "SP500_daily.to_csv(f'./SP500_daily.csv')\n",
    "ShanghaiSE_daily.to_csv(f'./ShanghaiSE_daily.csv')"
   ],
   "outputs": [],
   "metadata": {}
  },
  {
   "cell_type": "code",
   "execution_count": null,
   "source": [],
   "outputs": [],
   "metadata": {}
  }
 ],
 "metadata": {
  "kernelspec": {
   "display_name": "Python 3",
   "language": "python",
   "name": "python3"
  },
  "language_info": {
   "codemirror_mode": {
    "name": "ipython",
    "version": 3
   },
   "file_extension": ".py",
   "mimetype": "text/x-python",
   "name": "python",
   "nbconvert_exporter": "python",
   "pygments_lexer": "ipython3",
   "version": "3.7.4"
  },
  "widgets": {
   "application/vnd.jupyter.widget-state+json": {
    "state": {},
    "version_major": 2,
    "version_minor": 0
   }
  }
 },
 "nbformat": 4,
 "nbformat_minor": 4
}